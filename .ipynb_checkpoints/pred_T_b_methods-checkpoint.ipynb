{
 "cells": [
  {
   "cell_type": "code",
   "execution_count": 2,
   "id": "a516bf6b",
   "metadata": {},
   "outputs": [
    {
     "name": "stdout",
     "output_type": "stream",
     "text": [
      "Intel MKL WARNING: Support of Intel(R) Streaming SIMD Extensions 4.2 (Intel(R) SSE4.2) enabled only processors has been deprecated. Intel oneAPI Math Kernel Library 2025.0 will require Intel(R) Advanced Vector Extensions (Intel(R) AVX) instructions.\n",
      "Intel MKL WARNING: Support of Intel(R) Streaming SIMD Extensions 4.2 (Intel(R) SSE4.2) enabled only processors has been deprecated. Intel oneAPI Math Kernel Library 2025.0 will require Intel(R) Advanced Vector Extensions (Intel(R) AVX) instructions.\n"
     ]
    }
   ],
   "source": [
    "%load_ext autoreload\n",
    "%autoreload 2\n",
    "from astropy import units as u\n",
    "import numpy as np\n",
    "from matplotlib import pyplot as plt\n",
    "from scipy.optimize import fsolve\n",
    "\n",
    "\n",
    "from cluster import Cluster, func\n",
    "from load_galweight_data import load_clusters\n"
   ]
  },
  {
   "cell_type": "code",
   "execution_count": 3,
   "id": "04727701",
   "metadata": {},
   "outputs": [],
   "source": [
    "clusters, variances = load_clusters(nrows=5)"
   ]
  },
  {
   "cell_type": "code",
   "execution_count": 4,
   "id": "7ac72345",
   "metadata": {},
   "outputs": [],
   "source": [
    "test_cluster = clusters[1]"
   ]
  },
  {
   "cell_type": "code",
   "execution_count": 5,
   "id": "9f8aa8e0",
   "metadata": {},
   "outputs": [
    {
     "ename": "TypeError",
     "evalue": "'float' object is not iterable",
     "output_type": "error",
     "traceback": [
      "\u001b[0;31m---------------------------------------------------------------------------\u001b[0m",
      "\u001b[0;31mTypeError\u001b[0m                                 Traceback (most recent call last)",
      "Cell \u001b[0;32mIn[5], line 3\u001b[0m\n\u001b[1;32m      1\u001b[0m log_m_chi \u001b[38;5;241m=\u001b[39m \u001b[38;5;241m1e-4\u001b[39m\n\u001b[1;32m      2\u001b[0m log_sigma_0 \u001b[38;5;241m=\u001b[39m \u001b[38;5;241m1e-20\u001b[39m\n\u001b[0;32m----> 3\u001b[0m predicted_temperatures \u001b[38;5;241m=\u001b[39m [test_cluster\u001b[38;5;241m.\u001b[39mpred_T_b([s_0, log_m_chi]) \u001b[38;5;28;01mfor\u001b[39;00m s_0 \u001b[38;5;129;01min\u001b[39;00m log_sigma_0]\n",
      "\u001b[0;31mTypeError\u001b[0m: 'float' object is not iterable"
     ]
    }
   ],
   "source": [
    "log_m_chi = 1e-4\n",
    "log_sigma_0 = 1e-20\n",
    "predicted_temperatures = [test_cluster.pred_T_b([s_0, log_m_chi]) for s_0 in log_sigma_0]\n",
    "#plt.plot(log_sigma_0, self.virial_temperature(self.m_chi, f_chi=f_chi, m_psi=m_psi),\n",
    "#                   label=f'T_b = pred_T_b, fx={f_chi}')\n",
    "#plt.xlabel(r'$m_{\\chi} (GeV)$')\n",
    "#plt.ylabel(r'$T_{\\chi} (GeV)$')"
   ]
  },
  {
   "cell_type": "code",
   "execution_count": null,
   "id": "5a0a67cf",
   "metadata": {},
   "outputs": [],
   "source": [
    "predicted_temperatures"
   ]
  },
  {
   "cell_type": "code",
   "execution_count": null,
   "id": "10d999f1",
   "metadata": {},
   "outputs": [],
   "source": [
    "Tbs = np.logspace(1e-4, 1e-8)\n",
    "plt.loglog(Tbs, func(Tbs,[log_sigma_0, log_m_chi], test_cluster ))"
   ]
  },
  {
   "cell_type": "code",
   "execution_count": null,
   "id": "b36ee174",
   "metadata": {},
   "outputs": [],
   "source": [
    "sigma0s = np.linspace(-30,-10)\n",
    "T_bs = [test_cluster.pred_T_b_small_m(np.power(10,s0)*u.cm**2, 1e-6*u.GeV).value for s0 in sigma0s]\n",
    "plt.loglog(np.power(10,sigma0s), T_bs)\n",
    "\n",
    "plt.xlabel('sigma0 (cm^2)')\n",
    "plt.ylabel('Temperature (GeV)')"
   ]
  },
  {
   "cell_type": "code",
   "execution_count": 6,
   "id": "bb45a741",
   "metadata": {},
   "outputs": [
    {
     "name": "stderr",
     "output_type": "stream",
     "text": [
      "/Users/eleanorstuart/opt/anaconda3/envs/idm/lib/python3.11/site-packages/astropy/units/quantity.py:611: RuntimeWarning: invalid value encountered in power\n",
      "  result = super().__array_ufunc__(function, method, *arrays, **kwargs)\n",
      "/Users/eleanorstuart/opt/anaconda3/envs/idm/lib/python3.11/site-packages/astropy/units/quantity.py:611: RuntimeWarning: invalid value encountered in sqrt\n",
      "  result = super().__array_ufunc__(function, method, *arrays, **kwargs)\n",
      "/Users/eleanorstuart/opt/anaconda3/envs/idm/lib/python3.11/site-packages/scipy/optimize/_minpack_py.py:177: RuntimeWarning: The iteration is not making good progress, as measured by the \n",
      "  improvement from the last ten iterations.\n",
      "  warnings.warn(msg, RuntimeWarning)\n"
     ]
    },
    {
     "data": {
      "text/plain": [
       "array([10.])"
      ]
     },
     "execution_count": 6,
     "metadata": {},
     "output_type": "execute_result"
    }
   ],
   "source": [
    "x0 = 1e-6 * u.GeV\n",
    "p0=[-20, -6]\n",
    "fsolve(func, x0, (p0,test_cluster))"
   ]
  },
  {
   "cell_type": "code",
   "execution_count": 9,
   "id": "f047a3a7",
   "metadata": {},
   "outputs": [],
   "source": [
    "from sympy.solvers.solvers import nsolve"
   ]
  },
  {
   "cell_type": "code",
   "execution_count": null,
   "id": "a4ff13ea",
   "metadata": {},
   "outputs": [],
   "source": []
  },
  {
   "cell_type": "code",
   "execution_count": null,
   "id": "e905306c",
   "metadata": {},
   "outputs": [],
   "source": []
  }
 ],
 "metadata": {
  "kernelspec": {
   "display_name": "Python 3 (ipykernel)",
   "language": "python",
   "name": "python3"
  },
  "language_info": {
   "codemirror_mode": {
    "name": "ipython",
    "version": 3
   },
   "file_extension": ".py",
   "mimetype": "text/x-python",
   "name": "python",
   "nbconvert_exporter": "python",
   "pygments_lexer": "ipython3",
   "version": "3.11.4"
  }
 },
 "nbformat": 4,
 "nbformat_minor": 5
}
