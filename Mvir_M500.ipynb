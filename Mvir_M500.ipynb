{
 "cells": [
  {
   "cell_type": "code",
   "execution_count": 2,
   "id": "96f4fe04",
   "metadata": {},
   "outputs": [],
   "source": [
    "%load_ext autoreload\n",
    "%autoreload 2\n",
    "from astropy import units as u\n",
    "import numpy as np\n",
    "from matplotlib import pyplot as plt\n",
    "\n",
    "import iqbal_agn_heating_functions as iq"
   ]
  },
  {
   "cell_type": "code",
   "execution_count": 5,
   "id": "c837eced",
   "metadata": {},
   "outputs": [],
   "source": [
    "Mvir = 6*10**14*u.Msun\n",
    "z=0"
   ]
  },
  {
   "cell_type": "code",
   "execution_count": 7,
   "id": "41f467b6",
   "metadata": {},
   "outputs": [
    {
     "data": {
      "text/latex": [
       "$2.1837537 \\; \\mathrm{Mpc}$"
      ],
      "text/plain": [
       "<Quantity 2.18375367 Mpc>"
      ]
     },
     "execution_count": 7,
     "metadata": {},
     "output_type": "execute_result"
    }
   ],
   "source": [
    "Rvir = iq.virial_radius(Mvir, z)\n",
    "Rvir"
   ]
  },
  {
   "cell_type": "code",
   "execution_count": 8,
   "id": "230359a1",
   "metadata": {},
   "outputs": [],
   "source": [
    "from astropy.cosmology import FlatLambdaCDM\n",
    "cosmo=FlatLambdaCDM(70, 0.3)"
   ]
  },
  {
   "cell_type": "code",
   "execution_count": 12,
   "id": "31413c20",
   "metadata": {},
   "outputs": [
    {
     "data": {
      "text/latex": [
       "$5.0906108 \\; \\mathrm{}$"
      ],
      "text/plain": [
       "<Quantity 5.09061079>"
      ]
     },
     "execution_count": 12,
     "metadata": {},
     "output_type": "execute_result"
    }
   ],
   "source": [
    "cvir = iq.c_vir(Mvir, z)\n",
    "cvir"
   ]
  },
  {
   "cell_type": "code",
   "execution_count": 14,
   "id": "fbfb9ab4",
   "metadata": {},
   "outputs": [
    {
     "data": {
      "text/latex": [
       "$0.42897675 \\; \\mathrm{Mpc}$"
      ],
      "text/plain": [
       "<Quantity 0.42897675 Mpc>"
      ]
     },
     "execution_count": 14,
     "metadata": {},
     "output_type": "execute_result"
    }
   ],
   "source": [
    "r_s = iq.scale_radius(Mvir, z)\n",
    "r_s"
   ]
  },
  {
   "cell_type": "code",
   "execution_count": null,
   "id": "af7769de",
   "metadata": {},
   "outputs": [],
   "source": []
  }
 ],
 "metadata": {
  "kernelspec": {
   "display_name": "Python 3 (ipykernel)",
   "language": "python",
   "name": "python3"
  },
  "language_info": {
   "codemirror_mode": {
    "name": "ipython",
    "version": 3
   },
   "file_extension": ".py",
   "mimetype": "text/x-python",
   "name": "python",
   "nbconvert_exporter": "python",
   "pygments_lexer": "ipython3",
   "version": "3.11.5"
  }
 },
 "nbformat": 4,
 "nbformat_minor": 5
}
