{
 "cells": [
  {
   "cell_type": "code",
   "execution_count": 242,
   "id": "9c21c6c1",
   "metadata": {},
   "outputs": [
    {
     "name": "stdout",
     "output_type": "stream",
     "text": [
      "The autoreload extension is already loaded. To reload it, use:\n",
      "  %reload_ext autoreload\n"
     ]
    }
   ],
   "source": [
    "%load_ext autoreload\n",
    "%autoreload 2\n",
    "import numpy as np\n",
    "from astropy import units as u\n",
    "from astropy import constants as const"
   ]
  },
  {
   "cell_type": "code",
   "execution_count": 243,
   "id": "d5cd9ddd",
   "metadata": {},
   "outputs": [
    {
     "data": {
      "text/latex": [
       "$2.4489256 \\times 10^{-42} \\; \\mathrm{cm^{3}\\,erg}$"
      ],
      "text/plain": [
       "<Quantity 2.44892559e-42 cm3 erg>"
      ]
     },
     "execution_count": 243,
     "metadata": {},
     "output_type": "execute_result"
    }
   ],
   "source": [
    "Z=1 #charge number\n",
    "qe=np.pi**2/137\n",
    "frac1=32*np.pi/3 # unitless\n",
    "frac2= (qe**6)/(const.m_e**2 * const.c**4).to(u.erg**2) # units 1/erg^2\n",
    "frac3= ((2*np.pi*const.m_e*const.c**2).to(u.erg)/(3*const.k_B*1e8*u.K))**(1/2) # unitless\n",
    "\n",
    "conversion_factor = 0.197*1e-15 * (u.GeV * u.m)\n",
    "conversion_factor_cm = conversion_factor.to(u.GeV * u.cm)\n",
    "prefactors = (((frac1*frac2*frac3).to(1/u.GeV**2)) * conversion_factor_cm**3).to(u.erg*u.cm**3)\n",
    "prefactors # WANT 10^-42\n",
    "\n",
    "#use actual number in textbook"
   ]
  },
  {
   "cell_type": "code",
   "execution_count": 244,
   "id": "61870a65",
   "metadata": {},
   "outputs": [],
   "source": [
    "# temporary numbers\n",
    "T=1e-6*u.GeV\n",
    "V=(4/3)*np.pi*u.Mpc**3\n",
    "rho_b = 0.1*u.Msun*1e14/V\n",
    "n_b = (rho_b/const.m_p).to(1/u.cm**3)\n",
    "freq=1e18*u.Hz"
   ]
  },
  {
   "cell_type": "code",
   "execution_count": 245,
   "id": "659f390c",
   "metadata": {},
   "outputs": [
    {
     "name": "stdout",
     "output_type": "stream",
     "text": [
      "1.0727539794091677e-51 erg / cm3\n"
     ]
    }
   ],
   "source": [
    "\n",
    "\n",
    "#pref=(prefactors*(conversion_factor**3 * u.m**3 / u.GeV**(-3))).to(u.cm**3*u.erg**(3/2))\n",
    "#print(pref)\n",
    "Z=1\n",
    "T=(1e-6*u.GeV).to(u.K, equivalencies=u.temperature_energy())\n",
    "T8=T/(1e8*u.K)\n",
    "V=(4/3)*np.pi*u.Mpc**3\n",
    "rho_b = 0.1*u.Msun*1e14/V\n",
    "n_b = (rho_b/const.m_p).to(1/u.cm**3)\n",
    "freq=1e18*u.Hz\n",
    "\n",
    "Eff2=(prefactors*Z**2*n_b**2)/(T8)**(1/2)*np.exp(-const.h*freq/(const.k_B*T))\n",
    "print(Eff2)\n",
    "C=(prefactors*Z**2*n_b**2)/(T8)**(1/2)\n"
   ]
  },
  {
   "cell_type": "code",
   "execution_count": 246,
   "id": "d9e7b4af",
   "metadata": {},
   "outputs": [
    {
     "data": {
      "text/latex": [
       "$1.0123758 \\times 10^{-29} \\; \\mathrm{\\frac{GeV}{s\\,cm^{3}}}$"
      ],
      "text/plain": [
       "<Quantity 1.01237582e-29 GeV / (cm3 s)>"
      ]
     },
     "execution_count": 246,
     "metadata": {},
     "output_type": "execute_result"
    }
   ],
   "source": [
    "#C=(prefactors*(T)**(-1/2)*n_b**2*(conversion_factor**3 * u.m**3 / u.GeV**(-3))).to(u.GeV/u.cm**3)\n",
    "Eff_int=(C*T*const.k_B/const.h).to(u.GeV/(u.s*u.cm**3))\n",
    "Eff_int"
   ]
  },
  {
   "cell_type": "code",
   "execution_count": 247,
   "id": "538cabaa",
   "metadata": {},
   "outputs": [
    {
     "data": {
      "text/latex": [
       "$1.2458966 \\times 10^{45} \\; \\mathrm{\\frac{GeV}{s}}$"
      ],
      "text/plain": [
       "<Quantity 1.24589663e+45 GeV / s>"
      ]
     },
     "execution_count": 247,
     "metadata": {},
     "output_type": "execute_result"
    }
   ],
   "source": [
    "(V*Eff_int).to(u.GeV/u.s)"
   ]
  },
  {
   "cell_type": "code",
   "execution_count": 268,
   "id": "d3501892",
   "metadata": {},
   "outputs": [],
   "source": [
    "from load_mcxc_data import load_clusters\n",
    "cluster=load_clusters(1)[0]"
   ]
  },
  {
   "cell_type": "code",
   "execution_count": 269,
   "id": "84313ef8",
   "metadata": {},
   "outputs": [
    {
     "data": {
      "text/latex": [
       "$2.7636058 \\times 10^{52} \\; \\mathrm{\\frac{GeV}{s}}$"
      ],
      "text/plain": [
       "<Quantity 2.76360585e+52 GeV / s>"
      ]
     },
     "execution_count": 269,
     "metadata": {},
     "output_type": "execute_result"
    }
   ],
   "source": [
    "cluster.agn_heating_rate()"
   ]
  },
  {
   "cell_type": "code",
   "execution_count": 270,
   "id": "18e4b416",
   "metadata": {},
   "outputs": [
    {
     "data": {
      "text/latex": [
       "$5.2549669 \\times 10^{42} \\; \\mathrm{\\frac{erg}{s}}$"
      ],
      "text/plain": [
       "<Quantity 5.25496691e+42 erg / s>"
      ]
     },
     "execution_count": 270,
     "metadata": {},
     "output_type": "execute_result"
    }
   ],
   "source": [
    "Z=1\n",
    "\n",
    "V=cluster.volume\n",
    "T=(cluster.baryon_temp).to(u.K, equivalencies=u.temperature_energy())\n",
    "T8=T/(1e8*u.K)\n",
    "n_b=(cluster.rho_b/cluster.m_b).to(u.cm**(-3))\n",
    "\n",
    "C=(prefactors*Z**2*n_b**2)/(T8)**(1/2)\n",
    "\n",
    "Eff_int=(C*T*const.k_B/const.h).to(u.GeV/(u.s*u.cm**3))\n",
    "(V*Eff_int).to(u.erg/u.s)\n",
    "\n",
    "#decreasing prefactors would make this smaller"
   ]
  },
  {
   "cell_type": "code",
   "execution_count": 271,
   "id": "7a6ddaf9",
   "metadata": {},
   "outputs": [
    {
     "data": {
      "text/latex": [
       "$1.4591613 \\times 10^{43} \\; \\mathrm{\\frac{erg}{s}}$"
      ],
      "text/plain": [
       "<Quantity 1.45916132e+43 erg / s>"
      ]
     },
     "execution_count": 271,
     "metadata": {},
     "output_type": "execute_result"
    }
   ],
   "source": [
    "cluster.radiative_cooling_rate()"
   ]
  },
  {
   "cell_type": "code",
   "execution_count": 272,
   "id": "6e0d279d",
   "metadata": {},
   "outputs": [
    {
     "data": {
      "text/latex": [
       "$[1.4218775 \\times 10^{-25},~1.421887 \\times 10^{-25},~1.4218985 \\times 10^{-25},~1.4219124 \\times 10^{-25},~1.4219291 \\times 10^{-25},~1.4219491 \\times 10^{-25},~1.4219733 \\times 10^{-25},~1.4220025 \\times 10^{-25},~1.4220376 \\times 10^{-25},~1.4220799 \\times 10^{-25},~1.4221308 \\times 10^{-25},~1.4221922 \\times 10^{-25},~1.4222661 \\times 10^{-25},~1.4223552 \\times 10^{-25},~1.4224624 \\times 10^{-25},~1.4225916 \\times 10^{-25},~1.4227473 \\times 10^{-25},~1.4229348 \\times 10^{-25},~1.4231606 \\times 10^{-25},~1.4234327 \\times 10^{-25},~1.4237605 \\times 10^{-25},~1.4241554 \\times 10^{-25},~1.4246312 \\times 10^{-25},~1.4252045 \\times 10^{-25},~1.4258954 \\times 10^{-25},~1.4267279 \\times 10^{-25},~1.4277313 \\times 10^{-25},~1.4289407 \\times 10^{-25},~1.4303987 \\times 10^{-25},~1.4321566 \\times 10^{-25},~1.4342767 \\times 10^{-25},~1.4368342 \\times 10^{-25},~1.4399202 \\times 10^{-25},~1.4436453 \\times 10^{-25},~1.448144 \\times 10^{-25},~1.4535797 \\times 10^{-25},~1.4601518 \\times 10^{-25},~1.4681042 \\times 10^{-25},~1.4777357 \\times 10^{-25},~1.4894141 \\times 10^{-25},~1.5035937 \\times 10^{-25},~1.5208386 \\times 10^{-25},~1.5418535 \\times 10^{-25},~1.5675242 \\times 10^{-25},~1.598974 \\times 10^{-25},~1.6376406 \\times 10^{-25},~1.6853851 \\times 10^{-25},~1.7446481 \\times 10^{-25},~1.8186801 \\times 10^{-25},~1.9118885 \\times 10^{-25},~2.0303769 \\times 10^{-25},~2.1828111 \\times 10^{-25},~2.3818658 \\times 10^{-25},~2.6467545 \\times 10^{-25},~3.0079162 \\times 10^{-25},~3.5163305 \\times 10^{-25},~4.263804 \\times 10^{-25},~5.4328871 \\times 10^{-25},~7.4429419 \\times 10^{-25},~1.1509973 \\times 10^{-24},~2.3207622 \\times 10^{-24},~2.3489298 \\times 10^{-23}] \\; \\mathrm{cm^{2}}$"
      ],
      "text/plain": [
       "<Quantity [1.42187748e-25, 1.42188703e-25, 1.42189852e-25, 1.42191237e-25,\n",
       "           1.42192905e-25, 1.42194914e-25, 1.42197335e-25, 1.42200250e-25,\n",
       "           1.42203761e-25, 1.42207990e-25, 1.42213085e-25, 1.42219222e-25,\n",
       "           1.42226613e-25, 1.42235517e-25, 1.42246243e-25, 1.42259163e-25,\n",
       "           1.42274727e-25, 1.42293475e-25, 1.42316061e-25, 1.42343270e-25,\n",
       "           1.42376049e-25, 1.42415541e-25, 1.42463123e-25, 1.42520454e-25,\n",
       "           1.42589538e-25, 1.42672791e-25, 1.42773128e-25, 1.42894069e-25,\n",
       "           1.43039868e-25, 1.43215663e-25, 1.43427672e-25, 1.43683417e-25,\n",
       "           1.43992017e-25, 1.44364532e-25, 1.44814398e-25, 1.45357968e-25,\n",
       "           1.46015184e-25, 1.46810422e-25, 1.47773572e-25, 1.48941410e-25,\n",
       "           1.50359369e-25, 1.52083863e-25, 1.54185347e-25, 1.56752416e-25,\n",
       "           1.59897398e-25, 1.63764063e-25, 1.68538513e-25, 1.74464815e-25,\n",
       "           1.81868013e-25, 1.91188849e-25, 2.03037685e-25, 2.18281113e-25,\n",
       "           2.38186582e-25, 2.64675455e-25, 3.00791623e-25, 3.51633052e-25,\n",
       "           4.26380400e-25, 5.43288715e-25, 7.44294191e-25, 1.15099731e-24,\n",
       "           2.32076216e-24, 2.34892978e-23] cm2>"
      ]
     },
     "execution_count": 272,
     "metadata": {},
     "output_type": "execute_result"
    }
   ],
   "source": [
    "cluster.sigma0(Qh_dot=clus)"
   ]
  },
  {
   "cell_type": "code",
   "execution_count": null,
   "id": "57ca43b3",
   "metadata": {},
   "outputs": [],
   "source": []
  }
 ],
 "metadata": {
  "kernelspec": {
   "display_name": "Python 3 (ipykernel)",
   "language": "python",
   "name": "python3"
  },
  "language_info": {
   "codemirror_mode": {
    "name": "ipython",
    "version": 3
   },
   "file_extension": ".py",
   "mimetype": "text/x-python",
   "name": "python",
   "nbconvert_exporter": "python",
   "pygments_lexer": "ipython3",
   "version": "3.11.5"
  }
 },
 "nbformat": 4,
 "nbformat_minor": 5
}
