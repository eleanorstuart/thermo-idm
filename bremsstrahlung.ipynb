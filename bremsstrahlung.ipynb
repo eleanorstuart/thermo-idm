{
 "cells": [
  {
   "cell_type": "code",
   "execution_count": 4,
   "id": "a6a3d2da",
   "metadata": {},
   "outputs": [],
   "source": [
    "import numpy as np\n",
    "from astropy import units as u\n",
    "from astropy import constants as const"
   ]
  },
  {
   "cell_type": "code",
   "execution_count": 176,
   "id": "0318fc02",
   "metadata": {},
   "outputs": [
    {
     "data": {
      "text/latex": [
       "$1.3556772 \\times 10^{-38} \\; \\mathrm{cm^{3}\\,erg}$"
      ],
      "text/plain": [
       "<Quantity 1.35567719e-38 cm3 erg>"
      ]
     },
     "execution_count": 176,
     "metadata": {},
     "output_type": "execute_result"
    }
   ],
   "source": [
    "Z=1 #charge number\n",
    "qe=0.303\n",
    "frac1=32*np.pi/3\n",
    "frac2= (Z**2 * qe**6)/(const.m_e**2 * const.c**4).to(u.erg**2)\n",
    "frac3= ((((2*np.pi*const.m_e*const.c**2).to(u.erg)/(3*const.k_B*1e8*u.K))**(1/2))) # removed k_B in denominator because T will be input in GeV\n",
    "\n",
    "conversion_factor = 0.197*1e-15 * (u.GeV * u.m)\n",
    "prefactors = (((frac1*frac2*frac3).to(1/u.GeV**2)) * conversion_factor**3).to(u.erg*u.cm**3)\n",
    "prefactors # WANT 10^-42\n"
   ]
  },
  {
   "cell_type": "code",
   "execution_count": 51,
   "id": "a17bcaeb",
   "metadata": {},
   "outputs": [
    {
     "data": {
      "text/plain": [
       "(33.510321638291124,\n",
       " <Quantity 2963.57386042 1 / GeV2>,\n",
       " <Quantity 0.03271443 GeV(1/2)>)"
      ]
     },
     "execution_count": 51,
     "metadata": {},
     "output_type": "execute_result"
    }
   ],
   "source": [
    "frac1, frac2, frac3"
   ]
  },
  {
   "cell_type": "code",
   "execution_count": 152,
   "id": "81fcb5e3",
   "metadata": {},
   "outputs": [
    {
     "ename": "UnitConversionError",
     "evalue": "'GeV K(1/2) / erg(5/2)' and 'K(1/2) / erg2' are not convertible",
     "output_type": "error",
     "traceback": [
      "\u001b[0;31m---------------------------------------------------------------------------\u001b[0m",
      "\u001b[0;31mUnitConversionError\u001b[0m                       Traceback (most recent call last)",
      "Cell \u001b[0;32mIn[152], line 7\u001b[0m\n\u001b[1;32m      4\u001b[0m frac2\u001b[38;5;241m=\u001b[39m (qe\u001b[38;5;241m*\u001b[39m\u001b[38;5;241m*\u001b[39m\u001b[38;5;241m6\u001b[39m)\u001b[38;5;241m/\u001b[39m(const\u001b[38;5;241m.\u001b[39mm_e\u001b[38;5;241m*\u001b[39m\u001b[38;5;241m*\u001b[39m\u001b[38;5;241m2\u001b[39m \u001b[38;5;241m*\u001b[39m const\u001b[38;5;241m.\u001b[39mc\u001b[38;5;241m*\u001b[39m\u001b[38;5;241m*\u001b[39m\u001b[38;5;241m4\u001b[39m)\u001b[38;5;241m.\u001b[39mto(u\u001b[38;5;241m.\u001b[39merg\u001b[38;5;241m*\u001b[39m\u001b[38;5;241m*\u001b[39m\u001b[38;5;241m2\u001b[39m)\n\u001b[1;32m      5\u001b[0m frac3\u001b[38;5;241m=\u001b[39m ((((\u001b[38;5;241m2\u001b[39m\u001b[38;5;241m*\u001b[39mnp\u001b[38;5;241m.\u001b[39mpi\u001b[38;5;241m*\u001b[39mconst\u001b[38;5;241m.\u001b[39mm_e\u001b[38;5;241m*\u001b[39mconst\u001b[38;5;241m.\u001b[39mc\u001b[38;5;241m*\u001b[39m\u001b[38;5;241m*\u001b[39m\u001b[38;5;241m2\u001b[39m)\u001b[38;5;241m.\u001b[39mto(u\u001b[38;5;241m.\u001b[39mGeV)\u001b[38;5;241m/\u001b[39m(\u001b[38;5;241m3\u001b[39m\u001b[38;5;241m*\u001b[39mconst\u001b[38;5;241m.\u001b[39mk_B\u001b[38;5;241m.\u001b[39mto(u\u001b[38;5;241m.\u001b[39merg\u001b[38;5;241m/\u001b[39mu\u001b[38;5;241m.\u001b[39mK))\u001b[38;5;241m*\u001b[39m\u001b[38;5;241m*\u001b[39m(\u001b[38;5;241m1\u001b[39m\u001b[38;5;241m/\u001b[39m\u001b[38;5;241m2\u001b[39m)))) \n\u001b[0;32m----> 7\u001b[0m prefactors_again \u001b[38;5;241m=\u001b[39m (frac1\u001b[38;5;241m*\u001b[39mfrac2\u001b[38;5;241m*\u001b[39mfrac3)\u001b[38;5;241m.\u001b[39mto(u\u001b[38;5;241m.\u001b[39mK\u001b[38;5;241m*\u001b[39m\u001b[38;5;241m*\u001b[39m(\u001b[38;5;241m1\u001b[39m\u001b[38;5;241m/\u001b[39m\u001b[38;5;241m2\u001b[39m)\u001b[38;5;241m/\u001b[39mu\u001b[38;5;241m.\u001b[39merg\u001b[38;5;241m*\u001b[39m\u001b[38;5;241m*\u001b[39m(\u001b[38;5;241m2\u001b[39m))\u001b[38;5;241m*\u001b[39m\u001b[38;5;241m1e4\u001b[39m\u001b[38;5;241m*\u001b[39mu\u001b[38;5;241m.\u001b[39mK\u001b[38;5;241m*\u001b[39m\u001b[38;5;241m*\u001b[39m(\u001b[38;5;241m1\u001b[39m\u001b[38;5;241m/\u001b[39m\u001b[38;5;241m2\u001b[39m)\n\u001b[1;32m      8\u001b[0m \u001b[38;5;28mprint\u001b[39m(prefactors_again)\n\u001b[1;32m      9\u001b[0m \u001b[38;5;28mprint\u001b[39m(prefactors_again\u001b[38;5;241m.\u001b[39mto(u\u001b[38;5;241m.\u001b[39mK\u001b[38;5;241m*\u001b[39m\u001b[38;5;241m*\u001b[39m(\u001b[38;5;241m1\u001b[39m)\u001b[38;5;241m/\u001b[39mu\u001b[38;5;241m.\u001b[39merg\u001b[38;5;241m*\u001b[39m\u001b[38;5;241m*\u001b[39m\u001b[38;5;241m2\u001b[39m))\n",
      "File \u001b[0;32m~/opt/anaconda3/envs/idm/lib/python3.11/site-packages/astropy/units/quantity.py:846\u001b[0m, in \u001b[0;36mQuantity.to\u001b[0;34m(self, unit, equivalencies, copy)\u001b[0m\n\u001b[1;32m    842\u001b[0m unit \u001b[38;5;241m=\u001b[39m Unit(unit)\n\u001b[1;32m    843\u001b[0m \u001b[38;5;28;01mif\u001b[39;00m copy:\n\u001b[1;32m    844\u001b[0m     \u001b[38;5;66;03m# Avoid using to_value to ensure that we make a copy. We also\u001b[39;00m\n\u001b[1;32m    845\u001b[0m     \u001b[38;5;66;03m# don't want to slow down this method (esp. the scalar case).\u001b[39;00m\n\u001b[0;32m--> 846\u001b[0m     value \u001b[38;5;241m=\u001b[39m \u001b[38;5;28mself\u001b[39m\u001b[38;5;241m.\u001b[39m_to_value(unit, equivalencies)\n\u001b[1;32m    847\u001b[0m \u001b[38;5;28;01melse\u001b[39;00m:\n\u001b[1;32m    848\u001b[0m     \u001b[38;5;66;03m# to_value only copies if necessary\u001b[39;00m\n\u001b[1;32m    849\u001b[0m     value \u001b[38;5;241m=\u001b[39m \u001b[38;5;28mself\u001b[39m\u001b[38;5;241m.\u001b[39mto_value(unit, equivalencies)\n",
      "File \u001b[0;32m~/opt/anaconda3/envs/idm/lib/python3.11/site-packages/astropy/units/quantity.py:800\u001b[0m, in \u001b[0;36mQuantity._to_value\u001b[0;34m(self, unit, equivalencies)\u001b[0m\n\u001b[1;32m    797\u001b[0m     equivalencies \u001b[38;5;241m=\u001b[39m \u001b[38;5;28mself\u001b[39m\u001b[38;5;241m.\u001b[39m_equivalencies\n\u001b[1;32m    798\u001b[0m \u001b[38;5;28;01mif\u001b[39;00m \u001b[38;5;129;01mnot\u001b[39;00m \u001b[38;5;28mself\u001b[39m\u001b[38;5;241m.\u001b[39mdtype\u001b[38;5;241m.\u001b[39mnames \u001b[38;5;129;01mor\u001b[39;00m \u001b[38;5;28misinstance\u001b[39m(\u001b[38;5;28mself\u001b[39m\u001b[38;5;241m.\u001b[39munit, StructuredUnit):\n\u001b[1;32m    799\u001b[0m     \u001b[38;5;66;03m# Standard path, let unit to do work.\u001b[39;00m\n\u001b[0;32m--> 800\u001b[0m     \u001b[38;5;28;01mreturn\u001b[39;00m \u001b[38;5;28mself\u001b[39m\u001b[38;5;241m.\u001b[39munit\u001b[38;5;241m.\u001b[39mto(unit, \u001b[38;5;28mself\u001b[39m\u001b[38;5;241m.\u001b[39mview(np\u001b[38;5;241m.\u001b[39mndarray),\n\u001b[1;32m    801\u001b[0m                         equivalencies\u001b[38;5;241m=\u001b[39mequivalencies)\n\u001b[1;32m    803\u001b[0m \u001b[38;5;28;01melse\u001b[39;00m:\n\u001b[1;32m    804\u001b[0m     \u001b[38;5;66;03m# The .to() method of a simple unit cannot convert a structured\u001b[39;00m\n\u001b[1;32m    805\u001b[0m     \u001b[38;5;66;03m# dtype, so we work around it, by recursing.\u001b[39;00m\n\u001b[1;32m    806\u001b[0m     \u001b[38;5;66;03m# TODO: deprecate this?\u001b[39;00m\n\u001b[1;32m    807\u001b[0m     \u001b[38;5;66;03m# Convert simple to Structured on initialization?\u001b[39;00m\n\u001b[1;32m    808\u001b[0m     result \u001b[38;5;241m=\u001b[39m np\u001b[38;5;241m.\u001b[39mempty_like(\u001b[38;5;28mself\u001b[39m\u001b[38;5;241m.\u001b[39mview(np\u001b[38;5;241m.\u001b[39mndarray))\n",
      "File \u001b[0;32m~/opt/anaconda3/envs/idm/lib/python3.11/site-packages/astropy/units/core.py:1130\u001b[0m, in \u001b[0;36mUnitBase.to\u001b[0;34m(self, other, value, equivalencies)\u001b[0m\n\u001b[1;32m   1128\u001b[0m     \u001b[38;5;28;01mreturn\u001b[39;00m UNITY\n\u001b[1;32m   1129\u001b[0m \u001b[38;5;28;01melse\u001b[39;00m:\n\u001b[0;32m-> 1130\u001b[0m     \u001b[38;5;28;01mreturn\u001b[39;00m \u001b[38;5;28mself\u001b[39m\u001b[38;5;241m.\u001b[39m_get_converter(Unit(other),\n\u001b[1;32m   1131\u001b[0m                                equivalencies\u001b[38;5;241m=\u001b[39mequivalencies)(value)\n",
      "File \u001b[0;32m~/opt/anaconda3/envs/idm/lib/python3.11/site-packages/astropy/units/core.py:1061\u001b[0m, in \u001b[0;36mUnitBase._get_converter\u001b[0;34m(self, other, equivalencies)\u001b[0m\n\u001b[1;32m   1058\u001b[0m             \u001b[38;5;28;01mexcept\u001b[39;00m \u001b[38;5;167;01mException\u001b[39;00m:\n\u001b[1;32m   1059\u001b[0m                 \u001b[38;5;28;01mpass\u001b[39;00m\n\u001b[0;32m-> 1061\u001b[0m \u001b[38;5;28;01mraise\u001b[39;00m exc\n",
      "File \u001b[0;32m~/opt/anaconda3/envs/idm/lib/python3.11/site-packages/astropy/units/core.py:1046\u001b[0m, in \u001b[0;36mUnitBase._get_converter\u001b[0;34m(self, other, equivalencies)\u001b[0m\n\u001b[1;32m   1044\u001b[0m \u001b[38;5;66;03m# if that doesn't work, maybe we can do it with equivalencies?\u001b[39;00m\n\u001b[1;32m   1045\u001b[0m \u001b[38;5;28;01mtry\u001b[39;00m:\n\u001b[0;32m-> 1046\u001b[0m     \u001b[38;5;28;01mreturn\u001b[39;00m \u001b[38;5;28mself\u001b[39m\u001b[38;5;241m.\u001b[39m_apply_equivalencies(\n\u001b[1;32m   1047\u001b[0m         \u001b[38;5;28mself\u001b[39m, other, \u001b[38;5;28mself\u001b[39m\u001b[38;5;241m.\u001b[39m_normalize_equivalencies(equivalencies))\n\u001b[1;32m   1048\u001b[0m \u001b[38;5;28;01mexcept\u001b[39;00m UnitsError \u001b[38;5;28;01mas\u001b[39;00m exc:\n\u001b[1;32m   1049\u001b[0m     \u001b[38;5;66;03m# Last hope: maybe other knows how to do it?\u001b[39;00m\n\u001b[1;32m   1050\u001b[0m     \u001b[38;5;66;03m# We assume the equivalencies have the unit itself as first item.\u001b[39;00m\n\u001b[1;32m   1051\u001b[0m     \u001b[38;5;66;03m# TODO: maybe better for other to have a `_back_converter` method?\u001b[39;00m\n\u001b[1;32m   1052\u001b[0m     \u001b[38;5;28;01mif\u001b[39;00m \u001b[38;5;28mhasattr\u001b[39m(other, \u001b[38;5;124m'\u001b[39m\u001b[38;5;124mequivalencies\u001b[39m\u001b[38;5;124m'\u001b[39m):\n",
      "File \u001b[0;32m~/opt/anaconda3/envs/idm/lib/python3.11/site-packages/astropy/units/core.py:1022\u001b[0m, in \u001b[0;36mUnitBase._apply_equivalencies\u001b[0;34m(self, unit, other, equivalencies)\u001b[0m\n\u001b[1;32m   1019\u001b[0m unit_str \u001b[38;5;241m=\u001b[39m get_err_str(unit)\n\u001b[1;32m   1020\u001b[0m other_str \u001b[38;5;241m=\u001b[39m get_err_str(other)\n\u001b[0;32m-> 1022\u001b[0m \u001b[38;5;28;01mraise\u001b[39;00m UnitConversionError(\n\u001b[1;32m   1023\u001b[0m     \u001b[38;5;124mf\u001b[39m\u001b[38;5;124m\"\u001b[39m\u001b[38;5;132;01m{\u001b[39;00munit_str\u001b[38;5;132;01m}\u001b[39;00m\u001b[38;5;124m and \u001b[39m\u001b[38;5;132;01m{\u001b[39;00mother_str\u001b[38;5;132;01m}\u001b[39;00m\u001b[38;5;124m are not convertible\u001b[39m\u001b[38;5;124m\"\u001b[39m)\n",
      "\u001b[0;31mUnitConversionError\u001b[0m: 'GeV K(1/2) / erg(5/2)' and 'K(1/2) / erg2' are not convertible"
     ]
    }
   ],
   "source": [
    "with u.set_enabled_equivalencies(u.temperature_energy()):\n",
    "    #kb = (const.k_B.to(u.eV/u.K)).to(u.dimensionless_unscaled, equivalencies=[u.temperature_energy()])\n",
    "    frac1=32*np.pi/3\n",
    "    frac2= (qe**6)/(const.m_e**2 * const.c**4).to(u.erg**2)\n",
    "    frac3= ((((2*np.pi*const.m_e*const.c**2).to(u.GeV)/(3*const.k_B.to(u.erg/u.K))**(1/2)))) \n",
    "\n",
    "    prefactors_again = (frac1*frac2*frac3).to(u.K**(1/2)/u.erg**(2))*1e4*u.K**(1/2)\n",
    "    print(prefactors_again)\n",
    "    print(prefactors_again.to(u.K**(1)/u.erg**2))"
   ]
  },
  {
   "cell_type": "code",
   "execution_count": 60,
   "id": "4b24b413",
   "metadata": {},
   "outputs": [],
   "source": [
    "# temporary numbers\n",
    "T=1e-6*u.GeV\n",
    "V=(4/3)*np.pi*u.Mpc**3\n",
    "rho_b = 0.1*u.Msun*1e14/V\n",
    "n_b = (rho_b/const.m_p).to(1/u.cm**3)\n",
    "freq=1e18*u.Hz"
   ]
  },
  {
   "cell_type": "code",
   "execution_count": 114,
   "id": "3d2c8841",
   "metadata": {},
   "outputs": [
    {
     "data": {
      "text/latex": [
       "$0.00028537634 \\; \\mathrm{\\frac{1}{cm^{3}}}$"
      ],
      "text/plain": [
       "<Quantity 0.00028538 1 / cm3>"
      ]
     },
     "execution_count": 114,
     "metadata": {},
     "output_type": "execute_result"
    }
   ],
   "source": [
    "n_b"
   ]
  },
  {
   "cell_type": "code",
   "execution_count": 187,
   "id": "e4580958",
   "metadata": {},
   "outputs": [
    {
     "ename": "SyntaxError",
     "evalue": "'(' was never closed (792746658.py, line 2)",
     "output_type": "error",
     "traceback": [
      "\u001b[0;36m  Cell \u001b[0;32mIn[187], line 2\u001b[0;36m\u001b[0m\n\u001b[0;31m    pref=(prefactors*(conversion_factor**3 * (u.m**3).to(u.cm**3) / (u.GeV**(-3))#.to(u.cm**3*u.erg**(3/2)/(u.K**(1/2)), equivalencies=u.temperature_energy()))\u001b[0m\n\u001b[0m                     ^\u001b[0m\n\u001b[0;31mSyntaxError\u001b[0m\u001b[0;31m:\u001b[0m '(' was never closed\n"
     ]
    }
   ],
   "source": [
    "with u.set_enabled_equivalencies(u.temperature_energy()):\n",
    "    pref=(prefactors*conversion_factor**3 * (u.m**3).to(u.cm**3) / (u.GeV**(-3))#.to(u.cm**3*u.erg**(3/2)/(u.K**(1/2)), equivalencies=u.temperature_energy()))\n",
    "    pref"
   ]
  },
  {
   "cell_type": "code",
   "execution_count": 178,
   "id": "07584622",
   "metadata": {},
   "outputs": [
    {
     "name": "stdout",
     "output_type": "stream",
     "text": [
      "5.938555722084546e-48 erg / cm3\n"
     ]
    }
   ],
   "source": [
    "\n",
    "\n",
    "#pref=(prefactors*(conversion_factor**3 * u.m**3 / u.GeV**(-3))).to(u.cm**3*u.erg**(3/2))\n",
    "#print(pref)\n",
    "Z=1\n",
    "T=(1e-6*u.GeV).to(u.K, equivalencies=u.temperature_energy())\n",
    "T8=T/(1e8*u.K)\n",
    "V=(4/3)*np.pi*u.Mpc**3\n",
    "rho_b = 0.1*u.Msun*1e14/V\n",
    "n_b = (rho_b/const.m_p).to(1/u.cm**3)\n",
    "freq=1e18*u.Hz\n",
    "\n",
    "Eff2=(prefactors*Z**2*n_b**2)/(T8)**(1/2)*np.exp(-const.h*freq/(const.k_B*T))\n",
    "print( Eff2)\n"
   ]
  },
  {
   "cell_type": "code",
   "execution_count": null,
   "id": "2ddc8645",
   "metadata": {},
   "outputs": [],
   "source": [
    "#C=(prefactors*(T)**(-1/2)*n_b**2*(conversion_factor**3 * u.m**3 / u.GeV**(-3))).to(u.GeV/u.cm**3)\n",
    "#Eff_int=(C*T/const.h).to(u.GeV/(u.s*u.cm**3))"
   ]
  },
  {
   "cell_type": "code",
   "execution_count": 182,
   "id": "fc215fcd",
   "metadata": {},
   "outputs": [
    {
     "ename": "UnitConversionError",
     "evalue": "'erg GeV3 m3 / cm3' and 'erg / cm3' (energy density/pressure/stress) are not convertible",
     "output_type": "error",
     "traceback": [
      "\u001b[0;31m---------------------------------------------------------------------------\u001b[0m",
      "\u001b[0;31mUnitConversionError\u001b[0m                       Traceback (most recent call last)",
      "Cell \u001b[0;32mIn[182], line 3\u001b[0m\n\u001b[1;32m      1\u001b[0m conversion_factor\u001b[38;5;241m=\u001b[39m\u001b[38;5;241m0.197\u001b[39m\u001b[38;5;241m*\u001b[39m\u001b[38;5;241m1e-15\u001b[39m\n\u001b[1;32m      2\u001b[0m Eff\u001b[38;5;241m=\u001b[39m(prefactors\u001b[38;5;241m*\u001b[39m(T8)\u001b[38;5;241m*\u001b[39m\u001b[38;5;241m*\u001b[39m(\u001b[38;5;241m-\u001b[39m\u001b[38;5;241m1\u001b[39m\u001b[38;5;241m/\u001b[39m\u001b[38;5;241m2\u001b[39m)\u001b[38;5;241m*\u001b[39mn_b\u001b[38;5;241m*\u001b[39m\u001b[38;5;241m*\u001b[39m\u001b[38;5;241m2\u001b[39m\u001b[38;5;241m*\u001b[39mnp\u001b[38;5;241m.\u001b[39mexp(\u001b[38;5;241m-\u001b[39mconst\u001b[38;5;241m.\u001b[39mh\u001b[38;5;241m*\u001b[39mfreq\u001b[38;5;241m/\u001b[39m(const\u001b[38;5;241m.\u001b[39mk_B\u001b[38;5;241m*\u001b[39mT))\u001b[38;5;241m*\u001b[39m(conversion_factor\u001b[38;5;241m*\u001b[39m\u001b[38;5;241m*\u001b[39m\u001b[38;5;241m3\u001b[39m \u001b[38;5;241m*\u001b[39m u\u001b[38;5;241m.\u001b[39mm\u001b[38;5;241m*\u001b[39m\u001b[38;5;241m*\u001b[39m\u001b[38;5;241m3\u001b[39m \u001b[38;5;241m/\u001b[39m u\u001b[38;5;241m.\u001b[39mGeV\u001b[38;5;241m*\u001b[39m\u001b[38;5;241m*\u001b[39m(\u001b[38;5;241m-\u001b[39m\u001b[38;5;241m3\u001b[39m)))\n\u001b[0;32m----> 3\u001b[0m Eff\u001b[38;5;241m.\u001b[39mto(u\u001b[38;5;241m.\u001b[39merg\u001b[38;5;241m/\u001b[39mu\u001b[38;5;241m.\u001b[39mcm\u001b[38;5;241m*\u001b[39m\u001b[38;5;241m*\u001b[39m\u001b[38;5;241m3\u001b[39m)\n",
      "File \u001b[0;32m~/opt/anaconda3/envs/idm/lib/python3.11/site-packages/astropy/units/quantity.py:846\u001b[0m, in \u001b[0;36mQuantity.to\u001b[0;34m(self, unit, equivalencies, copy)\u001b[0m\n\u001b[1;32m    842\u001b[0m unit \u001b[38;5;241m=\u001b[39m Unit(unit)\n\u001b[1;32m    843\u001b[0m \u001b[38;5;28;01mif\u001b[39;00m copy:\n\u001b[1;32m    844\u001b[0m     \u001b[38;5;66;03m# Avoid using to_value to ensure that we make a copy. We also\u001b[39;00m\n\u001b[1;32m    845\u001b[0m     \u001b[38;5;66;03m# don't want to slow down this method (esp. the scalar case).\u001b[39;00m\n\u001b[0;32m--> 846\u001b[0m     value \u001b[38;5;241m=\u001b[39m \u001b[38;5;28mself\u001b[39m\u001b[38;5;241m.\u001b[39m_to_value(unit, equivalencies)\n\u001b[1;32m    847\u001b[0m \u001b[38;5;28;01melse\u001b[39;00m:\n\u001b[1;32m    848\u001b[0m     \u001b[38;5;66;03m# to_value only copies if necessary\u001b[39;00m\n\u001b[1;32m    849\u001b[0m     value \u001b[38;5;241m=\u001b[39m \u001b[38;5;28mself\u001b[39m\u001b[38;5;241m.\u001b[39mto_value(unit, equivalencies)\n",
      "File \u001b[0;32m~/opt/anaconda3/envs/idm/lib/python3.11/site-packages/astropy/units/quantity.py:800\u001b[0m, in \u001b[0;36mQuantity._to_value\u001b[0;34m(self, unit, equivalencies)\u001b[0m\n\u001b[1;32m    797\u001b[0m     equivalencies \u001b[38;5;241m=\u001b[39m \u001b[38;5;28mself\u001b[39m\u001b[38;5;241m.\u001b[39m_equivalencies\n\u001b[1;32m    798\u001b[0m \u001b[38;5;28;01mif\u001b[39;00m \u001b[38;5;129;01mnot\u001b[39;00m \u001b[38;5;28mself\u001b[39m\u001b[38;5;241m.\u001b[39mdtype\u001b[38;5;241m.\u001b[39mnames \u001b[38;5;129;01mor\u001b[39;00m \u001b[38;5;28misinstance\u001b[39m(\u001b[38;5;28mself\u001b[39m\u001b[38;5;241m.\u001b[39munit, StructuredUnit):\n\u001b[1;32m    799\u001b[0m     \u001b[38;5;66;03m# Standard path, let unit to do work.\u001b[39;00m\n\u001b[0;32m--> 800\u001b[0m     \u001b[38;5;28;01mreturn\u001b[39;00m \u001b[38;5;28mself\u001b[39m\u001b[38;5;241m.\u001b[39munit\u001b[38;5;241m.\u001b[39mto(unit, \u001b[38;5;28mself\u001b[39m\u001b[38;5;241m.\u001b[39mview(np\u001b[38;5;241m.\u001b[39mndarray),\n\u001b[1;32m    801\u001b[0m                         equivalencies\u001b[38;5;241m=\u001b[39mequivalencies)\n\u001b[1;32m    803\u001b[0m \u001b[38;5;28;01melse\u001b[39;00m:\n\u001b[1;32m    804\u001b[0m     \u001b[38;5;66;03m# The .to() method of a simple unit cannot convert a structured\u001b[39;00m\n\u001b[1;32m    805\u001b[0m     \u001b[38;5;66;03m# dtype, so we work around it, by recursing.\u001b[39;00m\n\u001b[1;32m    806\u001b[0m     \u001b[38;5;66;03m# TODO: deprecate this?\u001b[39;00m\n\u001b[1;32m    807\u001b[0m     \u001b[38;5;66;03m# Convert simple to Structured on initialization?\u001b[39;00m\n\u001b[1;32m    808\u001b[0m     result \u001b[38;5;241m=\u001b[39m np\u001b[38;5;241m.\u001b[39mempty_like(\u001b[38;5;28mself\u001b[39m\u001b[38;5;241m.\u001b[39mview(np\u001b[38;5;241m.\u001b[39mndarray))\n",
      "File \u001b[0;32m~/opt/anaconda3/envs/idm/lib/python3.11/site-packages/astropy/units/core.py:1130\u001b[0m, in \u001b[0;36mUnitBase.to\u001b[0;34m(self, other, value, equivalencies)\u001b[0m\n\u001b[1;32m   1128\u001b[0m     \u001b[38;5;28;01mreturn\u001b[39;00m UNITY\n\u001b[1;32m   1129\u001b[0m \u001b[38;5;28;01melse\u001b[39;00m:\n\u001b[0;32m-> 1130\u001b[0m     \u001b[38;5;28;01mreturn\u001b[39;00m \u001b[38;5;28mself\u001b[39m\u001b[38;5;241m.\u001b[39m_get_converter(Unit(other),\n\u001b[1;32m   1131\u001b[0m                                equivalencies\u001b[38;5;241m=\u001b[39mequivalencies)(value)\n",
      "File \u001b[0;32m~/opt/anaconda3/envs/idm/lib/python3.11/site-packages/astropy/units/core.py:1061\u001b[0m, in \u001b[0;36mUnitBase._get_converter\u001b[0;34m(self, other, equivalencies)\u001b[0m\n\u001b[1;32m   1058\u001b[0m             \u001b[38;5;28;01mexcept\u001b[39;00m \u001b[38;5;167;01mException\u001b[39;00m:\n\u001b[1;32m   1059\u001b[0m                 \u001b[38;5;28;01mpass\u001b[39;00m\n\u001b[0;32m-> 1061\u001b[0m \u001b[38;5;28;01mraise\u001b[39;00m exc\n",
      "File \u001b[0;32m~/opt/anaconda3/envs/idm/lib/python3.11/site-packages/astropy/units/core.py:1046\u001b[0m, in \u001b[0;36mUnitBase._get_converter\u001b[0;34m(self, other, equivalencies)\u001b[0m\n\u001b[1;32m   1044\u001b[0m \u001b[38;5;66;03m# if that doesn't work, maybe we can do it with equivalencies?\u001b[39;00m\n\u001b[1;32m   1045\u001b[0m \u001b[38;5;28;01mtry\u001b[39;00m:\n\u001b[0;32m-> 1046\u001b[0m     \u001b[38;5;28;01mreturn\u001b[39;00m \u001b[38;5;28mself\u001b[39m\u001b[38;5;241m.\u001b[39m_apply_equivalencies(\n\u001b[1;32m   1047\u001b[0m         \u001b[38;5;28mself\u001b[39m, other, \u001b[38;5;28mself\u001b[39m\u001b[38;5;241m.\u001b[39m_normalize_equivalencies(equivalencies))\n\u001b[1;32m   1048\u001b[0m \u001b[38;5;28;01mexcept\u001b[39;00m UnitsError \u001b[38;5;28;01mas\u001b[39;00m exc:\n\u001b[1;32m   1049\u001b[0m     \u001b[38;5;66;03m# Last hope: maybe other knows how to do it?\u001b[39;00m\n\u001b[1;32m   1050\u001b[0m     \u001b[38;5;66;03m# We assume the equivalencies have the unit itself as first item.\u001b[39;00m\n\u001b[1;32m   1051\u001b[0m     \u001b[38;5;66;03m# TODO: maybe better for other to have a `_back_converter` method?\u001b[39;00m\n\u001b[1;32m   1052\u001b[0m     \u001b[38;5;28;01mif\u001b[39;00m \u001b[38;5;28mhasattr\u001b[39m(other, \u001b[38;5;124m'\u001b[39m\u001b[38;5;124mequivalencies\u001b[39m\u001b[38;5;124m'\u001b[39m):\n",
      "File \u001b[0;32m~/opt/anaconda3/envs/idm/lib/python3.11/site-packages/astropy/units/core.py:1022\u001b[0m, in \u001b[0;36mUnitBase._apply_equivalencies\u001b[0;34m(self, unit, other, equivalencies)\u001b[0m\n\u001b[1;32m   1019\u001b[0m unit_str \u001b[38;5;241m=\u001b[39m get_err_str(unit)\n\u001b[1;32m   1020\u001b[0m other_str \u001b[38;5;241m=\u001b[39m get_err_str(other)\n\u001b[0;32m-> 1022\u001b[0m \u001b[38;5;28;01mraise\u001b[39;00m UnitConversionError(\n\u001b[1;32m   1023\u001b[0m     \u001b[38;5;124mf\u001b[39m\u001b[38;5;124m\"\u001b[39m\u001b[38;5;132;01m{\u001b[39;00munit_str\u001b[38;5;132;01m}\u001b[39;00m\u001b[38;5;124m and \u001b[39m\u001b[38;5;132;01m{\u001b[39;00mother_str\u001b[38;5;132;01m}\u001b[39;00m\u001b[38;5;124m are not convertible\u001b[39m\u001b[38;5;124m\"\u001b[39m)\n",
      "\u001b[0;31mUnitConversionError\u001b[0m: 'erg GeV3 m3 / cm3' and 'erg / cm3' (energy density/pressure/stress) are not convertible"
     ]
    }
   ],
   "source": [
    "conversion_factor=0.197*1e-15\n",
    "Eff=(prefactors*(T8)**(-1/2)*n_b**2*np.exp(-const.h*freq/(const.k_B*T))*(conversion_factor**3 * u.m**3 / u.GeV**(-3)))\n",
    "Eff.to(u.erg/u.cm**3)"
   ]
  },
  {
   "cell_type": "code",
   "execution_count": 125,
   "id": "b9536656",
   "metadata": {},
   "outputs": [],
   "source": [
    "C=(prefactors*(T)**(-1/2)*n_b**2*(conversion_factor**3 * u.m**3 / u.GeV**(-3))).to(u.GeV/u.cm**3)\n",
    "Eff_int=(C*T/const.h).to(u.GeV/(u.s*u.cm**3))"
   ]
  },
  {
   "cell_type": "code",
   "execution_count": 126,
   "id": "f181ab96",
   "metadata": {},
   "outputs": [
    {
     "data": {
      "text/latex": [
       "$1.8156841 \\times 10^{49} \\; \\mathrm{\\frac{GeV}{s}}$"
      ],
      "text/plain": [
       "<Quantity 1.81568411e+49 GeV / s>"
      ]
     },
     "execution_count": 126,
     "metadata": {},
     "output_type": "execute_result"
    }
   ],
   "source": [
    "(V*Eff_int).to(u.GeV/u.s)"
   ]
  },
  {
   "cell_type": "code",
   "execution_count": 127,
   "id": "42151f40",
   "metadata": {},
   "outputs": [],
   "source": [
    "from load_mcxc_data import load_clusters\n",
    "cluster=load_clusters(1)[0]"
   ]
  },
  {
   "cell_type": "code",
   "execution_count": 128,
   "id": "8ac82e16",
   "metadata": {},
   "outputs": [
    {
     "data": {
      "text/latex": [
       "$2.7636058 \\times 10^{52} \\; \\mathrm{\\frac{GeV}{s}}$"
      ],
      "text/plain": [
       "<Quantity 2.76360585e+52 GeV / s>"
      ]
     },
     "execution_count": 128,
     "metadata": {},
     "output_type": "execute_result"
    }
   ],
   "source": [
    "cluster.agn_heating_rate()"
   ]
  },
  {
   "cell_type": "code",
   "execution_count": 129,
   "id": "7e0d2cc5",
   "metadata": {},
   "outputs": [
    {
     "data": {
      "text/latex": [
       "$2.9090467 \\times 10^{46} \\; \\mathrm{\\frac{erg}{s}}$"
      ],
      "text/plain": [
       "<Quantity 2.90904666e+46 erg / s>"
      ]
     },
     "execution_count": 129,
     "metadata": {},
     "output_type": "execute_result"
    }
   ],
   "source": [
    "V=cluster.volume\n",
    "T=cluster.baryon_temp\n",
    "n_b=(cluster.rho_b/cluster.m_b).to(u.cm**(-3))\n",
    "C=(prefactors*(T)**(-1/2)*n_b**2*(conversion_factor**3 * u.m**3 / u.GeV**(-3))).to(u.GeV/u.cm**3)\n",
    "Eff_int=(C*T/const.h).to(u.GeV/(u.s*u.cm**3))\n",
    "(V*Eff_int).to(u.erg/u.s)"
   ]
  },
  {
   "cell_type": "code",
   "execution_count": null,
   "id": "ae137706",
   "metadata": {},
   "outputs": [],
   "source": []
  }
 ],
 "metadata": {
  "kernelspec": {
   "display_name": "Python 3 (ipykernel)",
   "language": "python",
   "name": "python3"
  },
  "language_info": {
   "codemirror_mode": {
    "name": "ipython",
    "version": 3
   },
   "file_extension": ".py",
   "mimetype": "text/x-python",
   "name": "python",
   "nbconvert_exporter": "python",
   "pygments_lexer": "ipython3",
   "version": "3.11.5"
  }
 },
 "nbformat": 4,
 "nbformat_minor": 5
}
