{
 "cells": [
  {
   "cell_type": "code",
   "execution_count": 4,
   "id": "9c21c6c1",
   "metadata": {},
   "outputs": [],
   "source": [
    "import numpy as np\n",
    "from astropy import units as u\n",
    "from astropy import constants as const"
   ]
  },
  {
   "cell_type": "code",
   "execution_count": 225,
   "id": "d5cd9ddd",
   "metadata": {},
   "outputs": [
    {
     "data": {
      "text/latex": [
       "$2.4489256 \\times 10^{-42} \\; \\mathrm{cm^{3}\\,erg}$"
      ],
      "text/plain": [
       "<Quantity 2.44892559e-42 cm3 erg>"
      ]
     },
     "execution_count": 225,
     "metadata": {},
     "output_type": "execute_result"
    }
   ],
   "source": [
    "Z=1 #charge number\n",
    "qe=np.pi**2/137\n",
    "frac1=32*np.pi/3 # unitless\n",
    "frac2= (qe**6)/(const.m_e**2 * const.c**4).to(u.erg**2) # units 1/erg^2\n",
    "frac3= ((2*np.pi*const.m_e*const.c**2).to(u.erg)/(3*const.k_B*1e8*u.K))**(1/2) # unitless\n",
    "\n",
    "conversion_factor = 0.197*1e-15 * (u.GeV * u.m)\n",
    "conversion_factor_cm = conversion_factor.to(u.GeV * u.cm)\n",
    "prefactors = (((frac1*frac2*frac3).to(1/u.GeV**2)) * conversion_factor_cm**3).to(u.erg*u.cm**3)\n",
    "prefactors # WANT 10^-42\n",
    "\n",
    "#use actual number in textbook"
   ]
  },
  {
   "cell_type": "code",
   "execution_count": 60,
   "id": "61870a65",
   "metadata": {},
   "outputs": [],
   "source": [
    "# temporary numbers\n",
    "T=1e-6*u.GeV\n",
    "V=(4/3)*np.pi*u.Mpc**3\n",
    "rho_b = 0.1*u.Msun*1e14/V\n",
    "n_b = (rho_b/const.m_p).to(1/u.cm**3)\n",
    "freq=1e18*u.Hz"
   ]
  },
  {
   "cell_type": "code",
   "execution_count": 194,
   "id": "659f390c",
   "metadata": {},
   "outputs": [
    {
     "name": "stdout",
     "output_type": "stream",
     "text": [
      "5.938555722084546e-48 erg / cm3\n"
     ]
    }
   ],
   "source": [
    "\n",
    "\n",
    "#pref=(prefactors*(conversion_factor**3 * u.m**3 / u.GeV**(-3))).to(u.cm**3*u.erg**(3/2))\n",
    "#print(pref)\n",
    "Z=1\n",
    "T=(1e-6*u.GeV).to(u.K, equivalencies=u.temperature_energy())\n",
    "T8=T/(1e8*u.K)\n",
    "V=(4/3)*np.pi*u.Mpc**3\n",
    "rho_b = 0.1*u.Msun*1e14/V\n",
    "n_b = (rho_b/const.m_p).to(1/u.cm**3)\n",
    "freq=1e18*u.Hz\n",
    "\n",
    "Eff2=(prefactors*Z**2*n_b**2)/(T8)**(1/2)*np.exp(-const.h*freq/(const.k_B*T))\n",
    "print(Eff2)\n",
    "C=(prefactors*Z**2*n_b**2)/(T8)**(1/2)\n"
   ]
  },
  {
   "cell_type": "code",
   "execution_count": 197,
   "id": "d9e7b4af",
   "metadata": {},
   "outputs": [
    {
     "data": {
      "text/latex": [
       "$5.6043141 \\times 10^{-26} \\; \\mathrm{\\frac{GeV}{s\\,cm^{3}}}$"
      ],
      "text/plain": [
       "<Quantity 5.60431408e-26 GeV / (cm3 s)>"
      ]
     },
     "execution_count": 197,
     "metadata": {},
     "output_type": "execute_result"
    }
   ],
   "source": [
    "#C=(prefactors*(T)**(-1/2)*n_b**2*(conversion_factor**3 * u.m**3 / u.GeV**(-3))).to(u.GeV/u.cm**3)\n",
    "Eff_int=(C*T*const.k_B/const.h).to(u.GeV/(u.s*u.cm**3))\n",
    "Eff_int"
   ]
  },
  {
   "cell_type": "code",
   "execution_count": 198,
   "id": "538cabaa",
   "metadata": {},
   "outputs": [
    {
     "data": {
      "text/latex": [
       "$6.8970395 \\times 10^{48} \\; \\mathrm{\\frac{GeV}{s}}$"
      ],
      "text/plain": [
       "<Quantity 6.89703947e+48 GeV / s>"
      ]
     },
     "execution_count": 198,
     "metadata": {},
     "output_type": "execute_result"
    }
   ],
   "source": [
    "(V*Eff_int).to(u.GeV/u.s)"
   ]
  },
  {
   "cell_type": "code",
   "execution_count": 127,
   "id": "d3501892",
   "metadata": {},
   "outputs": [],
   "source": [
    "from load_mcxc_data import load_clusters\n",
    "cluster=load_clusters(1)[0]"
   ]
  },
  {
   "cell_type": "code",
   "execution_count": 128,
   "id": "84313ef8",
   "metadata": {},
   "outputs": [
    {
     "data": {
      "text/latex": [
       "$2.7636058 \\times 10^{52} \\; \\mathrm{\\frac{GeV}{s}}$"
      ],
      "text/plain": [
       "<Quantity 2.76360585e+52 GeV / s>"
      ]
     },
     "execution_count": 128,
     "metadata": {},
     "output_type": "execute_result"
    }
   ],
   "source": [
    "cluster.agn_heating_rate()"
   ]
  },
  {
   "cell_type": "code",
   "execution_count": 216,
   "id": "18e4b416",
   "metadata": {},
   "outputs": [
    {
     "data": {
      "text/latex": [
       "$2.9090467 \\times 10^{46} \\; \\mathrm{\\frac{erg}{s}}$"
      ],
      "text/plain": [
       "<Quantity 2.90904666e+46 erg / s>"
      ]
     },
     "execution_count": 216,
     "metadata": {},
     "output_type": "execute_result"
    }
   ],
   "source": [
    "Z=1\n",
    "\n",
    "V=cluster.volume\n",
    "T=(cluster.baryon_temp).to(u.K, equivalencies=u.temperature_energy())\n",
    "T8=T/(1e8*u.K)\n",
    "n_b=(cluster.rho_b/cluster.m_b).to(u.cm**(-3))\n",
    "\n",
    "C=(prefactors*Z**2*n_b**2)/(T8)**(1/2)\n",
    "\n",
    "Eff_int=(C*T*const.k_B/const.h).to(u.GeV/(u.s*u.cm**3))\n",
    "(V*Eff_int).to(u.erg/u.s)\n",
    "\n",
    "#decreasing prefactors would make this smaller"
   ]
  },
  {
   "cell_type": "code",
   "execution_count": null,
   "id": "7a6ddaf9",
   "metadata": {},
   "outputs": [],
   "source": []
  }
 ],
 "metadata": {
  "kernelspec": {
   "display_name": "Python 3 (ipykernel)",
   "language": "python",
   "name": "python3"
  },
  "language_info": {
   "codemirror_mode": {
    "name": "ipython",
    "version": 3
   },
   "file_extension": ".py",
   "mimetype": "text/x-python",
   "name": "python",
   "nbconvert_exporter": "python",
   "pygments_lexer": "ipython3",
   "version": "3.11.5"
  }
 },
 "nbformat": 4,
 "nbformat_minor": 5
}
