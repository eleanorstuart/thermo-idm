{
 "cells": [
  {
   "cell_type": "code",
   "execution_count": 4,
   "id": "d532ea97",
   "metadata": {},
   "outputs": [],
   "source": [
    "import numpy as np\n",
    "from astropy import units as u\n",
    "from astropy import constants as const"
   ]
  },
  {
   "cell_type": "code",
   "execution_count": 204,
   "id": "ab564a38",
   "metadata": {},
   "outputs": [
    {
     "data": {
      "text/latex": [
       "$1.3556772 \\times 10^{-38} \\; \\mathrm{cm^{3}\\,erg}$"
      ],
      "text/plain": [
       "<Quantity 1.35567719e-38 cm3 erg>"
      ]
     },
     "execution_count": 204,
     "metadata": {},
     "output_type": "execute_result"
    }
   ],
   "source": [
    "Z=1 #charge number\n",
    "qe=0.303\n",
    "frac1=32*np.pi/3\n",
    "frac2= (qe**6)/(const.m_e**2 * const.c**4).to(u.erg**2)\n",
    "frac3= ((2*np.pi*const.m_e*const.c**2).to(u.erg)/(3*const.k_B*1e8*u.K))**(1/2) \n",
    "\n",
    "conversion_factor = 0.197*1e-15 * (u.GeV * u.m)\n",
    "conversion_factor_cm = conversion_factor.to(u.GeV * u.cm)\n",
    "prefactors = (((frac1*frac2*frac3).to(1/u.GeV**2)) * conversion_factor_cm**3).to(u.erg*u.cm**3)\n",
    "prefactors # WANT 10^-42\n"
   ]
  },
  {
   "cell_type": "code",
   "execution_count": null,
   "id": "aa75fbf2",
   "metadata": {},
   "outputs": [],
   "source": []
  },
  {
   "cell_type": "code",
   "execution_count": 60,
   "id": "ea59eb50",
   "metadata": {},
   "outputs": [],
   "source": [
    "# temporary numbers\n",
    "T=1e-6*u.GeV\n",
    "V=(4/3)*np.pi*u.Mpc**3\n",
    "rho_b = 0.1*u.Msun*1e14/V\n",
    "n_b = (rho_b/const.m_p).to(1/u.cm**3)\n",
    "freq=1e18*u.Hz"
   ]
  },
  {
   "cell_type": "code",
   "execution_count": 194,
   "id": "9c5c1e2b",
   "metadata": {},
   "outputs": [
    {
     "name": "stdout",
     "output_type": "stream",
     "text": [
      "5.938555722084546e-48 erg / cm3\n"
     ]
    }
   ],
   "source": [
    "\n",
    "\n",
    "#pref=(prefactors*(conversion_factor**3 * u.m**3 / u.GeV**(-3))).to(u.cm**3*u.erg**(3/2))\n",
    "#print(pref)\n",
    "Z=1\n",
    "T=(1e-6*u.GeV).to(u.K, equivalencies=u.temperature_energy())\n",
    "T8=T/(1e8*u.K)\n",
    "V=(4/3)*np.pi*u.Mpc**3\n",
    "rho_b = 0.1*u.Msun*1e14/V\n",
    "n_b = (rho_b/const.m_p).to(1/u.cm**3)\n",
    "freq=1e18*u.Hz\n",
    "\n",
    "Eff2=(prefactors*Z**2*n_b**2)/(T8)**(1/2)*np.exp(-const.h*freq/(const.k_B*T))\n",
    "print(Eff2)\n",
    "C=(prefactors*Z**2*n_b**2)/(T8)**(1/2)\n"
   ]
  },
  {
   "cell_type": "code",
   "execution_count": 197,
   "id": "76aa94ed",
   "metadata": {},
   "outputs": [
    {
     "data": {
      "text/latex": [
       "$5.6043141 \\times 10^{-26} \\; \\mathrm{\\frac{GeV}{s\\,cm^{3}}}$"
      ],
      "text/plain": [
       "<Quantity 5.60431408e-26 GeV / (cm3 s)>"
      ]
     },
     "execution_count": 197,
     "metadata": {},
     "output_type": "execute_result"
    }
   ],
   "source": [
    "#C=(prefactors*(T)**(-1/2)*n_b**2*(conversion_factor**3 * u.m**3 / u.GeV**(-3))).to(u.GeV/u.cm**3)\n",
    "Eff_int=(C*T*const.k_B/const.h).to(u.GeV/(u.s*u.cm**3))\n",
    "Eff_int"
   ]
  },
  {
   "cell_type": "code",
   "execution_count": 198,
   "id": "893259ee",
   "metadata": {},
   "outputs": [
    {
     "data": {
      "text/latex": [
       "$6.8970395 \\times 10^{48} \\; \\mathrm{\\frac{GeV}{s}}$"
      ],
      "text/plain": [
       "<Quantity 6.89703947e+48 GeV / s>"
      ]
     },
     "execution_count": 198,
     "metadata": {},
     "output_type": "execute_result"
    }
   ],
   "source": [
    "(V*Eff_int).to(u.GeV/u.s)"
   ]
  },
  {
   "cell_type": "code",
   "execution_count": 127,
   "id": "0f10a0eb",
   "metadata": {},
   "outputs": [],
   "source": [
    "from load_mcxc_data import load_clusters\n",
    "cluster=load_clusters(1)[0]"
   ]
  },
  {
   "cell_type": "code",
   "execution_count": 128,
   "id": "995a1c64",
   "metadata": {},
   "outputs": [
    {
     "data": {
      "text/latex": [
       "$2.7636058 \\times 10^{52} \\; \\mathrm{\\frac{GeV}{s}}$"
      ],
      "text/plain": [
       "<Quantity 2.76360585e+52 GeV / s>"
      ]
     },
     "execution_count": 128,
     "metadata": {},
     "output_type": "execute_result"
    }
   ],
   "source": [
    "cluster.agn_heating_rate()"
   ]
  },
  {
   "cell_type": "code",
   "execution_count": 213,
   "id": "a84491f4",
   "metadata": {},
   "outputs": [
    {
     "ename": "UnitConversionError",
     "evalue": "'GeV' (energy/torque/work) and 'K' (temperature) are not convertible",
     "output_type": "error",
     "traceback": [
      "\u001b[0;31m---------------------------------------------------------------------------\u001b[0m",
      "\u001b[0;31mUnitConversionError\u001b[0m                       Traceback (most recent call last)",
      "Cell \u001b[0;32mIn[213], line 10\u001b[0m\n\u001b[1;32m      1\u001b[0m Z\u001b[38;5;241m=\u001b[39m\u001b[38;5;241m1\u001b[39m\n\u001b[1;32m      9\u001b[0m V\u001b[38;5;241m=\u001b[39mcluster\u001b[38;5;241m.\u001b[39mvolume\n\u001b[0;32m---> 10\u001b[0m T\u001b[38;5;241m=\u001b[39m(cluster\u001b[38;5;241m.\u001b[39mbaryon_temp)\u001b[38;5;241m.\u001b[39mto(u\u001b[38;5;241m.\u001b[39mK)\n\u001b[1;32m     11\u001b[0m T8\u001b[38;5;241m=\u001b[39mT\u001b[38;5;241m/\u001b[39m(\u001b[38;5;241m1e8\u001b[39m\u001b[38;5;241m*\u001b[39mu\u001b[38;5;241m.\u001b[39mK)\n\u001b[1;32m     12\u001b[0m n_b\u001b[38;5;241m=\u001b[39m(cluster\u001b[38;5;241m.\u001b[39mrho_b\u001b[38;5;241m/\u001b[39mcluster\u001b[38;5;241m.\u001b[39mm_b)\u001b[38;5;241m.\u001b[39mto(u\u001b[38;5;241m.\u001b[39mcm\u001b[38;5;241m*\u001b[39m\u001b[38;5;241m*\u001b[39m(\u001b[38;5;241m-\u001b[39m\u001b[38;5;241m3\u001b[39m))\n",
      "File \u001b[0;32m~/opt/anaconda3/envs/idm/lib/python3.11/site-packages/astropy/units/quantity.py:846\u001b[0m, in \u001b[0;36mQuantity.to\u001b[0;34m(self, unit, equivalencies, copy)\u001b[0m\n\u001b[1;32m    842\u001b[0m unit \u001b[38;5;241m=\u001b[39m Unit(unit)\n\u001b[1;32m    843\u001b[0m \u001b[38;5;28;01mif\u001b[39;00m copy:\n\u001b[1;32m    844\u001b[0m     \u001b[38;5;66;03m# Avoid using to_value to ensure that we make a copy. We also\u001b[39;00m\n\u001b[1;32m    845\u001b[0m     \u001b[38;5;66;03m# don't want to slow down this method (esp. the scalar case).\u001b[39;00m\n\u001b[0;32m--> 846\u001b[0m     value \u001b[38;5;241m=\u001b[39m \u001b[38;5;28mself\u001b[39m\u001b[38;5;241m.\u001b[39m_to_value(unit, equivalencies)\n\u001b[1;32m    847\u001b[0m \u001b[38;5;28;01melse\u001b[39;00m:\n\u001b[1;32m    848\u001b[0m     \u001b[38;5;66;03m# to_value only copies if necessary\u001b[39;00m\n\u001b[1;32m    849\u001b[0m     value \u001b[38;5;241m=\u001b[39m \u001b[38;5;28mself\u001b[39m\u001b[38;5;241m.\u001b[39mto_value(unit, equivalencies)\n",
      "File \u001b[0;32m~/opt/anaconda3/envs/idm/lib/python3.11/site-packages/astropy/units/quantity.py:800\u001b[0m, in \u001b[0;36mQuantity._to_value\u001b[0;34m(self, unit, equivalencies)\u001b[0m\n\u001b[1;32m    797\u001b[0m     equivalencies \u001b[38;5;241m=\u001b[39m \u001b[38;5;28mself\u001b[39m\u001b[38;5;241m.\u001b[39m_equivalencies\n\u001b[1;32m    798\u001b[0m \u001b[38;5;28;01mif\u001b[39;00m \u001b[38;5;129;01mnot\u001b[39;00m \u001b[38;5;28mself\u001b[39m\u001b[38;5;241m.\u001b[39mdtype\u001b[38;5;241m.\u001b[39mnames \u001b[38;5;129;01mor\u001b[39;00m \u001b[38;5;28misinstance\u001b[39m(\u001b[38;5;28mself\u001b[39m\u001b[38;5;241m.\u001b[39munit, StructuredUnit):\n\u001b[1;32m    799\u001b[0m     \u001b[38;5;66;03m# Standard path, let unit to do work.\u001b[39;00m\n\u001b[0;32m--> 800\u001b[0m     \u001b[38;5;28;01mreturn\u001b[39;00m \u001b[38;5;28mself\u001b[39m\u001b[38;5;241m.\u001b[39munit\u001b[38;5;241m.\u001b[39mto(unit, \u001b[38;5;28mself\u001b[39m\u001b[38;5;241m.\u001b[39mview(np\u001b[38;5;241m.\u001b[39mndarray),\n\u001b[1;32m    801\u001b[0m                         equivalencies\u001b[38;5;241m=\u001b[39mequivalencies)\n\u001b[1;32m    803\u001b[0m \u001b[38;5;28;01melse\u001b[39;00m:\n\u001b[1;32m    804\u001b[0m     \u001b[38;5;66;03m# The .to() method of a simple unit cannot convert a structured\u001b[39;00m\n\u001b[1;32m    805\u001b[0m     \u001b[38;5;66;03m# dtype, so we work around it, by recursing.\u001b[39;00m\n\u001b[1;32m    806\u001b[0m     \u001b[38;5;66;03m# TODO: deprecate this?\u001b[39;00m\n\u001b[1;32m    807\u001b[0m     \u001b[38;5;66;03m# Convert simple to Structured on initialization?\u001b[39;00m\n\u001b[1;32m    808\u001b[0m     result \u001b[38;5;241m=\u001b[39m np\u001b[38;5;241m.\u001b[39mempty_like(\u001b[38;5;28mself\u001b[39m\u001b[38;5;241m.\u001b[39mview(np\u001b[38;5;241m.\u001b[39mndarray))\n",
      "File \u001b[0;32m~/opt/anaconda3/envs/idm/lib/python3.11/site-packages/astropy/units/core.py:1130\u001b[0m, in \u001b[0;36mUnitBase.to\u001b[0;34m(self, other, value, equivalencies)\u001b[0m\n\u001b[1;32m   1128\u001b[0m     \u001b[38;5;28;01mreturn\u001b[39;00m UNITY\n\u001b[1;32m   1129\u001b[0m \u001b[38;5;28;01melse\u001b[39;00m:\n\u001b[0;32m-> 1130\u001b[0m     \u001b[38;5;28;01mreturn\u001b[39;00m \u001b[38;5;28mself\u001b[39m\u001b[38;5;241m.\u001b[39m_get_converter(Unit(other),\n\u001b[1;32m   1131\u001b[0m                                equivalencies\u001b[38;5;241m=\u001b[39mequivalencies)(value)\n",
      "File \u001b[0;32m~/opt/anaconda3/envs/idm/lib/python3.11/site-packages/astropy/units/core.py:1061\u001b[0m, in \u001b[0;36mUnitBase._get_converter\u001b[0;34m(self, other, equivalencies)\u001b[0m\n\u001b[1;32m   1058\u001b[0m             \u001b[38;5;28;01mexcept\u001b[39;00m \u001b[38;5;167;01mException\u001b[39;00m:\n\u001b[1;32m   1059\u001b[0m                 \u001b[38;5;28;01mpass\u001b[39;00m\n\u001b[0;32m-> 1061\u001b[0m \u001b[38;5;28;01mraise\u001b[39;00m exc\n",
      "File \u001b[0;32m~/opt/anaconda3/envs/idm/lib/python3.11/site-packages/astropy/units/core.py:1046\u001b[0m, in \u001b[0;36mUnitBase._get_converter\u001b[0;34m(self, other, equivalencies)\u001b[0m\n\u001b[1;32m   1044\u001b[0m \u001b[38;5;66;03m# if that doesn't work, maybe we can do it with equivalencies?\u001b[39;00m\n\u001b[1;32m   1045\u001b[0m \u001b[38;5;28;01mtry\u001b[39;00m:\n\u001b[0;32m-> 1046\u001b[0m     \u001b[38;5;28;01mreturn\u001b[39;00m \u001b[38;5;28mself\u001b[39m\u001b[38;5;241m.\u001b[39m_apply_equivalencies(\n\u001b[1;32m   1047\u001b[0m         \u001b[38;5;28mself\u001b[39m, other, \u001b[38;5;28mself\u001b[39m\u001b[38;5;241m.\u001b[39m_normalize_equivalencies(equivalencies))\n\u001b[1;32m   1048\u001b[0m \u001b[38;5;28;01mexcept\u001b[39;00m UnitsError \u001b[38;5;28;01mas\u001b[39;00m exc:\n\u001b[1;32m   1049\u001b[0m     \u001b[38;5;66;03m# Last hope: maybe other knows how to do it?\u001b[39;00m\n\u001b[1;32m   1050\u001b[0m     \u001b[38;5;66;03m# We assume the equivalencies have the unit itself as first item.\u001b[39;00m\n\u001b[1;32m   1051\u001b[0m     \u001b[38;5;66;03m# TODO: maybe better for other to have a `_back_converter` method?\u001b[39;00m\n\u001b[1;32m   1052\u001b[0m     \u001b[38;5;28;01mif\u001b[39;00m \u001b[38;5;28mhasattr\u001b[39m(other, \u001b[38;5;124m'\u001b[39m\u001b[38;5;124mequivalencies\u001b[39m\u001b[38;5;124m'\u001b[39m):\n",
      "File \u001b[0;32m~/opt/anaconda3/envs/idm/lib/python3.11/site-packages/astropy/units/core.py:1022\u001b[0m, in \u001b[0;36mUnitBase._apply_equivalencies\u001b[0;34m(self, unit, other, equivalencies)\u001b[0m\n\u001b[1;32m   1019\u001b[0m unit_str \u001b[38;5;241m=\u001b[39m get_err_str(unit)\n\u001b[1;32m   1020\u001b[0m other_str \u001b[38;5;241m=\u001b[39m get_err_str(other)\n\u001b[0;32m-> 1022\u001b[0m \u001b[38;5;28;01mraise\u001b[39;00m UnitConversionError(\n\u001b[1;32m   1023\u001b[0m     \u001b[38;5;124mf\u001b[39m\u001b[38;5;124m\"\u001b[39m\u001b[38;5;132;01m{\u001b[39;00munit_str\u001b[38;5;132;01m}\u001b[39;00m\u001b[38;5;124m and \u001b[39m\u001b[38;5;132;01m{\u001b[39;00mother_str\u001b[38;5;132;01m}\u001b[39;00m\u001b[38;5;124m are not convertible\u001b[39m\u001b[38;5;124m\"\u001b[39m)\n",
      "\u001b[0;31mUnitConversionError\u001b[0m: 'GeV' (energy/torque/work) and 'K' (temperature) are not convertible"
     ]
    }
   ],
   "source": [
    "Z=1\n",
    "\n",
    "\n",
    "\n",
    "\n",
    "\n",
    "\n",
    "\n",
    "V=cluster.volume\n",
    "T=(cluster.baryon_temp).to(u.K, equivalencies=)\n",
    "T8=T/(1e8*u.K)\n",
    "n_b=(cluster.rho_b/cluster.m_b).to(u.cm**(-3))\n",
    "\n",
    "\n",
    "#C=(prefactors*(T)**(-1/2)*n_b**2*(conversion_factor**3 * u.m**3 / u.GeV**(-3)))\n",
    "\n",
    "C=(prefactors*Z**2*n_b**2)/(T8)**(1/2)\n",
    "print(C)\n",
    "\n",
    "Eff_int=(C*T/const.h).to(u.GeV/(u.s*u.cm**3))\n",
    "(V*Eff_int).to(u.erg/u.s)"
   ]
  },
  {
   "cell_type": "code",
   "execution_count": null,
   "id": "bfe416fb",
   "metadata": {},
   "outputs": [],
   "source": []
  }
 ],
 "metadata": {
  "kernelspec": {
   "display_name": "Python 3 (ipykernel)",
   "language": "python",
   "name": "python3"
  },
  "language_info": {
   "codemirror_mode": {
    "name": "ipython",
    "version": 3
   },
   "file_extension": ".py",
   "mimetype": "text/x-python",
   "name": "python",
   "nbconvert_exporter": "python",
   "pygments_lexer": "ipython3",
   "version": "3.11.5"
  }
 },
 "nbformat": 4,
 "nbformat_minor": 5
}
