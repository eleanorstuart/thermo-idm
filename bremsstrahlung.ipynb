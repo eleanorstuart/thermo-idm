{
 "cells": [
  {
   "cell_type": "code",
   "execution_count": 4,
   "id": "abc50f29",
   "metadata": {},
   "outputs": [],
   "source": [
    "import numpy as np\n",
    "from astropy import units as u\n",
    "from astropy import constants as const"
   ]
  },
  {
   "cell_type": "code",
   "execution_count": 176,
   "id": "09071a77",
   "metadata": {},
   "outputs": [
    {
     "data": {
      "text/latex": [
       "$1.3556772 \\times 10^{-38} \\; \\mathrm{cm^{3}\\,erg}$"
      ],
      "text/plain": [
       "<Quantity 1.35567719e-38 cm3 erg>"
      ]
     },
     "execution_count": 176,
     "metadata": {},
     "output_type": "execute_result"
    }
   ],
   "source": [
    "Z=1 #charge number\n",
    "qe=0.303\n",
    "frac1=32*np.pi/3\n",
    "frac2= (Z**2 * qe**6)/(const.m_e**2 * const.c**4).to(u.erg**2)\n",
    "frac3= ((((2*np.pi*const.m_e*const.c**2).to(u.erg)/(3*const.k_B*1e8*u.K))**(1/2))) # removed k_B in denominator because T will be input in GeV\n",
    "\n",
    "conversion_factor = 0.197*1e-15 * (u.GeV * u.m)\n",
    "prefactors = (((frac1*frac2*frac3).to(1/u.GeV**2)) * conversion_factor**3).to(u.erg*u.cm**3)\n",
    "prefactors # WANT 10^-42\n"
   ]
  },
  {
   "cell_type": "code",
   "execution_count": 51,
   "id": "3137549f",
   "metadata": {},
   "outputs": [
    {
     "data": {
      "text/plain": [
       "(33.510321638291124,\n",
       " <Quantity 2963.57386042 1 / GeV2>,\n",
       " <Quantity 0.03271443 GeV(1/2)>)"
      ]
     },
     "execution_count": 51,
     "metadata": {},
     "output_type": "execute_result"
    }
   ],
   "source": [
    "frac1, frac2, frac3"
   ]
  },
  {
   "cell_type": "code",
   "execution_count": 60,
   "id": "4a45f98d",
   "metadata": {},
   "outputs": [],
   "source": [
    "# temporary numbers\n",
    "T=1e-6*u.GeV\n",
    "V=(4/3)*np.pi*u.Mpc**3\n",
    "rho_b = 0.1*u.Msun*1e14/V\n",
    "n_b = (rho_b/const.m_p).to(1/u.cm**3)\n",
    "freq=1e18*u.Hz"
   ]
  },
  {
   "cell_type": "code",
   "execution_count": 194,
   "id": "da77c2d8",
   "metadata": {},
   "outputs": [
    {
     "name": "stdout",
     "output_type": "stream",
     "text": [
      "5.938555722084546e-48 erg / cm3\n"
     ]
    }
   ],
   "source": [
    "\n",
    "\n",
    "#pref=(prefactors*(conversion_factor**3 * u.m**3 / u.GeV**(-3))).to(u.cm**3*u.erg**(3/2))\n",
    "#print(pref)\n",
    "Z=1\n",
    "T=(1e-6*u.GeV).to(u.K, equivalencies=u.temperature_energy())\n",
    "T8=T/(1e8*u.K)\n",
    "V=(4/3)*np.pi*u.Mpc**3\n",
    "rho_b = 0.1*u.Msun*1e14/V\n",
    "n_b = (rho_b/const.m_p).to(1/u.cm**3)\n",
    "freq=1e18*u.Hz\n",
    "\n",
    "Eff2=(prefactors*Z**2*n_b**2)/(T8)**(1/2)*np.exp(-const.h*freq/(const.k_B*T))\n",
    "print(Eff2)\n",
    "C=(prefactors*Z**2*n_b**2)/(T8)**(1/2)\n"
   ]
  },
  {
   "cell_type": "code",
   "execution_count": 192,
   "id": "d7038991",
   "metadata": {},
   "outputs": [],
   "source": [
    "#C=(prefactors*(T)**(-1/2)*n_b**2*(conversion_factor**3 * u.m**3 / u.GeV**(-3))).to(u.GeV/u.cm**3)\n",
    "#Eff_int=(C*T/const.h).to(u.GeV/(u.s*u.cm**3))"
   ]
  },
  {
   "cell_type": "code",
   "execution_count": 193,
   "id": "0552ca0d",
   "metadata": {},
   "outputs": [],
   "source": [
    "#conversion_factor=0.197*1e-15\n",
    "#Eff=(prefactors*(T8)**(-1/2)*n_b**2*np.exp(-const.h*freq/(const.k_B*T))*(conversion_factor**3 * u.m**3 / u.GeV**(-3)))\n",
    "#Eff.to(u.erg/u.cm**3)"
   ]
  },
  {
   "cell_type": "code",
   "execution_count": 197,
   "id": "64779a33",
   "metadata": {},
   "outputs": [
    {
     "data": {
      "text/latex": [
       "$5.6043141 \\times 10^{-26} \\; \\mathrm{\\frac{GeV}{s\\,cm^{3}}}$"
      ],
      "text/plain": [
       "<Quantity 5.60431408e-26 GeV / (cm3 s)>"
      ]
     },
     "execution_count": 197,
     "metadata": {},
     "output_type": "execute_result"
    }
   ],
   "source": [
    "#C=(prefactors*(T)**(-1/2)*n_b**2*(conversion_factor**3 * u.m**3 / u.GeV**(-3))).to(u.GeV/u.cm**3)\n",
    "Eff_int=(C*T*const.k_B/const.h).to(u.GeV/(u.s*u.cm**3))\n",
    "Eff_int"
   ]
  },
  {
   "cell_type": "code",
   "execution_count": 198,
   "id": "84dff12c",
   "metadata": {},
   "outputs": [
    {
     "data": {
      "text/latex": [
       "$6.8970395 \\times 10^{48} \\; \\mathrm{\\frac{GeV}{s}}$"
      ],
      "text/plain": [
       "<Quantity 6.89703947e+48 GeV / s>"
      ]
     },
     "execution_count": 198,
     "metadata": {},
     "output_type": "execute_result"
    }
   ],
   "source": [
    "(V*Eff_int).to(u.GeV/u.s)"
   ]
  },
  {
   "cell_type": "code",
   "execution_count": 127,
   "id": "dbb6eb3c",
   "metadata": {},
   "outputs": [],
   "source": [
    "from load_mcxc_data import load_clusters\n",
    "cluster=load_clusters(1)[0]"
   ]
  },
  {
   "cell_type": "code",
   "execution_count": 128,
   "id": "5f94137c",
   "metadata": {},
   "outputs": [
    {
     "data": {
      "text/latex": [
       "$2.7636058 \\times 10^{52} \\; \\mathrm{\\frac{GeV}{s}}$"
      ],
      "text/plain": [
       "<Quantity 2.76360585e+52 GeV / s>"
      ]
     },
     "execution_count": 128,
     "metadata": {},
     "output_type": "execute_result"
    }
   ],
   "source": [
    "cluster.agn_heating_rate()"
   ]
  },
  {
   "cell_type": "code",
   "execution_count": 129,
   "id": "f91581f7",
   "metadata": {},
   "outputs": [
    {
     "data": {
      "text/latex": [
       "$2.9090467 \\times 10^{46} \\; \\mathrm{\\frac{erg}{s}}$"
      ],
      "text/plain": [
       "<Quantity 2.90904666e+46 erg / s>"
      ]
     },
     "execution_count": 129,
     "metadata": {},
     "output_type": "execute_result"
    }
   ],
   "source": [
    "V=cluster.volume\n",
    "T=cluster.baryon_temp\n",
    "n_b=(cluster.rho_b/cluster.m_b).to(u.cm**(-3))\n",
    "C=(prefactors*(T)**(-1/2)*n_b**2*(conversion_factor**3 * u.m**3 / u.GeV**(-3))).to(u.GeV/u.cm**3)\n",
    "Eff_int=(C*T/const.h).to(u.GeV/(u.s*u.cm**3))\n",
    "(V*Eff_int).to(u.erg/u.s)"
   ]
  },
  {
   "cell_type": "code",
   "execution_count": null,
   "id": "7b6d411e",
   "metadata": {},
   "outputs": [],
   "source": []
  }
 ],
 "metadata": {
  "kernelspec": {
   "display_name": "Python 3 (ipykernel)",
   "language": "python",
   "name": "python3"
  },
  "language_info": {
   "codemirror_mode": {
    "name": "ipython",
    "version": 3
   },
   "file_extension": ".py",
   "mimetype": "text/x-python",
   "name": "python",
   "nbconvert_exporter": "python",
   "pygments_lexer": "ipython3",
   "version": "3.11.5"
  }
 },
 "nbformat": 4,
 "nbformat_minor": 5
}
