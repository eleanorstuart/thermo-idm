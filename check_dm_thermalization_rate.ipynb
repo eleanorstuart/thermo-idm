{
 "cells": [
  {
   "cell_type": "code",
   "execution_count": 13,
   "id": "618a7609",
   "metadata": {},
   "outputs": [
    {
     "name": "stdout",
     "output_type": "stream",
     "text": [
      "The autoreload extension is already loaded. To reload it, use:\n",
      "  %reload_ext autoreload\n"
     ]
    }
   ],
   "source": [
    "%load_ext autoreload\n",
    "%autoreload 2\n",
    "import pickle\n",
    "import pandas as pd\n",
    "import numpy as np\n",
    "from astropy.table import QTable\n",
    "from astropy import units as u\n",
    "import astropy.cosmology.units as cu\n",
    "from astropy import constants as const\n",
    "from matplotlib import pyplot as plt\n",
    "\n",
    "from uncertainties import ufloat\n",
    "from uncertainties.umath import *\n",
    "from uncertainties import unumpy as unp\n",
    "from scipy.optimize import brentq\n",
    "\n",
    "from nfw_profile_heating import NFWProfile\n",
    "\n",
    "from astropy.cosmology import FlatLambdaCDM\n",
    "cosmo=FlatLambdaCDM(70, 0.3)"
   ]
  },
  {
   "cell_type": "code",
   "execution_count": 2,
   "id": "e43648e9",
   "metadata": {},
   "outputs": [
    {
     "name": "stderr",
     "output_type": "stream",
     "text": [
      "/Users/eleanorstuart/Desktop/krisp/thermo-idm/mcxc_clusters_as_nfw.py:12: ParserWarning: Falling back to the 'python' engine because the 'c' engine does not support skipfooter; you can avoid this warning by specifying engine='python'.\n",
      "  mcxccls=pd.read_csv('data/mcxc|.txt', header=3, sep='|', skiprows=[4],on_bad_lines='warn', skipfooter=skipfooter)\n",
      "WARNING: AstropyDeprecationWarning: The truth value of a Quantity is ambiguous. In the future this will raise a ValueError. [astropy.units.quantity]\n"
     ]
    }
   ],
   "source": [
    "from mcxc_clusters_as_nfw import load_clusters\n",
    "nfws = load_clusters()"
   ]
  },
  {
   "cell_type": "code",
   "execution_count": 3,
   "id": "07a43de3",
   "metadata": {},
   "outputs": [
    {
     "data": {
      "text/plain": [
       "(<Quantity 3.5275 1e+14 solMass>,\n",
       " <Quantity 1.0263 Mpc>,\n",
       " <Quantity 2.872451 1e+37 W>)"
      ]
     },
     "execution_count": 3,
     "metadata": {},
     "output_type": "execute_result"
    }
   ],
   "source": [
    "sample_nfw = nfws[10]\n",
    "sample_nfw.M500, sample_nfw.R500, sample_nfw.L500"
   ]
  },
  {
   "cell_type": "code",
   "execution_count": 73,
   "id": "7220feb0",
   "metadata": {},
   "outputs": [],
   "source": [
    "mchi = np.logspace(-4, 0)*u.GeV\n",
    "sigma0 = 1e-27*u.cm**2\n",
    "f_chi = 1\n",
    "n = 0\n",
    "rs = (np.array([0.1,1])*sample_nfw.R500)#np.logspace(-2, 0)*sample_nfw.R500"
   ]
  },
  {
   "cell_type": "code",
   "execution_count": 74,
   "id": "c087b626",
   "metadata": {},
   "outputs": [
    {
     "data": {
      "text/latex": [
       "$6.6121481 \\times 10^{-32} \\; \\mathrm{\\frac{erg}{s\\,cm^{3}}}$"
      ],
      "text/plain": [
       "<Quantity 6.61214809e-32 erg / (cm3 s)>"
      ]
     },
     "execution_count": 74,
     "metadata": {},
     "output_type": "execute_result"
    }
   ],
   "source": [
    "dQR500 = sample_nfw.vol_dm_cooling_rate(rs, sigma0, mchi[20])[-1]\n",
    "dQR500"
   ]
  },
  {
   "cell_type": "code",
   "execution_count": 75,
   "id": "add16f80",
   "metadata": {},
   "outputs": [
    {
     "data": {
      "text/latex": [
       "$8.8376838 \\times 10^{12} \\; \\mathrm{\\frac{M_{\\odot}}{Mpc^{3}}}$"
      ],
      "text/plain": [
       "<Quantity 8.83768379e+12 solMass / Mpc3>"
      ]
     },
     "execution_count": 75,
     "metadata": {},
     "output_type": "execute_result"
    }
   ],
   "source": [
    "rho_g500 = sample_nfw.rho_g(rs)[-1]\n",
    "rho_g500"
   ]
  },
  {
   "cell_type": "code",
   "execution_count": 76,
   "id": "1699cafc",
   "metadata": {},
   "outputs": [
    {
     "data": {
      "text/latex": [
       "$1.0263 \\; \\mathrm{Mpc}$"
      ],
      "text/plain": [
       "<Quantity 1.0263 Mpc>"
      ]
     },
     "execution_count": 76,
     "metadata": {},
     "output_type": "execute_result"
    }
   ],
   "source": [
    "rs[-1]"
   ]
  },
  {
   "cell_type": "code",
   "execution_count": 77,
   "id": "b72280ad",
   "metadata": {},
   "outputs": [
    {
     "data": {
      "text/latex": [
       "$8.4580819 \\times 10^{-31} \\; \\mathrm{\\frac{erg}{s}}$"
      ],
      "text/plain": [
       "<Quantity 8.45808193e-31 erg / s>"
      ]
     },
     "execution_count": 77,
     "metadata": {},
     "output_type": "execute_result"
    }
   ],
   "source": [
    "dm_temp_ev = (dQR500/rho_g500 * mchi[20] * 1/const.c**2).to(u.erg/ (u.s), equivalencies=[u.mass_energy(), u.temperature_energy()])\n",
    "dm_temp_ev"
   ]
  },
  {
   "cell_type": "code",
   "execution_count": 78,
   "id": "b1cff1a4",
   "metadata": {},
   "outputs": [
    {
     "data": {
      "text/latex": [
       "$5.9076531 \\times 10^{-8} \\; \\mathrm{GeV}$"
      ],
      "text/plain": [
       "<Quantity 5.90765307e-08 GeV>"
      ]
     },
     "execution_count": 78,
     "metadata": {},
     "output_type": "execute_result"
    }
   ],
   "source": [
    "Tchi500 = sample_nfw.virial_temperature(rs, mchi[20])[-1]\n",
    "Tchi500"
   ]
  },
  {
   "cell_type": "code",
   "execution_count": 79,
   "id": "46d4ae1b",
   "metadata": {},
   "outputs": [
    {
     "data": {
      "text/latex": [
       "$8.4561777 \\times 10^{-6} \\; \\mathrm{GeV}$"
      ],
      "text/plain": [
       "<Quantity 8.45617769e-06 GeV>"
      ]
     },
     "execution_count": 79,
     "metadata": {},
     "output_type": "execute_result"
    }
   ],
   "source": [
    "Tb500 = sample_nfw.T_g(rs.value)[-1]\n",
    "Tb500"
   ]
  },
  {
   "cell_type": "code",
   "execution_count": 80,
   "id": "90356414",
   "metadata": {},
   "outputs": [
    {
     "data": {
      "text/plain": [
       "(<Quantity 1.98397446e-06 1 / Gyr>, <Quantity 0.00429193 GeV>)"
      ]
     },
     "execution_count": 80,
     "metadata": {},
     "output_type": "execute_result"
    }
   ],
   "source": [
    "dm_therm_rate = (dm_temp_ev/(Tb500 - Tchi500)).to(1/u.Gyr)\n",
    "dm_therm_rate, mchi[20]"
   ]
  },
  {
   "cell_type": "code",
   "execution_count": 82,
   "id": "734db459",
   "metadata": {},
   "outputs": [],
   "source": [
    "def thermalization_rate(nfw, mchi, sigma0):\n",
    "    f_chi = 1\n",
    "    n = 0\n",
    "    rs = (np.array([0.1,1])*sample_nfw.R500)#np.logspace(-2, 0)*sample_nfw.R500\n",
    "    dQR500 = nfw.vol_dm_cooling_rate(rs, sigma0, mchi)[-1]\n",
    "    rho_g500 = nfw.rho_g(rs)[-1]\n",
    "    dm_temp_ev = (dQR500/rho_g500 * mchi * 1/const.c**2).to(u.erg/ (u.s), equivalencies=[u.mass_energy(), u.temperature_energy()])\n",
    "    Tchi500 = nfw.virial_temperature(rs, mchi)[-1]\n",
    "    Tb500 = nfw.T_g(rs.value)[-1]\n",
    "    dm_therm_rate = (dm_temp_ev/(Tb500 - Tchi500)).to(1/u.Gyr)\n",
    "    return dm_therm_rate"
   ]
  },
  {
   "cell_type": "code",
   "execution_count": 88,
   "id": "b7a6c725",
   "metadata": {},
   "outputs": [],
   "source": [
    "therm_rates = [thermalization_rate(sample_nfw, m, sigma0).value for m in mchi]"
   ]
  },
  {
   "cell_type": "code",
   "execution_count": 91,
   "id": "df2907de",
   "metadata": {},
   "outputs": [
    {
     "data": {
      "text/plain": [
       "Text(0.5, 0, 'mchi (GeV)')"
      ]
     },
     "execution_count": 91,
     "metadata": {},
     "output_type": "execute_result"
    },
    {
     "data": {
      "image/png": "[encoded data removed]",
      "text/plain": [
       "<Figure size 640x480 with 1 Axes>"
      ]
     },
     "metadata": {},
     "output_type": "display_data"
    }
   ],
   "source": [
    "plt.loglog(mchi, therm_rates)\n",
    "plt.ylabel('dm thermalization rate (1/Gyr)')\n",
    "plt.xlabel('mchi (GeV)')"
   ]
  },
  {
   "cell_type": "code",
   "execution_count": null,
   "id": "7e257fc6",
   "metadata": {},
   "outputs": [],
   "source": []
  }
 ],
 "metadata": {
  "kernelspec": {
   "display_name": "Python 3 (ipykernel)",
   "language": "python",
   "name": "python3"
  },
  "language_info": {
   "codemirror_mode": {
    "name": "ipython",
    "version": 3
   },
   "file_extension": ".py",
   "mimetype": "text/x-python",
   "name": "python",
   "nbconvert_exporter": "python",
   "pygments_lexer": "ipython3",
   "version": "3.11.5"
  }
 },
 "nbformat": 4,
 "nbformat_minor": 5
}
