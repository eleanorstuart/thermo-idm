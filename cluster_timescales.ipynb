{
 "cells": [
  {
   "cell_type": "code",
   "execution_count": 4,
   "id": "871a07dc",
   "metadata": {},
   "outputs": [
    {
     "name": "stdout",
     "output_type": "stream",
     "text": [
      "The autoreload extension is already loaded. To reload it, use:\n",
      "  %reload_ext autoreload\n"
     ]
    }
   ],
   "source": [
    "%load_ext autoreload\n",
    "%autoreload 2\n",
    "import numpy as np\n",
    "from matplotlib import pyplot as plt\n",
    "from astropy import units as u\n",
    "from astropy import constants as const\n",
    "\n",
    "from load_mcxc_data import load_clusters\n",
    "from equilibrium_functions import equil, radiative_cooling_rate, dm_cooling_rate"
   ]
  },
  {
   "cell_type": "code",
   "execution_count": 5,
   "id": "7f0ce644",
   "metadata": {},
   "outputs": [],
   "source": [
    "clusters, variances=load_clusters(10, dataset='REFLEX')\n",
    "cls=clusters[0]\n",
    "M=cls.mass\n",
    "R=cls.radius"
   ]
  },
  {
   "cell_type": "code",
   "execution_count": 17,
   "id": "f49e0d8b",
   "metadata": {},
   "outputs": [],
   "source": [
    "def dynamical_time(M, R): # from GFE\n",
    "    rho=((3*M)/(4*np.pi*R**3)).to(u.kg/u.m**3)\n",
    "    t_dyn = np.sqrt(3*np.pi/(16*const.G*rho))\n",
    "    return t_dyn.to(u.Gyr, equivalencies=u.mass_energy())"
   ]
  },
  {
   "cell_type": "code",
   "execution_count": 20,
   "id": "7695cead",
   "metadata": {},
   "outputs": [],
   "source": [
    "def free_fall_time(M, R): # from GFE\n",
    "    return dynamical_time(M, R)/np.sqrt(2)"
   ]
  },
  {
   "cell_type": "code",
   "execution_count": null,
   "id": "69eb66ab",
   "metadata": {},
   "outputs": [],
   "source": [
    "def relaxation_time()"
   ]
  },
  {
   "cell_type": "code",
   "execution_count": 29,
   "id": "00f54cc6",
   "metadata": {},
   "outputs": [],
   "source": [
    "def cooling_time(cluster):\n",
    "    n=cluster.mass/cluster.m_b\n",
    "    t_cool = (3/2 * cluster.baryon_temp) / (cluster.radiative_cooling_rate()/n)\n",
    "    return t_cool.to(u.Gyr)"
   ]
  },
  {
   "cell_type": "code",
   "execution_count": 30,
   "id": "bfdce42f",
   "metadata": {},
   "outputs": [
    {
     "name": "stdout",
     "output_type": "stream",
     "text": [
      "1.235706752415526 Gyr\n",
      "0.8737766241910246 Gyr\n",
      "998.197707750736 Gyr\n"
     ]
    }
   ],
   "source": [
    "print(dynamical_time(M, R))\n",
    "print(free_fall_time(M, R))\n",
    "print(cooling_time(cls)) #\"If the cooling time is longer than the dynamical time, hot gas will typically be in hydrostatic equilibrium\""
   ]
  },
  {
   "cell_type": "code",
   "execution_count": 32,
   "id": "72cffef9",
   "metadata": {},
   "outputs": [
    {
     "ename": "AttributeError",
     "evalue": "'ClusterTimescales' object has no attribute 'vel_disp'",
     "output_type": "error",
     "traceback": [
      "\u001b[0;31m---------------------------------------------------------------------------\u001b[0m",
      "\u001b[0;31mAttributeError\u001b[0m                            Traceback (most recent call last)",
      "Cell \u001b[0;32mIn[32], line 2\u001b[0m\n\u001b[1;32m      1\u001b[0m \u001b[38;5;28;01mfrom\u001b[39;00m \u001b[38;5;21;01mcluster_timescales\u001b[39;00m \u001b[38;5;28;01mimport\u001b[39;00m ClusterTimescales\n\u001b[0;32m----> 2\u001b[0m cls_ts \u001b[38;5;241m=\u001b[39m ClusterTimescales(R, M, \u001b[38;5;28mcls\u001b[39m\u001b[38;5;241m.\u001b[39mL500)\n",
      "File \u001b[0;32m<string>:7\u001b[0m, in \u001b[0;36m__init__\u001b[0;34m(self, radius, mass, luminosity, fb)\u001b[0m\n",
      "File \u001b[0;32m~/Desktop/krisp/thermo-idm/cluster_timescales.py:15\u001b[0m, in \u001b[0;36mClusterTimescales.__post_init__\u001b[0;34m(self)\u001b[0m\n\u001b[1;32m     13\u001b[0m \u001b[38;5;28;01mdef\u001b[39;00m \u001b[38;5;21m__post_init__\u001b[39m(\u001b[38;5;28mself\u001b[39m):\n\u001b[1;32m     14\u001b[0m     \u001b[38;5;28mself\u001b[39m\u001b[38;5;241m.\u001b[39mmass \u001b[38;5;241m=\u001b[39m \u001b[38;5;28mself\u001b[39m\u001b[38;5;241m.\u001b[39mmass\u001b[38;5;241m.\u001b[39mto(u\u001b[38;5;241m.\u001b[39mGeV)  \u001b[38;5;66;03m# total mass\u001b[39;00m\n\u001b[0;32m---> 15\u001b[0m     \u001b[38;5;28mself\u001b[39m\u001b[38;5;241m.\u001b[39mbaryon_temp \u001b[38;5;241m=\u001b[39m temp_from_vdisp(\u001b[38;5;28mself\u001b[39m\u001b[38;5;241m.\u001b[39mvel_disp)\n\u001b[1;32m     16\u001b[0m     \u001b[38;5;28mself\u001b[39m\u001b[38;5;241m.\u001b[39mN_b \u001b[38;5;241m=\u001b[39m \u001b[38;5;28mself\u001b[39m\u001b[38;5;241m.\u001b[39mfb\u001b[38;5;241m*\u001b[39m\u001b[38;5;28mself\u001b[39m\u001b[38;5;241m.\u001b[39mmass\u001b[38;5;241m/\u001b[39mconst\u001b[38;5;241m.\u001b[39mm_p\u001b[38;5;241m.\u001b[39mto(u\u001b[38;5;241m.\u001b[39mGeV) \u001b[38;5;66;03m# number of baryons (might need to be 2x this?)\u001b[39;00m\n\u001b[1;32m     17\u001b[0m     \u001b[38;5;28mself\u001b[39m\u001b[38;5;241m.\u001b[39mvolume \u001b[38;5;241m=\u001b[39m \u001b[38;5;241m4\u001b[39m \u001b[38;5;241m/\u001b[39m \u001b[38;5;241m3\u001b[39m \u001b[38;5;241m*\u001b[39m np\u001b[38;5;241m.\u001b[39mpi \u001b[38;5;241m*\u001b[39m \u001b[38;5;28mself\u001b[39m\u001b[38;5;241m.\u001b[39mradius\u001b[38;5;241m*\u001b[39m\u001b[38;5;241m*\u001b[39m\u001b[38;5;241m3\u001b[39m\n",
      "\u001b[0;31mAttributeError\u001b[0m: 'ClusterTimescales' object has no attribute 'vel_disp'"
     ]
    }
   ],
   "source": [
    "from cluster_timescales import ClusterTimescales\n",
    "cls_ts = ClusterTimescales(R, M, cls.L500)"
   ]
  },
  {
   "cell_type": "code",
   "execution_count": null,
   "id": "a68c044d",
   "metadata": {},
   "outputs": [],
   "source": []
  }
 ],
 "metadata": {
  "kernelspec": {
   "display_name": "Python 3 (ipykernel)",
   "language": "python",
   "name": "python3"
  },
  "language_info": {
   "codemirror_mode": {
    "name": "ipython",
    "version": 3
   },
   "file_extension": ".py",
   "mimetype": "text/x-python",
   "name": "python",
   "nbconvert_exporter": "python",
   "pygments_lexer": "ipython3",
   "version": "3.11.5"
  }
 },
 "nbformat": 4,
 "nbformat_minor": 5
}
