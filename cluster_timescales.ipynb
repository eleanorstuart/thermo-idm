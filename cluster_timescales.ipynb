{
 "cells": [
  {
   "cell_type": "code",
   "execution_count": 4,
   "id": "0503cbfe",
   "metadata": {},
   "outputs": [
    {
     "name": "stdout",
     "output_type": "stream",
     "text": [
      "The autoreload extension is already loaded. To reload it, use:\n",
      "  %reload_ext autoreload\n"
     ]
    }
   ],
   "source": [
    "%load_ext autoreload\n",
    "%autoreload 2\n",
    "import numpy as np\n",
    "from matplotlib import pyplot as plt\n",
    "from astropy import units as u\n",
    "from astropy import constants as const\n",
    "\n",
    "from load_mcxc_data import load_clusters\n",
    "from equilibrium_functions import equil, radiative_cooling_rate, dm_cooling_rate"
   ]
  },
  {
   "cell_type": "code",
   "execution_count": 5,
   "id": "0e7f80cf",
   "metadata": {},
   "outputs": [],
   "source": [
    "clusters, variances=load_clusters(10, dataset='REFLEX')\n",
    "cls=clusters[0]\n",
    "M=cls.mass\n",
    "R=cls.radius"
   ]
  },
  {
   "cell_type": "code",
   "execution_count": 17,
   "id": "62d7d04b",
   "metadata": {},
   "outputs": [],
   "source": [
    "def dynamical_time(M, R): # from GFE\n",
    "    rho=((3*M)/(4*np.pi*R**3)).to(u.kg/u.m**3)\n",
    "    t_dyn = np.sqrt(3*np.pi/(16*const.G*rho))\n",
    "    return t_dyn.to(u.Gyr, equivalencies=u.mass_energy())"
   ]
  },
  {
   "cell_type": "code",
   "execution_count": 20,
   "id": "1f254f46",
   "metadata": {},
   "outputs": [],
   "source": [
    "def free_fall_time(M, R): # from GFE\n",
    "    return dynamical_time(M, R)/np.sqrt(2)"
   ]
  },
  {
   "cell_type": "code",
   "execution_count": null,
   "id": "1b1b73fa",
   "metadata": {},
   "outputs": [],
   "source": [
    "def relaxation_time()"
   ]
  },
  {
   "cell_type": "code",
   "execution_count": 29,
   "id": "c74251f7",
   "metadata": {},
   "outputs": [],
   "source": [
    "def cooling_time(cluster):\n",
    "    n=cluster.mass/cluster.m_b\n",
    "    t_cool = (3/2 * cluster.baryon_temp) / (cluster.radiative_cooling_rate()/n)\n",
    "    return t_cool.to(u.Gyr)"
   ]
  },
  {
   "cell_type": "code",
   "execution_count": 30,
   "id": "2e2a0b9a",
   "metadata": {},
   "outputs": [
    {
     "name": "stdout",
     "output_type": "stream",
     "text": [
      "1.235706752415526 Gyr\n",
      "0.8737766241910246 Gyr\n",
      "998.197707750736 Gyr\n"
     ]
    }
   ],
   "source": [
    "print(dynamical_time(M, R))\n",
    "print(free_fall_time(M, R))\n",
    "print(cooling_time(cls)) #\"If the cooling time is longer than the dynamical time, hot gas will typically be in hydrostatic equilibrium\""
   ]
  },
  {
   "cell_type": "code",
   "execution_count": 35,
   "id": "db2aca36",
   "metadata": {},
   "outputs": [
    {
     "name": "stdout",
     "output_type": "stream",
     "text": [
      "1.235706752415526 Gyr\n",
      "0.8737766241910246 Gyr\n",
      "99.81977077507358 Gyr\n"
     ]
    }
   ],
   "source": [
    "from cluster_timescales import ClusterTimescales\n",
    "timescales = ClusterTimescales(R, M, cls.L500)\n",
    "print(timescales.dynamical_time())\n",
    "print(timescales.free_fall_time())\n",
    "print(timescales.cooling_time())"
   ]
  },
  {
   "cell_type": "code",
   "execution_count": 37,
   "id": "eec95e76",
   "metadata": {},
   "outputs": [
    {
     "data": {
      "text/latex": [
       "$7.8962922 \\times 10^{10} \\; \\mathrm{M_{\\odot}}$"
      ],
      "text/plain": [
       "<Quantity 7.89629216e+10 solMass>"
      ]
     },
     "execution_count": 37,
     "metadata": {},
     "output_type": "execute_result"
    }
   ],
   "source": [
    "cls.get_bh_mass()"
   ]
  },
  {
   "cell_type": "code",
   "execution_count": null,
   "id": "424d6887",
   "metadata": {},
   "outputs": [],
   "source": []
  }
 ],
 "metadata": {
  "kernelspec": {
   "display_name": "Python 3 (ipykernel)",
   "language": "python",
   "name": "python3"
  },
  "language_info": {
   "codemirror_mode": {
    "name": "ipython",
    "version": 3
   },
   "file_extension": ".py",
   "mimetype": "text/x-python",
   "name": "python",
   "nbconvert_exporter": "python",
   "pygments_lexer": "ipython3",
   "version": "3.11.5"
  }
 },
 "nbformat": 4,
 "nbformat_minor": 5
}
