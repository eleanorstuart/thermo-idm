{
 "cells": [
  {
   "cell_type": "code",
   "execution_count": 190,
   "id": "7ee5939b",
   "metadata": {},
   "outputs": [],
   "source": [
    "import emcee\n",
    "import corner\n",
    "import numpy as np\n",
    "\n",
    "from astropy import units as u\n",
    "from astropy import constants as const\n",
    "from matplotlib import pyplot as plt\n",
    "from scipy.optimize import root, brentq\n",
    "\n",
    "from load_mcxc_data import load_clusters\n",
    "from cluster_functions import c\n",
    "from statistics_functions import chi_squared"
   ]
  },
  {
   "cell_type": "code",
   "execution_count": 181,
   "id": "e83b77d0",
   "metadata": {},
   "outputs": [],
   "source": [
    "clusters, variances=load_clusters(nrows=20)"
   ]
  },
  {
   "cell_type": "code",
   "execution_count": 164,
   "id": "2df2b3d0",
   "metadata": {},
   "outputs": [],
   "source": [
    "cls=clusters[5]"
   ]
  },
  {
   "cell_type": "code",
   "execution_count": 165,
   "id": "72dda1a4",
   "metadata": {},
   "outputs": [],
   "source": [
    "def radiative_cooling_rate(T_b, cluster):\n",
    "    prefactors=6.8*1e-42 *u.erg*u.cm**3\n",
    "    Z=1\n",
    "    T=T_b.to(u.K, equivalencies=u.temperature_energy())#self.baryon_temp.to(u.K, equivalencies=u.temperature_energy())\n",
    "    T8=T/(1e8*u.K)\n",
    "    C=(prefactors*Z**2*(cluster.n_e.to(u.cm**-3))**2)/(T8**(1/2))\n",
    "    Eff_int = (C*T*const.k_B/const.h).to(u.GeV/(u.s*u.cm**3))\n",
    "    return (cluster.volume*Eff_int).to(u.erg/u.s)"
   ]
  },
  {
   "cell_type": "code",
   "execution_count": 166,
   "id": "4168bc71",
   "metadata": {},
   "outputs": [],
   "source": [
    "def agn_heating_rate(T_b, cluster):\n",
    "    with u.set_enabled_equivalencies(u.mass_energy()):\n",
    "        return (cluster.epsilon * accretion_rate(T_b, cluster)).to(\n",
    "            u.GeV / u.s, equivalencies=u.temperature_energy())"
   ]
  },
  {
   "cell_type": "code",
   "execution_count": 167,
   "id": "94f6a374",
   "metadata": {},
   "outputs": [],
   "source": [
    "def accretion_rate(T_b, cluster):\n",
    "    with u.set_enabled_equivalencies(u.mass_energy()):\n",
    "        leading_factors = cluster.norm * 4 * np.pi * const.c**-3\n",
    "        gm2 = (const.G * cluster.bh_mass) ** 2\n",
    "        frac = (cluster.mu * cluster.m_b) ** (5 / 2) / cluster.adiabatic_idx ** (3 / 2)\n",
    "        return leading_factors * gm2 * frac * plasma_entropy(T_b, cluster) ** (-3 / 2)"
   ]
  },
  {
   "cell_type": "code",
   "execution_count": 168,
   "id": "c24b2184",
   "metadata": {},
   "outputs": [],
   "source": [
    "def plasma_entropy(T_b, cluster):\n",
    "    baryon_number_density = (2 * cluster.n_e).to(u.m ** (-3))\n",
    "    return (const.k_B * T_b.to(u.K, equivalencies=u.temperature_energy())\n",
    "        ).to(u.GeV) / baryon_number_density ** (cluster.adiabatic_idx - 1)"
   ]
  },
  {
   "cell_type": "code",
   "execution_count": 169,
   "id": "c43754eb",
   "metadata": {},
   "outputs": [],
   "source": [
    "def dm_cooling_rate(T_b, cluster, s0, m_chi=1e-2*u.GeV, n=0, f_chi=1, m_psi=0.1*u.GeV):\n",
    "    dm_temp = cluster.virial_temperature(m_chi, f_chi=f_chi, m_psi=m_psi)\n",
    "    uth = np.sqrt(T_b / cluster.m_b + dm_temp / m_chi)\n",
    "    rho_chi = cluster.rho_dm * f_chi\n",
    "\n",
    "    denominator = (m_chi + cluster.m_b) ** 2\n",
    "    numerator = (\n",
    "            3\n",
    "            * (T_b - dm_temp)\n",
    "            * rho_chi\n",
    "            * cluster.rho_b\n",
    "            * cluster.volume.to(u.cm**3)\n",
    "            * c(n)\n",
    "            * uth ** (n + 1)\n",
    "            * (const.c.to(u.cm / u.s))\n",
    "            *s0\n",
    "        \n",
    "        )\n",
    "    \n",
    "    conversion_factor = 0.197*1e-15 * (u.GeV * u.m)\n",
    "    return (numerator / denominator).to(u.erg/u.s)\n",
    "    "
   ]
  },
  {
   "cell_type": "code",
   "execution_count": 170,
   "id": "75ab28cd",
   "metadata": {},
   "outputs": [
    {
     "data": {
      "text/latex": [
       "$2.5205532 \\times 10^{43} \\; \\mathrm{\\frac{erg}{s}}$"
      ],
      "text/plain": [
       "<Quantity 2.52055321e+43 erg / s>"
      ]
     },
     "execution_count": 170,
     "metadata": {},
     "output_type": "execute_result"
    }
   ],
   "source": [
    "s0=1e-25*u.cm**2\n",
    "dm_cooling_rate(cls.baryon_temp, cls, s0)"
   ]
  },
  {
   "cell_type": "code",
   "execution_count": 171,
   "id": "1d25c3c8",
   "metadata": {},
   "outputs": [
    {
     "data": {
      "text/latex": [
       "$2.761408 \\times 10^{43} \\; \\mathrm{\\frac{erg}{s}}$"
      ],
      "text/plain": [
       "<Quantity 2.76140798e+43 erg / s>"
      ]
     },
     "execution_count": 171,
     "metadata": {},
     "output_type": "execute_result"
    }
   ],
   "source": [
    "radiative_cooling_rate(cls.baryon_temp, cls)"
   ]
  },
  {
   "cell_type": "code",
   "execution_count": 172,
   "id": "ebd54bf8",
   "metadata": {},
   "outputs": [
    {
     "data": {
      "text/latex": [
       "$7.7732003 \\times 10^{49} \\; \\mathrm{\\frac{erg}{s}}$"
      ],
      "text/plain": [
       "<Quantity 7.77320035e+49 erg / s>"
      ]
     },
     "execution_count": 172,
     "metadata": {},
     "output_type": "execute_result"
    }
   ],
   "source": [
    "agn_heating_rate(cls.baryon_temp, cls).to(u.erg/u.s)"
   ]
  },
  {
   "cell_type": "code",
   "execution_count": 383,
   "id": "d13e82d9",
   "metadata": {},
   "outputs": [],
   "source": [
    "def equil(logT_b, cluster, p0):\n",
    "    #divide agn_heating_rate by 1e9 to put it at the same oom as the cooling\n",
    "    s0=10**p0 * u.cm**2\n",
    "    T_b=10**(logT_b)*u.GeV\n",
    "    \n",
    "    #print(T_b, agn_heating_rate(T_b, cluster)/1e6 - dm_cooling_rate(T_b, cluster, s0) - radiative_cooling_rate(T_b, cluster))\n",
    "    #print((agn_heating_rate(T_b, cluster)/1e5).to(u.erg/u.s), dm_cooling_rate(T_b, cluster, s0), radiative_cooling_rate(T_b, cluster))\n",
    "    return ((agn_heating_rate(T_b, cluster)/1e5).to(u.erg/u.s) - dm_cooling_rate(T_b, cluster, s0) - radiative_cooling_rate(T_b, cluster)).value"
   ]
  },
  {
   "cell_type": "code",
   "execution_count": 384,
   "id": "757a2ae9",
   "metadata": {},
   "outputs": [
    {
     "data": {
      "text/plain": [
       "2.0629352803307662e+45"
      ]
     },
     "execution_count": 384,
     "metadata": {},
     "output_type": "execute_result"
    }
   ],
   "source": [
    "#np.log10(cls.baryon_temp.value)\n",
    "equil(-6, cls, -25)\n"
   ]
  },
  {
   "cell_type": "code",
   "execution_count": 387,
   "id": "4140ba8a",
   "metadata": {},
   "outputs": [
    {
     "data": {
      "text/plain": [
       "[<matplotlib.lines.Line2D at 0x13e850d10>]"
      ]
     },
     "execution_count": 387,
     "metadata": {},
     "output_type": "execute_result"
    },
    {
     "data": {
      "image/png": "[encoded data removed]",
      "text/plain": [
       "<Figure size 640x480 with 1 Axes>"
      ]
     },
     "metadata": {},
     "output_type": "display_data"
    }
   ],
   "source": [
    "plt.plot(log_Tbs, equil(log_Tbs, cls, -25))"
   ]
  },
  {
   "cell_type": "code",
   "execution_count": 419,
   "id": "82bc19b7",
   "metadata": {},
   "outputs": [
    {
     "data": {
      "text/plain": [
       "<matplotlib.legend.Legend at 0x13ef23050>"
      ]
     },
     "execution_count": 419,
     "metadata": {},
     "output_type": "execute_result"
    },
    {
     "data": {
      "image/png": "[encoded data removed]",
      "text/plain": [
       "<Figure size 640x480 with 1 Axes>"
      ]
     },
     "metadata": {},
     "output_type": "display_data"
    }
   ],
   "source": [
    "log_Tbs=np.linspace(-10, 10)\n",
    "\n",
    "plt.yscale('symlog')\n",
    "#plt.xscale('log')\n",
    "plt.xlim(-10,10)\n",
    "plt.plot([-10,10], [0,0], color='black', label='equilibrium line')\n",
    "\n",
    "plt.plot(log_Tbs, equil(log_Tbs, cls, -40), label='sig0=1e-40 cm^2')\n",
    "plt.plot(log_Tbs, equil(log_Tbs, cls, -25), label='sig0=1e-25 cm^2')\n",
    "plt.plot(log_Tbs, equil(log_Tbs, cls, -23.9), label='sig0=1e-23.9 cm^2')\n",
    "plt.scatter(np.log10(cls.baryon_temp.value),0, color='red', label='actual cluster temperature')\n",
    "plt.legend()"
   ]
  },
  {
   "cell_type": "code",
   "execution_count": 304,
   "id": "d60ee36b",
   "metadata": {},
   "outputs": [
    {
     "data": {
      "text/plain": [
       "<matplotlib.legend.Legend at 0x1381fdd10>"
      ]
     },
     "execution_count": 304,
     "metadata": {},
     "output_type": "execute_result"
    },
    {
     "data": {
      "image/png": "[encoded data removed]",
      "text/plain": [
       "<Figure size 640x480 with 1 Axes>"
      ]
     },
     "metadata": {},
     "output_type": "display_data"
    }
   ],
   "source": [
    "#T_b = np.logspace(-8, -5)*u.GeV\n",
    "#s0=1e-25*u.cm**2\n",
    "\n",
    "log_Tbs=np.linspace(-10, 10)\n",
    "\n",
    "#plt.loglog()\n",
    "plt.yscale('symlog')\n",
    "plt.xscale('log')\n",
    "\n",
    "plt.xlabel('T_b (GeV)')\n",
    "plt.ylabel('net heating rate (erg/s)')\n",
    "\n",
    "plt.plot(log_Tbs, equil(log_Tbs, cls, -40), label='sig0=1e-40 cm^2')\n",
    "plt.plot(log_Tbs, equil(log_Tbs, cls, -25), label='sig0=1e-25 cm^2')\n",
    "plt.plot(log_Tbs, equil(log_Tbs, cls, -30), label='sig0=1e-30 cm^2') #any lower sig0 value is basically the same as this line\n",
    "#plt.plot(T_b, equil(T_b, cls, 1e-40*u.cm**2), label='sig0=1e-40 cm^2')\n",
    "\n",
    "#plt.plot(log_Tbs, agn_heating_rate(10**log_Tbs*u.GeV, cls)/1e6)\n",
    "\n",
    "plt.plot([3*1e-7,1e-5], [0,0], color='black', label='equilibrium line')\n",
    "plt.scatter(cls.baryon_temp,0, color='red', label='actual cluster temperature')\n",
    "plt.legend()"
   ]
  },
  {
   "cell_type": "code",
   "execution_count": 249,
   "id": "ad625726",
   "metadata": {},
   "outputs": [
    {
     "data": {
      "text/latex": [
       "$[-1.9845631 \\times 10^{42},~-2.1294976 \\times 10^{42},~-2.2850168 \\times 10^{42},~-2.4518937 \\times 10^{42},~-2.6309578 \\times 10^{42},~-2.8230991 \\times 10^{42},~-3.0292727 \\times 10^{42},~-3.2505034 \\times 10^{42},~-3.4878907 \\times 10^{42},~-3.7426146 \\times 10^{42},~-4.0159413 \\times 10^{42},~-4.3092293 \\times 10^{42},~-4.6239363 \\times 10^{42},~-4.9616267 \\times 10^{42},~-5.323979 \\times 10^{42},~-5.7127942 \\times 10^{42},~-6.1300049 \\times 10^{42},~-6.577685 \\times 10^{42},~-7.0580595 \\times 10^{42},~-7.5735162 \\times 10^{42},~-8.1266172 \\times 10^{42},~-8.7201117 \\times 10^{42},~-9.3569497 \\times 10^{42},~-1.0040297 \\times 10^{43},~-1.0773549 \\times 10^{43},~-1.1560351 \\times 10^{43},~-1.2404615 \\times 10^{43},~-1.3310535 \\times 10^{43},~-1.4282616 \\times 10^{43},~-1.5325689 \\times 10^{43},~-1.6444938 \\times 10^{43},~-1.7645928 \\times 10^{43},~-1.8934627 \\times 10^{43},~-2.031744 \\times 10^{43},~-2.1801242 \\times 10^{43},~-2.3393407 \\times 10^{43},~-2.510185 \\times 10^{43},~-2.6935061 \\times 10^{43},~-2.8902154 \\times 10^{43},~-3.1012906 \\times 10^{43},~-3.3277807 \\times 10^{43},~-3.5708117 \\times 10^{43},~-3.8315914 \\times 10^{43},~-4.1114161 \\times 10^{43},~-4.4116767 \\times 10^{43},~-4.7338656 \\times 10^{43},~-5.0795843 \\times 10^{43},~-5.4505511 \\times 10^{43},~-5.84861 \\times 10^{43},~-6.2757395 \\times 10^{43}] \\; \\mathrm{\\frac{erg}{s}}$"
      ],
      "text/plain": [
       "<Quantity [-1.98456307e+42, -2.12949758e+42, -2.28501679e+42,\n",
       "           -2.45189372e+42, -2.63095782e+42, -2.82309915e+42,\n",
       "           -3.02927273e+42, -3.25050337e+42, -3.48789069e+42,\n",
       "           -3.74261463e+42, -4.01594129e+42, -4.30922926e+42,\n",
       "           -4.62393633e+42, -4.96162675e+42, -5.32397901e+42,\n",
       "           -5.71279421e+42, -6.13000494e+42, -6.57768497e+42,\n",
       "           -7.05805949e+42, -7.57351621e+42, -8.12661722e+42,\n",
       "           -8.72011172e+42, -9.35694968e+42, -1.00402965e+43,\n",
       "           -1.07735488e+43, -1.15603512e+43, -1.24046145e+43,\n",
       "           -1.33105352e+43, -1.42826161e+43, -1.53256890e+43,\n",
       "           -1.64449385e+43, -1.76459278e+43, -1.89346265e+43,\n",
       "           -2.03174401e+43, -2.18012419e+43, -2.33934071e+43,\n",
       "           -2.51018496e+43, -2.69350613e+43, -2.89021541e+43,\n",
       "           -3.10129056e+43, -3.32778073e+43, -3.57081168e+43,\n",
       "           -3.83159142e+43, -4.11141614e+43, -4.41167673e+43,\n",
       "           -4.73386563e+43, -5.07958429e+43, -5.45055111e+43,\n",
       "           -5.84860999e+43, -6.27573947e+43] erg / s>"
      ]
     },
     "execution_count": 249,
     "metadata": {},
     "output_type": "execute_result"
    }
   ],
   "source": [
    "ys = (agn_heating_rate(10**log_Tbs*u.GeV, cls)/1e6).to(u.erg/u.s) \n",
    "- dm_cooling_rate(10**log_Tbs*u.GeV, cls, 10**-25 * u.cm**2) \n",
    "- radiative_cooling_rate(10**log_Tbs*u.GeV, cls)"
   ]
  },
  {
   "cell_type": "code",
   "execution_count": null,
   "id": "eddf56be",
   "metadata": {},
   "outputs": [],
   "source": [
    "plt.plot(log_Tbs)"
   ]
  },
  {
   "cell_type": "code",
   "execution_count": 243,
   "id": "cb5b5408",
   "metadata": {},
   "outputs": [
    {
     "data": {
      "text/latex": [
       "$[-1.2846064 \\times 10^{41},~-1.1393099 \\times 10^{41},~-9.7189206 \\times 10^{40},~-7.7896325 \\times 10^{40},~-5.5660782 \\times 10^{40},~-3.0029991 \\times 10^{40},~-4.8055215 \\times 10^{38},~3.359321 \\times 10^{40},~7.2892683 \\times 10^{40},~1.1823074 \\times 10^{41},~1.7055036 \\times 10^{41},~2.3094651 \\times 10^{41},~3.006922 \\times 10^{41},~3.812693 \\times 10^{41},~4.744053 \\times 10^{41},~5.821173 \\times 10^{41},~7.0676468 \\times 10^{41},~8.511126 \\times 10^{41},~1.0184086 \\times 10^{42},~1.2124757 \\times 10^{42},~1.4378253 \\times 10^{42},~1.6997952 \\times 10^{42},~2.0047186 \\times 10^{42},~2.3601319 \\times 10^{42},~2.7750298 \\times 10^{42},~3.2601805 \\times 10^{42},~3.8285157 \\times 10^{42},~4.4956124 \\times 10^{42},~5.280291 \\times 10^{42},~6.2053564 \\times 10^{42},~7.2985167 \\times 10^{42},~8.5935236 \\times 10^{42},~1.0131586 \\times 10^{43},~1.1963122 \\times 10^{43},~1.4149928 \\times 10^{43},~1.6767863 \\times 10^{43},~1.9910172 \\times 10^{43},~2.369159 \\times 10^{43},~2.8253414 \\times 10^{43},~3.3769766 \\times 10^{43},~4.0455328 \\times 10^{43},~4.8574889 \\times 10^{43},~5.8455134 \\times 10^{43},~7.0499191 \\times 10^{43},~8.5204604 \\times 10^{43},~1.0318551 \\times 10^{44},~1.2520006 \\times 10^{44},~1.5218421 \\times 10^{44},~1.8529357 \\times 10^{44},~2.25955 \\times 10^{44}] \\; \\mathrm{\\frac{erg}{s}}$"
      ],
      "text/plain": [
       "<Quantity [-1.28460637e+41, -1.13930995e+41, -9.71892058e+40,\n",
       "           -7.78963252e+40, -5.56607824e+40, -3.00299913e+40,\n",
       "           -4.80552147e+38,  3.35932104e+40,  7.28926825e+40,\n",
       "            1.18230745e+41,  1.70550359e+41,  2.30946512e+41,\n",
       "            3.00692203e+41,  3.81269299e+41,  4.74405302e+41,\n",
       "            5.82117300e+41,  7.06764682e+41,  8.51112601e+41,\n",
       "            1.01840864e+42,  1.21247574e+42,  1.43782529e+42,\n",
       "            1.69979516e+42,  2.00471862e+42,  2.36013195e+42,\n",
       "            2.77502981e+42,  3.26018052e+42,  3.82851566e+42,\n",
       "            4.49561237e+42,  5.28029104e+42,  6.20535640e+42,\n",
       "            7.29851667e+42,  8.59352365e+42,  1.01315862e+43,\n",
       "            1.19631222e+43,  1.41499277e+43,  1.67678628e+43,\n",
       "            1.99101719e+43,  2.36915901e+43,  2.82534138e+43,\n",
       "            3.37697657e+43,  4.04553276e+43,  4.85748889e+43,\n",
       "            5.84551335e+43,  7.04991911e+43,  8.52046042e+43,\n",
       "            1.03185514e+44,  1.25200057e+44,  1.52184206e+44,\n",
       "            1.85293565e+44,  2.25955003e+44] erg / s>"
      ]
     },
     "execution_count": 243,
     "metadata": {},
     "output_type": "execute_result"
    }
   ],
   "source": [
    "dm_cooling_rate(10**log_Tbs*u.GeV, cls, 10**-25 * u.cm**2)"
   ]
  },
  {
   "cell_type": "code",
   "execution_count": 245,
   "id": "c84f21a9",
   "metadata": {},
   "outputs": [
    {
     "data": {
      "text/latex": [
       "$[1.9845631 \\times 10^{42},~2.1294976 \\times 10^{42},~2.2850168 \\times 10^{42},~2.4518937 \\times 10^{42},~2.6309578 \\times 10^{42},~2.8230991 \\times 10^{42},~3.0292727 \\times 10^{42},~3.2505034 \\times 10^{42},~3.4878907 \\times 10^{42},~3.7426146 \\times 10^{42},~4.0159413 \\times 10^{42},~4.3092293 \\times 10^{42},~4.6239363 \\times 10^{42},~4.9616267 \\times 10^{42},~5.323979 \\times 10^{42},~5.7127942 \\times 10^{42},~6.1300049 \\times 10^{42},~6.577685 \\times 10^{42},~7.0580595 \\times 10^{42},~7.5735162 \\times 10^{42},~8.1266172 \\times 10^{42},~8.7201117 \\times 10^{42},~9.3569497 \\times 10^{42},~1.0040297 \\times 10^{43},~1.0773549 \\times 10^{43},~1.1560351 \\times 10^{43},~1.2404615 \\times 10^{43},~1.3310535 \\times 10^{43},~1.4282616 \\times 10^{43},~1.5325689 \\times 10^{43},~1.6444938 \\times 10^{43},~1.7645928 \\times 10^{43},~1.8934627 \\times 10^{43},~2.031744 \\times 10^{43},~2.1801242 \\times 10^{43},~2.3393407 \\times 10^{43},~2.510185 \\times 10^{43},~2.6935061 \\times 10^{43},~2.8902154 \\times 10^{43},~3.1012906 \\times 10^{43},~3.3277807 \\times 10^{43},~3.5708117 \\times 10^{43},~3.8315914 \\times 10^{43},~4.1114161 \\times 10^{43},~4.4116767 \\times 10^{43},~4.7338656 \\times 10^{43},~5.0795843 \\times 10^{43},~5.4505511 \\times 10^{43},~5.84861 \\times 10^{43},~6.2757395 \\times 10^{43}] \\; \\mathrm{\\frac{erg}{s}}$"
      ],
      "text/plain": [
       "<Quantity [1.98456307e+42, 2.12949758e+42, 2.28501679e+42, 2.45189372e+42,\n",
       "           2.63095782e+42, 2.82309915e+42, 3.02927273e+42, 3.25050337e+42,\n",
       "           3.48789069e+42, 3.74261463e+42, 4.01594129e+42, 4.30922926e+42,\n",
       "           4.62393633e+42, 4.96162675e+42, 5.32397901e+42, 5.71279421e+42,\n",
       "           6.13000494e+42, 6.57768497e+42, 7.05805949e+42, 7.57351621e+42,\n",
       "           8.12661722e+42, 8.72011172e+42, 9.35694968e+42, 1.00402965e+43,\n",
       "           1.07735488e+43, 1.15603512e+43, 1.24046145e+43, 1.33105352e+43,\n",
       "           1.42826161e+43, 1.53256890e+43, 1.64449385e+43, 1.76459278e+43,\n",
       "           1.89346265e+43, 2.03174401e+43, 2.18012419e+43, 2.33934071e+43,\n",
       "           2.51018496e+43, 2.69350613e+43, 2.89021541e+43, 3.10129056e+43,\n",
       "           3.32778073e+43, 3.57081168e+43, 3.83159142e+43, 4.11141614e+43,\n",
       "           4.41167673e+43, 4.73386563e+43, 5.07958429e+43, 5.45055111e+43,\n",
       "           5.84860999e+43, 6.27573947e+43] erg / s>"
      ]
     },
     "execution_count": 245,
     "metadata": {},
     "output_type": "execute_result"
    }
   ],
   "source": [
    "radiative_cooling_rate(10**log_Tbs*u.GeV, cls)"
   ]
  },
  {
   "cell_type": "code",
   "execution_count": 175,
   "id": "5ba73c63",
   "metadata": {},
   "outputs": [
    {
     "data": {
      "text/latex": [
       "$-4.048671 \\times 10^{54} \\; \\mathrm{\\frac{GeV}{s}}$"
      ],
      "text/plain": [
       "<Quantity -4.04867103e+54 GeV / s>"
      ]
     },
     "execution_count": 175,
     "metadata": {},
     "output_type": "execute_result"
    }
   ],
   "source": [
    "equil(1*u.GeV, cls, s0)"
   ]
  },
  {
   "cell_type": "code",
   "execution_count": 176,
   "id": "9ed1a0df",
   "metadata": {},
   "outputs": [
    {
     "data": {
      "text/plain": [
       "Text(0, 0.5, 'net heating rate (erg/s)')"
      ]
     },
     "execution_count": 176,
     "metadata": {},
     "output_type": "execute_result"
    },
    {
     "data": {
      "image/png": "[encoded data removed]",
      "text/plain": [
       "<Figure size 640x480 with 1 Axes>"
      ]
     },
     "metadata": {},
     "output_type": "display_data"
    }
   ],
   "source": [
    "sig_0=np.logspace(-30, -24)*u.cm**2\n",
    "plt.plot(sig_0,equil(cls.baryon_temp, cls, sig_0))\n",
    "plt.xscale('log')\n",
    "\n",
    "plt.xlabel('sigma_0 (cm^2)')\n",
    "plt.ylabel('net heating rate (erg/s)')"
   ]
  },
  {
   "cell_type": "code",
   "execution_count": 177,
   "id": "0b733175",
   "metadata": {},
   "outputs": [
    {
     "data": {
      "text/latex": [
       "$3.1281148 \\times 10^{46} \\; \\mathrm{\\frac{GeV}{s}}$"
      ],
      "text/plain": [
       "<Quantity 3.12811475e+46 GeV / s>"
      ]
     },
     "execution_count": 177,
     "metadata": {},
     "output_type": "execute_result"
    }
   ],
   "source": [
    "equil(cls.baryon_temp, cls, 0*u.cm**2)"
   ]
  },
  {
   "cell_type": "code",
   "execution_count": 424,
   "id": "66f1a848",
   "metadata": {},
   "outputs": [
    {
     "data": {
      "text/plain": [
       "array([[ -3.45960991],\n",
       "       [-31.25966466],\n",
       "       [-22.72725444],\n",
       "       [-31.45373934],\n",
       "       [-46.73834741],\n",
       "       [ -7.42929845],\n",
       "       [-23.37795747],\n",
       "       [-24.80170299],\n",
       "       [-23.80764417],\n",
       "       [-20.78830203]])"
      ]
     },
     "execution_count": 424,
     "metadata": {},
     "output_type": "execute_result"
    }
   ],
   "source": [
    "#prepare MCMC\n",
    "ndim, nwalkers = 1, 10\n",
    "p0=np.zeros((nwalkers, ndim ))\n",
    "log_sigma0 = np.random.uniform(low=-50, high=0, size=nwalkers).astype(np.float128)\n",
    "p0[:,0]=log_sigma0\n",
    "p0"
   ]
  },
  {
   "cell_type": "code",
   "execution_count": 425,
   "id": "7cfe76c0",
   "metadata": {},
   "outputs": [],
   "source": [
    "T_data = [c.baryon_temp for c in clusters]"
   ]
  },
  {
   "cell_type": "code",
   "execution_count": 426,
   "id": "946966f8",
   "metadata": {},
   "outputs": [],
   "source": [
    "def log_lik(p0, T_data, var, clusters, m_chi):\n",
    "    if p0<-50 or p0>0:\n",
    "        return -np.inf\n",
    "    #print(p0)\n",
    "    T_model = [brentq(equil, -15, 0, args=(c, p0, m_chi)) for c in clusters]\n",
    "    X2 = chi_squared(np.power(10,T_model)*u.GeV, T_data, var)\n",
    "    return (-X2/2)"
   ]
  },
  {
   "cell_type": "code",
   "execution_count": 427,
   "id": "f3e98449",
   "metadata": {},
   "outputs": [
    {
     "data": {
      "text/latex": [
       "$-11174.688 \\; \\mathrm{}$"
      ],
      "text/plain": [
       "<Quantity -11174.68834864>"
      ]
     },
     "execution_count": 427,
     "metadata": {},
     "output_type": "execute_result"
    }
   ],
   "source": [
    "log_lik(-25, T_data, variances, clusters, -2)"
   ]
  },
  {
   "cell_type": "code",
   "execution_count": 428,
   "id": "d3735275",
   "metadata": {},
   "outputs": [],
   "source": [
    "m_chi=-2\n",
    "n=0\n",
    "sampler = emcee.EnsembleSampler(\n",
    "    nwalkers, \n",
    "    ndim, \n",
    "    log_lik, \n",
    "    args=[T_data, variances, clusters, m_chi])"
   ]
  },
  {
   "cell_type": "code",
   "execution_count": 429,
   "id": "89013974",
   "metadata": {},
   "outputs": [
    {
     "name": "stderr",
     "output_type": "stream",
     "text": [
      "100%|█████████████████████████████████████████| 100/100 [09:33<00:00,  5.73s/it]\n"
     ]
    }
   ],
   "source": [
    "state = sampler.run_mcmc(p0, 100, progress=True)\n",
    "sampler.reset()"
   ]
  },
  {
   "cell_type": "code",
   "execution_count": 430,
   "id": "bfb36e62",
   "metadata": {},
   "outputs": [
    {
     "name": "stderr",
     "output_type": "stream",
     "text": [
      "100%|█████████████████████████████████████| 1000/1000 [4:30:11<00:00, 16.21s/it]\n"
     ]
    },
    {
     "data": {
      "text/plain": [
       "State([[-23.8584047 ]\n",
       " [-23.8637239 ]\n",
       " [-23.86545534]\n",
       " [-23.86127661]\n",
       " [-23.86858153]\n",
       " [-23.88304233]\n",
       " [-23.88592506]\n",
       " [-23.86312365]\n",
       " [-23.87339468]\n",
       " [-23.86701753]], log_prob=[-234.49270613 -234.19011909 -234.1402332  -234.30143433 -234.11107678\n",
       " -235.01072656 -235.3964576  -234.21300514 -234.22054776 -234.11583937], blobs=None, random_state=('MT19937', array([1655803623, 1066582170, 2866689165, 3833472595, 1999226913,\n",
       "       1102719920,  310968298, 2312592332, 3829820861, 1498003261,\n",
       "         13121229, 3794808391, 4048518247, 3346931374, 1457214193,\n",
       "       3438498351, 3640472099, 2834249603, 3109436222,   27551395,\n",
       "       3703201502, 1078117004,  459999937, 3382578842, 3831807498,\n",
       "       2909538364, 1955142894, 3638024333, 4120962341, 1123943979,\n",
       "        155649139, 1313485477,  486372755, 1104515254, 4140717867,\n",
       "       1664287799, 3096760011,  836871972, 3451605818, 1218064678,\n",
       "       1217601860, 3050201561,  249611805, 2516291307,  279339650,\n",
       "       1286963914, 1215962540, 1676200741,  210751466, 2585700374,\n",
       "       2376914293, 2687597764, 3154570859,  317516109, 3786546859,\n",
       "       3127034242, 1052898121, 2975329567, 1111251984, 3440144429,\n",
       "        922631353, 2979425259, 1963749291, 3890046878,  222719980,\n",
       "       1344315404,  134741620, 2283226780, 1790474898,  380064740,\n",
       "       2301553420,    1287269, 4218014147, 3019317745, 2223576667,\n",
       "        324160939, 1172848357,  708456566, 2814173550, 1999853932,\n",
       "       4191750751, 3302894782, 3541058558, 2181854724, 1503498817,\n",
       "       1147884937, 2009210217, 1494025998,  798854745,  605880576,\n",
       "       1671421541, 2420590495, 1310992533, 4174372433, 1393800895,\n",
       "       4080764401, 1443377551, 1394798622, 1092928765,  971852685,\n",
       "       3762941331, 2508653618,  772922417, 1067795545, 1727088367,\n",
       "       3911803608, 1792721183, 1165659963, 1584495386, 1790224838,\n",
       "       2602916064, 2617321135,  899355307, 2241056167, 1795860229,\n",
       "       1899532360, 2212278999, 1552714542, 3585296126,   27723366,\n",
       "       2221103170, 4076704252, 2013024537, 1768020969, 3116169316,\n",
       "       1077868908, 2069352066, 3599771257, 2908328588,  648647399,\n",
       "       3180006295, 1147748718,  956940856, 1086240488, 2795627714,\n",
       "       2408066799,  241716537, 1306909417, 2902293184,  288399548,\n",
       "       3160663136, 2218027581,  938032536, 1213871529, 2672484277,\n",
       "       3591614808, 3350438805, 4290431723,  686693523, 4271096912,\n",
       "       3901362652, 3266204540,  373838499, 3636895460,  929856299,\n",
       "       3975693109,  982001274, 3602362759, 2247986454,  953577634,\n",
       "       2188650321, 4107234671, 3601396324, 2241135051,  860884495,\n",
       "       1883601156, 4235217793, 3450248553, 2225265344, 2869846675,\n",
       "       1070254197, 3230479110, 1133901339, 2494428052, 2612283554,\n",
       "         38017091, 2695943901, 3830762282, 1193834267, 4075421488,\n",
       "       2249189752, 1781099870, 2662281267, 1035798739, 2925228167,\n",
       "        770904732, 3612336901, 3598353709, 4198195451, 3040809203,\n",
       "        250258590, 1763989705, 1158659840, 2730841251, 1614216362,\n",
       "       2949608627,  199767424,  616809624, 1913891618, 2654994768,\n",
       "        361235279,  352125263, 4167011931,  498021920, 3996778354,\n",
       "       1561133265, 1867667440, 2816557354,  571079885, 2745370516,\n",
       "        515260619, 2916312154, 3313997168, 2357039344, 1228761428,\n",
       "       2272590939, 2576188708, 1836372809, 3386777232, 1514189807,\n",
       "       3402070497, 1742515321, 1050905765, 2578833956,  498782371,\n",
       "        747003794, 1639823350, 2998842370, 3510096547, 2208407367,\n",
       "       2363963757,  545029024, 2648780577, 2620657498, 1830254780,\n",
       "       3030348374,   73103539,  332499411,  825739794, 1527209267,\n",
       "       2755713073, 3720597400, 1268439384,  419909672, 3005855704,\n",
       "       2361010659,  548007898,   34214519, 1509435618, 3955855322,\n",
       "       4144955195, 3378711560, 1803755258, 1588598925, 3305378185,\n",
       "        939377383,  160113066, 1553583895, 3162368477, 2523644138,\n",
       "       1823409621, 4278016115, 2012184970, 1888791866, 3629763651,\n",
       "        954914930, 4200249544, 2782167114,  983647489, 2318242197,\n",
       "       2039316893, 3914183805, 3864350832, 3741707361,  956989989,\n",
       "       2545983278, 2800137474,  832606488, 2395464081,   98659153,\n",
       "       1783467622, 2815565958, 4194258208, 1654221653, 1205853715,\n",
       "        386482957, 1392546140, 3691955720, 3451407371,  317727360,\n",
       "       2854349134,  576691072, 2018513358, 4167974568,  132431483,\n",
       "       3721198253, 3795068897,  844043265, 2146420146, 2486072165,\n",
       "       1024601628, 3078574700, 2050427246, 4260062006, 1496463107,\n",
       "        437545480, 2654053360, 1333746365, 4052537332, 1412950280,\n",
       "       3807182459, 2755850996,  566433876,  974458054, 3842712308,\n",
       "       1471607684, 3008340501, 2504016465, 4148436391, 3098150362,\n",
       "        524000163,  612990410, 3618177565, 3786053434,  731377049,\n",
       "       3495745311,  451297640, 3743181620, 2679546220, 1308870054,\n",
       "       2709805295, 3007719642, 1205139823, 2008891454,  930441857,\n",
       "        132988176, 4057436606,  563105125, 3629879039, 3192805144,\n",
       "        546206265,    3461758,  441854548, 3805650298,  125654962,\n",
       "       2803336716, 3017651248, 2858812140, 3770414869,  485124387,\n",
       "       1313956367,  761348822, 3916612863, 2970282224, 2831285404,\n",
       "       1726079895,  572821500, 2844482138,  620335594, 3794806273,\n",
       "       1432841490, 2905848999, 2140319998,  534295041, 3835150927,\n",
       "       2116177338,  958692603, 1760339346, 1961250672, 2504457410,\n",
       "       3819097216,  335579829, 2469433150, 3315584548, 1607114016,\n",
       "       4239244133, 1863720604, 3484945677, 1520473115, 1056497642,\n",
       "       1483688284, 1308068348, 3261718674, 3179298599,  316256208,\n",
       "        959145742, 4128471715,  982730688, 3090881545, 2808426381,\n",
       "       1356411805, 2360934969, 1194761587, 1826627932,  109084184,\n",
       "       2446596520, 3456188984, 1640581947, 3645524350, 2197447677,\n",
       "       3714011610, 3548322802, 1150617962, 3320166532,   89410438,\n",
       "       3936317084, 3279230639, 3776108494, 1633248530, 2552805099,\n",
       "       2765872684, 4124405450,  893391483,   26954122, 1150871910,\n",
       "       3359030859, 2373263437, 1889365066,  724861955, 3216693294,\n",
       "       4235751626, 2309024052, 3667799660, 2675834713, 2906787417,\n",
       "        723735435, 2164577337, 2356990600, 2751003810,  230441928,\n",
       "       1711300976,  343042473, 3588850646,  374434901,  538027266,\n",
       "        117465524, 3581998195, 2221928858, 1816943891, 3327794345,\n",
       "       4220396929, 1815050368, 3853760428, 3456646851, 2412881431,\n",
       "       2072671550, 3589752843, 1747127421, 1135551014,  464317259,\n",
       "        234864035,  888626153, 2844357135, 4108987585, 2350010323,\n",
       "       2342257494, 2909715473, 2057162379, 4107961994, 2073575181,\n",
       "       1709687577,  260309391,  752121149, 3993753344,  799587991,\n",
       "        992437791, 2923278866, 2830195990, 1036553282, 3367136409,\n",
       "       3270309675, 2993331322, 1584093847, 3978130509, 3051825764,\n",
       "        473852606, 4052691823,   93784744,  116328190, 3449713191,\n",
       "       3701496936, 2636368578, 1886239454,  493430470, 3639479943,\n",
       "       2718759206, 3040068427,  391838512, 1993240452,   42225601,\n",
       "       2301539790, 1310345480,  649415269, 4067401535, 2724674164,\n",
       "       3751678398, 1485321415,  712054897, 2403736661,  336524041,\n",
       "        475183836, 2687114509, 1090701812, 3459181441,  520713891,\n",
       "       2641983248, 2049598202, 1378780570, 2967855584,  607566493,\n",
       "       3145854605, 2138215072, 4257415831, 2680583148, 3035131606,\n",
       "       2633407998, 2026479718, 3978316759,  743454637, 3829629517,\n",
       "       3966849806, 1808779514, 3389827798,  364777676, 4205068046,\n",
       "       1072690396, 3904800172, 3127832713, 2317390618, 3323075249,\n",
       "       3724288857,  860254652, 3498027028, 2855055771, 2374083958,\n",
       "       1541647331, 1144327494, 4095494721, 3376283411, 1243912344,\n",
       "        147226626, 1432438376, 1854040613, 4227799946,  944299679,\n",
       "       3354124072, 2146083036, 3646997166, 2485661293, 1029167128,\n",
       "       1478925649,  458730983, 3235541191, 3466833898, 1324700564,\n",
       "       3037402028, 4118614503,  293105231, 1723855796, 3171554071,\n",
       "        233412819, 1929741608, 1715540622, 3421836154, 3195397772,\n",
       "        763329068, 2521627651, 2355784793, 1535067096, 4216298671,\n",
       "       3692910136, 4263897527, 1819649668, 3459048250,  368543112,\n",
       "       2369806877, 2403523388,  868290222, 2488575438, 2596435932,\n",
       "       2526751179,  622688063, 3031676860, 2346542073, 3878824878,\n",
       "       4076168760, 3773978419,  795683590, 3197779375,  361897139,\n",
       "       2770452042, 2038239404, 1143871960, 2438553392,  639460185,\n",
       "       3376739923,  954318089, 3509946868,  878051779, 2154291470,\n",
       "       1771497222, 2068822747, 1088863713, 1750567552, 4077597935,\n",
       "       2674373925, 4106923286, 3050197374, 3831236830, 1897226126,\n",
       "        374564170, 1628401725, 3180322104, 2828157010, 2568248125,\n",
       "        993247296, 3492507026,  988361663, 3045573168, 3705329225,\n",
       "        626763274, 3047839238, 3501316058,  642856340], dtype=uint32), 495, 0, 0.0))"
      ]
     },
     "execution_count": 430,
     "metadata": {},
     "output_type": "execute_result"
    }
   ],
   "source": [
    "sampler.run_mcmc(state, 1000, progress=True)"
   ]
  },
  {
   "cell_type": "code",
   "execution_count": 431,
   "id": "e15d3886",
   "metadata": {},
   "outputs": [],
   "source": [
    "samples = sampler.get_chain(flat=True)"
   ]
  },
  {
   "cell_type": "code",
   "execution_count": 432,
   "id": "abd2bac4",
   "metadata": {},
   "outputs": [
    {
     "data": {
      "text/plain": [
       "'Mean acceptance fraction: 0.803'"
      ]
     },
     "execution_count": 432,
     "metadata": {},
     "output_type": "execute_result"
    }
   ],
   "source": [
    "\"Mean acceptance fraction: {0:.3f}\".format(np.mean(sampler.acceptance_fraction))"
   ]
  },
  {
   "cell_type": "code",
   "execution_count": 433,
   "id": "55f7902f",
   "metadata": {},
   "outputs": [
    {
     "name": "stdout",
     "output_type": "stream",
     "text": [
      "(10000, 1)\n"
     ]
    },
    {
     "data": {
      "image/png": "[encoded data removed]",
      "text/plain": [
       "<Figure size 340x340 with 1 Axes>"
      ]
     },
     "metadata": {},
     "output_type": "display_data"
    }
   ],
   "source": [
    "flat_samples = sampler.get_chain(flat=True)\n",
    "print(flat_samples.shape)\n",
    "fig = corner.corner(flat_samples, labels=['log(sigma0)'])"
   ]
  },
  {
   "cell_type": "code",
   "execution_count": 434,
   "id": "5418f4ec",
   "metadata": {},
   "outputs": [
    {
     "data": {
      "text/plain": [
       "-23.867796514320826"
      ]
     },
     "execution_count": 434,
     "metadata": {},
     "output_type": "execute_result"
    }
   ],
   "source": [
    "np.median(samples)"
   ]
  },
  {
   "cell_type": "code",
   "execution_count": 435,
   "id": "138e69ea",
   "metadata": {},
   "outputs": [
    {
     "data": {
      "text/plain": [
       "array([[-23.866556  ],\n",
       "       [-23.85751349],\n",
       "       [-23.85889296],\n",
       "       ...,\n",
       "       [-23.86312365],\n",
       "       [-23.87339468],\n",
       "       [-23.86701753]])"
      ]
     },
     "execution_count": 435,
     "metadata": {},
     "output_type": "execute_result"
    }
   ],
   "source": [
    "flat_samples"
   ]
  },
  {
   "cell_type": "code",
   "execution_count": 436,
   "id": "870f316f",
   "metadata": {},
   "outputs": [],
   "source": [
    "samples=sampler.get_chain()"
   ]
  },
  {
   "cell_type": "code",
   "execution_count": 437,
   "id": "f13fb0ac",
   "metadata": {},
   "outputs": [
    {
     "data": {
      "text/plain": [
       "(1000, 10, 1)"
      ]
     },
     "execution_count": 437,
     "metadata": {},
     "output_type": "execute_result"
    }
   ],
   "source": [
    "samples.shape"
   ]
  },
  {
   "cell_type": "code",
   "execution_count": 438,
   "id": "bcc94e2c",
   "metadata": {},
   "outputs": [
    {
     "data": {
      "text/plain": [
       "array([[-23.86741281],\n",
       "       [-23.84367502],\n",
       "       [-23.86593261],\n",
       "       [-23.86450544],\n",
       "       [-23.84720075],\n",
       "       [-23.84804585],\n",
       "       [-23.87006051],\n",
       "       [-23.87897019],\n",
       "       [-23.8717391 ],\n",
       "       [-23.86979016]])"
      ]
     },
     "execution_count": 438,
     "metadata": {},
     "output_type": "execute_result"
    }
   ],
   "source": [
    "samples[4]"
   ]
  },
  {
   "cell_type": "code",
   "execution_count": null,
   "id": "d4f7e594",
   "metadata": {},
   "outputs": [],
   "source": []
  }
 ],
 "metadata": {
  "kernelspec": {
   "display_name": "Python 3 (ipykernel)",
   "language": "python",
   "name": "python3"
  },
  "language_info": {
   "codemirror_mode": {
    "name": "ipython",
    "version": 3
   },
   "file_extension": ".py",
   "mimetype": "text/x-python",
   "name": "python",
   "nbconvert_exporter": "python",
   "pygments_lexer": "ipython3",
   "version": "3.11.5"
  }
 },
 "nbformat": 4,
 "nbformat_minor": 5
}
