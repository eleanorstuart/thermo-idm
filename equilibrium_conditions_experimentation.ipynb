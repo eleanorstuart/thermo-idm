{
 "cells": [
  {
   "cell_type": "code",
   "execution_count": 190,
   "id": "edf84c8d",
   "metadata": {},
   "outputs": [],
   "source": [
    "import emcee\n",
    "import corner\n",
    "import numpy as np\n",
    "\n",
    "from astropy import units as u\n",
    "from astropy import constants as const\n",
    "from matplotlib import pyplot as plt\n",
    "from scipy.optimize import root, brentq\n",
    "\n",
    "from load_mcxc_data import load_clusters\n",
    "from cluster_functions import c\n",
    "from statistics_functions import chi_squared"
   ]
  },
  {
   "cell_type": "code",
   "execution_count": 181,
   "id": "3ec5686b",
   "metadata": {},
   "outputs": [],
   "source": [
    "clusters, variances=load_clusters(nrows=20)"
   ]
  },
  {
   "cell_type": "code",
   "execution_count": 164,
   "id": "bc84c3d0",
   "metadata": {},
   "outputs": [],
   "source": [
    "cls=clusters[5]"
   ]
  },
  {
   "cell_type": "code",
   "execution_count": 165,
   "id": "2a596fab",
   "metadata": {},
   "outputs": [],
   "source": [
    "def radiative_cooling_rate(T_b, cluster):\n",
    "    prefactors=6.8*1e-42 *u.erg*u.cm**3\n",
    "    Z=1\n",
    "    T=T_b.to(u.K, equivalencies=u.temperature_energy())#self.baryon_temp.to(u.K, equivalencies=u.temperature_energy())\n",
    "    T8=T/(1e8*u.K)\n",
    "    C=(prefactors*Z**2*(cluster.n_e.to(u.cm**-3))**2)/(T8**(1/2))\n",
    "    Eff_int = (C*T*const.k_B/const.h).to(u.GeV/(u.s*u.cm**3))\n",
    "    return (cluster.volume*Eff_int).to(u.erg/u.s)"
   ]
  },
  {
   "cell_type": "code",
   "execution_count": 166,
   "id": "29295a0c",
   "metadata": {},
   "outputs": [],
   "source": [
    "def agn_heating_rate(T_b, cluster):\n",
    "    with u.set_enabled_equivalencies(u.mass_energy()):\n",
    "        return (cluster.epsilon * accretion_rate(T_b, cluster)).to(\n",
    "            u.GeV / u.s, equivalencies=u.temperature_energy())"
   ]
  },
  {
   "cell_type": "code",
   "execution_count": 167,
   "id": "7f195e5c",
   "metadata": {},
   "outputs": [],
   "source": [
    "def accretion_rate(T_b, cluster):\n",
    "    with u.set_enabled_equivalencies(u.mass_energy()):\n",
    "        leading_factors = cluster.norm * 4 * np.pi * const.c**-3\n",
    "        gm2 = (const.G * cluster.bh_mass) ** 2\n",
    "        frac = (cluster.mu * cluster.m_b) ** (5 / 2) / cluster.adiabatic_idx ** (3 / 2)\n",
    "        return leading_factors * gm2 * frac * plasma_entropy(T_b, cluster) ** (-3 / 2)"
   ]
  },
  {
   "cell_type": "code",
   "execution_count": 168,
   "id": "9031c835",
   "metadata": {},
   "outputs": [],
   "source": [
    "def plasma_entropy(T_b, cluster):\n",
    "    baryon_number_density = (2 * cluster.n_e).to(u.m ** (-3))\n",
    "    return (const.k_B * T_b.to(u.K, equivalencies=u.temperature_energy())\n",
    "        ).to(u.GeV) / baryon_number_density ** (cluster.adiabatic_idx - 1)"
   ]
  },
  {
   "cell_type": "code",
   "execution_count": 169,
   "id": "dfbf606a",
   "metadata": {},
   "outputs": [],
   "source": [
    "def dm_cooling_rate(T_b, cluster, s0, m_chi=1e-2*u.GeV, n=0, f_chi=1, m_psi=0.1*u.GeV):\n",
    "    dm_temp = cluster.virial_temperature(m_chi, f_chi=f_chi, m_psi=m_psi)\n",
    "    uth = np.sqrt(T_b / cluster.m_b + dm_temp / m_chi)\n",
    "    rho_chi = cluster.rho_dm * f_chi\n",
    "\n",
    "    denominator = (m_chi + cluster.m_b) ** 2\n",
    "    numerator = (\n",
    "            3\n",
    "            * (T_b - dm_temp)\n",
    "            * rho_chi\n",
    "            * cluster.rho_b\n",
    "            * cluster.volume.to(u.cm**3)\n",
    "            * c(n)\n",
    "            * uth ** (n + 1)\n",
    "            * (const.c.to(u.cm / u.s))\n",
    "            *s0\n",
    "        \n",
    "        )\n",
    "    \n",
    "    conversion_factor = 0.197*1e-15 * (u.GeV * u.m)\n",
    "    return (numerator / denominator).to(u.erg/u.s)\n",
    "    "
   ]
  },
  {
   "cell_type": "code",
   "execution_count": 170,
   "id": "107e8437",
   "metadata": {},
   "outputs": [
    {
     "data": {
      "text/latex": [
       "$2.5205532 \\times 10^{43} \\; \\mathrm{\\frac{erg}{s}}$"
      ],
      "text/plain": [
       "<Quantity 2.52055321e+43 erg / s>"
      ]
     },
     "execution_count": 170,
     "metadata": {},
     "output_type": "execute_result"
    }
   ],
   "source": [
    "s0=1e-25*u.cm**2\n",
    "dm_cooling_rate(cls.baryon_temp, cls, s0)"
   ]
  },
  {
   "cell_type": "code",
   "execution_count": 171,
   "id": "452a588f",
   "metadata": {},
   "outputs": [
    {
     "data": {
      "text/latex": [
       "$2.761408 \\times 10^{43} \\; \\mathrm{\\frac{erg}{s}}$"
      ],
      "text/plain": [
       "<Quantity 2.76140798e+43 erg / s>"
      ]
     },
     "execution_count": 171,
     "metadata": {},
     "output_type": "execute_result"
    }
   ],
   "source": [
    "radiative_cooling_rate(cls.baryon_temp, cls)"
   ]
  },
  {
   "cell_type": "code",
   "execution_count": 172,
   "id": "8fc14e73",
   "metadata": {},
   "outputs": [
    {
     "data": {
      "text/latex": [
       "$7.7732003 \\times 10^{49} \\; \\mathrm{\\frac{erg}{s}}$"
      ],
      "text/plain": [
       "<Quantity 7.77320035e+49 erg / s>"
      ]
     },
     "execution_count": 172,
     "metadata": {},
     "output_type": "execute_result"
    }
   ],
   "source": [
    "agn_heating_rate(cls.baryon_temp, cls).to(u.erg/u.s)"
   ]
  },
  {
   "cell_type": "code",
   "execution_count": 383,
   "id": "e6f39598",
   "metadata": {},
   "outputs": [],
   "source": [
    "def equil(logT_b, cluster, p0):\n",
    "    #divide agn_heating_rate by 1e9 to put it at the same oom as the cooling\n",
    "    s0=10**p0 * u.cm**2\n",
    "    T_b=10**(logT_b)*u.GeV\n",
    "    \n",
    "    #print(T_b, agn_heating_rate(T_b, cluster)/1e6 - dm_cooling_rate(T_b, cluster, s0) - radiative_cooling_rate(T_b, cluster))\n",
    "    #print((agn_heating_rate(T_b, cluster)/1e5).to(u.erg/u.s), dm_cooling_rate(T_b, cluster, s0), radiative_cooling_rate(T_b, cluster))\n",
    "    return ((agn_heating_rate(T_b, cluster)/1e5).to(u.erg/u.s) - dm_cooling_rate(T_b, cluster, s0) - radiative_cooling_rate(T_b, cluster)).value"
   ]
  },
  {
   "cell_type": "code",
   "execution_count": 384,
   "id": "03bba28d",
   "metadata": {},
   "outputs": [
    {
     "data": {
      "text/plain": [
       "2.0629352803307662e+45"
      ]
     },
     "execution_count": 384,
     "metadata": {},
     "output_type": "execute_result"
    }
   ],
   "source": [
    "#np.log10(cls.baryon_temp.value)\n",
    "equil(-6, cls, -25)\n"
   ]
  },
  {
   "cell_type": "code",
   "execution_count": 387,
   "id": "eaecd96a",
   "metadata": {},
   "outputs": [
    {
     "data": {
      "text/plain": [
       "[<matplotlib.lines.Line2D at 0x13e850d10>]"
      ]
     },
     "execution_count": 387,
     "metadata": {},
     "output_type": "execute_result"
    },
    {
     "data": {
      "image/png": "[encoded data removed]",
      "text/plain": [
       "<Figure size 640x480 with 1 Axes>"
      ]
     },
     "metadata": {},
     "output_type": "display_data"
    }
   ],
   "source": [
    "plt.plot(log_Tbs, equil(log_Tbs, cls, -25))"
   ]
  },
  {
   "cell_type": "code",
   "execution_count": 391,
   "id": "6340ebd2",
   "metadata": {},
   "outputs": [
    {
     "data": {
      "text/plain": [
       "<matplotlib.legend.Legend at 0x13e10d6d0>"
      ]
     },
     "execution_count": 391,
     "metadata": {},
     "output_type": "execute_result"
    },
    {
     "data": {
      "image/png": "[encoded data removed]",
      "text/plain": [
       "<Figure size 640x480 with 1 Axes>"
      ]
     },
     "metadata": {},
     "output_type": "display_data"
    }
   ],
   "source": [
    "log_Tbs=np.linspace(-10, 10)\n",
    "\n",
    "plt.yscale('symlog')\n",
    "#plt.xscale('log')\n",
    "plt.xlim(-10,10)\n",
    "plt.plot([-10,10], [0,0], color='black', label='equilibrium line')\n",
    "\n",
    "plt.plot(log_Tbs, equil(log_Tbs, cls, -40), label='sig0=1e-40 cm^2')\n",
    "plt.plot(log_Tbs, equil(log_Tbs, cls, -25), label='sig0=1e-25 cm^2')\n",
    "plt.scatter(np.log10(cls.baryon_temp.value),0, color='red', label='actual cluster temperature')\n",
    "plt.legend()"
   ]
  },
  {
   "cell_type": "code",
   "execution_count": 304,
   "id": "b2bc23f3",
   "metadata": {},
   "outputs": [
    {
     "data": {
      "text/plain": [
       "<matplotlib.legend.Legend at 0x1381fdd10>"
      ]
     },
     "execution_count": 304,
     "metadata": {},
     "output_type": "execute_result"
    },
    {
     "data": {
      "image/png": "[encoded data removed]",
      "text/plain": [
       "<Figure size 640x480 with 1 Axes>"
      ]
     },
     "metadata": {},
     "output_type": "display_data"
    }
   ],
   "source": [
    "#T_b = np.logspace(-8, -5)*u.GeV\n",
    "#s0=1e-25*u.cm**2\n",
    "\n",
    "log_Tbs=np.linspace(-10, 10)\n",
    "\n",
    "#plt.loglog()\n",
    "plt.yscale('symlog')\n",
    "plt.xscale('log')\n",
    "\n",
    "plt.xlabel('T_b (GeV)')\n",
    "plt.ylabel('net heating rate (erg/s)')\n",
    "\n",
    "plt.plot(log_Tbs, equil(log_Tbs, cls, -40), label='sig0=1e-40 cm^2')\n",
    "plt.plot(log_Tbs, equil(log_Tbs, cls, -25), label='sig0=1e-25 cm^2')\n",
    "plt.plot(log_Tbs, equil(log_Tbs, cls, -30), label='sig0=1e-30 cm^2') #any lower sig0 value is basically the same as this line\n",
    "#plt.plot(T_b, equil(T_b, cls, 1e-40*u.cm**2), label='sig0=1e-40 cm^2')\n",
    "\n",
    "#plt.plot(log_Tbs, agn_heating_rate(10**log_Tbs*u.GeV, cls)/1e6)\n",
    "\n",
    "plt.plot([3*1e-7,1e-5], [0,0], color='black', label='equilibrium line')\n",
    "plt.scatter(cls.baryon_temp,0, color='red', label='actual cluster temperature')\n",
    "plt.legend()"
   ]
  },
  {
   "cell_type": "code",
   "execution_count": 249,
   "id": "c973884f",
   "metadata": {},
   "outputs": [
    {
     "data": {
      "text/latex": [
       "$[-1.9845631 \\times 10^{42},~-2.1294976 \\times 10^{42},~-2.2850168 \\times 10^{42},~-2.4518937 \\times 10^{42},~-2.6309578 \\times 10^{42},~-2.8230991 \\times 10^{42},~-3.0292727 \\times 10^{42},~-3.2505034 \\times 10^{42},~-3.4878907 \\times 10^{42},~-3.7426146 \\times 10^{42},~-4.0159413 \\times 10^{42},~-4.3092293 \\times 10^{42},~-4.6239363 \\times 10^{42},~-4.9616267 \\times 10^{42},~-5.323979 \\times 10^{42},~-5.7127942 \\times 10^{42},~-6.1300049 \\times 10^{42},~-6.577685 \\times 10^{42},~-7.0580595 \\times 10^{42},~-7.5735162 \\times 10^{42},~-8.1266172 \\times 10^{42},~-8.7201117 \\times 10^{42},~-9.3569497 \\times 10^{42},~-1.0040297 \\times 10^{43},~-1.0773549 \\times 10^{43},~-1.1560351 \\times 10^{43},~-1.2404615 \\times 10^{43},~-1.3310535 \\times 10^{43},~-1.4282616 \\times 10^{43},~-1.5325689 \\times 10^{43},~-1.6444938 \\times 10^{43},~-1.7645928 \\times 10^{43},~-1.8934627 \\times 10^{43},~-2.031744 \\times 10^{43},~-2.1801242 \\times 10^{43},~-2.3393407 \\times 10^{43},~-2.510185 \\times 10^{43},~-2.6935061 \\times 10^{43},~-2.8902154 \\times 10^{43},~-3.1012906 \\times 10^{43},~-3.3277807 \\times 10^{43},~-3.5708117 \\times 10^{43},~-3.8315914 \\times 10^{43},~-4.1114161 \\times 10^{43},~-4.4116767 \\times 10^{43},~-4.7338656 \\times 10^{43},~-5.0795843 \\times 10^{43},~-5.4505511 \\times 10^{43},~-5.84861 \\times 10^{43},~-6.2757395 \\times 10^{43}] \\; \\mathrm{\\frac{erg}{s}}$"
      ],
      "text/plain": [
       "<Quantity [-1.98456307e+42, -2.12949758e+42, -2.28501679e+42,\n",
       "           -2.45189372e+42, -2.63095782e+42, -2.82309915e+42,\n",
       "           -3.02927273e+42, -3.25050337e+42, -3.48789069e+42,\n",
       "           -3.74261463e+42, -4.01594129e+42, -4.30922926e+42,\n",
       "           -4.62393633e+42, -4.96162675e+42, -5.32397901e+42,\n",
       "           -5.71279421e+42, -6.13000494e+42, -6.57768497e+42,\n",
       "           -7.05805949e+42, -7.57351621e+42, -8.12661722e+42,\n",
       "           -8.72011172e+42, -9.35694968e+42, -1.00402965e+43,\n",
       "           -1.07735488e+43, -1.15603512e+43, -1.24046145e+43,\n",
       "           -1.33105352e+43, -1.42826161e+43, -1.53256890e+43,\n",
       "           -1.64449385e+43, -1.76459278e+43, -1.89346265e+43,\n",
       "           -2.03174401e+43, -2.18012419e+43, -2.33934071e+43,\n",
       "           -2.51018496e+43, -2.69350613e+43, -2.89021541e+43,\n",
       "           -3.10129056e+43, -3.32778073e+43, -3.57081168e+43,\n",
       "           -3.83159142e+43, -4.11141614e+43, -4.41167673e+43,\n",
       "           -4.73386563e+43, -5.07958429e+43, -5.45055111e+43,\n",
       "           -5.84860999e+43, -6.27573947e+43] erg / s>"
      ]
     },
     "execution_count": 249,
     "metadata": {},
     "output_type": "execute_result"
    }
   ],
   "source": [
    "ys = (agn_heating_rate(10**log_Tbs*u.GeV, cls)/1e6).to(u.erg/u.s) \n",
    "- dm_cooling_rate(10**log_Tbs*u.GeV, cls, 10**-25 * u.cm**2) \n",
    "- radiative_cooling_rate(10**log_Tbs*u.GeV, cls)"
   ]
  },
  {
   "cell_type": "code",
   "execution_count": null,
   "id": "aeddba64",
   "metadata": {},
   "outputs": [],
   "source": [
    "plt.plot(log_Tbs)"
   ]
  },
  {
   "cell_type": "code",
   "execution_count": 243,
   "id": "fc92ef52",
   "metadata": {},
   "outputs": [
    {
     "data": {
      "text/latex": [
       "$[-1.2846064 \\times 10^{41},~-1.1393099 \\times 10^{41},~-9.7189206 \\times 10^{40},~-7.7896325 \\times 10^{40},~-5.5660782 \\times 10^{40},~-3.0029991 \\times 10^{40},~-4.8055215 \\times 10^{38},~3.359321 \\times 10^{40},~7.2892683 \\times 10^{40},~1.1823074 \\times 10^{41},~1.7055036 \\times 10^{41},~2.3094651 \\times 10^{41},~3.006922 \\times 10^{41},~3.812693 \\times 10^{41},~4.744053 \\times 10^{41},~5.821173 \\times 10^{41},~7.0676468 \\times 10^{41},~8.511126 \\times 10^{41},~1.0184086 \\times 10^{42},~1.2124757 \\times 10^{42},~1.4378253 \\times 10^{42},~1.6997952 \\times 10^{42},~2.0047186 \\times 10^{42},~2.3601319 \\times 10^{42},~2.7750298 \\times 10^{42},~3.2601805 \\times 10^{42},~3.8285157 \\times 10^{42},~4.4956124 \\times 10^{42},~5.280291 \\times 10^{42},~6.2053564 \\times 10^{42},~7.2985167 \\times 10^{42},~8.5935236 \\times 10^{42},~1.0131586 \\times 10^{43},~1.1963122 \\times 10^{43},~1.4149928 \\times 10^{43},~1.6767863 \\times 10^{43},~1.9910172 \\times 10^{43},~2.369159 \\times 10^{43},~2.8253414 \\times 10^{43},~3.3769766 \\times 10^{43},~4.0455328 \\times 10^{43},~4.8574889 \\times 10^{43},~5.8455134 \\times 10^{43},~7.0499191 \\times 10^{43},~8.5204604 \\times 10^{43},~1.0318551 \\times 10^{44},~1.2520006 \\times 10^{44},~1.5218421 \\times 10^{44},~1.8529357 \\times 10^{44},~2.25955 \\times 10^{44}] \\; \\mathrm{\\frac{erg}{s}}$"
      ],
      "text/plain": [
       "<Quantity [-1.28460637e+41, -1.13930995e+41, -9.71892058e+40,\n",
       "           -7.78963252e+40, -5.56607824e+40, -3.00299913e+40,\n",
       "           -4.80552147e+38,  3.35932104e+40,  7.28926825e+40,\n",
       "            1.18230745e+41,  1.70550359e+41,  2.30946512e+41,\n",
       "            3.00692203e+41,  3.81269299e+41,  4.74405302e+41,\n",
       "            5.82117300e+41,  7.06764682e+41,  8.51112601e+41,\n",
       "            1.01840864e+42,  1.21247574e+42,  1.43782529e+42,\n",
       "            1.69979516e+42,  2.00471862e+42,  2.36013195e+42,\n",
       "            2.77502981e+42,  3.26018052e+42,  3.82851566e+42,\n",
       "            4.49561237e+42,  5.28029104e+42,  6.20535640e+42,\n",
       "            7.29851667e+42,  8.59352365e+42,  1.01315862e+43,\n",
       "            1.19631222e+43,  1.41499277e+43,  1.67678628e+43,\n",
       "            1.99101719e+43,  2.36915901e+43,  2.82534138e+43,\n",
       "            3.37697657e+43,  4.04553276e+43,  4.85748889e+43,\n",
       "            5.84551335e+43,  7.04991911e+43,  8.52046042e+43,\n",
       "            1.03185514e+44,  1.25200057e+44,  1.52184206e+44,\n",
       "            1.85293565e+44,  2.25955003e+44] erg / s>"
      ]
     },
     "execution_count": 243,
     "metadata": {},
     "output_type": "execute_result"
    }
   ],
   "source": [
    "dm_cooling_rate(10**log_Tbs*u.GeV, cls, 10**-25 * u.cm**2)"
   ]
  },
  {
   "cell_type": "code",
   "execution_count": 245,
   "id": "b4a05448",
   "metadata": {},
   "outputs": [
    {
     "data": {
      "text/latex": [
       "$[1.9845631 \\times 10^{42},~2.1294976 \\times 10^{42},~2.2850168 \\times 10^{42},~2.4518937 \\times 10^{42},~2.6309578 \\times 10^{42},~2.8230991 \\times 10^{42},~3.0292727 \\times 10^{42},~3.2505034 \\times 10^{42},~3.4878907 \\times 10^{42},~3.7426146 \\times 10^{42},~4.0159413 \\times 10^{42},~4.3092293 \\times 10^{42},~4.6239363 \\times 10^{42},~4.9616267 \\times 10^{42},~5.323979 \\times 10^{42},~5.7127942 \\times 10^{42},~6.1300049 \\times 10^{42},~6.577685 \\times 10^{42},~7.0580595 \\times 10^{42},~7.5735162 \\times 10^{42},~8.1266172 \\times 10^{42},~8.7201117 \\times 10^{42},~9.3569497 \\times 10^{42},~1.0040297 \\times 10^{43},~1.0773549 \\times 10^{43},~1.1560351 \\times 10^{43},~1.2404615 \\times 10^{43},~1.3310535 \\times 10^{43},~1.4282616 \\times 10^{43},~1.5325689 \\times 10^{43},~1.6444938 \\times 10^{43},~1.7645928 \\times 10^{43},~1.8934627 \\times 10^{43},~2.031744 \\times 10^{43},~2.1801242 \\times 10^{43},~2.3393407 \\times 10^{43},~2.510185 \\times 10^{43},~2.6935061 \\times 10^{43},~2.8902154 \\times 10^{43},~3.1012906 \\times 10^{43},~3.3277807 \\times 10^{43},~3.5708117 \\times 10^{43},~3.8315914 \\times 10^{43},~4.1114161 \\times 10^{43},~4.4116767 \\times 10^{43},~4.7338656 \\times 10^{43},~5.0795843 \\times 10^{43},~5.4505511 \\times 10^{43},~5.84861 \\times 10^{43},~6.2757395 \\times 10^{43}] \\; \\mathrm{\\frac{erg}{s}}$"
      ],
      "text/plain": [
       "<Quantity [1.98456307e+42, 2.12949758e+42, 2.28501679e+42, 2.45189372e+42,\n",
       "           2.63095782e+42, 2.82309915e+42, 3.02927273e+42, 3.25050337e+42,\n",
       "           3.48789069e+42, 3.74261463e+42, 4.01594129e+42, 4.30922926e+42,\n",
       "           4.62393633e+42, 4.96162675e+42, 5.32397901e+42, 5.71279421e+42,\n",
       "           6.13000494e+42, 6.57768497e+42, 7.05805949e+42, 7.57351621e+42,\n",
       "           8.12661722e+42, 8.72011172e+42, 9.35694968e+42, 1.00402965e+43,\n",
       "           1.07735488e+43, 1.15603512e+43, 1.24046145e+43, 1.33105352e+43,\n",
       "           1.42826161e+43, 1.53256890e+43, 1.64449385e+43, 1.76459278e+43,\n",
       "           1.89346265e+43, 2.03174401e+43, 2.18012419e+43, 2.33934071e+43,\n",
       "           2.51018496e+43, 2.69350613e+43, 2.89021541e+43, 3.10129056e+43,\n",
       "           3.32778073e+43, 3.57081168e+43, 3.83159142e+43, 4.11141614e+43,\n",
       "           4.41167673e+43, 4.73386563e+43, 5.07958429e+43, 5.45055111e+43,\n",
       "           5.84860999e+43, 6.27573947e+43] erg / s>"
      ]
     },
     "execution_count": 245,
     "metadata": {},
     "output_type": "execute_result"
    }
   ],
   "source": [
    "radiative_cooling_rate(10**log_Tbs*u.GeV, cls)"
   ]
  },
  {
   "cell_type": "code",
   "execution_count": 175,
   "id": "9b9844ab",
   "metadata": {},
   "outputs": [
    {
     "data": {
      "text/latex": [
       "$-4.048671 \\times 10^{54} \\; \\mathrm{\\frac{GeV}{s}}$"
      ],
      "text/plain": [
       "<Quantity -4.04867103e+54 GeV / s>"
      ]
     },
     "execution_count": 175,
     "metadata": {},
     "output_type": "execute_result"
    }
   ],
   "source": [
    "equil(1*u.GeV, cls, s0)"
   ]
  },
  {
   "cell_type": "code",
   "execution_count": 176,
   "id": "578138af",
   "metadata": {},
   "outputs": [
    {
     "data": {
      "text/plain": [
       "Text(0, 0.5, 'net heating rate (erg/s)')"
      ]
     },
     "execution_count": 176,
     "metadata": {},
     "output_type": "execute_result"
    },
    {
     "data": {
      "image/png": "[encoded data removed]",
      "text/plain": [
       "<Figure size 640x480 with 1 Axes>"
      ]
     },
     "metadata": {},
     "output_type": "display_data"
    }
   ],
   "source": [
    "sig_0=np.logspace(-30, -24)*u.cm**2\n",
    "plt.plot(sig_0,equil(cls.baryon_temp, cls, sig_0))\n",
    "plt.xscale('log')\n",
    "\n",
    "plt.xlabel('sigma_0 (cm^2)')\n",
    "plt.ylabel('net heating rate (erg/s)')"
   ]
  },
  {
   "cell_type": "code",
   "execution_count": 177,
   "id": "83c64fa6",
   "metadata": {},
   "outputs": [
    {
     "data": {
      "text/latex": [
       "$3.1281148 \\times 10^{46} \\; \\mathrm{\\frac{GeV}{s}}$"
      ],
      "text/plain": [
       "<Quantity 3.12811475e+46 GeV / s>"
      ]
     },
     "execution_count": 177,
     "metadata": {},
     "output_type": "execute_result"
    }
   ],
   "source": [
    "equil(cls.baryon_temp, cls, 0*u.cm**2)"
   ]
  },
  {
   "cell_type": "code",
   "execution_count": 297,
   "id": "c2e4aee4",
   "metadata": {},
   "outputs": [
    {
     "data": {
      "text/plain": [
       "array([[-36.7125265 ],\n",
       "       [ -1.30297776],\n",
       "       [-12.88576596],\n",
       "       [-19.94495709],\n",
       "       [-10.29850234],\n",
       "       [-18.98015946],\n",
       "       [-34.0513948 ],\n",
       "       [ -2.39491995],\n",
       "       [-12.20952501],\n",
       "       [-32.36936862]])"
      ]
     },
     "execution_count": 297,
     "metadata": {},
     "output_type": "execute_result"
    }
   ],
   "source": [
    "#prepare MCMC\n",
    "ndim, nwalkers = 1, 10\n",
    "p0=np.zeros((nwalkers, ndim ))\n",
    "log_sigma0 = np.random.uniform(low=-50, high=0, size=nwalkers).astype(np.float128)\n",
    "p0[:,0]=log_sigma0\n",
    "p0"
   ]
  },
  {
   "cell_type": "code",
   "execution_count": null,
   "id": "636065cd",
   "metadata": {},
   "outputs": [],
   "source": []
  },
  {
   "cell_type": "code",
   "execution_count": 298,
   "id": "f68dfaf0",
   "metadata": {},
   "outputs": [],
   "source": [
    "T_data = [c.baryon_temp for c in clusters]"
   ]
  },
  {
   "cell_type": "code",
   "execution_count": 394,
   "id": "749e6473",
   "metadata": {},
   "outputs": [],
   "source": [
    "def log_lik(p0, T_data, var, clusters, m_chi):\n",
    "    if p0<-50 or p0>0:\n",
    "        return -np.inf\n",
    "    #print(p0)\n",
    "    T_model = [brentq(equil, -20, 5, args=(c, p0)) for c in clusters]\n",
    "    X2 = chi_squared(np.power(10,T_model)*u.GeV, T_data, var)\n",
    "    return (-X2/2)"
   ]
  },
  {
   "cell_type": "code",
   "execution_count": 397,
   "id": "7e9ed83b",
   "metadata": {},
   "outputs": [
    {
     "data": {
      "text/latex": [
       "$-11174.688 \\; \\mathrm{}$"
      ],
      "text/plain": [
       "<Quantity -11174.68834865>"
      ]
     },
     "execution_count": 397,
     "metadata": {},
     "output_type": "execute_result"
    }
   ],
   "source": [
    "log_lik(-25, T_data, variances, clusters, -2)"
   ]
  },
  {
   "cell_type": "code",
   "execution_count": 398,
   "id": "d1b17212",
   "metadata": {},
   "outputs": [],
   "source": [
    "m_chi=-2\n",
    "n=0\n",
    "sampler = emcee.EnsembleSampler(\n",
    "    nwalkers, \n",
    "    ndim, \n",
    "    log_lik, \n",
    "    args=[T_data, variances, clusters, m_chi])"
   ]
  },
  {
   "cell_type": "code",
   "execution_count": 399,
   "id": "d0437a9a",
   "metadata": {},
   "outputs": [
    {
     "name": "stderr",
     "output_type": "stream",
     "text": [
      "100%|███████████████████████████████████████████| 50/50 [04:37<00:00,  5.55s/it]\n"
     ]
    }
   ],
   "source": [
    "state = sampler.run_mcmc(p0, 50, progress=True)\n",
    "sampler.reset()"
   ]
  },
  {
   "cell_type": "code",
   "execution_count": 400,
   "id": "e1fb3708",
   "metadata": {},
   "outputs": [
    {
     "name": "stderr",
     "output_type": "stream",
     "text": [
      "100%|███████████████████████████████████████| 500/500 [1:41:40<00:00, 12.20s/it]\n"
     ]
    },
    {
     "data": {
      "text/plain": [
       "State([[-23.87422293]\n",
       " [-23.88455146]\n",
       " [-23.87247681]\n",
       " [-23.87441676]\n",
       " [-23.86593273]\n",
       " [-23.87122145]\n",
       " [-23.86547404]\n",
       " [-23.86185659]\n",
       " [-23.86277833]\n",
       " [-23.86612292]], log_prob=[-234.25837954 -235.20400415 -234.1851555  -234.26804171 -234.13070038\n",
       " -234.14784792 -234.13982535 -234.27074396 -234.22747355 -234.12741164], blobs=None, random_state=('MT19937', array([ 417731514, 1101701387,  221102709, 1854126861, 2761383157,\n",
       "       1836234337, 3862601210, 2847051641, 4231789955, 3650826507,\n",
       "        265697258,  586725373,  781519437, 1844941646, 1656013041,\n",
       "       1664589301, 4190360038, 3605843187,    7464874, 1304015778,\n",
       "       2860966661, 3236410078,  725448027, 2887834056, 3640031965,\n",
       "        574356457,  629972669,  194726049, 1326386556, 1897499771,\n",
       "       3486215269,  663650436, 1088393617, 2538324964, 2304124586,\n",
       "        745675679, 1071118947,  911649403, 3213791908,  192308559,\n",
       "       4057083557, 3662686938, 1462650632, 1213833030, 1642534094,\n",
       "        801470537, 1088103895, 3416044426, 1666716382, 1594655130,\n",
       "       3259441732, 1680922987, 3455847804, 3569284855, 1975273480,\n",
       "       2118715695,  279009008,  258170871,  619620446,   33697731,\n",
       "       1545505961,    9911015, 1158915047, 1294516352, 2266328964,\n",
       "       2068387963, 3986299823, 2052447290, 3317203640, 4240945319,\n",
       "       3530211164, 3059743036, 3872961866, 1063321409, 2642110093,\n",
       "       1576287942, 2171632421,   88000694,  672462329, 2980016930,\n",
       "       1914517826, 4239734507, 2869880051, 1387959637, 3385917794,\n",
       "       1659122118,  811415552, 2437864882, 4270329661, 3378075763,\n",
       "       3934676634, 1923001129,  949072081, 1450405239, 3773998275,\n",
       "        377989499,  482155263,  225165952, 3995069435, 1187459985,\n",
       "         27759768,  691954460, 2150271040, 1061814082, 2395919039,\n",
       "       1647297443, 2495323074, 1220574234, 4048127229,  371612157,\n",
       "       1209110366, 2887493559, 4024328694,  534088277, 1156997193,\n",
       "        525667691, 1681383432,  341157984, 2042331646, 3557483580,\n",
       "       1702195035, 2536036138, 4092497067,  880739905,  476188303,\n",
       "        911987371, 4031845819, 1215972058, 1779491402, 3354133949,\n",
       "       1865238554,  419611639, 3898980710, 2584298479, 1040231788,\n",
       "        969301741, 3889727645, 4191950022,   76731310, 1958962294,\n",
       "       2556324759, 2624460455, 3312140342, 1871344202,  444131372,\n",
       "       4287162749, 2707665651, 2896506868,  793583548, 1362571615,\n",
       "       3506166798, 3320790209, 2871946414,  375902566,  608159673,\n",
       "       1723241665, 4070313694, 2272168100,  324596049, 1254001864,\n",
       "       1541884236, 2957035656, 4215927942, 1947363492, 1106152980,\n",
       "       2149735921,  500803950, 2365996301, 2385607380, 4199182544,\n",
       "        465815382, 1398641655, 1679127433, 1829733656, 3947249503,\n",
       "        239123992, 3324860030, 3870673839, 2908251497,  630284499,\n",
       "       3544142108, 1021149289,  100127768, 3740699685, 3965447045,\n",
       "        215921972, 2133176200, 3394627719,  524177662, 1458692031,\n",
       "       1150306385, 2055293854,  206818358, 1934113749, 2091774282,\n",
       "        966093567, 3961908835, 2043741099, 3403770817, 2320148391,\n",
       "       3950458409, 4170411394,  151299142,  907207230, 3830947196,\n",
       "       4198900362, 2304197648, 3146635760, 1834319751, 3424844242,\n",
       "       1481932207, 3633639273, 3712463191, 1736915126, 3509810169,\n",
       "       2370824154, 2771417332, 1090008295, 3071355121, 1067228604,\n",
       "       1033729859,  762065322,  306857070,  260637160,  408456295,\n",
       "       3654969057, 3145531414,  924964528,  608857843,    7506020,\n",
       "       2051791325,  664059006, 1819535576,  546003431, 3155693045,\n",
       "       1839992672,  447963439,  987956701, 3316614843, 1996315173,\n",
       "       4286469895, 3204037359, 2459970205, 2314555065, 1320292090,\n",
       "       1208402330, 2467879353,  454366773, 3786849954, 2549955294,\n",
       "       3653454120, 2062267739, 2757978020, 2649863526, 1126975496,\n",
       "       1847765692, 3712574887, 3311887435, 1299076045,  887905003,\n",
       "       2788046972, 1485713261,  849925407, 1697877700, 1800952673,\n",
       "        916645880, 3119047878, 1983212153, 3274201252, 3847917242,\n",
       "        711785638, 1960013116, 3385978762,  149233066,  752325777,\n",
       "       3439869335, 3467660032, 1230001722, 3866559215,   21069136,\n",
       "       4175165033,  647371550, 3892939687, 2996941777, 1256451336,\n",
       "         40039615, 3929089759, 1191157731, 3969779141,  470629313,\n",
       "         52970862, 2158438706, 2765372439, 3579788738, 1424723045,\n",
       "       1741901061, 3294328181, 3682512377,  577744749, 2929378369,\n",
       "       1998404296, 1657817381, 2748869200,  421640153, 2344009623,\n",
       "       3442568474, 1095106934,  690344306,  707514639, 4121176457,\n",
       "       2204062838, 1893848523,  382671133, 2785346060, 3947141532,\n",
       "        359264804,  770289439, 2864499987,  464782417, 2410218610,\n",
       "       2365803538,  507236839, 4021236375, 2618006202, 3757231930,\n",
       "       1958224474, 1785337519,  470307039, 3328783383, 3710942152,\n",
       "       2982937568, 1765617727, 3094163485, 3382293615, 2871601251,\n",
       "       1607506861, 4099361970, 2166315304, 1789752811, 1526260708,\n",
       "        553096827,  266448859, 1080804293,  559205568, 3067933452,\n",
       "        732775719, 1524681622,  788235447, 3371989913, 2357495308,\n",
       "       1318831080,  611071332, 3476506127,  940262075, 1487139410,\n",
       "       1106913689, 1975378046, 1437869434, 3621525707, 3521214935,\n",
       "       4207452722, 3245042865, 2215642520, 3625851300, 3333695298,\n",
       "        414065313,  433668726, 1027431648,  188675742, 3164704921,\n",
       "       4005606556, 2278032736, 1831477439, 2931525085, 2391711721,\n",
       "       3349313203,  875312244, 1184485946, 3329650929, 3761393456,\n",
       "       3437273663, 2053184484, 2385706394, 2358466187, 2832451385,\n",
       "       2928116837, 2311447946, 3687568392, 2423040397, 3967490031,\n",
       "       4227608465, 1167507552,  807962702, 2138144620, 2857057658,\n",
       "        552656028, 1329134456, 1439670489, 1437698428, 2241751684,\n",
       "        227489218, 1640153265, 2823527992, 1370788043, 2704900158,\n",
       "       3223544612, 3881920766, 2607729422, 2767131694, 1171609574,\n",
       "       1709890522, 4165237353, 1312948454, 3088223058,  155554203,\n",
       "       2173247871, 2265058981, 3776927576, 2532614597,  420669039,\n",
       "       3766525575, 1437189787, 2506454356, 2362375497, 2323758097,\n",
       "       2450921563,   59429534, 2365523457, 2459608678, 1605175562,\n",
       "       3704868818, 1993350492, 2073542240, 3383046540, 1273218143,\n",
       "       1336746564, 2796603169, 2509964149, 3358491085, 2598769827,\n",
       "       3210029604,  781295988, 1041053949, 1684143178, 1541881461,\n",
       "       1598327316, 2360413338, 1001752521,   14789056, 1064495788,\n",
       "       1235439463, 3628180936, 2343919644,  594132410, 1138868801,\n",
       "        190199536, 4173282788, 3192614241, 2888973407, 3642025329,\n",
       "       2230349033, 1211661853, 3811504264,  616325521, 3981167016,\n",
       "       2718311201, 3124352284, 1793614558, 1016745838,  742420180,\n",
       "        601177678, 2773313555, 3790152044, 2596975111,  956131564,\n",
       "       1644088711,  546782591,  158950626, 2123326780, 2402345554,\n",
       "        330930397, 1451332375, 1947672884, 2530238973, 2997222400,\n",
       "       2659524710,  329377323, 1042769320,  652203788,  166604873,\n",
       "       2338966541, 3604653601,  931438024, 3483639523,  708975677,\n",
       "        975575907, 3593413899, 1593070633, 1847153656, 2081121309,\n",
       "       2102762693,  810990359, 3917316384, 2386349621,  627454651,\n",
       "       3012529729, 2751889137, 2879584512,  229179194, 2487966510,\n",
       "        770476827, 3902821593, 1793818702, 1819823526, 3553048089,\n",
       "        481207731, 1919963298, 1834462579,  898360205, 1384649588,\n",
       "       4153630053, 1146923932,  612728011,  657437690, 1454401789,\n",
       "       1856885521, 3479356217, 3892913323, 3113771651, 1330090701,\n",
       "       1068564623, 2859551173, 2672423577, 3003387934, 3231322611,\n",
       "        835166419, 2721718521, 2917699649, 2803206393, 1655368973,\n",
       "       1508705542, 3797235462, 1415874517, 2374539325, 1252834476,\n",
       "        259548881, 3042982825,  438872088, 1053735451, 4248749501,\n",
       "       2505205126, 3925711967, 3356547598, 1257537815, 3820754813,\n",
       "       4239138475, 2994299348, 1128752492,  105127916, 1160586835,\n",
       "       1578849792, 2104051168, 2591907619, 3218201418, 1309540194,\n",
       "       2328804739, 2583195136, 3348480016,  917092462, 1000082927,\n",
       "       1099434749, 3356029780, 3089503327, 2192383917, 4048254693,\n",
       "       2494054776, 4020916623,  202663332,  647121174,  912967764,\n",
       "       2038370234, 1508929553, 1078877667, 2068191762,  251899954,\n",
       "       1262610516, 4078069869, 4062581606, 1763321910, 3142872532,\n",
       "       2116915854, 3988474177, 3195935704, 1280376727,  433112284,\n",
       "       3316901414,  850169668, 3389873057, 2957725990, 1687997311,\n",
       "       2670440627,  232792994,  224009328, 3478878504, 2438941200,\n",
       "       3987126011,  147037554, 3339036186, 4037637487, 3575636267,\n",
       "       1869455943, 3061794588, 3664392909, 1118438808, 1944472957,\n",
       "       1465720855, 1464343340, 2379322549, 3568447826, 3472630934,\n",
       "       2366462811, 3484478239, 2877909043,   55308965], dtype=uint32), 153, 0, 0.0))"
      ]
     },
     "execution_count": 400,
     "metadata": {},
     "output_type": "execute_result"
    }
   ],
   "source": [
    "sampler.run_mcmc(state, 500, progress=True)"
   ]
  },
  {
   "cell_type": "code",
   "execution_count": 401,
   "id": "ec3076a5",
   "metadata": {},
   "outputs": [],
   "source": [
    "samples = sampler.get_chain(flat=True)"
   ]
  },
  {
   "cell_type": "code",
   "execution_count": 402,
   "id": "214f25cb",
   "metadata": {},
   "outputs": [
    {
     "data": {
      "text/plain": [
       "'Mean acceptance fraction: 0.784'"
      ]
     },
     "execution_count": 402,
     "metadata": {},
     "output_type": "execute_result"
    }
   ],
   "source": [
    "\"Mean acceptance fraction: {0:.3f}\".format(np.mean(sampler.acceptance_fraction))"
   ]
  },
  {
   "cell_type": "code",
   "execution_count": 403,
   "id": "edc9dbc7",
   "metadata": {},
   "outputs": [
    {
     "name": "stdout",
     "output_type": "stream",
     "text": [
      "(5000, 1)\n"
     ]
    },
    {
     "data": {
      "image/png": "[encoded data removed]",
      "text/plain": [
       "<Figure size 340x340 with 1 Axes>"
      ]
     },
     "metadata": {},
     "output_type": "display_data"
    }
   ],
   "source": [
    "flat_samples = sampler.get_chain(flat=True)\n",
    "print(flat_samples.shape)\n",
    "fig = corner.corner(flat_samples, labels=['log(sigma0)'])"
   ]
  },
  {
   "cell_type": "code",
   "execution_count": 404,
   "id": "29a7f550",
   "metadata": {},
   "outputs": [
    {
     "data": {
      "text/plain": [
       "-23.86902455757523"
      ]
     },
     "execution_count": 404,
     "metadata": {},
     "output_type": "execute_result"
    }
   ],
   "source": [
    "np.median(samples)"
   ]
  },
  {
   "cell_type": "code",
   "execution_count": 405,
   "id": "bf8b1d2b",
   "metadata": {},
   "outputs": [
    {
     "data": {
      "text/plain": [
       "array([[-23.85939879],\n",
       "       [-23.78142168],\n",
       "       [-23.86348904],\n",
       "       ...,\n",
       "       [-23.86185659],\n",
       "       [-23.86277833],\n",
       "       [-23.86612292]])"
      ]
     },
     "execution_count": 405,
     "metadata": {},
     "output_type": "execute_result"
    }
   ],
   "source": [
    "flat_samples"
   ]
  },
  {
   "cell_type": "code",
   "execution_count": 410,
   "id": "eb2bbbed",
   "metadata": {},
   "outputs": [],
   "source": [
    "samples=sampler.get_chain()"
   ]
  },
  {
   "cell_type": "code",
   "execution_count": 412,
   "id": "15def489",
   "metadata": {},
   "outputs": [
    {
     "data": {
      "text/plain": [
       "(500, 10, 1)"
      ]
     },
     "execution_count": 412,
     "metadata": {},
     "output_type": "execute_result"
    }
   ],
   "source": [
    "samples.shape"
   ]
  },
  {
   "cell_type": "code",
   "execution_count": 417,
   "id": "9847798c",
   "metadata": {},
   "outputs": [
    {
     "data": {
      "text/plain": [
       "array([[-23.86261717],\n",
       "       [-23.80848371],\n",
       "       [-23.87433723],\n",
       "       [-23.83298467],\n",
       "       [-23.88206628],\n",
       "       [-23.86207802],\n",
       "       [-23.87764532],\n",
       "       [-23.22800952],\n",
       "       [-23.87070149],\n",
       "       [-21.54250419]])"
      ]
     },
     "execution_count": 417,
     "metadata": {},
     "output_type": "execute_result"
    }
   ],
   "source": [
    "samples[4]"
   ]
  },
  {
   "cell_type": "code",
   "execution_count": null,
   "id": "5f815348",
   "metadata": {},
   "outputs": [],
   "source": []
  }
 ],
 "metadata": {
  "kernelspec": {
   "display_name": "Python 3 (ipykernel)",
   "language": "python",
   "name": "python3"
  },
  "language_info": {
   "codemirror_mode": {
    "name": "ipython",
    "version": 3
   },
   "file_extension": ".py",
   "mimetype": "text/x-python",
   "name": "python",
   "nbconvert_exporter": "python",
   "pygments_lexer": "ipython3",
   "version": "3.11.5"
  }
 },
 "nbformat": 4,
 "nbformat_minor": 5
}
