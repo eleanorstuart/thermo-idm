{
 "cells": [
  {
   "cell_type": "code",
   "execution_count": 2,
   "id": "4dfa596c",
   "metadata": {},
   "outputs": [
    {
     "name": "stdout",
     "output_type": "stream",
     "text": [
      "Intel MKL WARNING: Support of Intel(R) Streaming SIMD Extensions 4.2 (Intel(R) SSE4.2) enabled only processors has been deprecated. Intel oneAPI Math Kernel Library 2025.0 will require Intel(R) Advanced Vector Extensions (Intel(R) AVX) instructions.\n",
      "Intel MKL WARNING: Support of Intel(R) Streaming SIMD Extensions 4.2 (Intel(R) SSE4.2) enabled only processors has been deprecated. Intel oneAPI Math Kernel Library 2025.0 will require Intel(R) Advanced Vector Extensions (Intel(R) AVX) instructions.\n"
     ]
    }
   ],
   "source": [
    "import numpy as np\n",
    "import astropy.units as u\n",
    "import astropy.constants as const\n",
    "from astropy.cosmology import WMAP9 as cosmo\n",
    "import matplotlib.pyplot as plt\n",
    "\n",
    "%matplotlib inline"
   ]
  },
  {
   "cell_type": "code",
   "execution_count": 3,
   "id": "766cff5c",
   "metadata": {},
   "outputs": [],
   "source": [
    "rhoc = cosmo.critical_density(0.)"
   ]
  },
  {
   "cell_type": "code",
   "execution_count": 4,
   "id": "b3b8d0e6",
   "metadata": {},
   "outputs": [
    {
     "data": {
      "text/latex": [
       "$9.0259243 \\times 10^{-30} \\; \\mathrm{\\frac{g}{cm^{3}}}$"
      ],
      "text/plain": [
       "<Quantity 9.02592435e-30 g / cm3>"
      ]
     },
     "execution_count": 4,
     "metadata": {},
     "output_type": "execute_result"
    }
   ],
   "source": [
    "rhoc"
   ]
  },
  {
   "cell_type": "code",
   "execution_count": 5,
   "id": "438ee732",
   "metadata": {},
   "outputs": [],
   "source": [
    "Deltac = 18*np.pi**2 + 82*(cosmo.Om0-1.)-39.*(cosmo.Om0-1)**2"
   ]
  },
  {
   "cell_type": "code",
   "execution_count": 6,
   "id": "1520fd51",
   "metadata": {},
   "outputs": [
    {
     "data": {
      "text/plain": [
       "99.29167146960845"
      ]
     },
     "execution_count": 6,
     "metadata": {},
     "output_type": "execute_result"
    }
   ],
   "source": [
    "Deltac"
   ]
  },
  {
   "cell_type": "code",
   "execution_count": 9,
   "id": "1bade6ee",
   "metadata": {},
   "outputs": [
    {
     "data": {
      "text/latex": [
       "$2.2115875 \\; \\mathrm{Mpc}$"
      ],
      "text/plain": [
       "<Quantity 2.21158754 Mpc>"
      ]
     },
     "execution_count": 9,
     "metadata": {},
     "output_type": "execute_result"
    }
   ],
   "source": [
    "Rvir(6e14*u.Msun).to(u.Mpc)"
   ]
  },
  {
   "cell_type": "code",
   "execution_count": 10,
   "id": "dffa0a8b",
   "metadata": {},
   "outputs": [
    {
     "data": {
      "text/latex": [
       "$5.0906108 \\; \\mathrm{}$"
      ],
      "text/plain": [
       "<Quantity 5.09061079>"
      ]
     },
     "execution_count": 10,
     "metadata": {},
     "output_type": "execute_result"
    }
   ],
   "source": [
    "Cvir(6e14*u.Msun)"
   ]
  },
  {
   "cell_type": "code",
   "execution_count": 8,
   "id": "1ad1ccb4",
   "metadata": {},
   "outputs": [],
   "source": [
    "def Rvir(Mvir):\n",
    "    denom = 4*np.pi/3*Deltac*rhoc\n",
    "    return (Mvir/denom)**(1./3.)\n",
    "\n",
    "def Cvir(Mvir):\n",
    "    mterm = (Mvir/(2e12/0.7*u.Msun))**(-0.081)\n",
    "    zterm = (1)**(-0.71)\n",
    "    return 7.85*mterm*zterm"
   ]
  },
  {
   "cell_type": "code",
   "execution_count": 52,
   "id": "64c509e5",
   "metadata": {},
   "outputs": [],
   "source": [
    "def m500(y, Mvir):\n",
    "    fac = 4*np.pi*rhoc\n",
    "    rvir = Rvir(Mvir)\n",
    "    cvir = Cvir(Mvir)\n",
    "    rs = cvir*rvir\n",
    "    ## cvir below should be c500!!\n",
    "    cterm = cvir**3/(np.log(1+cvir)-cvir/(1+cvir))\n",
    "    deltac = 500*cosmo.Om0/3.\n",
    "    logfac = np.log(1+y) - y/(1+y)\n",
    "    return fac*logfac*rs**3*deltac"
   ]
  },
  {
   "cell_type": "code",
   "execution_count": 23,
   "id": "e4f0771a",
   "metadata": {},
   "outputs": [],
   "source": [
    "def new_m500(y, Mvir):\n",
    "    fac = 4*np.pi*rhoc\n",
    "    rvir = Rvir(Mvir)\n",
    "    cvir = Cvir(Mvir)\n",
    "    rs = rvir/cvir\n",
    "    ## cvir below should be c500!!\n",
    "    c500=1.09\n",
    "    cterm = c500**3/(np.log(1+c500)-c500/(1+c500))\n",
    "    deltac = 500/3. * cterm\n",
    "    logfac = np.log(1+c500*y) - c500*y/(1+c500*y)\n",
    "    return fac*logfac*rs**3*deltac"
   ]
  },
  {
   "cell_type": "code",
   "execution_count": 53,
   "id": "46b4139d",
   "metadata": {},
   "outputs": [],
   "source": [
    "ys = np.linspace(0,1,100)"
   ]
  },
  {
   "cell_type": "code",
   "execution_count": 54,
   "id": "db9702c7",
   "metadata": {},
   "outputs": [
    {
     "data": {
      "text/latex": [
       "$2.2056221 \\times 10^{16} \\; \\mathrm{M_{\\odot}}$"
      ],
      "text/plain": [
       "<Quantity 2.20562215e+16 solMass>"
      ]
     },
     "execution_count": 54,
     "metadata": {},
     "output_type": "execute_result"
    }
   ],
   "source": [
    "m500(1.0, 6e14*u.Msun)"
   ]
  },
  {
   "cell_type": "code",
   "execution_count": 24,
   "id": "609b1df4",
   "metadata": {},
   "outputs": [
    {
     "data": {
      "text/latex": [
       "$2.9660485 \\times 10^{13} \\; \\mathrm{M_{\\odot}}$"
      ],
      "text/plain": [
       "<Quantity 2.96604848e+13 solMass>"
      ]
     },
     "execution_count": 24,
     "metadata": {},
     "output_type": "execute_result"
    }
   ],
   "source": [
    "new_m500(1.0, 6e14*u.Msun)"
   ]
  },
  {
   "cell_type": "code",
   "execution_count": 48,
   "id": "0a5e2690",
   "metadata": {},
   "outputs": [
    {
     "data": {
      "text/plain": [
       "[<matplotlib.lines.Line2D at 0x177e05150>]"
      ]
     },
     "execution_count": 48,
     "metadata": {},
     "output_type": "execute_result"
    },
    {
     "data": {
      "image/png": "[encoded data removed]",
      "text/plain": [
       "<Figure size 640x480 with 1 Axes>"
      ]
     },
     "metadata": {},
     "output_type": "display_data"
    }
   ],
   "source": [
    "plt.plot(ys, m500(ys, 6e14*u.Msun))"
   ]
  },
  {
   "cell_type": "code",
   "execution_count": null,
   "id": "44b2aada",
   "metadata": {},
   "outputs": [],
   "source": []
  }
 ],
 "metadata": {
  "kernelspec": {
   "display_name": "Python 3 (ipykernel)",
   "language": "python",
   "name": "python3"
  },
  "language_info": {
   "codemirror_mode": {
    "name": "ipython",
    "version": 3
   },
   "file_extension": ".py",
   "mimetype": "text/x-python",
   "name": "python",
   "nbconvert_exporter": "python",
   "pygments_lexer": "ipython3",
   "version": "3.11.5"
  }
 },
 "nbformat": 4,
 "nbformat_minor": 5
}
