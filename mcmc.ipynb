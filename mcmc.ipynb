{
 "cells": [
  {
   "cell_type": "code",
   "execution_count": 207,
   "id": "437d2982",
   "metadata": {},
   "outputs": [],
   "source": [
    "import numpy as np\n",
    "from astropy import constants as const\n",
    "from astropy import units as u\n",
    "from astropy.table import QTable\n",
    "import pandas as pd\n",
    "import emcee\n",
    "from matplotlib import pyplot as plt\n",
    "\n",
    "from cluster import c, Cluster, temp_from_vdisp"
   ]
  },
  {
   "cell_type": "code",
   "execution_count": 24,
   "id": "e83728ea",
   "metadata": {},
   "outputs": [],
   "source": [
    "# consts\n",
    "n=0 # only collisions for now\n",
    "norm = 1/4 # normalizing factor for accretion rate\n",
    "mu = 1  # mean molecular weight of gas, 1 for proton gas (hydrogen)\n",
    "m_chi = 1e-3*u.GeV"
   ]
  },
  {
   "cell_type": "code",
   "execution_count": 234,
   "id": "516d770c",
   "metadata": {},
   "outputs": [],
   "source": [
    "# load in a dataset here\n",
    "nrows=100\n",
    "galwcls=pd.read_csv('data/galwcls.dat', sep='|', header=None, nrows=nrows)\n",
    "cls_data = {'sig500': galwcls[:][8],\n",
    "            'M500': galwcls[:][11],\n",
    "            'r200': galwcls[:][13],\n",
    "            'sig200':galwcls[:][15],\n",
    "            'err_neg':galwcls[:][16],\n",
    "            'err_pos':galwcls[:][17],\n",
    "            'M200':galwcls[:][18]}\n",
    "units = {'sig500': u.km/u.s,\n",
    "            'M500': u.Msun,\n",
    "            'r200': u.Mpc,\n",
    "            'sig200': u.km/u.s,\n",
    "            'err_neg':u.km/u.s,\n",
    "            'err_pos':u.km/u.s,\n",
    "            'M200': u.Msun, }\n",
    "cls_table = QTable(cls_data, units=units)"
   ]
  },
  {
   "cell_type": "code",
   "execution_count": 235,
   "id": "b03ef4d9",
   "metadata": {},
   "outputs": [],
   "source": [
    "i = 1\n",
    "test_cluster = Cluster(\n",
    "    cls_table['r200'][i], \n",
    "    cls_table['M200'][i], \n",
    "    cls_table['sig200'][i], \n",
    "    m500=cls_table['M500'][i])"
   ]
  },
  {
   "cell_type": "code",
   "execution_count": 236,
   "id": "3b9514a5",
   "metadata": {},
   "outputs": [],
   "source": [
    "# for 1 free parameter, Tx=0 approximation (small mx)\n",
    "def T_b(sigma0, cluster):\n",
    "    V=cluster.volume.to(u.cm**3)\n",
    "    x = (3*const.c*c(n)*V*cluster.rho_dm*cluster.rho_b*sigma0/(cluster.m_b+m_chi)**2).to(1/u.s)\n",
    "    leading_factors = (norm * 4*np.pi *const.c ** -3).to(u.s**3/u.cm**3)\n",
    "    gm2 = ((const.G * cluster.bh_mass()) ** 2).to(u.cm**6/u.s**4)\n",
    "    frac = ((mu * cluster.m_b) ** (5 / 2) / cluster.adiabatic_idx ** (3 / 2)).to(u.GeV**(5/2))\n",
    "    nb = (2 * cluster.n_e).to(u.cm ** (-3)) # baryon number density\n",
    "    D = (cluster.epsilon*leading_factors*gm2*frac*(1/nb**(2/3))**(-3/2)) # removed k_B from original function because we are working in GeV here\n",
    "    return (((D*np.sqrt(cluster.m_b))/x)**(1/3)).to(u.GeV, equivalencies=u.temperature_energy())"
   ]
  },
  {
   "cell_type": "code",
   "execution_count": 237,
   "id": "22235a58",
   "metadata": {},
   "outputs": [
    {
     "data": {
      "text/latex": [
       "$2.2924097 \\times 10^{-7} \\; \\mathrm{GeV}$"
      ],
      "text/plain": [
       "<Quantity 2.29240968e-07 GeV>"
      ]
     },
     "execution_count": 237,
     "metadata": {},
     "output_type": "execute_result"
    }
   ],
   "source": [
    "T_b(1e-15*u.cm**2, test_cluster).to(u.GeV, equivalencies=u.temperature_energy()) # predicted cluster temp"
   ]
  },
  {
   "cell_type": "code",
   "execution_count": 238,
   "id": "433c2e52",
   "metadata": {},
   "outputs": [
    {
     "data": {
      "text/latex": [
       "$8.9664331 \\times 10^{-6} \\; \\mathrm{GeV}$"
      ],
      "text/plain": [
       "<Quantity 8.96643311e-06 GeV>"
      ]
     },
     "execution_count": 238,
     "metadata": {},
     "output_type": "execute_result"
    }
   ],
   "source": [
    "test_cluster.baryon_temp # actual cluster temp (from data)"
   ]
  },
  {
   "cell_type": "code",
   "execution_count": 239,
   "id": "91de326f",
   "metadata": {},
   "outputs": [],
   "source": [
    "def variance(err_neg, err_pos):\n",
    "    n_temp = temp_from_vdisp(err_neg)\n",
    "    p_temp = temp_from_vdisp(err_pos)\n",
    "    return n_temp + p_temp"
   ]
  },
  {
   "cell_type": "code",
   "execution_count": 240,
   "id": "6103952f",
   "metadata": {},
   "outputs": [],
   "source": [
    "def chi_squared(T_model, T_data, variance): # take lists of model prediction, data, and variance of same length\n",
    "    chi_squared_sum = 0\n",
    "    for i in range(len(T_model)):\n",
    "        chi_squared_sum+=(T_model[i]-T_data[i])**2/variance[i]**2\n",
    "    return chi_squared_sum\n",
    "        "
   ]
  },
  {
   "cell_type": "code",
   "execution_count": 241,
   "id": "2b7da65a",
   "metadata": {},
   "outputs": [],
   "source": [
    "T_data = [temp_from_vdisp(v) for v in cls_table['sig200']]\n",
    "clusters = [Cluster(cls_table['r200'][i], cls_table['M200'][i], cls_table['sig200'][i], m500=cls_table['M500'][i]) for i in range(galwcls.shape[0])]\n",
    "T_model = [T_b(1e-10*u.cm**2, c) for c in clusters]\n",
    "var = variance(cls_table['err_neg'], cls_table['err_pos'])"
   ]
  },
  {
   "cell_type": "code",
   "execution_count": 242,
   "id": "44756c08",
   "metadata": {},
   "outputs": [],
   "source": [
    "X2 = chi_squared(T_model, T_data, var)"
   ]
  },
  {
   "cell_type": "code",
   "execution_count": 243,
   "id": "2291b025",
   "metadata": {},
   "outputs": [],
   "source": [
    "def log_likelihood(p0, T_data, var):\n",
    "    if p0<0:\n",
    "        return -np.inf\n",
    "    T_model = [T_b(p0, c) for c in clusters]\n",
    "    X2 = chi_squared(T_model, T_data, var)\n",
    "    return (-X2/2)[0]"
   ]
  },
  {
   "cell_type": "code",
   "execution_count": 244,
   "id": "9153715e",
   "metadata": {},
   "outputs": [
    {
     "data": {
      "text/latex": [
       "$-5.9953906 \\times 10^{8} \\; \\mathrm{}$"
      ],
      "text/plain": [
       "<Quantity -5.99539057e+08>"
      ]
     },
     "execution_count": 244,
     "metadata": {},
     "output_type": "execute_result"
    }
   ],
   "source": [
    "#chi_squared(T_model, T_data, var)\n",
    "log_likelihood(sigma0[0], T_data, var)"
   ]
  },
  {
   "cell_type": "code",
   "execution_count": 245,
   "id": "e5483ae0",
   "metadata": {},
   "outputs": [
    {
     "data": {
      "text/latex": [
       "$[[8.8270653 \\times 10^{-26}],~\n",
       " [5.9966565 \\times 10^{-30}],~\n",
       " [7.9617942 \\times 10^{-27}],~\n",
       " [7.2464395 \\times 10^{-23}],~\n",
       " [1.5785057 \\times 10^{-18}]] \\; \\mathrm{cm^{2}}$"
      ],
      "text/plain": [
       "<Quantity [[8.82706532e-26],\n",
       "           [5.99665652e-30],\n",
       "           [7.96179417e-27],\n",
       "           [7.24643951e-23],\n",
       "           [1.57850567e-18]] cm2>"
      ]
     },
     "execution_count": 245,
     "metadata": {},
     "output_type": "execute_result"
    }
   ],
   "source": [
    "ndim, nwalkers = 1, 5\n",
    "# initialize random sigma0s\n",
    "sigma0 = np.power(10, np.random.uniform(low=-30, high=-10, size=(nwalkers, ndim)))*u.cm**2\n",
    "sigma0"
   ]
  },
  {
   "cell_type": "code",
   "execution_count": 246,
   "id": "295fc652",
   "metadata": {},
   "outputs": [],
   "source": [
    "sampler = emcee.EnsembleSampler(nwalkers, ndim, log_likelihood, args=[T_data, var])"
   ]
  },
  {
   "cell_type": "code",
   "execution_count": 247,
   "id": "c8fb4a6f",
   "metadata": {},
   "outputs": [
    {
     "name": "stderr",
     "output_type": "stream",
     "text": [
      "You must install the tqdm library to use progress indicators with emcee\n"
     ]
    }
   ],
   "source": [
    "state = sampler.run_mcmc(sigma0, 100, progress=True)\n",
    "sampler.reset()"
   ]
  },
  {
   "cell_type": "code",
   "execution_count": 248,
   "id": "78928b2f",
   "metadata": {},
   "outputs": [
    {
     "name": "stderr",
     "output_type": "stream",
     "text": [
      "You must install the tqdm library to use progress indicators with emcee\n"
     ]
    },
    {
     "data": {
      "text/plain": [
       "State([[3.65787650e-20]\n",
       " [3.68899295e-20]\n",
       " [3.71463972e-20]\n",
       " [3.69800966e-20]\n",
       " [3.76445659e-20]] cm2, log_prob=[-3863.61348597 -3862.96786525 -3863.04448117 -3862.93300499\n",
       " -3864.70619441], blobs=None, random_state=('MT19937', array([  46912532, 2129814723, 1668818556, 4199244730, 2263046703,\n",
       "       1227326458, 3655366211, 3342985023, 4268259560, 2036619621,\n",
       "       4213516690, 1890222417,  638723167,  525288455, 4037688822,\n",
       "        709739075, 3105712257, 2614241121, 1402371599,  336404804,\n",
       "       2255296001,  825260810, 2107855305, 3076148933, 2920104351,\n",
       "       3067551980,  269461584, 2748936321, 3024306600, 1340387956,\n",
       "       2290164942, 2319631118,  335131384,   73481356,  508276949,\n",
       "         38226938, 3054215451, 1297537692, 1612811882, 2327408074,\n",
       "       4117875617,  337708666, 4020452942, 2740301437,  869250642,\n",
       "       3722289504, 2067438861, 3000399107, 2355156619,  326773778,\n",
       "       3752224865, 3905374434, 3088222472, 2972332956, 2798859407,\n",
       "       3508759075, 2178237045, 4100990767, 3790330433, 3374682217,\n",
       "       3756018793, 4033306210, 1593985781, 1320325544, 1672915284,\n",
       "       2827264204,  871868391,   33681400, 3226221972, 3831876097,\n",
       "       1913628015, 1958404203, 2475197889, 2715710627,  156386958,\n",
       "       1274470670, 1610124646, 1789979631,   84343537,  872297222,\n",
       "       3281476319, 1736278827,  238118525,   28163576, 3136900704,\n",
       "        115559559, 1935905012, 2341598106, 4263101901, 2518475861,\n",
       "       4254321262, 1446642284,  936155662, 3181073535,  956751211,\n",
       "        964822704, 3409566299, 2393485952,  187646792, 1877880164,\n",
       "       2856063401,  722178741,  639230529, 1574577632, 2977358442,\n",
       "       3915180739, 3820865982, 4209093323, 1766960133,  624161134,\n",
       "         93611660, 3233192097, 2716222548, 3809872304, 3570696256,\n",
       "       4251614582, 4206590436,   25012131, 4250079992, 1403714508,\n",
       "       3550037341,  978898710, 3833547851,  693612721, 1022875079,\n",
       "       2956365714, 1688343056, 3732680926, 1070840501,  496827221,\n",
       "       3681431660, 3807323089, 2610324757,  739524451,   37346872,\n",
       "       3784802822, 1215416789, 2821908500, 4037763497, 1304392773,\n",
       "       1923211131, 2887747818, 3645424563, 3762163869, 2221551530,\n",
       "       2838099296, 1851171766, 2311279451,  169681992, 3967488201,\n",
       "        750764473, 3463526953, 3720831258,   53002412, 4126243898,\n",
       "       2014446853, 2038806144, 1887742578, 3387993972, 3875463677,\n",
       "       4030765985, 3756455493, 1496513144, 3790737659,  918549024,\n",
       "       1311434574, 2063959258, 3272851191, 1813233860, 2435419653,\n",
       "       4283159508,  280801832, 3380975199,  706014078, 4104501164,\n",
       "       2513684968, 1862251897, 4017706791,  426390968,   52501447,\n",
       "       2689734125, 1594505773, 3108479710, 2953822564, 3613501002,\n",
       "       3336934661, 1576552884, 1862406094,  771516359,  975691983,\n",
       "       3101367995, 3579056228,  995000889, 2022795443, 3366413541,\n",
       "        542143272, 3191657042, 1389817739, 1213757107, 1246485379,\n",
       "       4091147823, 1637419661, 3399098187, 4238198676,  860426192,\n",
       "       2786927023, 1033088927, 1522160651, 4056581055,  246880410,\n",
       "        623276147, 1612173885,  224080152,  949291576, 2912350440,\n",
       "        500915358, 3174744950, 1752493730, 1942047828, 3639596226,\n",
       "       3269808533, 1507760668, 3971615891, 1246055072, 3413289106,\n",
       "       1456868849,  738220444,  732208406, 3653410615,  492689040,\n",
       "        954195075,  933638606, 1357958309, 1489245740, 2339359049,\n",
       "        356976672,  472872403, 2973585048, 3672801250, 1048157771,\n",
       "       3146876258, 3941622266, 3620624842,  700598940,  627864953,\n",
       "       3616667286, 3589914059, 1751937016, 1215564493,  302190695,\n",
       "        795976039,   37968624, 2745177217, 2031002225, 1041025230,\n",
       "       2682574049, 3919277158, 2388292344,  512067168, 1116700156,\n",
       "       1735407226, 4048517828, 1154068127, 3512345179, 4079696637,\n",
       "       3317804814, 1141309718,  303627419, 3774043504, 3405914503,\n",
       "       1317064749, 1701311760, 1902808288,  582252774, 4112832241,\n",
       "       1820596475,  651270238, 2474168047, 2326062552,  988868030,\n",
       "       2217548390, 3089777574, 3804740854, 1001753913, 3450450032,\n",
       "       1751207653, 1977552657, 3399078447, 2097177504, 4266487630,\n",
       "       1039820657, 3175309630, 2213087110, 3877217032, 1084336217,\n",
       "       3130401309, 2574611392, 3206007443, 1046992467,  802052931,\n",
       "       3985586175,  615339071, 3424647851, 2904279485, 2636359844,\n",
       "       3128900474, 2716677059, 3881408546, 3074487338,  878231336,\n",
       "       3813098886, 2705282077, 2940827011, 4093883282, 4007421621,\n",
       "       1100095154, 1472035003, 2307984764, 1251185190, 1783272501,\n",
       "       3036437275, 3390794945, 1677699375, 1426648900,  651163583,\n",
       "       1406845086, 4270089758, 1255664672, 3704578913, 1160081291,\n",
       "          4385920, 3283071922, 3939328272, 2639338157, 1200306319,\n",
       "       1379083159, 3652348526, 1853387122, 1830213288,    2549848,\n",
       "       2972360486,  258140562, 1123819213, 3966920467, 2547402353,\n",
       "       1253768937,  705096996, 3044059596, 4213332804,  334116215,\n",
       "       3901946219, 1819212766, 1170808587, 3496290534, 2937787177,\n",
       "       1122567190, 1623114333, 1939300645, 3439695773,   70630017,\n",
       "       3104943331, 2909977927,  649810421, 2994401340, 3517528407,\n",
       "       1187310197,  203539026, 3679185783, 2578275721, 2739622256,\n",
       "       3930615042,  274545128, 3237675265, 1805429945, 2118837206,\n",
       "       1341694606, 4223095215, 2283117682,  208899418,  400242995,\n",
       "       1508266013, 1345628466, 2732948352, 2933766082, 3222474213,\n",
       "        380134719,  114001834, 1229966644, 4029401156, 3752344343,\n",
       "       1938372730, 4187295367, 3230933329, 2897358194,  129724403,\n",
       "       1185769426,  348809015,  356840210,   46747980,  982018582,\n",
       "       3163082812,   26237599, 3109038996,  803109684, 3524002335,\n",
       "       3305886373,  104240876, 1923482287, 1389749743, 2621820191,\n",
       "       3909492052,  845101958, 2127558485, 2435975868, 3880233149,\n",
       "       2908370107, 2165085842,  784248984, 2375760644, 2528257644,\n",
       "       3768270988,  944246403, 2671782218,  641914456, 1767661756,\n",
       "       2712220363, 2992612690, 3806818324, 3795890460, 2532379788,\n",
       "        333488583, 1545224299, 3983259828, 3807448309, 1694784365,\n",
       "        774910786, 2372613354, 1591808428,  719987592, 1362270618,\n",
       "       3313271932, 3128221649,  422409939, 2767897326, 3019447969,\n",
       "       3528318864, 2850873365, 2253552655,  332182165, 3337970954,\n",
       "       2121556783, 4108802724, 1488287974, 3883422095, 2540017465,\n",
       "       2266027577, 2832859619, 3734393864, 2616197541, 3303848354,\n",
       "       4094388782, 2073591374, 2226461536, 4148845637, 3261853859,\n",
       "       3414698921, 1211086126, 3663784351,  251984584, 3965526311,\n",
       "       1106061280, 2993567094,   83913930, 1535700314, 3509203207,\n",
       "       1527798929, 3367987345, 2831716008,  139845652,   95748028,\n",
       "        991805530, 1866624832, 1357195941, 2123051241,  328065313,\n",
       "       1366421897,  827828668, 3188437897,  318250957,  223301763,\n",
       "       2624303801, 2845736381, 3279796328, 4197264829, 3804960110,\n",
       "         91856136,  494435091, 2939781124,   59596912,  341281404,\n",
       "        729406598, 3096902731, 2883630662, 1121971046, 3556362259,\n",
       "        886877598,  462700265, 3585726892, 1273952848, 1059230985,\n",
       "        615896393,  449947443, 3403766466,  138977969, 2572600619,\n",
       "       2563151298, 3736804295, 2793436052, 3392828630, 2901391150,\n",
       "       3671064351, 1161025912, 3082372407, 4105825089,  177256319,\n",
       "       3344286722, 2493990490, 3462472791, 2988931287, 2139853364,\n",
       "       2178899142,  679112703, 2918299170, 2850100681, 2463416266,\n",
       "       1078349689, 2532885922, 4185565048, 2114542898, 2598578002,\n",
       "       2236759725,  303107885, 1927738578, 2964307942, 3918933828,\n",
       "       1951432533, 1813528452,  317536285, 2175681883, 1832501014,\n",
       "       2282198327, 2264631722, 3622063174, 3995465748, 2158276598,\n",
       "        143728988, 2016112692, 1962023341,  742459871, 3870257119,\n",
       "       3956029893,  767546708, 4071256531, 3082439310,  130112054,\n",
       "       3458362922,  278756478, 4130033689, 3511679240,  880564642,\n",
       "        970010799, 2796914638, 4078226106, 3143740851, 3468114315,\n",
       "       2396450095, 3307452148, 3198761139, 2752427159, 3891979843,\n",
       "       4135396933, 3776662381, 2246689038,    6758665, 2765012347,\n",
       "       2321295137, 4188567261, 3271064704, 2395632416, 4034257658,\n",
       "        434491392, 1031646907,  522988046,  782562016, 2502584360,\n",
       "       1525072113,  257477934, 2568570252, 1648322505, 3546074990,\n",
       "       3184517608,  951911780,  490036305, 4254281986, 1915499165,\n",
       "       1411450715, 4147318229, 3754561618, 3575531657, 3746592364,\n",
       "        339949897, 3190452327,  394759653, 3232510039, 2304914088,\n",
       "       3549792359, 2622290433, 4119440278,   73673915, 2140751281,\n",
       "       2519453114, 1379562683, 3906989896,  363826493], dtype=uint32), 418, 0, 0.0))"
      ]
     },
     "execution_count": 248,
     "metadata": {},
     "output_type": "execute_result"
    }
   ],
   "source": [
    "sampler.run_mcmc(state, 1000, progress=True)"
   ]
  },
  {
   "cell_type": "code",
   "execution_count": 249,
   "id": "51cb1a6f",
   "metadata": {},
   "outputs": [],
   "source": [
    "def plot_loghist(x, bins):\n",
    "    logbins = np.logspace(np.log10(np.min(x)),np.log10(np.max(x)),bins+1)\n",
    "    plt.hist(x, bins=logbins)\n",
    "    plt.xscale('log')\n",
    "    plt.yscale('log')"
   ]
  },
  {
   "cell_type": "code",
   "execution_count": 250,
   "id": "9c61e80e",
   "metadata": {},
   "outputs": [
    {
     "data": {
      "text/plain": [
       "Text(0, 0.5, '$p(\\\\sigma_0)$')"
      ]
     },
     "execution_count": 250,
     "metadata": {},
     "output_type": "execute_result"
    },
    {
     "data": {
      "image/png": "[encoded data removed]",
      "text/plain": [
       "<Figure size 640x480 with 1 Axes>"
      ]
     },
     "metadata": {},
     "output_type": "display_data"
    }
   ],
   "source": [
    "samples = sampler.get_chain(flat=True)\n",
    "plot_loghist(samples[:, 0], 100)\n",
    "plt.xlabel(r\"$\\sigma_0$\")\n",
    "plt.ylabel(r\"$p(\\sigma_0)$\")\n",
    "\n"
   ]
  },
  {
   "cell_type": "code",
   "execution_count": 251,
   "id": "f49a6d15",
   "metadata": {},
   "outputs": [
    {
     "data": {
      "text/plain": [
       "3.698200939984775e-20"
      ]
     },
     "execution_count": 251,
     "metadata": {},
     "output_type": "execute_result"
    }
   ],
   "source": [
    "np.median(samples)"
   ]
  },
  {
   "cell_type": "code",
   "execution_count": 252,
   "id": "3e0994a5",
   "metadata": {},
   "outputs": [
    {
     "name": "stdout",
     "output_type": "stream",
     "text": [
      "Mean acceptance fraction: 0.822\n"
     ]
    }
   ],
   "source": [
    "print(\n",
    "    \"Mean acceptance fraction: {0:.3f}\".format(\n",
    "        np.mean(sampler.acceptance_fraction)\n",
    "    )\n",
    ")"
   ]
  },
  {
   "cell_type": "code",
   "execution_count": 253,
   "id": "f13eb99b",
   "metadata": {},
   "outputs": [
    {
     "ename": "AutocorrError",
     "evalue": "The chain is shorter than 50 times the integrated autocorrelation time for 1 parameter(s). Use this estimate with caution and run a longer chain!\nN/50 = 20;\ntau: [23.1271992]",
     "output_type": "error",
     "traceback": [
      "\u001b[0;31m---------------------------------------------------------------------------\u001b[0m",
      "\u001b[0;31mAutocorrError\u001b[0m                             Traceback (most recent call last)",
      "Cell \u001b[0;32mIn[253], line 3\u001b[0m\n\u001b[1;32m      1\u001b[0m \u001b[38;5;28mprint\u001b[39m(\n\u001b[1;32m      2\u001b[0m     \u001b[38;5;124m\"\u001b[39m\u001b[38;5;124mMean autocorrelation time: \u001b[39m\u001b[38;5;132;01m{0:.3f}\u001b[39;00m\u001b[38;5;124m steps\u001b[39m\u001b[38;5;124m\"\u001b[39m\u001b[38;5;241m.\u001b[39mformat(\n\u001b[0;32m----> 3\u001b[0m         np\u001b[38;5;241m.\u001b[39mmean(sampler\u001b[38;5;241m.\u001b[39mget_autocorr_time())\n\u001b[1;32m      4\u001b[0m     )\n\u001b[1;32m      5\u001b[0m )\n",
      "File \u001b[0;32m~/opt/anaconda3/envs/idm/lib/python3.11/site-packages/emcee/ensemble.py:605\u001b[0m, in \u001b[0;36mEnsembleSampler.get_autocorr_time\u001b[0;34m(self, **kwargs)\u001b[0m\n\u001b[1;32m    604\u001b[0m \u001b[38;5;28;01mdef\u001b[39;00m \u001b[38;5;21mget_autocorr_time\u001b[39m(\u001b[38;5;28mself\u001b[39m, \u001b[38;5;241m*\u001b[39m\u001b[38;5;241m*\u001b[39mkwargs):\n\u001b[0;32m--> 605\u001b[0m     \u001b[38;5;28;01mreturn\u001b[39;00m \u001b[38;5;28mself\u001b[39m\u001b[38;5;241m.\u001b[39mbackend\u001b[38;5;241m.\u001b[39mget_autocorr_time(\u001b[38;5;241m*\u001b[39m\u001b[38;5;241m*\u001b[39mkwargs)\n",
      "File \u001b[0;32m~/opt/anaconda3/envs/idm/lib/python3.11/site-packages/emcee/backends/backend.py:150\u001b[0m, in \u001b[0;36mBackend.get_autocorr_time\u001b[0;34m(self, discard, thin, **kwargs)\u001b[0m\n\u001b[1;32m    131\u001b[0m \u001b[38;5;250m\u001b[39m\u001b[38;5;124;03m\"\"\"Compute an estimate of the autocorrelation time for each parameter\u001b[39;00m\n\u001b[1;32m    132\u001b[0m \n\u001b[1;32m    133\u001b[0m \u001b[38;5;124;03mArgs:\u001b[39;00m\n\u001b[0;32m   (...)\u001b[0m\n\u001b[1;32m    147\u001b[0m \n\u001b[1;32m    148\u001b[0m \u001b[38;5;124;03m\"\"\"\u001b[39;00m\n\u001b[1;32m    149\u001b[0m x \u001b[38;5;241m=\u001b[39m \u001b[38;5;28mself\u001b[39m\u001b[38;5;241m.\u001b[39mget_chain(discard\u001b[38;5;241m=\u001b[39mdiscard, thin\u001b[38;5;241m=\u001b[39mthin)\n\u001b[0;32m--> 150\u001b[0m \u001b[38;5;28;01mreturn\u001b[39;00m thin \u001b[38;5;241m*\u001b[39m autocorr\u001b[38;5;241m.\u001b[39mintegrated_time(x, \u001b[38;5;241m*\u001b[39m\u001b[38;5;241m*\u001b[39mkwargs)\n",
      "File \u001b[0;32m~/opt/anaconda3/envs/idm/lib/python3.11/site-packages/emcee/autocorr.py:112\u001b[0m, in \u001b[0;36mintegrated_time\u001b[0;34m(x, c, tol, quiet)\u001b[0m\n\u001b[1;32m    110\u001b[0m     msg \u001b[38;5;241m+\u001b[39m\u001b[38;5;241m=\u001b[39m \u001b[38;5;124m\"\u001b[39m\u001b[38;5;124mN/\u001b[39m\u001b[38;5;132;01m{0}\u001b[39;00m\u001b[38;5;124m = \u001b[39m\u001b[38;5;132;01m{1:.0f}\u001b[39;00m\u001b[38;5;124m;\u001b[39m\u001b[38;5;130;01m\\n\u001b[39;00m\u001b[38;5;124mtau: \u001b[39m\u001b[38;5;132;01m{2}\u001b[39;00m\u001b[38;5;124m\"\u001b[39m\u001b[38;5;241m.\u001b[39mformat(tol, n_t \u001b[38;5;241m/\u001b[39m tol, tau_est)\n\u001b[1;32m    111\u001b[0m     \u001b[38;5;28;01mif\u001b[39;00m \u001b[38;5;129;01mnot\u001b[39;00m quiet:\n\u001b[0;32m--> 112\u001b[0m         \u001b[38;5;28;01mraise\u001b[39;00m AutocorrError(tau_est, msg)\n\u001b[1;32m    113\u001b[0m     logger\u001b[38;5;241m.\u001b[39mwarning(msg)\n\u001b[1;32m    115\u001b[0m \u001b[38;5;28;01mreturn\u001b[39;00m tau_est\n",
      "\u001b[0;31mAutocorrError\u001b[0m: The chain is shorter than 50 times the integrated autocorrelation time for 1 parameter(s). Use this estimate with caution and run a longer chain!\nN/50 = 20;\ntau: [23.1271992]"
     ]
    }
   ],
   "source": [
    "print(\n",
    "    \"Mean autocorrelation time: {0:.3f} steps\".format(\n",
    "        np.mean(sampler.get_autocorr_time())\n",
    "    )\n",
    ")"
   ]
  },
  {
   "cell_type": "code",
   "execution_count": null,
   "id": "919de040",
   "metadata": {},
   "outputs": [],
   "source": []
  }
 ],
 "metadata": {
  "kernelspec": {
   "display_name": "Python 3 (ipykernel)",
   "language": "python",
   "name": "python3"
  },
  "language_info": {
   "codemirror_mode": {
    "name": "ipython",
    "version": 3
   },
   "file_extension": ".py",
   "mimetype": "text/x-python",
   "name": "python",
   "nbconvert_exporter": "python",
   "pygments_lexer": "ipython3",
   "version": "3.11.4"
  }
 },
 "nbformat": 4,
 "nbformat_minor": 5
}
