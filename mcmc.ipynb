{
 "cells": [
  {
   "cell_type": "code",
   "execution_count": 123,
   "id": "437d2982",
   "metadata": {},
   "outputs": [],
   "source": [
    "import numpy as np\n",
    "from astropy import constants as const\n",
    "from astropy import units as u\n",
    "from astropy.table import QTable\n",
    "import pandas as pd\n",
    "import emcee\n",
    "\n",
    "from cluster import c, Cluster, temp_from_vdisp"
   ]
  },
  {
   "cell_type": "code",
   "execution_count": 24,
   "id": "e83728ea",
   "metadata": {},
   "outputs": [],
   "source": [
    "# consts\n",
    "n=0 # only collisions for now\n",
    "norm = 1/4 # normalizing factor for accretion rate\n",
    "mu = 1  # mean molecular weight of gas, 1 for proton gas (hydrogen)\n",
    "m_chi = 1e-3*u.GeV"
   ]
  },
  {
   "cell_type": "code",
   "execution_count": 56,
   "id": "516d770c",
   "metadata": {},
   "outputs": [],
   "source": [
    "# load in a dataset here\n",
    "galwcls=pd.read_csv('data/galwcls.dat', sep='|', header=None)\n",
    "cls_data = {'sig500': galwcls[:][8],\n",
    "            'M500': galwcls[:][11],\n",
    "            'r200': galwcls[:][13],\n",
    "            'sig200':galwcls[:][15],\n",
    "            'err_neg':galwcls[:][16],\n",
    "            'err_pos':galwcls[:][17],\n",
    "            'M200':galwcls[:][18]}\n",
    "units = {'sig500': u.km/u.s,\n",
    "            'M500': u.Msun,\n",
    "            'r200': u.Mpc,\n",
    "            'sig200': u.km/u.s,\n",
    "            'err_neg':u.km/u.s,\n",
    "            'err_pos':u.km/u.s,\n",
    "            'M200': u.Msun, }\n",
    "cls_table = QTable(cls_data, units=units)"
   ]
  },
  {
   "cell_type": "code",
   "execution_count": 18,
   "id": "b03ef4d9",
   "metadata": {},
   "outputs": [],
   "source": [
    "i = 1\n",
    "test_cluster = Cluster(\n",
    "    cls_table['r200'][i], \n",
    "    cls_table['M200'][i], \n",
    "    cls_table['sig200'][i], \n",
    "    m500=cls_table['M500'][i])"
   ]
  },
  {
   "cell_type": "code",
   "execution_count": 50,
   "id": "3b9514a5",
   "metadata": {},
   "outputs": [],
   "source": [
    "# for 1 free parameter, Tx=0 approximation (small mx)\n",
    "def T_b(sigma0, cluster):\n",
    "    V=cluster.volume.to(u.cm**3)\n",
    "    x = (3*const.c*c(n)*V*cluster.rho_dm*cluster.rho_b*sigma0/(cluster.m_b+m_chi)**2).to(1/u.s)\n",
    "    leading_factors = (norm * 4*np.pi *const.c ** -3).to(u.s**3/u.cm**3)\n",
    "    gm2 = ((const.G * cluster.bh_mass()) ** 2).to(u.cm**6/u.s**4)\n",
    "    frac = ((mu * cluster.m_b) ** (5 / 2) / cluster.adiabatic_idx ** (3 / 2)).to(u.GeV**(5/2))\n",
    "    nb = (2 * cluster.n_e).to(u.cm ** (-3)) # baryon number density\n",
    "    D = (cluster.epsilon*leading_factors*gm2*frac*(1/nb**(2/3))**(-3/2)) # removed k_B from original function because we are working in GeV here\n",
    "    return ((D*np.sqrt(cluster.m_b))/x)**(1/3)"
   ]
  },
  {
   "cell_type": "code",
   "execution_count": 115,
   "id": "22235a58",
   "metadata": {},
   "outputs": [
    {
     "data": {
      "text/latex": [
       "$2.2924097 \\times 10^{-7} \\; \\mathrm{GeV}$"
      ],
      "text/plain": [
       "<Quantity 2.29240968e-07 GeV>"
      ]
     },
     "execution_count": 115,
     "metadata": {},
     "output_type": "execute_result"
    }
   ],
   "source": [
    "T_b(1e-15*u.cm**2, test_cluster).to(u.GeV, equivalencies=u.temperature_energy()) # predicted cluster temp"
   ]
  },
  {
   "cell_type": "code",
   "execution_count": 53,
   "id": "433c2e52",
   "metadata": {},
   "outputs": [
    {
     "data": {
      "text/latex": [
       "$8.9664331 \\times 10^{-6} \\; \\mathrm{GeV}$"
      ],
      "text/plain": [
       "<Quantity 8.96643311e-06 GeV>"
      ]
     },
     "execution_count": 53,
     "metadata": {},
     "output_type": "execute_result"
    }
   ],
   "source": [
    "test_cluster.baryon_temp # actual cluster temp (from data)"
   ]
  },
  {
   "cell_type": "code",
   "execution_count": 54,
   "id": "91de326f",
   "metadata": {},
   "outputs": [],
   "source": [
    "def variance(err_neg, err_pos):\n",
    "    n_temp = temp_from_vdisp(err_neg)\n",
    "    p_temp = temp_from_vdisp(err_pos)\n",
    "    return n_temp + p_temp"
   ]
  },
  {
   "cell_type": "code",
   "execution_count": 97,
   "id": "6103952f",
   "metadata": {},
   "outputs": [],
   "source": [
    "def chi_squared(T_model, T_data, variance): # take lists of model prediction, data, and variance of same length\n",
    "    chi_squared_sum = 0\n",
    "    for i in range(len(T_model)):\n",
    "        chi_squared_sum+=(T_model[i]-T_data[i])**2/variance[i]**2\n",
    "    return chi_squared_sum\n",
    "        "
   ]
  },
  {
   "cell_type": "code",
   "execution_count": 116,
   "id": "2b7da65a",
   "metadata": {},
   "outputs": [],
   "source": [
    "T_data = [temp_from_vdisp(v) for v in cls_table['sig200']]\n",
    "clusters = [Cluster(cls_table['r200'][i], cls_table['M200'][i], cls_table['sig200'][i], m500=cls_table['M500'][i]) for i in range(galwcls.shape[0])]\n",
    "T_model = [T_b(1e-10*u.cm**2, c) for c in clusters]\n",
    "var = variance(cls_table['err_neg'], cls_table['err_pos'])"
   ]
  },
  {
   "cell_type": "code",
   "execution_count": 117,
   "id": "44756c08",
   "metadata": {},
   "outputs": [],
   "source": [
    "X2 = chi_squared(T_model, T_data, var)"
   ]
  },
  {
   "cell_type": "code",
   "execution_count": 131,
   "id": "2291b025",
   "metadata": {},
   "outputs": [],
   "source": [
    "def log_likelihood(p0, T_data, var):\n",
    "    T_model = [T_b(p0, c) for c in clusters]\n",
    "    X2 = chi_squared(T_model, T_data, var)\n",
    "    return -X2/2"
   ]
  },
  {
   "cell_type": "code",
   "execution_count": 125,
   "id": "e5483ae0",
   "metadata": {},
   "outputs": [],
   "source": [
    "ndim, nwalkers = 1, 100\n",
    "#TODO: figure out how to initialize random sigma0s"
   ]
  },
  {
   "cell_type": "code",
   "execution_count": 128,
   "id": "295fc652",
   "metadata": {},
   "outputs": [],
   "source": [
    "sampler = emcee.EnsembleSampler(nwalkers, ndim, log_likelihood, args=[T_data, var])"
   ]
  },
  {
   "cell_type": "code",
   "execution_count": 130,
   "id": "c8fb4a6f",
   "metadata": {},
   "outputs": [
    {
     "ename": "TypeError",
     "evalue": "only dimensionless scalar quantities can be converted to Python scalars",
     "output_type": "error",
     "traceback": [
      "\u001b[0;31m---------------------------------------------------------------------------\u001b[0m",
      "\u001b[0;31mUnitConversionError\u001b[0m                       Traceback (most recent call last)",
      "File \u001b[0;32m~/opt/anaconda3/envs/idm/lib/python3.11/site-packages/astropy/units/quantity.py:890\u001b[0m, in \u001b[0;36mQuantity.to_value\u001b[0;34m(self, unit, equivalencies)\u001b[0m\n\u001b[1;32m    889\u001b[0m \u001b[38;5;28;01mtry\u001b[39;00m:\n\u001b[0;32m--> 890\u001b[0m     scale \u001b[38;5;241m=\u001b[39m \u001b[38;5;28mself\u001b[39m\u001b[38;5;241m.\u001b[39munit\u001b[38;5;241m.\u001b[39m_to(unit)\n\u001b[1;32m    891\u001b[0m \u001b[38;5;28;01mexcept\u001b[39;00m \u001b[38;5;167;01mException\u001b[39;00m:\n\u001b[1;32m    892\u001b[0m     \u001b[38;5;66;03m# Short-cut failed; try default (maybe equivalencies help).\u001b[39;00m\n",
      "File \u001b[0;32m~/opt/anaconda3/envs/idm/lib/python3.11/site-packages/astropy/units/core.py:1093\u001b[0m, in \u001b[0;36mUnitBase._to\u001b[0;34m(self, other)\u001b[0m\n\u001b[1;32m   1091\u001b[0m         \u001b[38;5;28;01mreturn\u001b[39;00m self_decomposed\u001b[38;5;241m.\u001b[39mscale \u001b[38;5;241m/\u001b[39m other_decomposed\u001b[38;5;241m.\u001b[39mscale\n\u001b[0;32m-> 1093\u001b[0m \u001b[38;5;28;01mraise\u001b[39;00m UnitConversionError(\n\u001b[1;32m   1094\u001b[0m     \u001b[38;5;124mf\u001b[39m\u001b[38;5;124m\"\u001b[39m\u001b[38;5;124m'\u001b[39m\u001b[38;5;132;01m{\u001b[39;00m\u001b[38;5;28mself\u001b[39m\u001b[38;5;132;01m!r}\u001b[39;00m\u001b[38;5;124m'\u001b[39m\u001b[38;5;124m is not a scaled version of \u001b[39m\u001b[38;5;124m'\u001b[39m\u001b[38;5;132;01m{\u001b[39;00mother\u001b[38;5;132;01m!r}\u001b[39;00m\u001b[38;5;124m'\u001b[39m\u001b[38;5;124m\"\u001b[39m)\n",
      "\u001b[0;31mUnitConversionError\u001b[0m: 'Unit(\"GeV\")' is not a scaled version of 'Unit(dimensionless)'",
      "\nDuring handling of the above exception, another exception occurred:\n",
      "\u001b[0;31mUnitConversionError\u001b[0m                       Traceback (most recent call last)",
      "File \u001b[0;32m~/opt/anaconda3/envs/idm/lib/python3.11/site-packages/astropy/units/quantity.py:1248\u001b[0m, in \u001b[0;36mQuantity.__float__\u001b[0;34m(self)\u001b[0m\n\u001b[1;32m   1247\u001b[0m \u001b[38;5;28;01mtry\u001b[39;00m:\n\u001b[0;32m-> 1248\u001b[0m     \u001b[38;5;28;01mreturn\u001b[39;00m \u001b[38;5;28mfloat\u001b[39m(\u001b[38;5;28mself\u001b[39m\u001b[38;5;241m.\u001b[39mto_value(dimensionless_unscaled))\n\u001b[1;32m   1249\u001b[0m \u001b[38;5;28;01mexcept\u001b[39;00m (UnitsError, \u001b[38;5;167;01mTypeError\u001b[39;00m):\n",
      "File \u001b[0;32m~/opt/anaconda3/envs/idm/lib/python3.11/site-packages/astropy/units/quantity.py:893\u001b[0m, in \u001b[0;36mQuantity.to_value\u001b[0;34m(self, unit, equivalencies)\u001b[0m\n\u001b[1;32m    891\u001b[0m \u001b[38;5;28;01mexcept\u001b[39;00m \u001b[38;5;167;01mException\u001b[39;00m:\n\u001b[1;32m    892\u001b[0m     \u001b[38;5;66;03m# Short-cut failed; try default (maybe equivalencies help).\u001b[39;00m\n\u001b[0;32m--> 893\u001b[0m     value \u001b[38;5;241m=\u001b[39m \u001b[38;5;28mself\u001b[39m\u001b[38;5;241m.\u001b[39m_to_value(unit, equivalencies)\n\u001b[1;32m    894\u001b[0m \u001b[38;5;28;01melse\u001b[39;00m:\n",
      "File \u001b[0;32m~/opt/anaconda3/envs/idm/lib/python3.11/site-packages/astropy/units/quantity.py:800\u001b[0m, in \u001b[0;36mQuantity._to_value\u001b[0;34m(self, unit, equivalencies)\u001b[0m\n\u001b[1;32m    798\u001b[0m \u001b[38;5;28;01mif\u001b[39;00m \u001b[38;5;129;01mnot\u001b[39;00m \u001b[38;5;28mself\u001b[39m\u001b[38;5;241m.\u001b[39mdtype\u001b[38;5;241m.\u001b[39mnames \u001b[38;5;129;01mor\u001b[39;00m \u001b[38;5;28misinstance\u001b[39m(\u001b[38;5;28mself\u001b[39m\u001b[38;5;241m.\u001b[39munit, StructuredUnit):\n\u001b[1;32m    799\u001b[0m     \u001b[38;5;66;03m# Standard path, let unit to do work.\u001b[39;00m\n\u001b[0;32m--> 800\u001b[0m     \u001b[38;5;28;01mreturn\u001b[39;00m \u001b[38;5;28mself\u001b[39m\u001b[38;5;241m.\u001b[39munit\u001b[38;5;241m.\u001b[39mto(unit, \u001b[38;5;28mself\u001b[39m\u001b[38;5;241m.\u001b[39mview(np\u001b[38;5;241m.\u001b[39mndarray),\n\u001b[1;32m    801\u001b[0m                         equivalencies\u001b[38;5;241m=\u001b[39mequivalencies)\n\u001b[1;32m    803\u001b[0m \u001b[38;5;28;01melse\u001b[39;00m:\n\u001b[1;32m    804\u001b[0m     \u001b[38;5;66;03m# The .to() method of a simple unit cannot convert a structured\u001b[39;00m\n\u001b[1;32m    805\u001b[0m     \u001b[38;5;66;03m# dtype, so we work around it, by recursing.\u001b[39;00m\n\u001b[1;32m    806\u001b[0m     \u001b[38;5;66;03m# TODO: deprecate this?\u001b[39;00m\n\u001b[1;32m    807\u001b[0m     \u001b[38;5;66;03m# Convert simple to Structured on initialization?\u001b[39;00m\n",
      "File \u001b[0;32m~/opt/anaconda3/envs/idm/lib/python3.11/site-packages/astropy/units/core.py:1130\u001b[0m, in \u001b[0;36mUnitBase.to\u001b[0;34m(self, other, value, equivalencies)\u001b[0m\n\u001b[1;32m   1129\u001b[0m \u001b[38;5;28;01melse\u001b[39;00m:\n\u001b[0;32m-> 1130\u001b[0m     \u001b[38;5;28;01mreturn\u001b[39;00m \u001b[38;5;28mself\u001b[39m\u001b[38;5;241m.\u001b[39m_get_converter(Unit(other),\n\u001b[1;32m   1131\u001b[0m                                equivalencies\u001b[38;5;241m=\u001b[39mequivalencies)(value)\n",
      "File \u001b[0;32m~/opt/anaconda3/envs/idm/lib/python3.11/site-packages/astropy/units/core.py:1061\u001b[0m, in \u001b[0;36mUnitBase._get_converter\u001b[0;34m(self, other, equivalencies)\u001b[0m\n\u001b[1;32m   1059\u001b[0m                 \u001b[38;5;28;01mpass\u001b[39;00m\n\u001b[0;32m-> 1061\u001b[0m \u001b[38;5;28;01mraise\u001b[39;00m exc\n",
      "File \u001b[0;32m~/opt/anaconda3/envs/idm/lib/python3.11/site-packages/astropy/units/core.py:1046\u001b[0m, in \u001b[0;36mUnitBase._get_converter\u001b[0;34m(self, other, equivalencies)\u001b[0m\n\u001b[1;32m   1045\u001b[0m \u001b[38;5;28;01mtry\u001b[39;00m:\n\u001b[0;32m-> 1046\u001b[0m     \u001b[38;5;28;01mreturn\u001b[39;00m \u001b[38;5;28mself\u001b[39m\u001b[38;5;241m.\u001b[39m_apply_equivalencies(\n\u001b[1;32m   1047\u001b[0m         \u001b[38;5;28mself\u001b[39m, other, \u001b[38;5;28mself\u001b[39m\u001b[38;5;241m.\u001b[39m_normalize_equivalencies(equivalencies))\n\u001b[1;32m   1048\u001b[0m \u001b[38;5;28;01mexcept\u001b[39;00m UnitsError \u001b[38;5;28;01mas\u001b[39;00m exc:\n\u001b[1;32m   1049\u001b[0m     \u001b[38;5;66;03m# Last hope: maybe other knows how to do it?\u001b[39;00m\n\u001b[1;32m   1050\u001b[0m     \u001b[38;5;66;03m# We assume the equivalencies have the unit itself as first item.\u001b[39;00m\n\u001b[1;32m   1051\u001b[0m     \u001b[38;5;66;03m# TODO: maybe better for other to have a `_back_converter` method?\u001b[39;00m\n",
      "File \u001b[0;32m~/opt/anaconda3/envs/idm/lib/python3.11/site-packages/astropy/units/core.py:1022\u001b[0m, in \u001b[0;36mUnitBase._apply_equivalencies\u001b[0;34m(self, unit, other, equivalencies)\u001b[0m\n\u001b[1;32m   1020\u001b[0m other_str \u001b[38;5;241m=\u001b[39m get_err_str(other)\n\u001b[0;32m-> 1022\u001b[0m \u001b[38;5;28;01mraise\u001b[39;00m UnitConversionError(\n\u001b[1;32m   1023\u001b[0m     \u001b[38;5;124mf\u001b[39m\u001b[38;5;124m\"\u001b[39m\u001b[38;5;132;01m{\u001b[39;00munit_str\u001b[38;5;132;01m}\u001b[39;00m\u001b[38;5;124m and \u001b[39m\u001b[38;5;132;01m{\u001b[39;00mother_str\u001b[38;5;132;01m}\u001b[39;00m\u001b[38;5;124m are not convertible\u001b[39m\u001b[38;5;124m\"\u001b[39m)\n",
      "\u001b[0;31mUnitConversionError\u001b[0m: 'GeV' (energy/torque/work) and '' (dimensionless) are not convertible",
      "\nDuring handling of the above exception, another exception occurred:\n",
      "\u001b[0;31mTypeError\u001b[0m                                 Traceback (most recent call last)",
      "Cell \u001b[0;32mIn[130], line 1\u001b[0m\n\u001b[0;32m----> 1\u001b[0m state \u001b[38;5;241m=\u001b[39m sampler\u001b[38;5;241m.\u001b[39mrun_mcmc(T_model, \u001b[38;5;241m100\u001b[39m)\n\u001b[1;32m      2\u001b[0m sampler\u001b[38;5;241m.\u001b[39mreset()\n",
      "File \u001b[0;32m~/opt/anaconda3/envs/idm/lib/python3.11/site-packages/emcee/ensemble.py:443\u001b[0m, in \u001b[0;36mEnsembleSampler.run_mcmc\u001b[0;34m(self, initial_state, nsteps, **kwargs)\u001b[0m\n\u001b[1;32m    440\u001b[0m     initial_state \u001b[38;5;241m=\u001b[39m \u001b[38;5;28mself\u001b[39m\u001b[38;5;241m.\u001b[39m_previous_state\n\u001b[1;32m    442\u001b[0m results \u001b[38;5;241m=\u001b[39m \u001b[38;5;28;01mNone\u001b[39;00m\n\u001b[0;32m--> 443\u001b[0m \u001b[38;5;28;01mfor\u001b[39;00m results \u001b[38;5;129;01min\u001b[39;00m \u001b[38;5;28mself\u001b[39m\u001b[38;5;241m.\u001b[39msample(initial_state, iterations\u001b[38;5;241m=\u001b[39mnsteps, \u001b[38;5;241m*\u001b[39m\u001b[38;5;241m*\u001b[39mkwargs):\n\u001b[1;32m    444\u001b[0m     \u001b[38;5;28;01mpass\u001b[39;00m\n\u001b[1;32m    446\u001b[0m \u001b[38;5;66;03m# Store so that the ``initial_state=None`` case will work\u001b[39;00m\n",
      "File \u001b[0;32m~/opt/anaconda3/envs/idm/lib/python3.11/site-packages/emcee/ensemble.py:305\u001b[0m, in \u001b[0;36mEnsembleSampler.sample\u001b[0;34m(self, initial_state, log_prob0, rstate0, blobs0, iterations, tune, skip_initial_state_check, thin_by, thin, store, progress, progress_kwargs)\u001b[0m\n\u001b[1;32m    303\u001b[0m     \u001b[38;5;28;01mraise\u001b[39;00m \u001b[38;5;167;01mValueError\u001b[39;00m(\u001b[38;5;124m\"\u001b[39m\u001b[38;5;124m'\u001b[39m\u001b[38;5;124mstore\u001b[39m\u001b[38;5;124m'\u001b[39m\u001b[38;5;124m must be False when \u001b[39m\u001b[38;5;124m'\u001b[39m\u001b[38;5;124miterations\u001b[39m\u001b[38;5;124m'\u001b[39m\u001b[38;5;124m is None\u001b[39m\u001b[38;5;124m\"\u001b[39m)\n\u001b[1;32m    304\u001b[0m \u001b[38;5;66;03m# Interpret the input as a walker state and check the dimensions.\u001b[39;00m\n\u001b[0;32m--> 305\u001b[0m state \u001b[38;5;241m=\u001b[39m State(initial_state, copy\u001b[38;5;241m=\u001b[39m\u001b[38;5;28;01mTrue\u001b[39;00m)\n\u001b[1;32m    306\u001b[0m state_shape \u001b[38;5;241m=\u001b[39m np\u001b[38;5;241m.\u001b[39mshape(state\u001b[38;5;241m.\u001b[39mcoords)\n\u001b[1;32m    307\u001b[0m \u001b[38;5;28;01mif\u001b[39;00m state_shape \u001b[38;5;241m!=\u001b[39m (\u001b[38;5;28mself\u001b[39m\u001b[38;5;241m.\u001b[39mnwalkers, \u001b[38;5;28mself\u001b[39m\u001b[38;5;241m.\u001b[39mndim):\n",
      "File \u001b[0;32m~/opt/anaconda3/envs/idm/lib/python3.11/site-packages/emcee/state.py:42\u001b[0m, in \u001b[0;36mState.__init__\u001b[0;34m(self, coords, log_prob, blobs, random_state, copy)\u001b[0m\n\u001b[1;32m     39\u001b[0m     \u001b[38;5;28mself\u001b[39m\u001b[38;5;241m.\u001b[39mrandom_state \u001b[38;5;241m=\u001b[39m dc(coords\u001b[38;5;241m.\u001b[39mrandom_state)\n\u001b[1;32m     40\u001b[0m     \u001b[38;5;28;01mreturn\u001b[39;00m\n\u001b[0;32m---> 42\u001b[0m \u001b[38;5;28mself\u001b[39m\u001b[38;5;241m.\u001b[39mcoords \u001b[38;5;241m=\u001b[39m dc(np\u001b[38;5;241m.\u001b[39matleast_2d(coords))\n\u001b[1;32m     43\u001b[0m \u001b[38;5;28mself\u001b[39m\u001b[38;5;241m.\u001b[39mlog_prob \u001b[38;5;241m=\u001b[39m dc(log_prob)\n\u001b[1;32m     44\u001b[0m \u001b[38;5;28mself\u001b[39m\u001b[38;5;241m.\u001b[39mblobs \u001b[38;5;241m=\u001b[39m dc(blobs)\n",
      "File \u001b[0;32m~/opt/anaconda3/envs/idm/lib/python3.11/site-packages/numpy/core/shape_base.py:121\u001b[0m, in \u001b[0;36matleast_2d\u001b[0;34m(*arys)\u001b[0m\n\u001b[1;32m    119\u001b[0m res \u001b[38;5;241m=\u001b[39m []\n\u001b[1;32m    120\u001b[0m \u001b[38;5;28;01mfor\u001b[39;00m ary \u001b[38;5;129;01min\u001b[39;00m arys:\n\u001b[0;32m--> 121\u001b[0m     ary \u001b[38;5;241m=\u001b[39m asanyarray(ary)\n\u001b[1;32m    122\u001b[0m     \u001b[38;5;28;01mif\u001b[39;00m ary\u001b[38;5;241m.\u001b[39mndim \u001b[38;5;241m==\u001b[39m \u001b[38;5;241m0\u001b[39m:\n\u001b[1;32m    123\u001b[0m         result \u001b[38;5;241m=\u001b[39m ary\u001b[38;5;241m.\u001b[39mreshape(\u001b[38;5;241m1\u001b[39m, \u001b[38;5;241m1\u001b[39m)\n",
      "File \u001b[0;32m~/opt/anaconda3/envs/idm/lib/python3.11/site-packages/astropy/units/quantity.py:1250\u001b[0m, in \u001b[0;36mQuantity.__float__\u001b[0;34m(self)\u001b[0m\n\u001b[1;32m   1248\u001b[0m     \u001b[38;5;28;01mreturn\u001b[39;00m \u001b[38;5;28mfloat\u001b[39m(\u001b[38;5;28mself\u001b[39m\u001b[38;5;241m.\u001b[39mto_value(dimensionless_unscaled))\n\u001b[1;32m   1249\u001b[0m \u001b[38;5;28;01mexcept\u001b[39;00m (UnitsError, \u001b[38;5;167;01mTypeError\u001b[39;00m):\n\u001b[0;32m-> 1250\u001b[0m     \u001b[38;5;28;01mraise\u001b[39;00m \u001b[38;5;167;01mTypeError\u001b[39;00m(\u001b[38;5;124m'\u001b[39m\u001b[38;5;124monly dimensionless scalar quantities can be \u001b[39m\u001b[38;5;124m'\u001b[39m\n\u001b[1;32m   1251\u001b[0m                     \u001b[38;5;124m'\u001b[39m\u001b[38;5;124mconverted to Python scalars\u001b[39m\u001b[38;5;124m'\u001b[39m)\n",
      "\u001b[0;31mTypeError\u001b[0m: only dimensionless scalar quantities can be converted to Python scalars"
     ]
    }
   ],
   "source": [
    "state = sampler.run_mcmc(T_model, 100)\n",
    "sampler.reset()"
   ]
  },
  {
   "cell_type": "code",
   "execution_count": null,
   "id": "78928b2f",
   "metadata": {},
   "outputs": [],
   "source": []
  }
 ],
 "metadata": {
  "kernelspec": {
   "display_name": "Python 3 (ipykernel)",
   "language": "python",
   "name": "python3"
  },
  "language_info": {
   "codemirror_mode": {
    "name": "ipython",
    "version": 3
   },
   "file_extension": ".py",
   "mimetype": "text/x-python",
   "name": "python",
   "nbconvert_exporter": "python",
   "pygments_lexer": "ipython3",
   "version": "3.11.4"
  }
 },
 "nbformat": 4,
 "nbformat_minor": 5
}
