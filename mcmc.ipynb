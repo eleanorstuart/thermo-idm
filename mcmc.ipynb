{
 "cells": [
  {
   "cell_type": "code",
   "execution_count": 207,
   "id": "437d2982",
   "metadata": {},
   "outputs": [],
   "source": [
    "import numpy as np\n",
    "from astropy import constants as const\n",
    "from astropy import units as u\n",
    "from astropy.table import QTable\n",
    "import pandas as pd\n",
    "import emcee\n",
    "from matplotlib import pyplot as plt\n",
    "\n",
    "from cluster import c, Cluster, temp_from_vdisp"
   ]
  },
  {
   "cell_type": "code",
   "execution_count": 24,
   "id": "e83728ea",
   "metadata": {},
   "outputs": [],
   "source": [
    "# consts\n",
    "n=0 # only collisions for now\n",
    "norm = 1/4 # normalizing factor for accretion rate\n",
    "mu = 1  # mean molecular weight of gas, 1 for proton gas (hydrogen)\n",
    "m_chi = 1e-3*u.GeV"
   ]
  },
  {
   "cell_type": "code",
   "execution_count": 56,
   "id": "516d770c",
   "metadata": {},
   "outputs": [],
   "source": [
    "# load in a dataset here\n",
    "galwcls=pd.read_csv('data/galwcls.dat', sep='|', header=None)\n",
    "cls_data = {'sig500': galwcls[:][8],\n",
    "            'M500': galwcls[:][11],\n",
    "            'r200': galwcls[:][13],\n",
    "            'sig200':galwcls[:][15],\n",
    "            'err_neg':galwcls[:][16],\n",
    "            'err_pos':galwcls[:][17],\n",
    "            'M200':galwcls[:][18]}\n",
    "units = {'sig500': u.km/u.s,\n",
    "            'M500': u.Msun,\n",
    "            'r200': u.Mpc,\n",
    "            'sig200': u.km/u.s,\n",
    "            'err_neg':u.km/u.s,\n",
    "            'err_pos':u.km/u.s,\n",
    "            'M200': u.Msun, }\n",
    "cls_table = QTable(cls_data[], units=units)"
   ]
  },
  {
   "cell_type": "code",
   "execution_count": 18,
   "id": "b03ef4d9",
   "metadata": {},
   "outputs": [],
   "source": [
    "i = 1\n",
    "test_cluster = Cluster(\n",
    "    cls_table['r200'][i], \n",
    "    cls_table['M200'][i], \n",
    "    cls_table['sig200'][i], \n",
    "    m500=cls_table['M500'][i])"
   ]
  },
  {
   "cell_type": "code",
   "execution_count": 133,
   "id": "3b9514a5",
   "metadata": {},
   "outputs": [],
   "source": [
    "# for 1 free parameter, Tx=0 approximation (small mx)\n",
    "def T_b(sigma0, cluster):\n",
    "    V=cluster.volume.to(u.cm**3)\n",
    "    x = (3*const.c*c(n)*V*cluster.rho_dm*cluster.rho_b*sigma0/(cluster.m_b+m_chi)**2).to(1/u.s)\n",
    "    leading_factors = (norm * 4*np.pi *const.c ** -3).to(u.s**3/u.cm**3)\n",
    "    gm2 = ((const.G * cluster.bh_mass()) ** 2).to(u.cm**6/u.s**4)\n",
    "    frac = ((mu * cluster.m_b) ** (5 / 2) / cluster.adiabatic_idx ** (3 / 2)).to(u.GeV**(5/2))\n",
    "    nb = (2 * cluster.n_e).to(u.cm ** (-3)) # baryon number density\n",
    "    D = (cluster.epsilon*leading_factors*gm2*frac*(1/nb**(2/3))**(-3/2)) # removed k_B from original function because we are working in GeV here\n",
    "    return (((D*np.sqrt(cluster.m_b))/x)**(1/3)).to(u.GeV, equivalencies=u.temperature_energy())"
   ]
  },
  {
   "cell_type": "code",
   "execution_count": 115,
   "id": "22235a58",
   "metadata": {},
   "outputs": [
    {
     "data": {
      "text/latex": [
       "$2.2924097 \\times 10^{-7} \\; \\mathrm{GeV}$"
      ],
      "text/plain": [
       "<Quantity 2.29240968e-07 GeV>"
      ]
     },
     "execution_count": 115,
     "metadata": {},
     "output_type": "execute_result"
    }
   ],
   "source": [
    "T_b(1e-15*u.cm**2, test_cluster).to(u.GeV, equivalencies=u.temperature_energy()) # predicted cluster temp"
   ]
  },
  {
   "cell_type": "code",
   "execution_count": 53,
   "id": "433c2e52",
   "metadata": {},
   "outputs": [
    {
     "data": {
      "text/latex": [
       "$8.9664331 \\times 10^{-6} \\; \\mathrm{GeV}$"
      ],
      "text/plain": [
       "<Quantity 8.96643311e-06 GeV>"
      ]
     },
     "execution_count": 53,
     "metadata": {},
     "output_type": "execute_result"
    }
   ],
   "source": [
    "test_cluster.baryon_temp # actual cluster temp (from data)"
   ]
  },
  {
   "cell_type": "code",
   "execution_count": 54,
   "id": "91de326f",
   "metadata": {},
   "outputs": [],
   "source": [
    "def variance(err_neg, err_pos):\n",
    "    n_temp = temp_from_vdisp(err_neg)\n",
    "    p_temp = temp_from_vdisp(err_pos)\n",
    "    return n_temp + p_temp"
   ]
  },
  {
   "cell_type": "code",
   "execution_count": 97,
   "id": "6103952f",
   "metadata": {},
   "outputs": [],
   "source": [
    "def chi_squared(T_model, T_data, variance): # take lists of model prediction, data, and variance of same length\n",
    "    chi_squared_sum = 0\n",
    "    for i in range(len(T_model)):\n",
    "        chi_squared_sum+=(T_model[i]-T_data[i])**2/variance[i]**2\n",
    "    return chi_squared_sum\n",
    "        "
   ]
  },
  {
   "cell_type": "code",
   "execution_count": 225,
   "id": "2b7da65a",
   "metadata": {},
   "outputs": [],
   "source": [
    "T_data = [temp_from_vdisp(v) for v in cls_table['sig200']]\n",
    "clusters = [Cluster(cls_table['r200'][i], cls_table['M200'][i], cls_table['sig200'][i], m500=cls_table['M500'][i]) for i in range(galwcls.shape[0])]\n",
    "T_model = [T_b(1e-10*u.cm**2, c) for c in clusters]\n",
    "var = variance(cls_table['err_neg'], cls_table['err_pos'])"
   ]
  },
  {
   "cell_type": "code",
   "execution_count": 226,
   "id": "44756c08",
   "metadata": {},
   "outputs": [],
   "source": [
    "X2 = chi_squared(T_model, T_data, var)"
   ]
  },
  {
   "cell_type": "code",
   "execution_count": 227,
   "id": "2291b025",
   "metadata": {},
   "outputs": [],
   "source": [
    "def log_likelihood(p0, T_data, var):\n",
    "    if p0<0:\n",
    "        return -np.inf\n",
    "    T_model = [T_b(p0, c) for c in clusters]\n",
    "    X2 = chi_squared(T_model, T_data, var)\n",
    "    return (-X2/2)[0]"
   ]
  },
  {
   "cell_type": "code",
   "execution_count": 228,
   "id": "9153715e",
   "metadata": {},
   "outputs": [
    {
     "data": {
      "text/latex": [
       "$-45461.792 \\; \\mathrm{}$"
      ],
      "text/plain": [
       "<Quantity -45461.79217825>"
      ]
     },
     "execution_count": 228,
     "metadata": {},
     "output_type": "execute_result"
    }
   ],
   "source": [
    "#chi_squared(T_model, T_data, var)\n",
    "log_likelihood(sigma0[0], T_data, var)"
   ]
  },
  {
   "cell_type": "code",
   "execution_count": 229,
   "id": "e5483ae0",
   "metadata": {},
   "outputs": [
    {
     "data": {
      "text/latex": [
       "$[[2.8108654 \\times 10^{-26}],~\n",
       " [3.7792655 \\times 10^{-20}],~\n",
       " [5.1055444 \\times 10^{-24}],~\n",
       " [2.4237206 \\times 10^{-23}],~\n",
       " [6.7281972 \\times 10^{-12}]] \\; \\mathrm{cm^{2}}$"
      ],
      "text/plain": [
       "<Quantity [[2.81086544e-26],\n",
       "           [3.77926548e-20],\n",
       "           [5.10554443e-24],\n",
       "           [2.42372063e-23],\n",
       "           [6.72819718e-12]] cm2>"
      ]
     },
     "execution_count": 229,
     "metadata": {},
     "output_type": "execute_result"
    }
   ],
   "source": [
    "ndim, nwalkers = 1, 5\n",
    "# initialize random sigma0s\n",
    "sigma0 = np.power(10, np.random.uniform(low=-30, high=-10, size=(nwalkers, ndim)))*u.cm**2\n",
    "sigma0"
   ]
  },
  {
   "cell_type": "code",
   "execution_count": 230,
   "id": "295fc652",
   "metadata": {},
   "outputs": [],
   "source": [
    "sampler = emcee.EnsembleSampler(nwalkers, ndim, log_likelihood, args=[T_data, var])"
   ]
  },
  {
   "cell_type": "code",
   "execution_count": 231,
   "id": "c8fb4a6f",
   "metadata": {},
   "outputs": [],
   "source": [
    "state = sampler.run_mcmc(sigma0, 100, progress=True)\n",
    "sampler.reset()"
   ]
  },
  {
   "cell_type": "code",
   "execution_count": null,
   "id": "78928b2f",
   "metadata": {},
   "outputs": [],
   "source": [
    "sampler.run_mcmc(state, 10000, progress=True)"
   ]
  },
  {
   "cell_type": "code",
   "execution_count": null,
   "id": "51cb1a6f",
   "metadata": {},
   "outputs": [],
   "source": [
    "def plot_loghist(x, bins):\n",
    "    logbins = np.logspace(np.log10(np.min(x)),np.log10(np.max(x)),bins+1)\n",
    "    plt.hist(x, bins=logbins)\n",
    "    plt.xscale('log')\n",
    "    plt.yscale('log')"
   ]
  },
  {
   "cell_type": "code",
   "execution_count": null,
   "id": "9c61e80e",
   "metadata": {},
   "outputs": [],
   "source": [
    "samples = sampler.get_chain(flat=True)\n",
    "plot_loghist(samples[:, 0], 100)\n",
    "plt.xlabel(r\"$\\sigma_0$\")\n",
    "plt.ylabel(r\"$p(\\sigma_0)$\")\n",
    "\n"
   ]
  },
  {
   "cell_type": "code",
   "execution_count": null,
   "id": "f49a6d15",
   "metadata": {},
   "outputs": [],
   "source": [
    "np.median(samples)"
   ]
  },
  {
   "cell_type": "code",
   "execution_count": null,
   "id": "3e0994a5",
   "metadata": {},
   "outputs": [],
   "source": [
    "print(\n",
    "    \"Mean acceptance fraction: {0:.3f}\".format(\n",
    "        np.mean(sampler.acceptance_fraction)\n",
    "    )\n",
    ")"
   ]
  },
  {
   "cell_type": "code",
   "execution_count": null,
   "id": "f13eb99b",
   "metadata": {},
   "outputs": [],
   "source": [
    "print(\n",
    "    \"Mean autocorrelation time: {0:.3f} steps\".format(\n",
    "        np.mean(sampler.get_autocorr_time())\n",
    "    )\n",
    ")"
   ]
  },
  {
   "cell_type": "code",
   "execution_count": null,
   "id": "919de040",
   "metadata": {},
   "outputs": [],
   "source": []
  }
 ],
 "metadata": {
  "kernelspec": {
   "display_name": "Python 3 (ipykernel)",
   "language": "python",
   "name": "python3"
  },
  "language_info": {
   "codemirror_mode": {
    "name": "ipython",
    "version": 3
   },
   "file_extension": ".py",
   "mimetype": "text/x-python",
   "name": "python",
   "nbconvert_exporter": "python",
   "pygments_lexer": "ipython3",
   "version": "3.11.4"
  }
 },
 "nbformat": 4,
 "nbformat_minor": 5
}
