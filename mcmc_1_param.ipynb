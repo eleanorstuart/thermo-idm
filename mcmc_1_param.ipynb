{
 "cells": [
  {
   "cell_type": "code",
   "execution_count": 6,
   "id": "40275ea5",
   "metadata": {},
   "outputs": [
    {
     "name": "stdout",
     "output_type": "stream",
     "text": [
      "The autoreload extension is already loaded. To reload it, use:\n",
      "  %reload_ext autoreload\n"
     ]
    }
   ],
   "source": [
    "%load_ext autoreload\n",
    "%autoreload 2\n",
    "import numpy as np\n",
    "from astropy import units as u\n",
    "import emcee\n",
    "from matplotlib import pyplot as plt\n",
    "\n",
    "from load_galweight_data import load_clusters\n",
    "from cluster import temp_from_vdisp\n",
    "from statistics_functions import log_likelihood, chi_squared"
   ]
  },
  {
   "cell_type": "code",
   "execution_count": 8,
   "id": "870638d7",
   "metadata": {},
   "outputs": [],
   "source": [
    "# get dataset\n",
    "clusters, variances = load_clusters(nrows=20)"
   ]
  },
  {
   "cell_type": "code",
   "execution_count": 9,
   "id": "464b8093",
   "metadata": {},
   "outputs": [
    {
     "data": {
      "text/plain": [
       "[<Quantity 1.13369052e-05 GeV>,\n",
       " <Quantity 8.96643311e-06 GeV>,\n",
       " <Quantity 9.07989976e-06 GeV>,\n",
       " <Quantity 8.10745427e-06 GeV>,\n",
       " <Quantity 7.41285088e-06 GeV>,\n",
       " <Quantity 8.20368656e-06 GeV>,\n",
       " <Quantity 8.22529573e-06 GeV>,\n",
       " <Quantity 7.72504935e-06 GeV>,\n",
       " <Quantity 7.33483838e-06 GeV>,\n",
       " <Quantity 6.21106042e-06 GeV>,\n",
       " <Quantity 7.48240004e-06 GeV>,\n",
       " <Quantity 7.2500303e-06 GeV>,\n",
       " <Quantity 7.74834976e-06 GeV>,\n",
       " <Quantity 8.05491993e-06 GeV>,\n",
       " <Quantity 5.92439129e-06 GeV>,\n",
       " <Quantity 5.61144568e-06 GeV>,\n",
       " <Quantity 5.38610788e-06 GeV>,\n",
       " <Quantity 3.24632308e-06 GeV>,\n",
       " <Quantity 4.88330641e-06 GeV>,\n",
       " <Quantity 5.85577809e-06 GeV>]"
      ]
     },
     "execution_count": 9,
     "metadata": {},
     "output_type": "execute_result"
    }
   ],
   "source": [
    "T_data = [c.baryon_temp for c in clusters]\n",
    "T_data"
   ]
  },
  {
   "cell_type": "code",
   "execution_count": 10,
   "id": "94489c85",
   "metadata": {},
   "outputs": [
    {
     "data": {
      "text/plain": [
       "[<Quantity 1.07807382e-05 GeV>,\n",
       " <Quantity 9.61567765e-06 GeV>,\n",
       " <Quantity 9.56385503e-06 GeV>,\n",
       " <Quantity 8.95588292e-06 GeV>,\n",
       " <Quantity 9.91662006e-06 GeV>,\n",
       " <Quantity 6.92299212e-06 GeV>,\n",
       " <Quantity 9.37794712e-06 GeV>,\n",
       " <Quantity 7.11682618e-06 GeV>,\n",
       " <Quantity 7.16976995e-06 GeV>,\n",
       " <Quantity 9.38589008e-06 GeV>,\n",
       " <Quantity 8.76434586e-06 GeV>,\n",
       " <Quantity 8.54963466e-06 GeV>,\n",
       " <Quantity 9.05639864e-06 GeV>,\n",
       " <Quantity 8.3358258e-06 GeV>,\n",
       " <Quantity 7.85923906e-06 GeV>,\n",
       " <Quantity 7.6455625e-06 GeV>,\n",
       " <Quantity 8.25803179e-06 GeV>,\n",
       " <Quantity 8.28379449e-06 GeV>,\n",
       " <Quantity 8.38925954e-06 GeV>,\n",
       " <Quantity 8.12220655e-06 GeV>]"
      ]
     },
     "execution_count": 10,
     "metadata": {},
     "output_type": "execute_result"
    }
   ],
   "source": [
    "#s0_test = -20\n",
    "#m_chi = 1e-4 * u.GeV\n",
    "p0=[-20, -4]\n",
    "T_pred = [c.pred_T_b(p0) for c in clusters]\n",
    "T_pred"
   ]
  },
  {
   "cell_type": "code",
   "execution_count": 11,
   "id": "9706b7a7",
   "metadata": {},
   "outputs": [
    {
     "data": {
      "text/latex": [
       "$6075.8823 \\; \\mathrm{}$"
      ],
      "text/plain": [
       "<Quantity 6075.88232632>"
      ]
     },
     "execution_count": 11,
     "metadata": {},
     "output_type": "execute_result"
    }
   ],
   "source": [
    "chi_squared(T_pred, T_data, variances)"
   ]
  },
  {
   "cell_type": "code",
   "execution_count": 12,
   "id": "d64f886c",
   "metadata": {},
   "outputs": [
    {
     "data": {
      "text/latex": [
       "$-3037.9412 \\; \\mathrm{}$"
      ],
      "text/plain": [
       "<Quantity -3037.94116316>"
      ]
     },
     "execution_count": 12,
     "metadata": {},
     "output_type": "execute_result"
    }
   ],
   "source": [
    "log_likelihood(p0, T_data, variances, clusters)"
   ]
  },
  {
   "cell_type": "code",
   "execution_count": 26,
   "id": "47fde585",
   "metadata": {},
   "outputs": [],
   "source": [
    "# initialize mcmc\n",
    "ndim, nwalkers = 1, 5\n",
    "log_sigma0 = np.random.uniform(low=-40, high=-10, size=(nwalkers, ndim)).astype(dtype=np.float128)\n",
    "log_sigma0\n",
    "\n",
    "#mchi = np.ones(shape=(nwalkers, ndim))*1e-4*u.GeV\n",
    "p0=np.zeros((nwalkers, ndim ))\n",
    "p0[:,0] = log_sigma0.reshape((5,))\n",
    "#p0[:,1]= mchi.reshape((5,))\n",
    "#p0"
   ]
  },
  {
   "cell_type": "code",
   "execution_count": 27,
   "id": "c4f1d4b2",
   "metadata": {},
   "outputs": [],
   "source": [
    "# put m_chi=1e-4 for all \n",
    "m_chi=-4\n",
    "sampler = emcee.EnsembleSampler(nwalkers, ndim, log_likelihood, args=[T_data, variances, clusters, m_chi])"
   ]
  },
  {
   "cell_type": "code",
   "execution_count": 28,
   "id": "72932f71",
   "metadata": {},
   "outputs": [
    {
     "name": "stderr",
     "output_type": "stream",
     "text": [
      "You must install the tqdm library to use progress indicators with emcee\n"
     ]
    }
   ],
   "source": [
    "state = sampler.run_mcmc(log_sigma0, 100, progress=True)\n",
    "sampler.reset()"
   ]
  },
  {
   "cell_type": "code",
   "execution_count": 29,
   "id": "6063393f",
   "metadata": {},
   "outputs": [
    {
     "name": "stderr",
     "output_type": "stream",
     "text": [
      "You must install the tqdm library to use progress indicators with emcee\n"
     ]
    },
    {
     "data": {
      "text/plain": [
       "State([[-19.76272129]\n",
       " [-19.76117343]\n",
       " [-19.7670398 ]\n",
       " [-19.75167058]\n",
       " [-19.75212047]], log_prob=[-1315.69454114 -1315.30718916 -1317.39153095 -1315.45275526\n",
       " -1315.34881136], blobs=None, random_state=('MT19937', array([3226325266, 3520196391, 2989742274, 3088546796, 2887122468,\n",
       "       1915101574, 1986608220, 3630647728, 1010956689, 3890963171,\n",
       "       3014111601, 2873966058,   52669389, 4033378116, 1380238321,\n",
       "       3916893322, 3540275666, 1484209479,  811752890, 2344215648,\n",
       "       2696468556, 3079064944,  336363435,  675885255, 1215270603,\n",
       "       3753809035,  774033438, 3860261256,  838979992,  268842631,\n",
       "       2746391661, 1698861532, 1284332961, 1400322859, 2462001889,\n",
       "       3632880819,  300467101, 1003936576, 1606228730, 3168489512,\n",
       "       1791195432, 1195583494, 2656907781, 1840283876,  809407437,\n",
       "       3203255450, 3083469498, 3494221914, 1841519125, 1490912674,\n",
       "       2950553936,  295133534, 1589413450, 3106314858, 4007061761,\n",
       "       3283848236, 2326462407, 1336248117,  654989237, 3301042264,\n",
       "       3570091967, 1487642587, 3393181126, 3997412542, 1320561286,\n",
       "         28255717,  618183418, 1758941424,  460660596, 2387129001,\n",
       "       1238630845, 2441845055, 2250695162, 2458591879, 3207730611,\n",
       "       3124724826,  559165450, 1256206527, 4165774425, 3287283538,\n",
       "        750471902,  980306262, 3471443902, 4197304708,  626744859,\n",
       "       2367963673, 4191613326, 3915707432, 2358723324, 2433989116,\n",
       "       1551624921, 2164482739, 3248012504, 2236999600, 3468452091,\n",
       "       3733155297, 3679159351, 3364474921, 1992819386,  928564675,\n",
       "       2053643595, 1499328894,  572499954, 1675836809,  908880883,\n",
       "       2872822065, 1183735576, 2326061005, 2455082817,  620155993,\n",
       "       3874147228,  883270211, 1560063247,  181853321, 3165968679,\n",
       "       1394916973, 4286490301, 2214135356, 1722330038, 1431803558,\n",
       "       4129906521, 4051931670,  778833732,   51012415, 1846230285,\n",
       "       2622656649, 2658694185, 1560301515, 3538872252,  810952380,\n",
       "       1670815271, 2693973274,  381919627, 3728805681, 1081555466,\n",
       "       1114226029, 2651535853, 1492872988, 1629404545,  484329729,\n",
       "       2189089677, 3364139028, 3655616198, 2506433141, 1462453697,\n",
       "       2652297061,  227069925, 3001639668,   76960313, 3525293394,\n",
       "        413083458, 1135109793, 3335615298, 1764834027, 2509636460,\n",
       "       3700758254, 1120374074, 1769330310, 2188632744, 3605411308,\n",
       "       3842940821, 4116197770, 4192858880, 3394004047, 3603700066,\n",
       "        986787779, 2789958889, 1571461727, 3964757804, 1553122571,\n",
       "        490158799, 2665034458, 3588166493,  788382541, 3716402648,\n",
       "       3972758887, 4069279056,  679156507, 1727899440, 1409119115,\n",
       "       3295976369, 1332347237,  176088265, 2502150023, 1850199708,\n",
       "         60036898, 3712080527,  743825774, 2121266442, 1201209815,\n",
       "        579380459, 3745072861, 4057658815,  641810640, 2391379767,\n",
       "       2040923128,  571117592, 1194517004,  957208214,  348177608,\n",
       "       2654906620, 1780405367, 2405413688, 3858907620, 2553188520,\n",
       "       1616136219, 2278140740, 3550830062, 2244371731, 2268125283,\n",
       "       3534194413, 1121130498,  672461869,  446635822,  176165755,\n",
       "       1198754876, 4037493582, 3232094671, 4285890557, 3937212786,\n",
       "       1735483961, 2142409501,  635872900, 1697823004, 4224329827,\n",
       "       1463986722, 1061200830, 2569110455, 1267226939, 2873472572,\n",
       "       1398253211, 3163967686, 3075800628,  654438118, 3487469131,\n",
       "       3385613120, 1252144564, 1423547448, 3901222250,  738359631,\n",
       "       4181423358, 3773121307, 3561183284, 1836037165, 4191177579,\n",
       "       4003661031, 1668800426, 1660934968, 3792492234, 1901972120,\n",
       "       1955606506, 2067524022, 2955102851,   41241230,  106480668,\n",
       "       2632302961, 3765145170, 1935329887, 1946640928, 1962300467,\n",
       "       1038053791, 1182419672, 1487551355, 2880268777, 2027906006,\n",
       "        499304297, 3381339942,  216994568, 2754103001, 1524637128,\n",
       "       4128087158, 3936126499,   23434701,  921498512, 2030206999,\n",
       "       4146222515,  685013857, 1187817187, 2989333714, 4023727409,\n",
       "       3202008297, 3710344288, 3427033764, 3295365497, 1148840135,\n",
       "       1014852441,  764927811, 2534696378, 2235120923, 4227893665,\n",
       "       2200907819, 2540982235, 3346693550, 2805575530, 2789778293,\n",
       "       3582567955, 2012568978, 2006297752, 2404165247, 1092224357,\n",
       "       2687963097, 1668969089, 2243610285, 3065470956, 2668839726,\n",
       "       4196038840, 2920117835, 3762715199,  799594180, 3347181084,\n",
       "       2111476958, 3281870620,  866406254, 3713667819, 2302575574,\n",
       "       1812765690, 2677485858, 2040636304, 3203107524, 2674460003,\n",
       "         15278316,  210638970, 1969586053, 1963518410, 2177688909,\n",
       "        131485937, 3040339942,   93380860, 1839934584,  815198909,\n",
       "       3905538801, 1770297674, 2694767691, 1390391622, 2848312316,\n",
       "        681071099, 3723645376, 1509751414, 4109407598,  430681630,\n",
       "        457557446, 3342407046, 3827657166, 3892919354, 2436752845,\n",
       "       1960614400, 1537061410, 1741500340, 3307047642, 1023517717,\n",
       "       2841858753,  883694677, 2183578702, 1718322016, 2493305014,\n",
       "        728824278,  143440544, 3595803361, 3028018071,  150672342,\n",
       "       3141670684, 3424866076,  793616157,  660735386,  776224875,\n",
       "       4184431871,  620431072,  556114912, 3948945208,  857151612,\n",
       "       2456400700,  939228084,  391297384, 4235873668, 3176754294,\n",
       "       1335968099, 1384243590, 2582004750, 3101107814, 4287640134,\n",
       "        981035331,  948337618, 2263339417, 3175742195, 3169730091,\n",
       "       1485470938,   51316820, 3278515677, 1747454724,  136544061,\n",
       "       3326335633, 2396623820, 4280030137, 4125593092, 3006223997,\n",
       "       1632221947, 1650660966,  235236566, 2083693797,  131884657,\n",
       "       4233944479, 1502940522,  282427079, 1828539170, 1316895134,\n",
       "       1396801853, 3973168344, 2304153769, 2506464045, 2374595075,\n",
       "       3181564476,  152171662, 3923599239,  935085972, 3689793666,\n",
       "       1487369626, 2565759405, 1970709426, 3362001831, 1433697754,\n",
       "        858797040, 3994493737, 3838813912, 3140453209, 2428255569,\n",
       "        980759337, 3743667905, 3494384080, 3713763554,  867107699,\n",
       "       1604663447, 1084868073, 3738343769, 1529725163, 1991642592,\n",
       "       3498889850,  278711298, 1411475630, 1496610167, 3379787198,\n",
       "       2056848220, 1360865243, 2105588676,  156746755,  432214544,\n",
       "       3349734270, 1066643509,  743686845, 1364929596, 1880317486,\n",
       "       2728251212, 2696109598, 3589416540,  676126275, 3417446619,\n",
       "        496363839,  274836958,  536848716, 1568741008, 2271633285,\n",
       "       1651484009,  930011979, 3668482778, 1180409489, 2210801016,\n",
       "       3022090251,  905353185, 2584346426, 3499168906, 1055152383,\n",
       "       3779719377,  387754075, 4141686896, 1739950914, 3737384137,\n",
       "       2021226299, 3160264934, 1427086793, 1127461840, 2750957666,\n",
       "       2347992543, 1766735196,  913222270, 2364021097,  196907989,\n",
       "        420021723, 2834060333, 3984666682, 2641861752, 1263401963,\n",
       "        675076150, 1013819970, 3472443463, 3481792085, 2480411187,\n",
       "       2634915287,  789867091,  424841016, 4000283066, 1017597819,\n",
       "        272374414, 1900023798,  102592331,    5616517, 2340944205,\n",
       "        137752718,   29177276, 2350597575, 2248467892, 1425608127,\n",
       "       3224698209,   68222828, 1013114691, 1874239519,  567552710,\n",
       "       1372465543, 1360573210,  299225169,  871621672, 1718514200,\n",
       "       3882176379, 1198267642,  528050117, 2426665174, 1054633300,\n",
       "       1248540608, 3309010900, 1575251555, 2756096712, 4126035697,\n",
       "        681288491, 1515256894,  824976147,  438362605, 4210715427,\n",
       "       2394064658, 3297844660,  459622828,   84121337, 2089891161,\n",
       "       2024503815,  525569749, 1896206146,  793881501,  388172493,\n",
       "       4075062958, 1500817278, 3483531585, 3116806742, 4208665321,\n",
       "       1452684969, 2096844016, 1720681154, 3687066396, 2226132338,\n",
       "       2326511407, 1414868667, 1610600993,  736214237, 2226857071,\n",
       "        829834325, 1572905416,  555088679, 1385219640, 4066607249,\n",
       "       1668955517, 2727175899, 3550905499, 3533039031,  829698657,\n",
       "       3442603259, 2198517034, 1137278905, 3261378284, 1028260079,\n",
       "       2397765951, 3522916206, 2165125983, 2253087710, 2967567678,\n",
       "        974599741, 3832819799,  710019556, 2610323803,  999769317,\n",
       "       3426021969, 2333025951, 3278822113, 2071751198, 2624507807,\n",
       "       2693091485, 2369464596,  755115984,  543619739, 1196834562,\n",
       "       1835661794,  622092719, 1688640398, 1147631271, 1628005815,\n",
       "        560577429,  221889858, 2249773000, 2096275017, 2273057768,\n",
       "       3432526852, 2334067143,  808135076, 3285179921, 1388386079,\n",
       "       2611770487, 2890785200,  681863357,   80657428, 3536784444,\n",
       "         29591898, 2266120226,  804971873, 2337500031,   56682935,\n",
       "        563267135,  574648453, 2193963494, 1111883503], dtype=uint32), 255, 0, 0.0))"
      ]
     },
     "execution_count": 29,
     "metadata": {},
     "output_type": "execute_result"
    }
   ],
   "source": [
    "sampler.run_mcmc(state, 500, progress=True)"
   ]
  },
  {
   "cell_type": "code",
   "execution_count": 30,
   "id": "0ea6df1f",
   "metadata": {},
   "outputs": [
    {
     "data": {
      "text/plain": [
       "array([[-19.75517433],\n",
       "       [-19.74703605],\n",
       "       [-19.75515425],\n",
       "       ...,\n",
       "       [-19.7670398 ],\n",
       "       [-19.75167058],\n",
       "       [-19.75212047]])"
      ]
     },
     "execution_count": 30,
     "metadata": {},
     "output_type": "execute_result"
    }
   ],
   "source": [
    "samples = sampler.get_chain(flat=True)\n",
    "samples"
   ]
  },
  {
   "cell_type": "code",
   "execution_count": 33,
   "id": "22218ec0",
   "metadata": {},
   "outputs": [
    {
     "data": {
      "text/plain": [
       "Text(0.5, 0, 'log(sigma0)')"
      ]
     },
     "execution_count": 33,
     "metadata": {},
     "output_type": "execute_result"
    },
    {
     "data": {
      "image/png": "[encoded data removed]",
      "text/plain": [
       "<Figure size 640x480 with 1 Axes>"
      ]
     },
     "metadata": {},
     "output_type": "display_data"
    }
   ],
   "source": [
    "plt.hist(samples, bins=50)\n",
    "plt.xlabel('log(sigma0)')"
   ]
  },
  {
   "cell_type": "code",
   "execution_count": 32,
   "id": "d2ec0cbf",
   "metadata": {},
   "outputs": [
    {
     "data": {
      "text/plain": [
       "-19.75800856120255"
      ]
     },
     "execution_count": 32,
     "metadata": {},
     "output_type": "execute_result"
    }
   ],
   "source": [
    "np.median(samples)"
   ]
  },
  {
   "cell_type": "code",
   "execution_count": null,
   "id": "dcd1ee74",
   "metadata": {},
   "outputs": [],
   "source": []
  }
 ],
 "metadata": {
  "kernelspec": {
   "display_name": "Python 3 (ipykernel)",
   "language": "python",
   "name": "python3"
  },
  "language_info": {
   "codemirror_mode": {
    "name": "ipython",
    "version": 3
   },
   "file_extension": ".py",
   "mimetype": "text/x-python",
   "name": "python",
   "nbconvert_exporter": "python",
   "pygments_lexer": "ipython3",
   "version": "3.11.4"
  }
 },
 "nbformat": 4,
 "nbformat_minor": 5
}
