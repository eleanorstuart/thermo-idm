{
 "cells": [
  {
   "cell_type": "code",
   "execution_count": 46,
   "id": "40275ea5",
   "metadata": {},
   "outputs": [
    {
     "name": "stdout",
     "output_type": "stream",
     "text": [
      "The autoreload extension is already loaded. To reload it, use:\n",
      "  %reload_ext autoreload\n"
     ]
    }
   ],
   "source": [
    "%load_ext autoreload\n",
    "%autoreload 2\n",
    "import numpy as np\n",
    "from astropy import units as u\n",
    "import emcee\n",
    "from matplotlib import pyplot as plt\n",
    "\n",
    "from load_galweight_data import load_clusters\n",
    "from cluster import temp_from_vdisp\n",
    "from statistics_functions import log_likelihood, chi_squared"
   ]
  },
  {
   "cell_type": "code",
   "execution_count": 3,
   "id": "870638d7",
   "metadata": {},
   "outputs": [],
   "source": [
    "# get dataset\n",
    "clusters, variances = load_clusters(nrows=20)"
   ]
  },
  {
   "cell_type": "code",
   "execution_count": 13,
   "id": "464b8093",
   "metadata": {},
   "outputs": [
    {
     "data": {
      "text/plain": [
       "[<Quantity 1.13369052e-05 GeV>,\n",
       " <Quantity 8.96643311e-06 GeV>,\n",
       " <Quantity 9.07989976e-06 GeV>,\n",
       " <Quantity 8.10745427e-06 GeV>,\n",
       " <Quantity 7.41285088e-06 GeV>,\n",
       " <Quantity 8.20368656e-06 GeV>,\n",
       " <Quantity 8.22529573e-06 GeV>,\n",
       " <Quantity 7.72504935e-06 GeV>,\n",
       " <Quantity 7.33483838e-06 GeV>,\n",
       " <Quantity 6.21106042e-06 GeV>,\n",
       " <Quantity 7.48240004e-06 GeV>,\n",
       " <Quantity 7.2500303e-06 GeV>,\n",
       " <Quantity 7.74834976e-06 GeV>,\n",
       " <Quantity 8.05491993e-06 GeV>,\n",
       " <Quantity 5.92439129e-06 GeV>,\n",
       " <Quantity 5.61144568e-06 GeV>,\n",
       " <Quantity 5.38610788e-06 GeV>,\n",
       " <Quantity 3.24632308e-06 GeV>,\n",
       " <Quantity 4.88330641e-06 GeV>,\n",
       " <Quantity 5.85577809e-06 GeV>]"
      ]
     },
     "execution_count": 13,
     "metadata": {},
     "output_type": "execute_result"
    }
   ],
   "source": [
    "T_data = [temp_from_vdisp(c.vel_disp) for c in clusters]\n",
    "T_data"
   ]
  },
  {
   "cell_type": "code",
   "execution_count": 31,
   "id": "94489c85",
   "metadata": {},
   "outputs": [
    {
     "data": {
      "text/plain": [
       "[<Quantity 1.2062311e-05 GeV>,\n",
       " <Quantity 1.06336251e-05 GeV>,\n",
       " <Quantity 1.05463385e-05 GeV>,\n",
       " <Quantity 9.87470416e-06 GeV>,\n",
       " <Quantity 1.08453508e-05 GeV>,\n",
       " <Quantity 7.76856326e-06 GeV>,\n",
       " <Quantity 1.02795101e-05 GeV>,\n",
       " <Quantity 7.95240353e-06 GeV>,\n",
       " <Quantity 7.9815942e-06 GeV>,\n",
       " <Quantity 1.02311371e-05 GeV>,\n",
       " <Quantity 9.60659739e-06 GeV>,\n",
       " <Quantity 9.36130457e-06 GeV>,\n",
       " <Quantity 9.85979831e-06 GeV>,\n",
       " <Quantity 9.10104673e-06 GeV>,\n",
       " <Quantity 8.59056707e-06 GeV>,\n",
       " <Quantity 8.3565192e-06 GeV>,\n",
       " <Quantity 8.96492961e-06 GeV>,\n",
       " <Quantity 9.0063621e-06 GeV>,\n",
       " <Quantity 9.09915411e-06 GeV>,\n",
       " <Quantity 8.83047983e-06 GeV>]"
      ]
     },
     "execution_count": 31,
     "metadata": {},
     "output_type": "execute_result"
    }
   ],
   "source": [
    "s0_test = -20\n",
    "m_chi = 1e-4 * u.GeV\n",
    "T_pred = [c.pred_T_b_small_m(s0_test, m_chi) for c in clusters]\n",
    "T_pred"
   ]
  },
  {
   "cell_type": "code",
   "execution_count": 32,
   "id": "9706b7a7",
   "metadata": {},
   "outputs": [
    {
     "data": {
      "text/latex": [
       "$10415.506 \\; \\mathrm{}$"
      ],
      "text/plain": [
       "<Quantity 10415.506288>"
      ]
     },
     "execution_count": 32,
     "metadata": {},
     "output_type": "execute_result"
    }
   ],
   "source": [
    "chi_squared(T_pred, T_data, variances)"
   ]
  },
  {
   "cell_type": "code",
   "execution_count": 33,
   "id": "d64f886c",
   "metadata": {},
   "outputs": [
    {
     "data": {
      "text/latex": [
       "$-5207.7531 \\; \\mathrm{}$"
      ],
      "text/plain": [
       "<Quantity -5207.753144>"
      ]
     },
     "execution_count": 33,
     "metadata": {},
     "output_type": "execute_result"
    }
   ],
   "source": [
    "log_likelihood(s0_test, m_chi, T_data, variances, clusters)"
   ]
  },
  {
   "cell_type": "code",
   "execution_count": 55,
   "id": "47fde585",
   "metadata": {},
   "outputs": [
    {
     "data": {
      "text/plain": [
       "array([[-22.41819029],\n",
       "       [-23.47304349],\n",
       "       [-34.13476409],\n",
       "       [-48.52648471],\n",
       "       [-26.92375037]])"
      ]
     },
     "execution_count": 55,
     "metadata": {},
     "output_type": "execute_result"
    }
   ],
   "source": [
    "# initialize mcmc\n",
    "ndim, nwalkers = 1, 5\n",
    "log_sigma0 = np.random.uniform(low=-50, high=-20, size=(nwalkers, ndim))\n",
    "log_sigma0"
   ]
  },
  {
   "cell_type": "code",
   "execution_count": 56,
   "id": "c4f1d4b2",
   "metadata": {},
   "outputs": [],
   "source": [
    "m_chi = 1e-4 * u.GeV\n",
    "sampler = emcee.EnsembleSampler(nwalkers, ndim, log_likelihood, args=[m_chi, T_data, variances, clusters])"
   ]
  },
  {
   "cell_type": "code",
   "execution_count": 57,
   "id": "72932f71",
   "metadata": {},
   "outputs": [
    {
     "name": "stderr",
     "output_type": "stream",
     "text": [
      "You must install the tqdm library to use progress indicators with emcee\n"
     ]
    }
   ],
   "source": [
    "state = sampler.run_mcmc(log_sigma0, 100, progress=True)\n",
    "sampler.reset()"
   ]
  },
  {
   "cell_type": "code",
   "execution_count": 58,
   "id": "6063393f",
   "metadata": {},
   "outputs": [
    {
     "name": "stderr",
     "output_type": "stream",
     "text": [
      "You must install the tqdm library to use progress indicators with emcee\n"
     ]
    },
    {
     "data": {
      "text/plain": [
       "State([[-19.62284038]\n",
       " [-19.62309073]\n",
       " [-19.62329822]\n",
       " [-19.62413383]\n",
       " [-19.62322367]], log_prob=[-1187.37865622 -1187.43475621 -1187.48320972 -1187.69632041\n",
       " -1187.46559693], blobs=[], random_state=('MT19937', array([3917198138, 3397872010, 3617802956,  675794524, 1034947145,\n",
       "       1220763846, 1469438136, 2297716777, 4266537175, 2720413587,\n",
       "       2394133280,  329495152,   38987511, 3990247796, 1752793941,\n",
       "        665620263, 3266325677, 3470877419,  478471320,  999014583,\n",
       "       3513500327, 3178525830, 4221538505, 3900462673, 3533460114,\n",
       "       1526025655, 3252315687, 2886454505, 3315210411, 1759491424,\n",
       "       2510375168, 2322860402, 3914342978, 1500615914, 2601389081,\n",
       "       2612210580,  785952519, 3107144463,  645197113, 3595947312,\n",
       "        254937114, 2490639556, 3210298121, 2778753334, 1360454294,\n",
       "        135354106, 3891862778,  282088616, 3747884137, 2700449301,\n",
       "       3090320583, 3476624698, 3333726329, 1030959947,  914689722,\n",
       "        105590635, 2706247038, 1684633214, 1778773932, 4113047957,\n",
       "       4268325663,  183172707, 2386832258, 3454133180, 3905308576,\n",
       "       3620760586, 1298843776, 1405287378,  445677151,  347757637,\n",
       "       3281295071,  964972237, 3599742698, 2380715169, 2646412016,\n",
       "        253019334,   73030436,  916233752, 3839016550, 2108334153,\n",
       "       2776889939, 2063555024, 4058161669, 4104219092, 2536752765,\n",
       "       1375535334, 4219128066, 1429849265, 2991618330, 3828454632,\n",
       "       3017485519, 4088487128, 2321548767, 3337308831,  385621976,\n",
       "       3050053859, 2518846816,   49969733, 3399620493,  977287031,\n",
       "       3586501922, 4165721503, 2814261278, 3554748277, 2482837972,\n",
       "       1291610351, 3146194628, 3399556884, 2073588763, 2620661428,\n",
       "       2236896999, 2766643085,  964714138, 4041063315,  601320126,\n",
       "       3194702525, 3453751431, 2905996903, 2411458937, 1758157004,\n",
       "       1655323843, 1724154217, 1438748093, 2402423665, 3579799884,\n",
       "       2223395214, 1954333284,   20260081, 1448434025, 3991220047,\n",
       "       2681078938, 2872006944,  907098107, 1197431312, 3496425213,\n",
       "       1330657378, 3107218774, 2428185173, 2112097684, 2838740888,\n",
       "       3609039696, 3258548967,  248161053,  510995253,  804140625,\n",
       "         70228708, 3990106334,  720437233, 3946706117, 3348485266,\n",
       "        901410515, 1819956971,  453682500, 1488704545,  731926479,\n",
       "       1629701478, 3720089442, 2606190298, 3164517520, 3182612872,\n",
       "       3337555765, 2015338908, 4265527880, 3454596348, 2607766513,\n",
       "       1544434245, 1837969263, 1666565087, 2858476881, 3258572963,\n",
       "       2736930729, 2040693093, 2879989518, 1548347315, 1109607942,\n",
       "       1337214393, 3726260106,  546253080, 4129450250, 4024875351,\n",
       "       1499723424,  661675732, 1714453637, 3830523726, 3505564613,\n",
       "       4263930982,  317737082,  438197418, 3185446413, 3884460308,\n",
       "       3894981461, 3679889680,  748785634, 2827662734, 3064100435,\n",
       "       2800094704, 3549930706, 1590001445, 1700633181,  537498121,\n",
       "       1268176033,  744762396,  388765728, 3913877711, 2205735905,\n",
       "       4065373553,  262975346, 2748936094,  749101585,  855425380,\n",
       "       1255351206, 3827239357,  943645460, 3616574509,   55424850,\n",
       "       1199618127, 3746366768, 2844299608, 1455017245, 3778981471,\n",
       "       3319903864, 2221319101, 2325112584, 3287649593, 3049515962,\n",
       "       4084431724, 3591019111,  306652909, 3241546559, 1808960897,\n",
       "       4148926088, 1709351239, 2885075529, 1309725329,  341225740,\n",
       "       1511003678,  746116253, 3000689947, 2598828649, 3927026926,\n",
       "       4133562059,  747055254, 4179984566, 3647506354, 2263584669,\n",
       "       2741586030, 3841562164,  127225943, 3002006263, 3731688985,\n",
       "       3298198300, 2066361600,  370598535, 2501424743, 4059960644,\n",
       "       3135925181, 1482272474, 2343311296, 1644029245, 3095677476,\n",
       "       1503647733, 1065468450, 2666948090, 1529855830, 4167309509,\n",
       "       3922500126, 3936059252, 2133340626,  344667119, 2163932841,\n",
       "        599586064,  540474358, 3054914372,  105307175,  184380222,\n",
       "       2756590913, 3584107107,  351591248, 2731247458, 1586159077,\n",
       "        265300831, 3923527977, 3318707199, 3100491823, 2981411741,\n",
       "       3290848909,  119070453, 1686677561, 4220575609, 3286871283,\n",
       "       1020099898,  399637631,  772296156, 1622735074, 2843668338,\n",
       "       2933910914, 1787097014, 2465061624, 2125348637, 4141324857,\n",
       "       2146360791,  441347389, 2296225822,  807443119,  442118060,\n",
       "       2999700835, 2833139005, 3574048952, 3275483172, 2619133864,\n",
       "        669133179, 3287185497,  120754562,  854084396, 3219998439,\n",
       "         76291311, 1519490577, 3619093430, 2002305100, 3641936981,\n",
       "         68783348,  666286248, 2314430788, 1443144634, 3088646703,\n",
       "        148787063,  294991417,  810823211,  484649254, 1818568562,\n",
       "       4015679677, 1325858370, 1447005587, 1764715996,  812485956,\n",
       "        156002630, 1681498004, 4239140058,  972987496,  352266035,\n",
       "       4241286042, 3345866529, 2696600423, 3488896658, 1314187866,\n",
       "       3364312332, 4234811031, 1714468497, 3415801649, 3660326604,\n",
       "       2794142961, 1947288626, 3208850455, 2106829259,  154322358,\n",
       "       4099000968, 2395953948, 2923439066, 2912429663, 3910612461,\n",
       "       2405710742,  358058633, 2255366490, 3224869440,  418623843,\n",
       "       1435550444,   98193199, 3267384915, 4040828612, 3907360668,\n",
       "        435942231, 2286821142, 3533723099, 2574915032, 1444128958,\n",
       "       1913651410, 2707892875,  909646420, 1554252705, 1224250832,\n",
       "       2314191787, 3475610911,  291742136, 1815273416, 1932064093,\n",
       "       1358810984, 2793908190, 2617264062,  204040888,  999978945,\n",
       "       1748480461, 3024801250,  206049104, 3866579257, 2210959625,\n",
       "       1794002942, 1049789430, 1677850528, 1946169346, 2924572744,\n",
       "       1608284784, 3990507378, 3016606721, 3437323945, 2565409194,\n",
       "       4046507165, 1077832773, 3305833120,  754272172,  470652795,\n",
       "       3672187647,  816132295, 1180070823, 1774548734, 3879445970,\n",
       "       3313887542, 3818166272, 1553619316, 2722166700, 1251741677,\n",
       "       4291504624, 3437219248, 1120246679, 1579849720, 3766292058,\n",
       "       2298367939,  409963583, 3068975339, 3632862136,  397774684,\n",
       "        320792150, 1546877038,  624707518,  553014799, 1298876419,\n",
       "        997595183,  482623601, 1095377312, 2765926432, 2929243888,\n",
       "        437261937, 2641728407, 3419848879,  969840592, 3375857288,\n",
       "       2784662711,  753929155, 1900851787, 1606145187, 2475634898,\n",
       "       1106468360, 2525065690, 1939777986,  113497095, 2437160114,\n",
       "       2524823738, 2355310891, 1842970052, 2439104812, 2041784626,\n",
       "       1509709890, 2710712260, 4289312025, 2736192005, 2365388935,\n",
       "       2348808360, 1111894478,  536661027,  236374445,  222672861,\n",
       "       3184154312, 1959119387, 1375451359, 4048502596, 3070829526,\n",
       "        324564773, 3968411295, 3804403696, 2781516211, 3510568177,\n",
       "       1154815862, 3942586685, 2497849987, 2950155984, 1083599909,\n",
       "       4279340086, 2265644176, 2945380316, 4124921122, 1080002382,\n",
       "       4092566362, 2740439942, 1151202478,  200935745,  719013248,\n",
       "       2223181010,  578185171,  152404717, 3467159293, 3352871365,\n",
       "       3590581283, 3180253827, 1113167343,  585464593, 4047848153,\n",
       "        247005912, 1550919567, 2050661840, 3891917030, 1359385858,\n",
       "       3889017386,  716655565, 2871777628, 2892546780, 3343217492,\n",
       "       1363455330,  348817477, 1817642931, 3455574081, 1188901762,\n",
       "       3434751440, 3252168169, 1649923676, 2089270372, 2789456364,\n",
       "       3527434666, 4021984942,  590520682, 1018293923, 1913729544,\n",
       "       1230788018, 3173038435,  473400757, 3589641678,   78860380,\n",
       "        580932825, 4226687238,  454998951, 1619663563,  328269708,\n",
       "        900255966, 3238957746, 2550227895,  745607163, 1602269530,\n",
       "       4097188007, 1919594346,  328254417,  793677118, 2166082073,\n",
       "        783707000,  370135578, 2752425600, 3358252290, 2127955534,\n",
       "       3906932257, 2905829420, 3328485909, 1683132485, 2111625232,\n",
       "         58954232, 2087312937,  291322288,  770866839, 2036573606,\n",
       "       3069424027, 1045858174,  726453133, 1174537761,    6256311,\n",
       "       4083840619, 2480156377, 1809668876, 2348417182, 1948288676,\n",
       "       1983433994, 3600954704, 1446544539,  918863513, 3070429555,\n",
       "       1741209236, 4259049394,  247313954, 2273093068, 2254624959,\n",
       "       2279192954, 3350592240, 2298060711, 1497859908, 1609574064,\n",
       "       1501539118,  126727568, 2712239431, 2024964941, 1094515598,\n",
       "       3661795701,   34990201, 3899635564, 3037336530, 1537470240,\n",
       "       4269884712, 4015877039,  904085362,  897103890, 3932165606,\n",
       "       3465563297,  561176286, 4290972304, 1053712950, 1944842491,\n",
       "       2560152677, 1048580602, 3433136586, 2269448907, 2472198862,\n",
       "       3467386555,  434312442, 4228555293, 3235231175, 1436037372,\n",
       "       2598417947, 2664263836, 2916869539, 1244617323], dtype=uint32), 277, 0, 0.0))"
      ]
     },
     "execution_count": 58,
     "metadata": {},
     "output_type": "execute_result"
    }
   ],
   "source": [
    "sampler.run_mcmc(state, 500, progress=True)"
   ]
  },
  {
   "cell_type": "code",
   "execution_count": 62,
   "id": "0ea6df1f",
   "metadata": {},
   "outputs": [
    {
     "data": {
      "text/plain": [
       "array([[-19.62065162],\n",
       "       [-19.62670413],\n",
       "       [-19.6195585 ],\n",
       "       ...,\n",
       "       [-19.62329822],\n",
       "       [-19.62413383],\n",
       "       [-19.62322367]])"
      ]
     },
     "execution_count": 62,
     "metadata": {},
     "output_type": "execute_result"
    }
   ],
   "source": [
    "samples = sampler.get_chain(flat=True)\n",
    "samples"
   ]
  },
  {
   "cell_type": "code",
   "execution_count": 66,
   "id": "22218ec0",
   "metadata": {},
   "outputs": [
    {
     "data": {
      "text/plain": [
       "Text(0.5, 0, 'log(sigma0)')"
      ]
     },
     "execution_count": 66,
     "metadata": {},
     "output_type": "execute_result"
    },
    {
     "data": {
      "image/png": "[encoded data removed]",
      "text/plain": [
       "<Figure size 640x480 with 1 Axes>"
      ]
     },
     "metadata": {},
     "output_type": "display_data"
    }
   ],
   "source": [
    "plt.hist(samples)\n",
    "plt.xlabel('log(sigma0)')"
   ]
  },
  {
   "cell_type": "code",
   "execution_count": 64,
   "id": "d2ec0cbf",
   "metadata": {},
   "outputs": [
    {
     "data": {
      "text/plain": [
       "-19.61776759900331"
      ]
     },
     "execution_count": 64,
     "metadata": {},
     "output_type": "execute_result"
    }
   ],
   "source": [
    "np.median(samples)"
   ]
  },
  {
   "cell_type": "code",
   "execution_count": null,
   "id": "dcd1ee74",
   "metadata": {},
   "outputs": [],
   "source": []
  }
 ],
 "metadata": {
  "kernelspec": {
   "display_name": "Python 3 (ipykernel)",
   "language": "python",
   "name": "python3"
  },
  "language_info": {
   "codemirror_mode": {
    "name": "ipython",
    "version": 3
   },
   "file_extension": ".py",
   "mimetype": "text/x-python",
   "name": "python",
   "nbconvert_exporter": "python",
   "pygments_lexer": "ipython3",
   "version": "3.11.4"
  }
 },
 "nbformat": 4,
 "nbformat_minor": 5
}
