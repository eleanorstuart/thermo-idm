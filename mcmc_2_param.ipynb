{
 "cells": [
  {
   "cell_type": "code",
   "execution_count": 148,
   "id": "46621c55",
   "metadata": {},
   "outputs": [],
   "source": [
    "import numpy as np\n",
    "from astropy import constants as const\n",
    "from astropy import units as u\n",
    "from astropy.table import QTable\n",
    "import pandas as pd\n",
    "import emcee\n",
    "import corner\n",
    "from matplotlib import pyplot as plt\n",
    "\n",
    "\n",
    "from cluster import c, Cluster, temp_from_vdisp"
   ]
  },
  {
   "cell_type": "code",
   "execution_count": 7,
   "id": "96e7f262",
   "metadata": {},
   "outputs": [],
   "source": [
    "# consts\n",
    "n=0 # only collisions for now\n",
    "norm = 1/4 # normalizing factor for accretion rate\n",
    "mu = 1  # mean molecular weight of gas, 1 for proton gas (hydrogen)"
   ]
  },
  {
   "cell_type": "code",
   "execution_count": 8,
   "id": "8c740793",
   "metadata": {},
   "outputs": [],
   "source": [
    "# testing parameters\n",
    "nrows = 100"
   ]
  },
  {
   "cell_type": "code",
   "execution_count": 9,
   "id": "0f0415b2",
   "metadata": {},
   "outputs": [],
   "source": [
    "# load data\n",
    "# load in a dataset here\n",
    "galwcls=pd.read_csv('data/galwcls.dat', sep='|', header=None, nrows=nrows)\n",
    "cls_data = {'sig500': galwcls[:][8],\n",
    "            'M500': galwcls[:][11],\n",
    "            'r200': galwcls[:][13],\n",
    "            'sig200':galwcls[:][15],\n",
    "            'err_neg':galwcls[:][16],\n",
    "            'err_pos':galwcls[:][17],\n",
    "            'M200':galwcls[:][18]}\n",
    "units = {'sig500': u.km/u.s,\n",
    "            'M500': u.Msun,\n",
    "            'r200': u.Mpc,\n",
    "            'sig200': u.km/u.s,\n",
    "            'err_neg':u.km/u.s,\n",
    "            'err_pos':u.km/u.s,\n",
    "            'M200': u.Msun, }\n",
    "cls_table = QTable(cls_data, units=units)\n",
    "# add option to select size of dataset\n"
   ]
  },
  {
   "cell_type": "code",
   "execution_count": 91,
   "id": "cb9919b2",
   "metadata": {},
   "outputs": [],
   "source": [
    "def T_b(p0, cluster): # small mx (Tx=0) approximation\n",
    "    sigma0 = p0[0]*u.cm**2\n",
    "    m_chi=p0[1]*u.GeV\n",
    "    \n",
    "    V=cluster.volume.to(u.cm**3)\n",
    "    x = (3*const.c*c(n)*V*cluster.rho_dm*cluster.rho_b*sigma0/(cluster.m_b+m_chi)**2).to(1/u.s)\n",
    "    leading_factors = (norm * 4*np.pi *const.c ** -3).to(u.s**3/u.cm**3)\n",
    "    gm2 = ((const.G * cluster.bh_mass()) ** 2).to(u.cm**6/u.s**4)\n",
    "    frac = ((mu * cluster.m_b) ** (5 / 2) / cluster.adiabatic_idx ** (3 / 2)).to(u.GeV**(5/2))\n",
    "    nb = (2 * cluster.n_e).to(u.cm ** (-3)) # baryon number density\n",
    "    D = (cluster.epsilon*leading_factors*gm2*frac*(1/nb**(2/3))**(-3/2)) # removed k_B from original function because we are working in GeV here\n",
    "    return (((D*np.sqrt(cluster.m_b))/x)**(1/3)).to(u.GeV, equivalencies=u.temperature_energy())\n",
    "    "
   ]
  },
  {
   "cell_type": "code",
   "execution_count": null,
   "id": "3114e945",
   "metadata": {},
   "outputs": [],
   "source": [
    "# TODO: use fsolve to find T_b so I don't have to make small mx approx"
   ]
  },
  {
   "cell_type": "code",
   "execution_count": 11,
   "id": "ef765a92",
   "metadata": {},
   "outputs": [],
   "source": [
    "def variance(err_neg, err_pos):\n",
    "    n_temp = temp_from_vdisp(err_neg)\n",
    "    p_temp = temp_from_vdisp(err_pos)\n",
    "    return n_temp + p_temp"
   ]
  },
  {
   "cell_type": "code",
   "execution_count": 85,
   "id": "ad2b3191",
   "metadata": {},
   "outputs": [],
   "source": [
    "T_data = [temp_from_vdisp(v) for v in cls_table['sig200']]\n",
    "var = variance(cls_table['err_neg'], cls_table['err_pos'])\n",
    "clusters = [Cluster(cls_table['r200'][i], cls_table['M200'][i], cls_table['sig200'][i], m500=cls_table['M500'][i]) for i in range(nrows)]"
   ]
  },
  {
   "cell_type": "code",
   "execution_count": 12,
   "id": "4b6fa73d",
   "metadata": {},
   "outputs": [],
   "source": [
    "def chi_squared(T_model, T_data, variance): # take lists of model prediction, data, and variance of same length\n",
    "    chi_squared_sum = 0\n",
    "    for i in range(len(T_model)):\n",
    "        chi_squared_sum+=(T_model[i]-T_data[i])**2/variance[i]**2\n",
    "    return chi_squared_sum"
   ]
  },
  {
   "cell_type": "code",
   "execution_count": 127,
   "id": "536b24fb",
   "metadata": {},
   "outputs": [],
   "source": [
    "def log_likelihood(p0, T_data, var):\n",
    "    if p0[0]<0 or p0[1]<0:\n",
    "        return -np.inf\n",
    "    T_model = [T_b(p0, c) for c in clusters]\n",
    "    X2 = chi_squared(T_model, T_data, var)\n",
    "    return (-X2/2)"
   ]
  },
  {
   "cell_type": "code",
   "execution_count": 128,
   "id": "3c5607a6",
   "metadata": {},
   "outputs": [],
   "source": [
    "# hyperparameters\n",
    "n_burnin = 100\n",
    "n_steps = 1000"
   ]
  },
  {
   "cell_type": "code",
   "execution_count": 129,
   "id": "340f87c0",
   "metadata": {},
   "outputs": [
    {
     "data": {
      "text/plain": [
       "array([[5.32078384e-20, 2.43762587e-04],\n",
       "       [1.41596729e-12, 1.73352715e-04],\n",
       "       [3.53612100e-19, 1.41589052e-05],\n",
       "       [3.72859583e-15, 5.47829421e-05],\n",
       "       [3.45315220e-27, 2.49245170e-03]])"
      ]
     },
     "execution_count": 129,
     "metadata": {},
     "output_type": "execute_result"
    }
   ],
   "source": [
    "# initialize walkers\n",
    "ndim, nwalkers = 2, 5\n",
    "sigma0 = np.power(10, np.random.uniform(low=-30, high=-10, size=(nwalkers, 1)))*u.cm**2\n",
    "mchi = np.power(10, np.random.uniform(low=-8, high=0, size=(nwalkers, 1)))*u.GeV\n",
    "p0=np.zeros((nwalkers, ndim ))\n",
    "p0[:,0] = sigma0.reshape((5,))\n",
    "p0[:,1]= mchi.reshape((5,))\n",
    "p0"
   ]
  },
  {
   "cell_type": "code",
   "execution_count": 130,
   "id": "9d3ba9f7",
   "metadata": {},
   "outputs": [],
   "source": [
    "sampler = emcee.EnsembleSampler(nwalkers, ndim, log_likelihood, args=[T_data, var])"
   ]
  },
  {
   "cell_type": "code",
   "execution_count": 131,
   "id": "688eb297",
   "metadata": {},
   "outputs": [
    {
     "name": "stderr",
     "output_type": "stream",
     "text": [
      "You must install the tqdm library to use progress indicators with emcee\n"
     ]
    }
   ],
   "source": [
    "state = sampler.run_mcmc(p0, n_burnin, progress=True)\n",
    "sampler.reset()"
   ]
  },
  {
   "cell_type": "code",
   "execution_count": 132,
   "id": "1ace8fc7",
   "metadata": {},
   "outputs": [
    {
     "name": "stderr",
     "output_type": "stream",
     "text": [
      "You must install the tqdm library to use progress indicators with emcee\n"
     ]
    },
    {
     "data": {
      "text/plain": [
       "State([[6.04847584e-20 2.69760396e-01]\n",
       " [2.43450646e-19 1.47051107e+00]\n",
       " [1.54585515e-19 9.80782299e-01]\n",
       " [9.04832364e-20 5.32266673e-01]\n",
       " [1.87279040e-19 1.17845202e+00]], log_prob=[-3863.65937277 -3862.93808211 -3862.94344902 -3862.95161979\n",
       " -3862.979308  ], blobs=None, random_state=('MT19937', array([4005542613,  247424337, 1177416618, 2588879209, 3355615281,\n",
       "       1568391109, 2607620012, 3062205303, 1783566313, 1490455395,\n",
       "       3119576709, 2990345672,  142390781, 4142128055, 2150213843,\n",
       "        110975567, 3024164610,  618393847, 3250991679,  466011801,\n",
       "       3515918275,  191009041, 2161914451, 1248455011, 3553444500,\n",
       "       2275816284, 1758524778, 4278439725, 3178843399, 2459364966,\n",
       "       1689391119, 1372500476, 2392676846, 1581623922, 2484721429,\n",
       "        489359476, 3984764027,  364838859, 2208767175, 2243834479,\n",
       "       3176602923,  636145465, 1659821788,   10930829,  978127610,\n",
       "        354066793, 3139185231,  140123071, 4141609704, 1063224800,\n",
       "       2876913507, 3376397018, 1566292556, 1154161046, 2250551110,\n",
       "       3366015396, 2920236673,    9994245,   29038288,  748269194,\n",
       "        503610306, 4066656884,  716290567, 1351713541, 2899413692,\n",
       "       3159094791, 4160452467, 3743481667, 1026542712, 3965163510,\n",
       "       1600994109,  479647194,  765471541, 1389201766, 2351122761,\n",
       "        565069048,  379099925,  902709681,  922356781, 3690427008,\n",
       "       3378678087, 1134141546, 1910746192, 3556603192, 1366016993,\n",
       "        891253224, 2008249764, 4110527501, 1056817524, 3593556352,\n",
       "       2915532079, 3590116345, 2709509544, 4245239301,  695723039,\n",
       "       2341953337,  644337313, 4131785627, 1741432224,  579206007,\n",
       "       3792747634, 3389687769,  142312544, 2913940298,  680024771,\n",
       "       1878243296, 2008633057,  540070206, 1002741204, 3879714228,\n",
       "        205809532, 2453946531, 2566154696, 2252891216, 1198502733,\n",
       "        499931135,  527428730, 1581415106, 1797488791, 2986723204,\n",
       "        921612393, 2974811749,   67412829, 1018467176, 4178467833,\n",
       "       1557240429, 3175090718, 2860978855, 1379845650, 3066197910,\n",
       "        278468533, 2459326279,  512741388, 3078460993, 3318349123,\n",
       "       3442244366, 4190539980, 1549288474, 3950510185, 1952399892,\n",
       "       4005116708, 3842810775,   41733069, 2393492798,  972384177,\n",
       "       3763049653,  639558919, 4100744725, 3803581434, 2243607895,\n",
       "       3417217169, 2339535996,  243244718, 1620974860, 3495545819,\n",
       "       1342460044, 1498469075, 3508139572, 3297220568,  371858105,\n",
       "       1342832726,  337886972, 1647770288, 2795923827, 1960707952,\n",
       "       1269170813, 2668106351, 2120789639, 1930929527, 3255301694,\n",
       "       2727444029, 2045388030, 1657621999, 2992208921, 2714667662,\n",
       "       3416400421, 1685661658, 2552745309, 3956678321, 1105897356,\n",
       "       1237498234, 2318222583,  597428757, 3812111950, 3613106826,\n",
       "       4155704092, 3186209259,  815148175, 4203207563, 1654723322,\n",
       "       2271126126,  422971240, 3980069595,  704327751, 2918875845,\n",
       "        496190222, 1225297977,  569905637, 3835817023,  135251507,\n",
       "       1984084335, 1596047431,   13609146, 2226061367,  514203453,\n",
       "        764393034, 1591444293, 3776957789, 1040954855, 1395151044,\n",
       "       1155286879,  955726456, 1321612025,  656850176,  107726603,\n",
       "       3538243873, 3901651083, 2104517729,  596097345,  524119567,\n",
       "       2752144533, 1501342629,  794001554,  932197289, 3993160938,\n",
       "       4095691293, 3813115794, 2321389734, 1979232779, 4119428687,\n",
       "       3789499004, 2670294564, 1591354595, 2326849588, 2307072433,\n",
       "       2641518663, 1013428547, 3493515175, 2729033317, 1976567210,\n",
       "       2150123715, 1036190805, 1208539523,  184922220,  588025021,\n",
       "       2472129261, 3016970350,  703740238,  693659573, 2459247728,\n",
       "        554856026,  964060707,  230258304, 2205808000,  317866220,\n",
       "        515922648, 3999420973, 2264464431, 1163526430,   97164251,\n",
       "       2140070066,  876534966, 2525667755, 2712899776, 1255231866,\n",
       "        475021991, 1307534382, 1426716892, 1780353318, 1950011920,\n",
       "       1565757027, 3963324073, 2268067967, 2566361671, 1211779811,\n",
       "       3399310372, 2959745348, 3191458256, 1461846278, 1972706839,\n",
       "       2145130700, 3359451864, 1375636264, 1344566203, 1284349695,\n",
       "       2326569861, 2032258605, 1833013470, 1017697149, 2451125843,\n",
       "        969659784,  675025384, 3767233479,  130609224, 1054536391,\n",
       "       2315315860,  589166787, 3193606330, 2431006011, 1536556513,\n",
       "       3915982378, 3512790130, 1294678840,  866936764, 2319707726,\n",
       "        896027003, 2869852067, 3176704184,  435244353, 2322606104,\n",
       "       3034392948, 2306792315, 3971644838,  400620719, 2802609386,\n",
       "        254244929, 2550525343, 3615928781, 2000458871, 1495095591,\n",
       "        811905654,  665826457, 2001973085, 1078224225, 2761173992,\n",
       "        705920817, 1972407271,  911502643, 2279617580, 3258706487,\n",
       "       2843030330, 2333605208, 2899287713, 1418771852,  187183099,\n",
       "        106089879, 1901444795, 1286778209, 1217858741, 1935173493,\n",
       "       1108964945, 1961465523,  174520875, 3698748873, 2891880645,\n",
       "       1214732938, 1541641051, 2843700521, 2401941583,  275504075,\n",
       "       2817761312,  631676277, 2994502562, 1943887262, 1486879093,\n",
       "       2989308180, 4078497660, 3262540539,  126430190, 1877634179,\n",
       "        585551874, 3354338330, 2556745132,  734885449, 1093042040,\n",
       "       1690339690,  963649075, 3827766605, 1292204944,  333588518,\n",
       "        877959847,  376296070,  629266510, 2162062677,  150721431,\n",
       "       1137225045,  611261054,  255806880, 2691617899,  467650701,\n",
       "       1896106248, 2957642040, 3689119279, 3356575678, 3099450869,\n",
       "       2504965656, 2250076875, 3400389002,  323130022,  337194723,\n",
       "       2154605001, 2026790236, 2525800114,  732088424, 4008038450,\n",
       "       2142993945,  664743869, 1749780682,  250566442, 2932718057,\n",
       "       1676185398,    6536172,  272306555,  550681060, 2988622572,\n",
       "       1379836783, 2614618995,  957150570, 3283540466, 1455495397,\n",
       "       1459357503, 2672469045, 1187719370, 3119664877, 1852050971,\n",
       "       1053039439, 4244758682, 1156059343, 2098686575, 3923209324,\n",
       "        518555118, 2297720110, 3750235349, 3904702521, 3484408803,\n",
       "       3788160016, 1426677599, 1640992383, 3086143180,    8359382,\n",
       "       3245342136,  507562967, 3156393987, 1656555139, 1305427222,\n",
       "       2000840060,  467143725, 1367679158, 1536041820, 2513316389,\n",
       "        407591065, 1286227445, 2938917225, 2746092198, 3350319111,\n",
       "       4034191408, 1249687773,  982947327, 3932444008, 3021158870,\n",
       "       3556184045, 2366547319, 3875803554, 1493194877, 2242038831,\n",
       "       2313421259, 1417723174, 3744099593, 2740399413, 4142510724,\n",
       "       3057279650, 1805590788,   18514210, 1035952391, 2665477599,\n",
       "       1829213250,  111876379, 1014269005, 1563948815, 2969828460,\n",
       "       2996331667, 2630451668, 2098615412,   70726357,  210993500,\n",
       "       2972513420, 2208714968,  593832765, 2756696006,  631692252,\n",
       "        486157511, 3724100019,   54954788,  714015496, 4255383637,\n",
       "       3976313425, 3759244113,  540338649, 4171001334, 1066682291,\n",
       "       1589770064,  603949239,   16110217, 2780147774, 2980867219,\n",
       "       3230675249,   86690601, 3849296342, 3281789979, 3815607539,\n",
       "       1591036108, 1167897205, 3630162402,  457173123,  679635297,\n",
       "       3126620704, 1951657312,  830196178,   71064361,  428793676,\n",
       "       1669637082, 1463556283, 2266417744, 1892504879, 2666154135,\n",
       "       2385668446, 2124658519, 3227514070,  346298164, 4190785024,\n",
       "       1929886474,  206124245, 4237817430, 3733035003, 2024772422,\n",
       "       1209707263,  846716996, 2400890361, 3336749897, 3059470921,\n",
       "        674242604, 1837228862, 1271812036, 3627963402, 1811023964,\n",
       "        431240285, 1174940626,  427155040,  737714609, 3387111029,\n",
       "        500833556, 2777275837, 3835335296, 1579466348, 1721624684,\n",
       "       3508059288,  688413719,  612888726, 4116552785,  147826652,\n",
       "       2603009153, 1050455895, 1924450019, 2236990750, 1679177892,\n",
       "        506551098,  148175781, 3969576534, 4256285474, 1033786086,\n",
       "       3004009608, 4008353524,   96549501, 2917561932,  986587736,\n",
       "        869898459, 1021115111, 2869865114,  639255356, 2793570978,\n",
       "       1093337579,  415152571, 1797876900, 1247974750, 1243692811,\n",
       "       1497974560, 1915186691,   22569451, 3135824358, 1238455768,\n",
       "       3393737851, 4138828204, 2106551669, 2500561200, 1344724318,\n",
       "        100170672, 1752414125, 3385716206, 4171463822,  879876197,\n",
       "       1909185023, 2568247112, 1040027720, 2084553768,  416650711,\n",
       "       2310614234, 3647739184, 3605872571,   37418469, 1728819658,\n",
       "       3746462087, 3987027753,  397195597,  536467252, 3797127787,\n",
       "       3236905660, 4238078630, 1541301505, 2373672216, 2916638115,\n",
       "        116699017, 1381769292,  219253940,  418943489, 3024301975,\n",
       "       1098255334, 1010177743, 3702787840,  438036256, 4000661704,\n",
       "       1228239596, 2271560260, 3521082529, 2311602696], dtype=uint32), 621, 0, 0.0))"
      ]
     },
     "execution_count": 132,
     "metadata": {},
     "output_type": "execute_result"
    }
   ],
   "source": [
    "sampler.run_mcmc(state, n_steps, progress=True)"
   ]
  },
  {
   "cell_type": "code",
   "execution_count": 133,
   "id": "c57112eb",
   "metadata": {},
   "outputs": [],
   "source": [
    "samples = sampler.get_chain(flat=True)"
   ]
  },
  {
   "cell_type": "code",
   "execution_count": 144,
   "id": "9ff88f06",
   "metadata": {},
   "outputs": [
    {
     "name": "stdout",
     "output_type": "stream",
     "text": [
      "Mean acceptance fraction: 0.512\n"
     ]
    }
   ],
   "source": [
    "print(\n",
    "    \"Mean acceptance fraction: {0:.3f}\".format(\n",
    "        np.mean(sampler.acceptance_fraction)\n",
    "    )\n",
    ")"
   ]
  },
  {
   "cell_type": "code",
   "execution_count": 134,
   "id": "4aaf98be",
   "metadata": {},
   "outputs": [
    {
     "data": {
      "text/plain": [
       "(8.136714202785596e-20, 0.44271229791353295)"
      ]
     },
     "execution_count": 134,
     "metadata": {},
     "output_type": "execute_result"
    }
   ],
   "source": [
    "np.median(samples[:,0]), np.median(samples[:,1]) # wants to have higher value of mchi"
   ]
  },
  {
   "cell_type": "code",
   "execution_count": 146,
   "id": "94068e66",
   "metadata": {},
   "outputs": [
    {
     "data": {
      "image/png": "[encoded data removed]",
      "text/plain": [
       "<Figure size 640x480 with 1 Axes>"
      ]
     },
     "metadata": {},
     "output_type": "display_data"
    }
   ],
   "source": [
    "plt.scatter(samples[:,1], samples[:,0], alpha=0.2)\n",
    "plt.xscale('log')\n",
    "plt.yscale('log')"
   ]
  },
  {
   "cell_type": "code",
   "execution_count": 143,
   "id": "cd52ad3a",
   "metadata": {},
   "outputs": [
    {
     "data": {
      "text/plain": [
       "<matplotlib.colorbar.Colorbar at 0x137aac210>"
      ]
     },
     "execution_count": 143,
     "metadata": {},
     "output_type": "execute_result"
    },
    {
     "data": {
      "image/png": "[encoded data removed]",
      "text/plain": [
       "<Figure size 640x480 with 2 Axes>"
      ]
     },
     "metadata": {},
     "output_type": "display_data"
    }
   ],
   "source": [
    "bins=100\n",
    "xbins = np.logspace(np.log10(np.min(samples[:,1])),np.log10(np.max(samples[:,1])),bins+1)\n",
    "ybins = np.logspace(np.log10(np.min(samples[:,0])),np.log10(np.max(samples[:,0])),bins+1)\n",
    "\n",
    "plt.hist2d(samples[:,1], samples[:,0], bins=[xbins,ybins], cmap='Blues', norm='log')\n",
    "plt.xscale('log')\n",
    "plt.yscale('log')\n",
    "plt.colorbar()"
   ]
  },
  {
   "cell_type": "code",
   "execution_count": 139,
   "id": "0ecc023f",
   "metadata": {},
   "outputs": [],
   "source": [
    "def plot_loghist(x, bins):\n",
    "    logbins = np.logspace(np.log10(np.min(x)),np.log10(np.max(x)),bins+1)\n",
    "    plt.hist(x, bins=logbins)\n",
    "    plt.xscale('log')\n",
    "    plt.yscale('log')"
   ]
  },
  {
   "cell_type": "code",
   "execution_count": 140,
   "id": "59e7d00e",
   "metadata": {},
   "outputs": [
    {
     "data": {
      "image/png": "[encoded data removed]",
      "text/plain": [
       "<Figure size 640x480 with 1 Axes>"
      ]
     },
     "metadata": {},
     "output_type": "display_data"
    }
   ],
   "source": [
    "bins=100\n",
    "plot_loghist(samples[:,1], bins=bins)\n"
   ]
  },
  {
   "cell_type": "code",
   "execution_count": 141,
   "id": "5f7ca321",
   "metadata": {},
   "outputs": [
    {
     "data": {
      "image/png": "[encoded data removed]",
      "text/plain": [
       "<Figure size 640x480 with 1 Axes>"
      ]
     },
     "metadata": {},
     "output_type": "display_data"
    }
   ],
   "source": [
    "plot_loghist(samples[:,0], bins=bins)"
   ]
  },
  {
   "cell_type": "code",
   "execution_count": 125,
   "id": "b8b49f97",
   "metadata": {},
   "outputs": [
    {
     "data": {
      "text/plain": [
       "array([-0.03247304, -0.03121125, -0.0324903 , ...,  0.68898565,\n",
       "        0.4675836 ,  1.51329592])"
      ]
     },
     "execution_count": 125,
     "metadata": {},
     "output_type": "execute_result"
    }
   ],
   "source": [
    "samples[:,1]"
   ]
  },
  {
   "cell_type": "code",
   "execution_count": 149,
   "id": "c68c0e42",
   "metadata": {},
   "outputs": [
    {
     "name": "stdout",
     "output_type": "stream",
     "text": [
      "(300, 2)\n"
     ]
    }
   ],
   "source": [
    "flat_samples = sampler.get_chain(discard=100, thin=15, flat=True)\n",
    "print(flat_samples.shape)"
   ]
  },
  {
   "cell_type": "code",
   "execution_count": 150,
   "id": "373188ae",
   "metadata": {},
   "outputs": [
    {
     "data": {
      "image/png": "[encoded data removed]",
      "text/plain": [
       "<Figure size 550x550 with 4 Axes>"
      ]
     },
     "metadata": {},
     "output_type": "display_data"
    }
   ],
   "source": [
    "fig = corner.corner(flat_samples) #LOL this is so bad"
   ]
  },
  {
   "cell_type": "code",
   "execution_count": null,
   "id": "42db72ac",
   "metadata": {},
   "outputs": [],
   "source": []
  }
 ],
 "metadata": {
  "kernelspec": {
   "display_name": "Python 3 (ipykernel)",
   "language": "python",
   "name": "python3"
  },
  "language_info": {
   "codemirror_mode": {
    "name": "ipython",
    "version": 3
   },
   "file_extension": ".py",
   "mimetype": "text/x-python",
   "name": "python",
   "nbconvert_exporter": "python",
   "pygments_lexer": "ipython3",
   "version": "3.11.4"
  }
 },
 "nbformat": 4,
 "nbformat_minor": 5
}
