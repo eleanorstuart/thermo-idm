{
 "cells": [
  {
   "cell_type": "code",
   "execution_count": 69,
   "id": "47c9908f",
   "metadata": {},
   "outputs": [
    {
     "name": "stdout",
     "output_type": "stream",
     "text": [
      "The autoreload extension is already loaded. To reload it, use:\n",
      "  %reload_ext autoreload\n"
     ]
    }
   ],
   "source": [
    "%load_ext autoreload\n",
    "%autoreload 2\n",
    "import emcee\n",
    "import corner\n",
    "import pickle\n",
    "import numpy as np\n",
    "import pandas as pd\n",
    "\n",
    "from astropy import units as u\n",
    "from astropy import constants as const\n",
    "from astropy.table import QTable\n",
    "from matplotlib import pyplot as plt\n",
    "from scipy.optimize import root, brentq\n",
    "from uncertainties import ufloat\n",
    "from uncertainties.umath import *\n",
    "from uncertainties import unumpy as unp\n",
    "\n",
    "from load_mcxc_data import load_clusters\n",
    "from cluster_functions import c\n",
    "from statistics_functions import chi_squared\n",
    "from equilibrium_functions import equil\n",
    "from cluster import Cluster"
   ]
  },
  {
   "cell_type": "code",
   "execution_count": 74,
   "id": "12c7e840",
   "metadata": {},
   "outputs": [],
   "source": [
    "clusters, variances=load_clusters(nrows=20)"
   ]
  },
  {
   "cell_type": "code",
   "execution_count": 59,
   "id": "fbb40964",
   "metadata": {},
   "outputs": [],
   "source": [
    "def load_clusters1(nrows=None, dataset='REFLEX'):\n",
    "    skipfooter=0 if nrows else 1\n",
    "    mcxccls=pd.read_csv('data/mcxc|.txt', header=3, sep='|', skiprows=[4],on_bad_lines='warn', skipfooter=skipfooter)\n",
    "    mcxccls.columns=mcxccls.columns.str.strip()\n",
    "\n",
    "    selected_cls=mcxccls[mcxccls['Sub-Cat'].str.strip()==dataset]\n",
    "\n",
    "\n",
    "    cls_data={'M500':selected_cls['M500'],\n",
    "          'L500':selected_cls['L500'],\n",
    "          'R500':selected_cls['R500']\n",
    "         }\n",
    "    units={\n",
    "        'M500': 1e14*u.Msun,\n",
    "        'L500': 1e37*u.W,\n",
    "        'R500':u.Mpc\n",
    "    }\n",
    "\n",
    "    cls_table=QTable(cls_data, units=units)\n",
    "    \n",
    "    with open ('data/'+dataset+'.p', 'rb') as fp:\n",
    "        L_uncertainties=np.array(pickle.load(fp))\n",
    "    L_uncertainties_conv=(L_uncertainties*1e37*u.W).to(u.erg / u.s).value\n",
    "    \n",
    "    return [ \n",
    "        Cluster(\n",
    "            cls_table['R500'][i],\n",
    "            cls_table['M500'][i],\n",
    "            L500=cls_table['L500'][i],\n",
    "            m500=cls_table['M500'][i],\n",
    "        )\n",
    "        for i in range(nrows)#(mcxccls.shape[0])\n",
    "    ], [variance(cls_table['L500'][i], L_uncertainties_conv[i]) for i in range(nrows)] "
   ]
  },
  {
   "cell_type": "code",
   "execution_count": 52,
   "id": "12270112",
   "metadata": {},
   "outputs": [],
   "source": [
    "def variance1(luminosity, l_unc): # returns the variance on calculated temperature\n",
    "     # TODO: TEST THIS NOW THAT I HAVE ADDED L_unc\n",
    "    #logL=np.log10((luminosity.to(1e44*u.erg/u.s))/(1e44*u.erg/u.s))\n",
    "\n",
    "    A=ufloat(2.88, 0.15)\n",
    "    B=ufloat(45.06, 0.03)\n",
    "\n",
    "    lum = luminosity.to(u.erg / u.s)\n",
    "    \n",
    "    lums_uf = ufloat(lum.value, l_unc)\n",
    "    log_T = (unp.log10(lums_uf) - B) / A + np.log10(6)\n",
    "    #T = (10**log_T * u.keV).to(u.GeV)\n",
    "\n",
    "    T = 10**log_T * 1e-6 #divide by 10^6 to convert keV to GeV\n",
    "\n",
    "    return T.std_dev *u.GeV #variances on T in GeV"
   ]
  },
  {
   "cell_type": "code",
   "execution_count": 147,
   "id": "7d8e39a8",
   "metadata": {},
   "outputs": [
    {
     "data": {
      "text/plain": [
       "array([[-22.92173847,  -1.77633414],\n",
       "       [-19.99261935,  -0.73292023],\n",
       "       [-28.11362725,  -0.81320193],\n",
       "       [-22.01639295,  -1.07849588],\n",
       "       [-26.84295563,  -1.23053679],\n",
       "       [-15.36386956,  -0.67716388],\n",
       "       [-25.85670503,  -1.16384682],\n",
       "       [-29.90623562,  -1.51974737],\n",
       "       [-22.56799614,  -0.92365171],\n",
       "       [-19.31369213,  -1.77823284]])"
      ]
     },
     "execution_count": 147,
     "metadata": {},
     "output_type": "execute_result"
    }
   ],
   "source": [
    "#prepare MCMC\n",
    "log_mp = np.log10(const.m_p.to(u.GeV, equivalencies=u.mass_energy()).value)\n",
    "\n",
    "ndim, nwalkers = 2, 10\n",
    "p0=np.zeros((nwalkers, ndim ))\n",
    "log_sigma0 = np.random.uniform(low=-30, high=-15, size=nwalkers).astype(np.float128)\n",
    "log_mx = np.random.uniform(low=-2, high=log_mp, size=nwalkers).astype(np.float128)\n",
    "p0[:,0]=log_sigma0\n",
    "p0[:,1]=log_mx\n",
    "p0"
   ]
  },
  {
   "cell_type": "code",
   "execution_count": 148,
   "id": "930e7109",
   "metadata": {},
   "outputs": [],
   "source": [
    "T_data = [c.baryon_temp for c in clusters]"
   ]
  },
  {
   "cell_type": "code",
   "execution_count": 149,
   "id": "906a6456",
   "metadata": {},
   "outputs": [],
   "source": [
    "def log_lik(p0, T_data, var, clusters):\n",
    "    if p0[0]<-30 or p0[0]>-15:\n",
    "        return -np.inf\n",
    "    if p0[1]<-2 or 10**p0[1]>const.m_p.to(u.GeV, equivalencies=u.mass_energy()).value:\n",
    "        return -np.inf\n",
    "    #print(p0)\n",
    "    T_model = [brentq(equil, -10, 0, args=(c, p0[0], p0[1])) for c in clusters]\n",
    "    X2 = chi_squared(np.power(10,T_model)*u.GeV, T_data, var)\n",
    "    return (-X2/2)"
   ]
  },
  {
   "cell_type": "code",
   "execution_count": 150,
   "id": "93c947bd",
   "metadata": {},
   "outputs": [
    {
     "data": {
      "text/latex": [
       "$-1373.1884 \\; \\mathrm{}$"
      ],
      "text/plain": [
       "<Quantity -1373.18841848>"
      ]
     },
     "execution_count": 150,
     "metadata": {},
     "output_type": "execute_result"
    }
   ],
   "source": [
    "log_lik(p0[0], T_data, variances, clusters)"
   ]
  },
  {
   "cell_type": "code",
   "execution_count": 151,
   "id": "cff1d305",
   "metadata": {},
   "outputs": [],
   "source": [
    "n=0\n",
    "sampler = emcee.EnsembleSampler(\n",
    "    nwalkers, \n",
    "    ndim, \n",
    "    log_lik, \n",
    "    args=[T_data, variances, clusters])"
   ]
  },
  {
   "cell_type": "code",
   "execution_count": 152,
   "id": "c6e5e6b1",
   "metadata": {},
   "outputs": [
    {
     "name": "stderr",
     "output_type": "stream",
     "text": [
      "100%|█████████████████████████████████████████| 100/100 [07:36<00:00,  4.57s/it]\n"
     ]
    }
   ],
   "source": [
    "state = sampler.run_mcmc(p0, 100, progress=True)\n",
    "sampler.reset()"
   ]
  },
  {
   "cell_type": "code",
   "execution_count": 153,
   "id": "5cf9d7ac",
   "metadata": {},
   "outputs": [
    {
     "name": "stderr",
     "output_type": "stream",
     "text": [
      "100%|█████████████████████████████████████| 1000/1000 [1:30:58<00:00,  5.46s/it]\n"
     ]
    },
    {
     "data": {
      "text/plain": [
       "State([[-23.91725167  -1.69416306]\n",
       " [-22.23806905  -0.14910121]\n",
       " [-22.24122327  -0.15097898]\n",
       " [-22.38699895  -0.16821912]\n",
       " [-22.48051384  -0.17434179]\n",
       " [-15.16266595  -0.12447359]\n",
       " [-22.21380512  -0.15466467]\n",
       " [-22.14029587  -0.15493268]\n",
       " [-22.22893977  -0.14769316]\n",
       " [-22.43473631  -0.17011662]], log_prob=[-90.22424797  -0.96225099  -0.73195606  -0.58636856  -0.63359685\n",
       "  -6.24319009  -0.82420667  -1.90809378  -1.14953211  -0.46158359], blobs=None, random_state=('MT19937', array([ 103353354, 2927094112, 3704614870, 2305268602, 3800377618,\n",
       "       2055918945, 1611898323, 3526953860,   22244491, 4285826033,\n",
       "       2719836513, 1134930380, 2873060731, 1596114062, 1115077330,\n",
       "       3553097228,  814025395, 2290842468, 1926611755, 2938495635,\n",
       "       3935299416, 2708481102, 2299930498, 1585570663, 2108642073,\n",
       "        423467399,   18993689, 3244998744, 2704424160, 2769525103,\n",
       "       4204841722, 4194878426, 2969139752, 2475001771, 2910095670,\n",
       "         55848607, 3636265342, 3436774920, 2185187747,  897665957,\n",
       "       3064230180, 3857535472,  568037434, 1335822820, 3425166518,\n",
       "       4192506577, 3739196464, 1274872307, 3960622593, 4177703136,\n",
       "       1973515535,   52077265, 2538678872, 4230225091, 2889542908,\n",
       "        650439307,  936224388, 2070737811,  205631835, 2749164693,\n",
       "       2549868250, 3553845530, 3809104588, 2267485697, 3573296757,\n",
       "       2752522292, 1497657760, 2919207901, 1120550518, 2674006721,\n",
       "       1706722123, 2913857210, 1483276780,  697825810, 1774306726,\n",
       "        994557368, 1427695254, 3855546976, 2567726846, 1931813369,\n",
       "       3713127871, 2034422460,  808513345, 2769787794, 2795459286,\n",
       "        948487623, 1350748688, 4031959770, 1897286677, 3423834636,\n",
       "       2040950389,  854046205, 3054958220, 2884621768, 1648943080,\n",
       "       3802161154, 3392462233, 3313377549, 1802116153, 2657859515,\n",
       "       3141006315, 2069297289,  468188904, 4110689376,  762985717,\n",
       "       4216954714, 1372857014, 1345632530, 1092561314, 1313959209,\n",
       "       2143437667, 2220003821,  477502011, 2281676367,   32780331,\n",
       "       1237682664, 2182337159, 4235169432, 3775883607, 1228752584,\n",
       "       4186999082, 1771049244, 3880899450,  443574359,  499038256,\n",
       "       2500026649, 2865666193, 2905872053, 1016091619, 2779737099,\n",
       "       1987504203, 1575437711,  441518400,  649868270, 3847831973,\n",
       "       2250408063, 3392189009, 3741157115, 1662013161, 2568846199,\n",
       "       1132665294, 4207344781, 3034135309, 3736242680, 3335907341,\n",
       "       2126096708, 2264397546,  244339102, 1569543297, 2225982085,\n",
       "       4266862928, 1209157453,  719572888, 3150655084,  630194900,\n",
       "       3223848683, 2445183053,  450988617, 2691441821, 1132353057,\n",
       "       4030847953,   33676533,  957692610, 2974786134,  488171708,\n",
       "        999880228, 2630886642, 3195713278, 1672477285, 3975258655,\n",
       "        377445436, 1342608033, 1344625931, 3860287800, 2215943012,\n",
       "       1000433730, 3526498138,  705116016, 3993429463, 2100144027,\n",
       "        110305100, 3899594295,  660994941, 1799009765,   36807448,\n",
       "       1043368757,  356415633, 2593936511, 1584843113, 1472504224,\n",
       "       4078359903, 3222586423, 2957958674, 3234704897,  930860893,\n",
       "         21206868, 1827251997, 3761431501, 1074487115, 3508351453,\n",
       "       1496322283, 3193098022, 3599462076, 3566504802, 2839699344,\n",
       "        691881371, 2077823355, 2965561602, 3239221800, 2212890326,\n",
       "        241688199, 2229679942, 2752332156, 2531098384, 1151045668,\n",
       "       1015999446, 3405061097, 2533158123, 2333752488, 1969386447,\n",
       "       3646828647, 3304158350, 1844107135, 3703093996, 1846448417,\n",
       "       3929415639, 4016170823, 1167469731,  284807061, 3390812297,\n",
       "       1513190153,  994958953, 2147494224,  339077727, 3164221451,\n",
       "       3541124805,   14904482, 1745929423,  764042297, 1054243476,\n",
       "        189373969, 1812992539, 3801733958, 2597130880, 2665271514,\n",
       "       1245091906, 1128843577,  563127112,  520861950, 3030088551,\n",
       "        636223101, 2033704830, 2304415077, 3867009304, 1141072297,\n",
       "       4135282537, 1731278603,  614555719, 1743636631,  156289159,\n",
       "       4248362136, 2982969537, 2833251104, 1242136730, 1175835269,\n",
       "       1102692739, 3549243882, 2279907373, 2253775535,  394939925,\n",
       "       3806090134,  339101830,  760869442, 1747298449, 3524795131,\n",
       "       1148205821,  163788413, 2219873204, 1553500616, 1186443136,\n",
       "       2196258996,  585825819,  793829495, 4089163183, 1808489945,\n",
       "        487186546, 3643899869, 1218303975,  206042100, 3730008543,\n",
       "        582702865, 1216407078,  774333514, 1828923701, 1698621642,\n",
       "        166523000, 2092022293, 1610620699, 3254093907,  996877690,\n",
       "       2149080348, 1281940867, 3573287322,  844371655, 2806106952,\n",
       "       3579452171, 2877955995, 3773132715, 3940361230, 1690268968,\n",
       "        253923806, 4105554714, 2941530042, 1825116684, 3759067513,\n",
       "       2559682444, 1487885138,  266328032, 1263062669, 3366447978,\n",
       "        630683919, 1369452495, 3507472767, 2063413059, 1481617447,\n",
       "       3964880021, 4073282716, 1585754534, 3814639291, 2629169656,\n",
       "       1330928783, 1520302655, 3953172919, 2613720174,  183016925,\n",
       "         52135871, 3479550380, 1324433340, 3750657548, 4067743375,\n",
       "        404841642, 2221665579,   48265121, 2754917524, 1349636613,\n",
       "       3361834445,  600272585, 1561029048,  296831110, 3891577712,\n",
       "       3002616695,  734706750, 3371282536, 3523633801, 2357132578,\n",
       "       2116336981, 3201850218, 1601007134, 3710848198,  560163625,\n",
       "       4271416038, 3209769083, 3995804372,  227188029, 2429970883,\n",
       "        404952702, 4260974965, 3386009376, 2035864215,  477499194,\n",
       "       3089423529, 1234740715, 1732510367, 2997187942, 1837391739,\n",
       "       3209302013,  540145281, 2536867802, 2346952502,  297439447,\n",
       "       3294601165, 1987659504, 3363642255, 3482559307, 1733589569,\n",
       "       4151632121, 1980179318, 1055098355, 3454577094,  562791750,\n",
       "       2946805803,   10259239, 1680693554, 1643317965,   95316536,\n",
       "        487251908,   17827686, 3064537509, 3751477202, 3341676837,\n",
       "       1164860980, 2059179643,  296655537,  293859669,  684043801,\n",
       "       1037310559, 1699621641, 2366736966, 3409456219, 2011503704,\n",
       "        161283701, 3369435428, 2025231526,  836282321, 1889167566,\n",
       "       2049351971, 4055461031,  803693705, 3602620436,  875917843,\n",
       "        466860903,  274442748,  171331845,  394874405, 4197257140,\n",
       "       3496206260,  853569671, 3335969790, 1926243667,  672573263,\n",
       "       4261404606, 3975582456, 1643500595, 3206646758, 1745750195,\n",
       "       4068961479, 3949832010, 1016963471, 3064222668, 3499915625,\n",
       "       1491614886,  908151031, 1246996633, 2394132594, 1384501906,\n",
       "       1741288330, 3943065417,  661510403, 2314258671, 1258598463,\n",
       "       2153891683, 3316878051,  666693753,  965059174, 1176010373,\n",
       "        669706539, 3700488805,  782955989, 3200161057,  102141308,\n",
       "       1013403457, 3864538411, 4112678848,  333694077, 2804224834,\n",
       "        405179847, 2739087514, 3684719815, 3843288847, 2955396377,\n",
       "       1543354254, 1368974604, 1403679845,  905694668, 1476180846,\n",
       "       2545296977,   99538929, 4278400416, 3061751046, 2781998385,\n",
       "       2140639305, 1231181597, 3293558755,  596994244,  387065062,\n",
       "       4207554196, 3137855888, 1536654748, 2530349647,   46329196,\n",
       "       2351319688, 3578253232,  711878494, 4174119379,  463958747,\n",
       "       3350584625, 2862889335, 2687725998, 3361719361,   82935906,\n",
       "       3089623864, 3524059490, 3701158834, 3242391826, 3377192293,\n",
       "       1068667281, 2116625416, 2735382553, 4175816453, 3931570213,\n",
       "       3255211471,  922213789, 3501087889, 4138061616,  632741394,\n",
       "        692736650, 4023611522, 1908186477,  817320851, 2071905546,\n",
       "        648628655,  114493678,  590129473, 3671960572, 2636674613,\n",
       "        493929942, 2495453845, 4134361570, 3162649854,  665536147,\n",
       "        486887245,  953225844,  755551303,   10406592, 2982772567,\n",
       "       3217477518, 2308873266, 1883328824, 3571695411, 1628953573,\n",
       "       2309746979,  211788135, 1258002141, 3458716836, 3025861626,\n",
       "       2090740474, 1392725996, 2249122959, 3015954674, 2621954735,\n",
       "       3810299216, 2877172053,  628704726, 2171823316,    8082638,\n",
       "       2938878548, 1241870097, 3475266203, 4206184452, 2313108465,\n",
       "       4132118094, 3824165327, 1086288090, 2845947797, 1297271028,\n",
       "        986454818, 3749162967, 2836764966, 1928242861, 1141712237,\n",
       "        694505554,  781862482,  446911698, 1830595691,   34940251,\n",
       "        454528099,  911553616, 1512720788, 2938259341, 1351398798,\n",
       "       3823874207, 2856056562, 1897866529, 3820160269,   40009600,\n",
       "       2583026389,  775150556,  936073678,  168180551,  797381059,\n",
       "       2351468379,  704187553, 2907106549, 3598607108, 3314993304,\n",
       "        753890126,  967013254, 3048914341, 3560729557, 1626697724,\n",
       "       4113434388, 1764251781,  796346213, 3803273582,  908266672,\n",
       "       1957942294, 1059941794, 2958217381, 1834419034,  685150554,\n",
       "        541351783, 1479408358, 3999811273, 2903157114,  665935870,\n",
       "       1745303759, 3325361670, 2482268528, 1644999057, 3797598549,\n",
       "       2635341567,  770767267, 2600791038, 1107591523], dtype=uint32), 180, 0, 0.0))"
      ]
     },
     "execution_count": 153,
     "metadata": {},
     "output_type": "execute_result"
    }
   ],
   "source": [
    "sampler.run_mcmc(state, 1000, progress=True)"
   ]
  },
  {
   "cell_type": "code",
   "execution_count": 154,
   "id": "d6fb10fa",
   "metadata": {},
   "outputs": [],
   "source": [
    "samples = sampler.get_chain(flat=True)"
   ]
  },
  {
   "cell_type": "code",
   "execution_count": 155,
   "id": "6a53729f",
   "metadata": {},
   "outputs": [
    {
     "data": {
      "text/plain": [
       "'Mean acceptance fraction: 0.448'"
      ]
     },
     "execution_count": 155,
     "metadata": {},
     "output_type": "execute_result"
    }
   ],
   "source": [
    "\"Mean acceptance fraction: {0:.3f}\".format(np.mean(sampler.acceptance_fraction))"
   ]
  },
  {
   "cell_type": "code",
   "execution_count": 156,
   "id": "b3c06df7",
   "metadata": {},
   "outputs": [
    {
     "name": "stderr",
     "output_type": "stream",
     "text": [
      "WARNING:root:Too few points to create valid contours\n"
     ]
    },
    {
     "name": "stdout",
     "output_type": "stream",
     "text": [
      "(10000, 2)\n"
     ]
    },
    {
     "data": {
      "image/png": "[encoded data removed]",
      "text/plain": [
       "<Figure size 550x550 with 4 Axes>"
      ]
     },
     "metadata": {},
     "output_type": "display_data"
    }
   ],
   "source": [
    "flat_samples = sampler.get_chain(flat=True)\n",
    "print(flat_samples.shape)\n",
    "fig = corner.corner(flat_samples, labels=['log(sigma0)', 'log(mchi)'])"
   ]
  },
  {
   "cell_type": "code",
   "execution_count": 157,
   "id": "a19022db",
   "metadata": {},
   "outputs": [
    {
     "data": {
      "text/plain": [
       "-22.355157442711047"
      ]
     },
     "execution_count": 157,
     "metadata": {},
     "output_type": "execute_result"
    }
   ],
   "source": [
    "np.median(samples[:,0])"
   ]
  },
  {
   "cell_type": "code",
   "execution_count": 158,
   "id": "b25dddf3",
   "metadata": {},
   "outputs": [
    {
     "data": {
      "text/plain": [
       "-0.16126745193456082"
      ]
     },
     "execution_count": 158,
     "metadata": {},
     "output_type": "execute_result"
    }
   ],
   "source": [
    "np.median(samples[:,1])"
   ]
  },
  {
   "cell_type": "code",
   "execution_count": 107,
   "id": "5d3fd00e",
   "metadata": {},
   "outputs": [
    {
     "data": {
      "text/plain": [
       "-0.027671202930545022"
      ]
     },
     "execution_count": 107,
     "metadata": {},
     "output_type": "execute_result"
    }
   ],
   "source": [
    "np.log10(const.m_p.to(u.GeV, equivalencies=u.mass_energy()).value)"
   ]
  },
  {
   "cell_type": "code",
   "execution_count": 136,
   "id": "508dc831",
   "metadata": {},
   "outputs": [
    {
     "name": "stderr",
     "output_type": "stream",
     "text": [
      "/var/folders/99/vfh56jrs1nqcj8zqtcs5fkv40000gn/T/ipykernel_67917/2154322017.py:9: UserWarning: All values for SymLogScale are below linthresh, making it effectively linear. You likely should lower the value of linthresh. \n",
      "  plt.scatter(np.log10(cls.baryon_temp.value),0, color='red', label='actual cluster temperature')\n"
     ]
    },
    {
     "data": {
      "text/plain": [
       "<matplotlib.legend.Legend at 0x133ed9210>"
      ]
     },
     "execution_count": 136,
     "metadata": {},
     "output_type": "execute_result"
    },
    {
     "data": {
      "image/png": "[encoded data removed]",
      "text/plain": [
       "<Figure size 640x480 with 1 Axes>"
      ]
     },
     "metadata": {},
     "output_type": "display_data"
    }
   ],
   "source": [
    "#troubleshoot \n",
    "log_Tbs=np.linspace(-10, 10)\n",
    "cls=clusters[7]\n",
    "\n",
    "plt.yscale('symlog')\n",
    "plt.xlim(-7,-4)\n",
    "\n",
    "plt.plot([-10,10], [0,0], color='black', label='equilibrium line')\n",
    "plt.scatter(np.log10(cls.baryon_temp.value),0, color='red', label='actual cluster temperature')\n",
    "plt.plot(log_Tbs, equil(log_Tbs, cls, -24, -0.3), label='s0 -24, mx -0.3')\n",
    "plt.plot(log_Tbs, equil(log_Tbs, cls, -24, -1), label='s0 -24, mx -1')\n",
    "plt.plot(log_Tbs, equil(log_Tbs, cls, -22, -0.3), label='s0 -22, mx -0.3')\n",
    "plt.plot(log_Tbs, equil(log_Tbs, cls, -22, -1), label='s0 -22, mx -1')\n",
    "\n",
    "\n",
    "plt.legend()"
   ]
  },
  {
   "cell_type": "code",
   "execution_count": 120,
   "id": "d529d0cf",
   "metadata": {},
   "outputs": [
    {
     "data": {
      "text/plain": [
       "array([ 1.02855858e+53,  2.51179475e+52,  6.13393715e+51,  1.49794101e+51,\n",
       "        3.65806134e+50,  8.93327711e+49,  2.18164768e+49,  5.32856722e+48,\n",
       "        1.30195905e+48,  3.18207014e+47,  7.68270969e+46,  1.46005835e+46,\n",
       "       -1.11893070e+46, -5.58519438e+46, -2.16032328e+47, -8.54705343e+47,\n",
       "       -3.44794839e+48, -1.40337445e+49, -5.73292864e+49, -2.34537513e+50,\n",
       "       -9.60057102e+50, -3.93078550e+51, -1.60953258e+52, -6.59075410e+52,\n",
       "       -2.69883461e+53, -1.10514613e+54, -4.52547361e+54, -1.85314205e+55,\n",
       "       -7.58845779e+55, -3.10740877e+56, -1.27245746e+57, -5.21060515e+57,\n",
       "       -2.13369854e+58, -8.73731427e+58, -3.57785598e+59, -1.46510163e+60,\n",
       "       -5.99946675e+60, -2.45673068e+61, -1.00601034e+62, -4.11952691e+62,\n",
       "       -1.68691128e+63, -6.90775841e+63, -2.82866840e+64, -1.15831568e+65,\n",
       "       -4.74320434e+65, -1.94230189e+66, -7.95356126e+66, -3.25691578e+67,\n",
       "       -1.33367935e+68, -5.46130365e+68])"
      ]
     },
     "execution_count": 120,
     "metadata": {},
     "output_type": "execute_result"
    }
   ],
   "source": [
    "equil(log_Tbs, cls, -23.9, -1)"
   ]
  },
  {
   "cell_type": "code",
   "execution_count": 121,
   "id": "e0f054cc",
   "metadata": {},
   "outputs": [
    {
     "data": {
      "text/plain": [
       "array([ 1.02855856e+53,  2.51179462e+52,  6.13393584e+51,  1.49793970e+51,\n",
       "        3.65804825e+50,  8.93314598e+49,  2.18151583e+49,  5.32722994e+48,\n",
       "        1.30057356e+48,  3.16696013e+47,  7.49813221e+46,  1.18150188e+46,\n",
       "       -1.68545050e+46, -7.13410936e+46, -2.68148600e+47, -1.05068059e+48,\n",
       "       -4.22296742e+48, -1.71636704e+49, -7.00762965e+49, -2.86623914e+50,\n",
       "       -1.17316813e+51, -4.80317176e+51, -1.96672170e+52, -8.05334018e+52,\n",
       "       -3.29773950e+53, -1.35039073e+54, -5.52972642e+54, -2.26437457e+55,\n",
       "       -9.27241925e+55, -3.79697656e+56, -1.55482959e+57, -6.36689502e+57,\n",
       "       -2.60718942e+58, -1.06762192e+59, -4.37182108e+59, -1.79022360e+60,\n",
       "       -7.33081357e+60, -3.00190589e+61, -1.22925496e+62, -5.03369467e+62,\n",
       "       -2.06125521e+63, -8.44066502e+63, -3.45638063e+64, -1.41535851e+65,\n",
       "       -5.79577288e+65, -2.37331977e+66, -9.71854287e+66, -3.97966076e+67,\n",
       "       -1.62963728e+68, -6.67322624e+68])"
      ]
     },
     "execution_count": 121,
     "metadata": {},
     "output_type": "execute_result"
    }
   ],
   "source": [
    "equil(log_Tbs, cls, -23.9, -3)"
   ]
  },
  {
   "cell_type": "code",
   "execution_count": null,
   "id": "94c70251",
   "metadata": {},
   "outputs": [],
   "source": []
  }
 ],
 "metadata": {
  "kernelspec": {
   "display_name": "Python 3 (ipykernel)",
   "language": "python",
   "name": "python3"
  },
  "language_info": {
   "codemirror_mode": {
    "name": "ipython",
    "version": 3
   },
   "file_extension": ".py",
   "mimetype": "text/x-python",
   "name": "python",
   "nbconvert_exporter": "python",
   "pygments_lexer": "ipython3",
   "version": "3.11.5"
  }
 },
 "nbformat": 4,
 "nbformat_minor": 5
}
