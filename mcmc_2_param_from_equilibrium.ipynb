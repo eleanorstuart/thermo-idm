{
 "cells": [
  {
   "cell_type": "code",
   "execution_count": 69,
   "id": "5925a304",
   "metadata": {},
   "outputs": [
    {
     "name": "stdout",
     "output_type": "stream",
     "text": [
      "The autoreload extension is already loaded. To reload it, use:\n",
      "  %reload_ext autoreload\n"
     ]
    }
   ],
   "source": [
    "%load_ext autoreload\n",
    "%autoreload 2\n",
    "import emcee\n",
    "import corner\n",
    "import pickle\n",
    "import numpy as np\n",
    "import pandas as pd\n",
    "\n",
    "from astropy import units as u\n",
    "from astropy import constants as const\n",
    "from astropy.table import QTable\n",
    "from matplotlib import pyplot as plt\n",
    "from scipy.optimize import root, brentq\n",
    "from uncertainties import ufloat\n",
    "from uncertainties.umath import *\n",
    "from uncertainties import unumpy as unp\n",
    "\n",
    "from load_mcxc_data import load_clusters\n",
    "from cluster_functions import c\n",
    "from statistics_functions import chi_squared\n",
    "from equilibrium_functions import equil\n",
    "from cluster import Cluster"
   ]
  },
  {
   "cell_type": "code",
   "execution_count": 159,
   "id": "08f40c51",
   "metadata": {},
   "outputs": [],
   "source": [
    "clusters, variances=load_clusters(nrows=100)"
   ]
  },
  {
   "cell_type": "code",
   "execution_count": 59,
   "id": "0a8bc7fc",
   "metadata": {},
   "outputs": [],
   "source": [
    "def load_clusters1(nrows=None, dataset='REFLEX'):\n",
    "    skipfooter=0 if nrows else 1\n",
    "    mcxccls=pd.read_csv('data/mcxc|.txt', header=3, sep='|', skiprows=[4],on_bad_lines='warn', skipfooter=skipfooter)\n",
    "    mcxccls.columns=mcxccls.columns.str.strip()\n",
    "\n",
    "    selected_cls=mcxccls[mcxccls['Sub-Cat'].str.strip()==dataset]\n",
    "\n",
    "\n",
    "    cls_data={'M500':selected_cls['M500'],\n",
    "          'L500':selected_cls['L500'],\n",
    "          'R500':selected_cls['R500']\n",
    "         }\n",
    "    units={\n",
    "        'M500': 1e14*u.Msun,\n",
    "        'L500': 1e37*u.W,\n",
    "        'R500':u.Mpc\n",
    "    }\n",
    "\n",
    "    cls_table=QTable(cls_data, units=units)\n",
    "    \n",
    "    with open ('data/'+dataset+'.p', 'rb') as fp:\n",
    "        L_uncertainties=np.array(pickle.load(fp))\n",
    "    L_uncertainties_conv=(L_uncertainties*1e37*u.W).to(u.erg / u.s).value\n",
    "    \n",
    "    return [ \n",
    "        Cluster(\n",
    "            cls_table['R500'][i],\n",
    "            cls_table['M500'][i],\n",
    "            L500=cls_table['L500'][i],\n",
    "            m500=cls_table['M500'][i],\n",
    "        )\n",
    "        for i in range(nrows)#(mcxccls.shape[0])\n",
    "    ], [variance(cls_table['L500'][i], L_uncertainties_conv[i]) for i in range(nrows)] "
   ]
  },
  {
   "cell_type": "code",
   "execution_count": 52,
   "id": "67840fa6",
   "metadata": {},
   "outputs": [],
   "source": [
    "def variance1(luminosity, l_unc): # returns the variance on calculated temperature\n",
    "     # TODO: TEST THIS NOW THAT I HAVE ADDED L_unc\n",
    "    #logL=np.log10((luminosity.to(1e44*u.erg/u.s))/(1e44*u.erg/u.s))\n",
    "\n",
    "    A=ufloat(2.88, 0.15)\n",
    "    B=ufloat(45.06, 0.03)\n",
    "\n",
    "    lum = luminosity.to(u.erg / u.s)\n",
    "    \n",
    "    lums_uf = ufloat(lum.value, l_unc)\n",
    "    log_T = (unp.log10(lums_uf) - B) / A + np.log10(6)\n",
    "    #T = (10**log_T * u.keV).to(u.GeV)\n",
    "\n",
    "    T = 10**log_T * 1e-6 #divide by 10^6 to convert keV to GeV\n",
    "\n",
    "    return T.std_dev *u.GeV #variances on T in GeV"
   ]
  },
  {
   "cell_type": "code",
   "execution_count": 160,
   "id": "397521f2",
   "metadata": {},
   "outputs": [
    {
     "data": {
      "text/plain": [
       "array([[-17.02803234,  -1.28058425],\n",
       "       [-26.0648109 ,  -1.7775537 ],\n",
       "       [-20.74214495,  -0.32467545],\n",
       "       [-21.79807165,  -0.62790735],\n",
       "       [-22.30930233,  -1.73099395],\n",
       "       [-16.02398688,  -1.69025418],\n",
       "       [-16.16140661,  -0.79616201],\n",
       "       [-18.11736215,  -0.64289606],\n",
       "       [-29.18094641,  -1.66850307],\n",
       "       [-28.70056857,  -1.14823039],\n",
       "       [-20.38277458,  -1.36639364],\n",
       "       [-16.90556905,  -1.54277931],\n",
       "       [-26.39109055,  -1.05681306],\n",
       "       [-26.37444665,  -0.67672447],\n",
       "       [-26.38104612,  -1.10863438],\n",
       "       [-21.29391051,  -1.72391655],\n",
       "       [-27.25959659,  -1.95550618],\n",
       "       [-20.48929684,  -0.84208211],\n",
       "       [-18.69905886,  -1.78471548],\n",
       "       [-29.55327347,  -0.8099532 ]])"
      ]
     },
     "execution_count": 160,
     "metadata": {},
     "output_type": "execute_result"
    }
   ],
   "source": [
    "#prepare MCMC\n",
    "log_mp = np.log10(const.m_p.to(u.GeV, equivalencies=u.mass_energy()).value)\n",
    "\n",
    "ndim, nwalkers = 2, 20\n",
    "p0=np.zeros((nwalkers, ndim ))\n",
    "log_sigma0 = np.random.uniform(low=-30, high=-15, size=nwalkers).astype(np.float128)\n",
    "log_mx = np.random.uniform(low=-2, high=log_mp, size=nwalkers).astype(np.float128)\n",
    "p0[:,0]=log_sigma0\n",
    "p0[:,1]=log_mx\n",
    "p0"
   ]
  },
  {
   "cell_type": "code",
   "execution_count": 161,
   "id": "d11999c0",
   "metadata": {},
   "outputs": [],
   "source": [
    "T_data = [c.baryon_temp for c in clusters]"
   ]
  },
  {
   "cell_type": "code",
   "execution_count": 162,
   "id": "868a9a8e",
   "metadata": {},
   "outputs": [],
   "source": [
    "def log_lik(p0, T_data, var, clusters):\n",
    "    if p0[0]<-30 or p0[0]>-15:\n",
    "        return -np.inf\n",
    "    if p0[1]<-2 or 10**p0[1]>const.m_p.to(u.GeV, equivalencies=u.mass_energy()).value:\n",
    "        return -np.inf\n",
    "    #print(p0)\n",
    "    T_model = [brentq(equil, -10, 0, args=(c, p0[0], p0[1])) for c in clusters]\n",
    "    X2 = chi_squared(np.power(10,T_model)*u.GeV, T_data, var)\n",
    "    return (-X2/2)"
   ]
  },
  {
   "cell_type": "code",
   "execution_count": 163,
   "id": "766d5010",
   "metadata": {},
   "outputs": [
    {
     "data": {
      "text/latex": [
       "$-14663.453 \\; \\mathrm{}$"
      ],
      "text/plain": [
       "<Quantity -14663.4532644>"
      ]
     },
     "execution_count": 163,
     "metadata": {},
     "output_type": "execute_result"
    }
   ],
   "source": [
    "log_lik(p0[0], T_data, variances, clusters)"
   ]
  },
  {
   "cell_type": "code",
   "execution_count": 164,
   "id": "a27a7734",
   "metadata": {},
   "outputs": [],
   "source": [
    "n=0\n",
    "sampler = emcee.EnsembleSampler(\n",
    "    nwalkers, \n",
    "    ndim, \n",
    "    log_lik, \n",
    "    args=[T_data, variances, clusters])"
   ]
  },
  {
   "cell_type": "code",
   "execution_count": 165,
   "id": "b83c9018",
   "metadata": {},
   "outputs": [
    {
     "name": "stderr",
     "output_type": "stream",
     "text": [
      "100%|███████████████████████████████████████| 100/100 [1:16:16<00:00, 45.76s/it]\n"
     ]
    }
   ],
   "source": [
    "state = sampler.run_mcmc(p0, 100, progress=True)\n",
    "sampler.reset()"
   ]
  },
  {
   "cell_type": "code",
   "execution_count": null,
   "id": "e1d22552",
   "metadata": {},
   "outputs": [
    {
     "name": "stderr",
     "output_type": "stream",
     "text": [
      " 95%|████████████████████████████████▎ | 951/1000 [30:58:12<6:22:15, 468.07s/it]"
     ]
    }
   ],
   "source": [
    "sampler.run_mcmc(state, 1000, progress=True)"
   ]
  },
  {
   "cell_type": "code",
   "execution_count": null,
   "id": "715be573",
   "metadata": {},
   "outputs": [],
   "source": [
    "samples = sampler.get_chain(flat=True)"
   ]
  },
  {
   "cell_type": "code",
   "execution_count": null,
   "id": "feb8fff6",
   "metadata": {},
   "outputs": [],
   "source": [
    "\"Mean acceptance fraction: {0:.3f}\".format(np.mean(sampler.acceptance_fraction))"
   ]
  },
  {
   "cell_type": "code",
   "execution_count": null,
   "id": "2e096f60",
   "metadata": {},
   "outputs": [],
   "source": [
    "flat_samples = sampler.get_chain(flat=True)\n",
    "print(flat_samples.shape)\n",
    "fig = corner.corner(flat_samples, labels=['log(sigma0)', 'log(mchi)'])"
   ]
  },
  {
   "cell_type": "code",
   "execution_count": null,
   "id": "2c458267",
   "metadata": {},
   "outputs": [],
   "source": [
    "np.median(samples[:,0])"
   ]
  },
  {
   "cell_type": "code",
   "execution_count": null,
   "id": "0e3e73de",
   "metadata": {},
   "outputs": [],
   "source": [
    "np.median(samples[:,1])"
   ]
  },
  {
   "cell_type": "code",
   "execution_count": null,
   "id": "16aae90f",
   "metadata": {},
   "outputs": [],
   "source": [
    "np.log10(const.m_p.to(u.GeV, equivalencies=u.mass_energy()).value)"
   ]
  },
  {
   "cell_type": "code",
   "execution_count": 136,
   "id": "f52accd2",
   "metadata": {},
   "outputs": [
    {
     "name": "stderr",
     "output_type": "stream",
     "text": [
      "/var/folders/99/vfh56jrs1nqcj8zqtcs5fkv40000gn/T/ipykernel_67917/2154322017.py:9: UserWarning: All values for SymLogScale are below linthresh, making it effectively linear. You likely should lower the value of linthresh. \n",
      "  plt.scatter(np.log10(cls.baryon_temp.value),0, color='red', label='actual cluster temperature')\n"
     ]
    },
    {
     "data": {
      "text/plain": [
       "<matplotlib.legend.Legend at 0x133ed9210>"
      ]
     },
     "execution_count": 136,
     "metadata": {},
     "output_type": "execute_result"
    },
    {
     "data": {
      "image/png": "[encoded data removed]",
      "text/plain": [
       "<Figure size 640x480 with 1 Axes>"
      ]
     },
     "metadata": {},
     "output_type": "display_data"
    }
   ],
   "source": [
    "#troubleshoot \n",
    "log_Tbs=np.linspace(-10, 10)\n",
    "cls=clusters[7]\n",
    "\n",
    "plt.yscale('symlog')\n",
    "plt.xlim(-7,-4)\n",
    "\n",
    "plt.plot([-10,10], [0,0], color='black', label='equilibrium line')\n",
    "plt.scatter(np.log10(cls.baryon_temp.value),0, color='red', label='actual cluster temperature')\n",
    "plt.plot(log_Tbs, equil(log_Tbs, cls, -24, -0.3), label='s0 -24, mx -0.3')\n",
    "plt.plot(log_Tbs, equil(log_Tbs, cls, -24, -1), label='s0 -24, mx -1')\n",
    "plt.plot(log_Tbs, equil(log_Tbs, cls, -22, -0.3), label='s0 -22, mx -0.3')\n",
    "plt.plot(log_Tbs, equil(log_Tbs, cls, -22, -1), label='s0 -22, mx -1')\n",
    "\n",
    "\n",
    "plt.legend()"
   ]
  },
  {
   "cell_type": "code",
   "execution_count": 120,
   "id": "d42e91e6",
   "metadata": {},
   "outputs": [
    {
     "data": {
      "text/plain": [
       "array([ 1.02855858e+53,  2.51179475e+52,  6.13393715e+51,  1.49794101e+51,\n",
       "        3.65806134e+50,  8.93327711e+49,  2.18164768e+49,  5.32856722e+48,\n",
       "        1.30195905e+48,  3.18207014e+47,  7.68270969e+46,  1.46005835e+46,\n",
       "       -1.11893070e+46, -5.58519438e+46, -2.16032328e+47, -8.54705343e+47,\n",
       "       -3.44794839e+48, -1.40337445e+49, -5.73292864e+49, -2.34537513e+50,\n",
       "       -9.60057102e+50, -3.93078550e+51, -1.60953258e+52, -6.59075410e+52,\n",
       "       -2.69883461e+53, -1.10514613e+54, -4.52547361e+54, -1.85314205e+55,\n",
       "       -7.58845779e+55, -3.10740877e+56, -1.27245746e+57, -5.21060515e+57,\n",
       "       -2.13369854e+58, -8.73731427e+58, -3.57785598e+59, -1.46510163e+60,\n",
       "       -5.99946675e+60, -2.45673068e+61, -1.00601034e+62, -4.11952691e+62,\n",
       "       -1.68691128e+63, -6.90775841e+63, -2.82866840e+64, -1.15831568e+65,\n",
       "       -4.74320434e+65, -1.94230189e+66, -7.95356126e+66, -3.25691578e+67,\n",
       "       -1.33367935e+68, -5.46130365e+68])"
      ]
     },
     "execution_count": 120,
     "metadata": {},
     "output_type": "execute_result"
    }
   ],
   "source": [
    "equil(log_Tbs, cls, -23.9, -1)"
   ]
  },
  {
   "cell_type": "code",
   "execution_count": 121,
   "id": "cd0b1e2a",
   "metadata": {},
   "outputs": [
    {
     "data": {
      "text/plain": [
       "array([ 1.02855856e+53,  2.51179462e+52,  6.13393584e+51,  1.49793970e+51,\n",
       "        3.65804825e+50,  8.93314598e+49,  2.18151583e+49,  5.32722994e+48,\n",
       "        1.30057356e+48,  3.16696013e+47,  7.49813221e+46,  1.18150188e+46,\n",
       "       -1.68545050e+46, -7.13410936e+46, -2.68148600e+47, -1.05068059e+48,\n",
       "       -4.22296742e+48, -1.71636704e+49, -7.00762965e+49, -2.86623914e+50,\n",
       "       -1.17316813e+51, -4.80317176e+51, -1.96672170e+52, -8.05334018e+52,\n",
       "       -3.29773950e+53, -1.35039073e+54, -5.52972642e+54, -2.26437457e+55,\n",
       "       -9.27241925e+55, -3.79697656e+56, -1.55482959e+57, -6.36689502e+57,\n",
       "       -2.60718942e+58, -1.06762192e+59, -4.37182108e+59, -1.79022360e+60,\n",
       "       -7.33081357e+60, -3.00190589e+61, -1.22925496e+62, -5.03369467e+62,\n",
       "       -2.06125521e+63, -8.44066502e+63, -3.45638063e+64, -1.41535851e+65,\n",
       "       -5.79577288e+65, -2.37331977e+66, -9.71854287e+66, -3.97966076e+67,\n",
       "       -1.62963728e+68, -6.67322624e+68])"
      ]
     },
     "execution_count": 121,
     "metadata": {},
     "output_type": "execute_result"
    }
   ],
   "source": [
    "equil(log_Tbs, cls, -23.9, -3)"
   ]
  },
  {
   "cell_type": "code",
   "execution_count": null,
   "id": "4cd73f79",
   "metadata": {},
   "outputs": [],
   "source": []
  }
 ],
 "metadata": {
  "kernelspec": {
   "display_name": "Python 3 (ipykernel)",
   "language": "python",
   "name": "python3"
  },
  "language_info": {
   "codemirror_mode": {
    "name": "ipython",
    "version": 3
   },
   "file_extension": ".py",
   "mimetype": "text/x-python",
   "name": "python",
   "nbconvert_exporter": "python",
   "pygments_lexer": "ipython3",
   "version": "3.11.5"
  }
 },
 "nbformat": 4,
 "nbformat_minor": 5
}
