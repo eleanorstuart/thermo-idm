{
 "cells": [
  {
   "cell_type": "code",
   "execution_count": 69,
   "id": "7bd201bd",
   "metadata": {},
   "outputs": [
    {
     "name": "stdout",
     "output_type": "stream",
     "text": [
      "The autoreload extension is already loaded. To reload it, use:\n",
      "  %reload_ext autoreload\n"
     ]
    }
   ],
   "source": [
    "%load_ext autoreload\n",
    "%autoreload 2\n",
    "import emcee\n",
    "import corner\n",
    "import pickle\n",
    "import numpy as np\n",
    "import pandas as pd\n",
    "\n",
    "from astropy import units as u\n",
    "from astropy import constants as const\n",
    "from astropy.table import QTable\n",
    "from matplotlib import pyplot as plt\n",
    "from scipy.optimize import root, brentq\n",
    "from uncertainties import ufloat\n",
    "from uncertainties.umath import *\n",
    "from uncertainties import unumpy as unp\n",
    "\n",
    "from load_mcxc_data import load_clusters\n",
    "from cluster_functions import c\n",
    "from statistics_functions import chi_squared\n",
    "from equilibrium_functions import equil\n",
    "from cluster import Cluster"
   ]
  },
  {
   "cell_type": "code",
   "execution_count": 173,
   "id": "c81d5e5a",
   "metadata": {},
   "outputs": [],
   "source": [
    "clusters, variances=load_clusters(nrows=10)"
   ]
  },
  {
   "cell_type": "code",
   "execution_count": 59,
   "id": "70988f69",
   "metadata": {},
   "outputs": [],
   "source": [
    "def load_clusters1(nrows=None, dataset='REFLEX'):\n",
    "    skipfooter=0 if nrows else 1\n",
    "    mcxccls=pd.read_csv('data/mcxc|.txt', header=3, sep='|', skiprows=[4],on_bad_lines='warn', skipfooter=skipfooter)\n",
    "    mcxccls.columns=mcxccls.columns.str.strip()\n",
    "\n",
    "    selected_cls=mcxccls[mcxccls['Sub-Cat'].str.strip()==dataset]\n",
    "\n",
    "\n",
    "    cls_data={'M500':selected_cls['M500'],\n",
    "          'L500':selected_cls['L500'],\n",
    "          'R500':selected_cls['R500']\n",
    "         }\n",
    "    units={\n",
    "        'M500': 1e14*u.Msun,\n",
    "        'L500': 1e37*u.W,\n",
    "        'R500':u.Mpc\n",
    "    }\n",
    "\n",
    "    cls_table=QTable(cls_data, units=units)\n",
    "    \n",
    "    with open ('data/'+dataset+'.p', 'rb') as fp:\n",
    "        L_uncertainties=np.array(pickle.load(fp))\n",
    "    L_uncertainties_conv=(L_uncertainties*1e37*u.W).to(u.erg / u.s).value\n",
    "    \n",
    "    return [ \n",
    "        Cluster(\n",
    "            cls_table['R500'][i],\n",
    "            cls_table['M500'][i],\n",
    "            L500=cls_table['L500'][i],\n",
    "            m500=cls_table['M500'][i],\n",
    "        )\n",
    "        for i in range(nrows)#(mcxccls.shape[0])\n",
    "    ], [variance(cls_table['L500'][i], L_uncertainties_conv[i]) for i in range(nrows)] "
   ]
  },
  {
   "cell_type": "code",
   "execution_count": 52,
   "id": "4a6df9ad",
   "metadata": {},
   "outputs": [],
   "source": [
    "def variance1(luminosity, l_unc): # returns the variance on calculated temperature\n",
    "     # TODO: TEST THIS NOW THAT I HAVE ADDED L_unc\n",
    "    #logL=np.log10((luminosity.to(1e44*u.erg/u.s))/(1e44*u.erg/u.s))\n",
    "\n",
    "    A=ufloat(2.88, 0.15)\n",
    "    B=ufloat(45.06, 0.03)\n",
    "\n",
    "    lum = luminosity.to(u.erg / u.s)\n",
    "    \n",
    "    lums_uf = ufloat(lum.value, l_unc)\n",
    "    log_T = (unp.log10(lums_uf) - B) / A + np.log10(6)\n",
    "    #T = (10**log_T * u.keV).to(u.GeV)\n",
    "\n",
    "    T = 10**log_T * 1e-6 #divide by 10^6 to convert keV to GeV\n",
    "\n",
    "    return T.std_dev *u.GeV #variances on T in GeV"
   ]
  },
  {
   "cell_type": "code",
   "execution_count": 174,
   "id": "33ff9402",
   "metadata": {},
   "outputs": [
    {
     "data": {
      "text/plain": [
       "array([[-15.59133862,  -0.52270924],\n",
       "       [-21.63378768,  -0.94615143],\n",
       "       [-18.29783389,  -0.45126437],\n",
       "       [-21.81531255,  -1.26803634],\n",
       "       [-20.10062833,  -1.10776636],\n",
       "       [-20.05700661,  -0.59095692],\n",
       "       [-22.8034843 ,  -1.54327765],\n",
       "       [-20.95395575,  -1.92218562],\n",
       "       [-28.76992859,  -1.8384203 ],\n",
       "       [-19.40011319,  -1.83763184],\n",
       "       [-26.17604928,  -1.12435749],\n",
       "       [-15.63490724,  -1.86639937],\n",
       "       [-17.85835068,  -1.47543763],\n",
       "       [-28.30951383,  -1.86661622],\n",
       "       [-28.65660237,  -1.34454107],\n",
       "       [-15.03864091,  -1.28307375],\n",
       "       [-17.44971533,  -0.11408741],\n",
       "       [-23.55423141,  -0.3652545 ],\n",
       "       [-19.19512973,  -0.22033413],\n",
       "       [-24.11749843,  -1.05381527],\n",
       "       [-18.44526883,  -1.17962183],\n",
       "       [-20.58531937,  -1.26979511],\n",
       "       [-15.58868286,  -0.42000109],\n",
       "       [-19.79528531,  -0.07521207],\n",
       "       [-22.86978445,  -1.470405  ],\n",
       "       [-15.43161323,  -1.68228763],\n",
       "       [-25.399513  ,  -0.59241753],\n",
       "       [-18.5253155 ,  -1.70323811],\n",
       "       [-15.52366868,  -1.42346451],\n",
       "       [-29.85244668,  -1.80034523],\n",
       "       [-16.44601933,  -1.37946392],\n",
       "       [-24.57753663,  -1.1567397 ]])"
      ]
     },
     "execution_count": 174,
     "metadata": {},
     "output_type": "execute_result"
    }
   ],
   "source": [
    "#prepare MCMC\n",
    "log_mp = np.log10(const.m_p.to(u.GeV, equivalencies=u.mass_energy()).value)\n",
    "\n",
    "ndim, nwalkers = 2, 32\n",
    "p0=np.zeros((nwalkers, ndim ))\n",
    "log_sigma0 = np.random.uniform(low=-30, high=-15, size=nwalkers).astype(np.float128)\n",
    "log_mx = np.random.uniform(low=-2, high=log_mp, size=nwalkers).astype(np.float128)\n",
    "p0[:,0]=log_sigma0\n",
    "p0[:,1]=log_mx\n",
    "p0"
   ]
  },
  {
   "cell_type": "code",
   "execution_count": 175,
   "id": "6656c24d",
   "metadata": {},
   "outputs": [],
   "source": [
    "T_data = [c.baryon_temp for c in clusters]"
   ]
  },
  {
   "cell_type": "code",
   "execution_count": 176,
   "id": "e4accb1e",
   "metadata": {},
   "outputs": [],
   "source": [
    "def log_lik(p0, T_data, var, clusters):\n",
    "    if p0[0]<-40 or p0[0]>-10:\n",
    "        return -np.inf\n",
    "    if p0[1]<-3 or 10**p0[1]>const.m_p.to(u.GeV, equivalencies=u.mass_energy()).value:\n",
    "        return -np.inf\n",
    "    #print(p0)\n",
    "    T_model = [brentq(equil, -10, 0, args=(c, p0[0], p0[1])) for c in clusters]\n",
    "    X2 = chi_squared(np.power(10,T_model)*u.GeV, T_data, var)\n",
    "    return (-X2/2)"
   ]
  },
  {
   "cell_type": "code",
   "execution_count": 179,
   "id": "05499a4f",
   "metadata": {},
   "outputs": [
    {
     "data": {
      "text/latex": [
       "$-595.54121 \\; \\mathrm{}$"
      ],
      "text/plain": [
       "<Quantity -595.54121382>"
      ]
     },
     "execution_count": 179,
     "metadata": {},
     "output_type": "execute_result"
    }
   ],
   "source": [
    "log_lik(p0[0], T_data, variances, clusters)"
   ]
  },
  {
   "cell_type": "code",
   "execution_count": 180,
   "id": "a8962fd2",
   "metadata": {},
   "outputs": [],
   "source": [
    "n=0\n",
    "sampler = emcee.EnsembleSampler(\n",
    "    nwalkers, \n",
    "    ndim, \n",
    "    log_lik, \n",
    "    args=[T_data, variances, clusters])"
   ]
  },
  {
   "cell_type": "code",
   "execution_count": 181,
   "id": "d922fdcf",
   "metadata": {},
   "outputs": [
    {
     "name": "stderr",
     "output_type": "stream",
     "text": [
      "100%|█████████████████████████████████████████| 100/100 [12:38<00:00,  7.58s/it]\n"
     ]
    }
   ],
   "source": [
    "state = sampler.run_mcmc(p0, 100, progress=True)\n",
    "sampler.reset()"
   ]
  },
  {
   "cell_type": "code",
   "execution_count": null,
   "id": "0fa15155",
   "metadata": {},
   "outputs": [
    {
     "name": "stderr",
     "output_type": "stream",
     "text": [
      " 60%|██████████████████████▌               | 595/1000 [1:21:10<55:36,  8.24s/it]"
     ]
    }
   ],
   "source": [
    "sampler.run_mcmc(state, 1000, progress=True)"
   ]
  },
  {
   "cell_type": "code",
   "execution_count": 183,
   "id": "86435e61",
   "metadata": {},
   "outputs": [],
   "source": [
    "samples = sampler.get_chain(flat=True)"
   ]
  },
  {
   "cell_type": "code",
   "execution_count": 184,
   "id": "0d8a8272",
   "metadata": {},
   "outputs": [
    {
     "data": {
      "text/plain": [
       "'Mean acceptance fraction: 0.408'"
      ]
     },
     "execution_count": 184,
     "metadata": {},
     "output_type": "execute_result"
    }
   ],
   "source": [
    "\"Mean acceptance fraction: {0:.3f}\".format(np.mean(sampler.acceptance_fraction))"
   ]
  },
  {
   "cell_type": "code",
   "execution_count": 185,
   "id": "63ef93a2",
   "metadata": {},
   "outputs": [
    {
     "name": "stderr",
     "output_type": "stream",
     "text": [
      "WARNING:root:Too few points to create valid contours\n"
     ]
    },
    {
     "name": "stdout",
     "output_type": "stream",
     "text": [
      "(16000, 2)\n"
     ]
    },
    {
     "data": {
      "image/png": "[encoded data removed]",
      "text/plain": [
       "<Figure size 550x550 with 4 Axes>"
      ]
     },
     "metadata": {},
     "output_type": "display_data"
    }
   ],
   "source": [
    "flat_samples = sampler.get_chain(flat=True)\n",
    "print(flat_samples.shape)\n",
    "fig = corner.corner(flat_samples, labels=['log(sigma0)', 'log(mchi)'])"
   ]
  },
  {
   "cell_type": "code",
   "execution_count": 186,
   "id": "2689039b",
   "metadata": {},
   "outputs": [
    {
     "data": {
      "text/plain": [
       "-22.2614335392324"
      ]
     },
     "execution_count": 186,
     "metadata": {},
     "output_type": "execute_result"
    }
   ],
   "source": [
    "np.median(samples[:,0])"
   ]
  },
  {
   "cell_type": "code",
   "execution_count": 187,
   "id": "62ed0fd4",
   "metadata": {},
   "outputs": [
    {
     "data": {
      "text/plain": [
       "-0.1557797600796727"
      ]
     },
     "execution_count": 187,
     "metadata": {},
     "output_type": "execute_result"
    }
   ],
   "source": [
    "np.median(samples[:,1])"
   ]
  },
  {
   "cell_type": "code",
   "execution_count": 172,
   "id": "3f5173b6",
   "metadata": {},
   "outputs": [
    {
     "data": {
      "text/plain": [
       "-0.027671202930545022"
      ]
     },
     "execution_count": 172,
     "metadata": {},
     "output_type": "execute_result"
    }
   ],
   "source": [
    "np.log10(const.m_p.to(u.GeV, equivalencies=u.mass_energy()).value)"
   ]
  },
  {
   "cell_type": "code",
   "execution_count": 136,
   "id": "e8f64aa9",
   "metadata": {},
   "outputs": [
    {
     "name": "stderr",
     "output_type": "stream",
     "text": [
      "/var/folders/99/vfh56jrs1nqcj8zqtcs5fkv40000gn/T/ipykernel_67917/2154322017.py:9: UserWarning: All values for SymLogScale are below linthresh, making it effectively linear. You likely should lower the value of linthresh. \n",
      "  plt.scatter(np.log10(cls.baryon_temp.value),0, color='red', label='actual cluster temperature')\n"
     ]
    },
    {
     "data": {
      "text/plain": [
       "<matplotlib.legend.Legend at 0x133ed9210>"
      ]
     },
     "execution_count": 136,
     "metadata": {},
     "output_type": "execute_result"
    },
    {
     "data": {
      "image/png": "[encoded data removed]",
      "text/plain": [
       "<Figure size 640x480 with 1 Axes>"
      ]
     },
     "metadata": {},
     "output_type": "display_data"
    }
   ],
   "source": [
    "#troubleshoot \n",
    "log_Tbs=np.linspace(-10, 10)\n",
    "cls=clusters[7]\n",
    "\n",
    "plt.yscale('symlog')\n",
    "plt.xlim(-7,-4)\n",
    "\n",
    "plt.plot([-10,10], [0,0], color='black', label='equilibrium line')\n",
    "plt.scatter(np.log10(cls.baryon_temp.value),0, color='red', label='actual cluster temperature')\n",
    "plt.plot(log_Tbs, equil(log_Tbs, cls, -24, -0.3), label='s0 -24, mx -0.3')\n",
    "plt.plot(log_Tbs, equil(log_Tbs, cls, -24, -1), label='s0 -24, mx -1')\n",
    "plt.plot(log_Tbs, equil(log_Tbs, cls, -22, -0.3), label='s0 -22, mx -0.3')\n",
    "plt.plot(log_Tbs, equil(log_Tbs, cls, -22, -1), label='s0 -22, mx -1')\n",
    "\n",
    "\n",
    "plt.legend()"
   ]
  },
  {
   "cell_type": "code",
   "execution_count": 120,
   "id": "1fdf36c0",
   "metadata": {},
   "outputs": [
    {
     "data": {
      "text/plain": [
       "array([ 1.02855858e+53,  2.51179475e+52,  6.13393715e+51,  1.49794101e+51,\n",
       "        3.65806134e+50,  8.93327711e+49,  2.18164768e+49,  5.32856722e+48,\n",
       "        1.30195905e+48,  3.18207014e+47,  7.68270969e+46,  1.46005835e+46,\n",
       "       -1.11893070e+46, -5.58519438e+46, -2.16032328e+47, -8.54705343e+47,\n",
       "       -3.44794839e+48, -1.40337445e+49, -5.73292864e+49, -2.34537513e+50,\n",
       "       -9.60057102e+50, -3.93078550e+51, -1.60953258e+52, -6.59075410e+52,\n",
       "       -2.69883461e+53, -1.10514613e+54, -4.52547361e+54, -1.85314205e+55,\n",
       "       -7.58845779e+55, -3.10740877e+56, -1.27245746e+57, -5.21060515e+57,\n",
       "       -2.13369854e+58, -8.73731427e+58, -3.57785598e+59, -1.46510163e+60,\n",
       "       -5.99946675e+60, -2.45673068e+61, -1.00601034e+62, -4.11952691e+62,\n",
       "       -1.68691128e+63, -6.90775841e+63, -2.82866840e+64, -1.15831568e+65,\n",
       "       -4.74320434e+65, -1.94230189e+66, -7.95356126e+66, -3.25691578e+67,\n",
       "       -1.33367935e+68, -5.46130365e+68])"
      ]
     },
     "execution_count": 120,
     "metadata": {},
     "output_type": "execute_result"
    }
   ],
   "source": [
    "equil(log_Tbs, cls, -23.9, -1)"
   ]
  },
  {
   "cell_type": "code",
   "execution_count": 121,
   "id": "96ed62aa",
   "metadata": {},
   "outputs": [
    {
     "data": {
      "text/plain": [
       "array([ 1.02855856e+53,  2.51179462e+52,  6.13393584e+51,  1.49793970e+51,\n",
       "        3.65804825e+50,  8.93314598e+49,  2.18151583e+49,  5.32722994e+48,\n",
       "        1.30057356e+48,  3.16696013e+47,  7.49813221e+46,  1.18150188e+46,\n",
       "       -1.68545050e+46, -7.13410936e+46, -2.68148600e+47, -1.05068059e+48,\n",
       "       -4.22296742e+48, -1.71636704e+49, -7.00762965e+49, -2.86623914e+50,\n",
       "       -1.17316813e+51, -4.80317176e+51, -1.96672170e+52, -8.05334018e+52,\n",
       "       -3.29773950e+53, -1.35039073e+54, -5.52972642e+54, -2.26437457e+55,\n",
       "       -9.27241925e+55, -3.79697656e+56, -1.55482959e+57, -6.36689502e+57,\n",
       "       -2.60718942e+58, -1.06762192e+59, -4.37182108e+59, -1.79022360e+60,\n",
       "       -7.33081357e+60, -3.00190589e+61, -1.22925496e+62, -5.03369467e+62,\n",
       "       -2.06125521e+63, -8.44066502e+63, -3.45638063e+64, -1.41535851e+65,\n",
       "       -5.79577288e+65, -2.37331977e+66, -9.71854287e+66, -3.97966076e+67,\n",
       "       -1.62963728e+68, -6.67322624e+68])"
      ]
     },
     "execution_count": 121,
     "metadata": {},
     "output_type": "execute_result"
    }
   ],
   "source": [
    "equil(log_Tbs, cls, -23.9, -3)"
   ]
  },
  {
   "cell_type": "code",
   "execution_count": null,
   "id": "79978e45",
   "metadata": {},
   "outputs": [],
   "source": []
  }
 ],
 "metadata": {
  "kernelspec": {
   "display_name": "Python 3 (ipykernel)",
   "language": "python",
   "name": "python3"
  },
  "language_info": {
   "codemirror_mode": {
    "name": "ipython",
    "version": 3
   },
   "file_extension": ".py",
   "mimetype": "text/x-python",
   "name": "python",
   "nbconvert_exporter": "python",
   "pygments_lexer": "ipython3",
   "version": "3.11.5"
  }
 },
 "nbformat": 4,
 "nbformat_minor": 5
}
