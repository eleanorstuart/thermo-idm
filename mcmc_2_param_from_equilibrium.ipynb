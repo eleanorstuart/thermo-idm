{
 "cells": [
  {
   "cell_type": "code",
   "execution_count": 69,
   "id": "b6633fc0",
   "metadata": {},
   "outputs": [
    {
     "name": "stdout",
     "output_type": "stream",
     "text": [
      "The autoreload extension is already loaded. To reload it, use:\n",
      "  %reload_ext autoreload\n"
     ]
    }
   ],
   "source": [
    "%load_ext autoreload\n",
    "%autoreload 2\n",
    "import emcee\n",
    "import corner\n",
    "import pickle\n",
    "import numpy as np\n",
    "import pandas as pd\n",
    "\n",
    "from astropy import units as u\n",
    "from astropy import constants as const\n",
    "from astropy.table import QTable\n",
    "from matplotlib import pyplot as plt\n",
    "from scipy.optimize import root, brentq\n",
    "from uncertainties import ufloat\n",
    "from uncertainties.umath import *\n",
    "from uncertainties import unumpy as unp\n",
    "\n",
    "from load_mcxc_data import load_clusters\n",
    "from cluster_functions import c\n",
    "from statistics_functions import chi_squared\n",
    "from equilibrium_functions import equil\n",
    "from cluster import Cluster"
   ]
  },
  {
   "cell_type": "code",
   "execution_count": 74,
   "id": "84fb0e4a",
   "metadata": {},
   "outputs": [],
   "source": [
    "clusters, variances=load_clusters(nrows=20)"
   ]
  },
  {
   "cell_type": "code",
   "execution_count": 59,
   "id": "193d0370",
   "metadata": {},
   "outputs": [],
   "source": [
    "def load_clusters1(nrows=None, dataset='REFLEX'):\n",
    "    skipfooter=0 if nrows else 1\n",
    "    mcxccls=pd.read_csv('data/mcxc|.txt', header=3, sep='|', skiprows=[4],on_bad_lines='warn', skipfooter=skipfooter)\n",
    "    mcxccls.columns=mcxccls.columns.str.strip()\n",
    "\n",
    "    selected_cls=mcxccls[mcxccls['Sub-Cat'].str.strip()==dataset]\n",
    "\n",
    "\n",
    "    cls_data={'M500':selected_cls['M500'],\n",
    "          'L500':selected_cls['L500'],\n",
    "          'R500':selected_cls['R500']\n",
    "         }\n",
    "    units={\n",
    "        'M500': 1e14*u.Msun,\n",
    "        'L500': 1e37*u.W,\n",
    "        'R500':u.Mpc\n",
    "    }\n",
    "\n",
    "    cls_table=QTable(cls_data, units=units)\n",
    "    \n",
    "    with open ('data/'+dataset+'.p', 'rb') as fp:\n",
    "        L_uncertainties=np.array(pickle.load(fp))\n",
    "    L_uncertainties_conv=(L_uncertainties*1e37*u.W).to(u.erg / u.s).value\n",
    "    \n",
    "    return [ \n",
    "        Cluster(\n",
    "            cls_table['R500'][i],\n",
    "            cls_table['M500'][i],\n",
    "            L500=cls_table['L500'][i],\n",
    "            m500=cls_table['M500'][i],\n",
    "        )\n",
    "        for i in range(nrows)#(mcxccls.shape[0])\n",
    "    ], [variance(cls_table['L500'][i], L_uncertainties_conv[i]) for i in range(nrows)] "
   ]
  },
  {
   "cell_type": "code",
   "execution_count": 52,
   "id": "eca5d040",
   "metadata": {},
   "outputs": [],
   "source": [
    "def variance1(luminosity, l_unc): # returns the variance on calculated temperature\n",
    "     # TODO: TEST THIS NOW THAT I HAVE ADDED L_unc\n",
    "    #logL=np.log10((luminosity.to(1e44*u.erg/u.s))/(1e44*u.erg/u.s))\n",
    "\n",
    "    A=ufloat(2.88, 0.15)\n",
    "    B=ufloat(45.06, 0.03)\n",
    "\n",
    "    lum = luminosity.to(u.erg / u.s)\n",
    "    \n",
    "    lums_uf = ufloat(lum.value, l_unc)\n",
    "    log_T = (unp.log10(lums_uf) - B) / A + np.log10(6)\n",
    "    #T = (10**log_T * u.keV).to(u.GeV)\n",
    "\n",
    "    T = 10**log_T * 1e-6 #divide by 10^6 to convert keV to GeV\n",
    "\n",
    "    return T.std_dev *u.GeV #variances on T in GeV"
   ]
  },
  {
   "cell_type": "code",
   "execution_count": 75,
   "id": "c2422392",
   "metadata": {},
   "outputs": [
    {
     "data": {
      "text/plain": [
       "array([[-22.5122234 ,  -2.63546169],\n",
       "       [-30.19701663,  -0.45880908],\n",
       "       [ -7.25565704,  -0.35174945],\n",
       "       [-39.28375782,  -1.43001952],\n",
       "       [ -4.78488287,  -0.1217946 ],\n",
       "       [-36.86899604,  -2.19076041],\n",
       "       [-40.53327662,  -0.08109702],\n",
       "       [-16.07225164,  -0.31482522],\n",
       "       [-25.7098929 ,  -0.18118117],\n",
       "       [-10.12953714,  -2.6615778 ]])"
      ]
     },
     "execution_count": 75,
     "metadata": {},
     "output_type": "execute_result"
    }
   ],
   "source": [
    "#prepare MCMC\n",
    "ndim, nwalkers = 2, 10\n",
    "p0=np.zeros((nwalkers, ndim ))\n",
    "log_sigma0 = np.random.uniform(low=-50, high=0, size=nwalkers).astype(np.float128)\n",
    "log_mx = np.random.uniform(low=-3, high=0, size=nwalkers).astype(np.float128)\n",
    "p0[:,0]=log_sigma0\n",
    "p0[:,1]=log_mx\n",
    "p0"
   ]
  },
  {
   "cell_type": "code",
   "execution_count": 76,
   "id": "20016a31",
   "metadata": {},
   "outputs": [],
   "source": [
    "T_data = [c.baryon_temp for c in clusters]"
   ]
  },
  {
   "cell_type": "code",
   "execution_count": 81,
   "id": "0c0d297d",
   "metadata": {},
   "outputs": [],
   "source": [
    "def log_lik(p0, T_data, var, clusters):\n",
    "    if p0[0]<-50 or p0[0]>0:\n",
    "        return -np.inf\n",
    "    if p0[1]<-3 or p0[1]>0:\n",
    "        return -np.inf\n",
    "    #print(p0)\n",
    "    T_model = [brentq(equil, -15, 0, args=(c, p0[0], p0[1])) for c in clusters]\n",
    "    X2 = chi_squared(np.power(10,T_model)*u.GeV, T_data, var)\n",
    "    return (-X2/2)"
   ]
  },
  {
   "cell_type": "code",
   "execution_count": 82,
   "id": "3769461d",
   "metadata": {},
   "outputs": [
    {
     "data": {
      "text/latex": [
       "$-2111.5645 \\; \\mathrm{}$"
      ],
      "text/plain": [
       "<Quantity -2111.56446107>"
      ]
     },
     "execution_count": 82,
     "metadata": {},
     "output_type": "execute_result"
    }
   ],
   "source": [
    "log_lik(p0[0], T_data, variances, clusters)"
   ]
  },
  {
   "cell_type": "code",
   "execution_count": 83,
   "id": "8c88c3bf",
   "metadata": {},
   "outputs": [],
   "source": [
    "n=0\n",
    "sampler = emcee.EnsembleSampler(\n",
    "    nwalkers, \n",
    "    ndim, \n",
    "    log_lik, \n",
    "    args=[T_data, variances, clusters])"
   ]
  },
  {
   "cell_type": "code",
   "execution_count": 84,
   "id": "77b2151e",
   "metadata": {},
   "outputs": [
    {
     "name": "stderr",
     "output_type": "stream",
     "text": [
      "100%|█████████████████████████████████████████| 100/100 [07:08<00:00,  4.28s/it]\n"
     ]
    }
   ],
   "source": [
    "state = sampler.run_mcmc(p0, 100, progress=True)\n",
    "sampler.reset()"
   ]
  },
  {
   "cell_type": "code",
   "execution_count": 85,
   "id": "b50431f7",
   "metadata": {},
   "outputs": [
    {
     "name": "stderr",
     "output_type": "stream",
     "text": [
      "100%|█████████████████████████████████████████| 500/500 [39:45<00:00,  4.77s/it]\n"
     ]
    },
    {
     "data": {
      "text/plain": [
       "State([[-22.32668582  -0.15990106]\n",
       " [-17.14192732  -0.13032789]\n",
       " [-22.55324806  -0.17661308]\n",
       " [-23.89524275  -2.98235859]\n",
       " [-22.23842723  -0.15659821]\n",
       " [-22.49497475  -0.16138405]\n",
       " [-22.30777689  -0.15336007]\n",
       " [-11.68500388  -0.12914274]\n",
       " [-22.17091282  -0.14491294]\n",
       " [-22.60529896  -0.19111178]], log_prob=[ -0.36929975  -6.76742821  -1.45082279 -92.57457235  -0.76913826\n",
       "  -3.42513275  -0.8032536   -6.53982092  -1.32269776  -1.93688906], blobs=None, random_state=('MT19937', array([2015126384, 1918809695, 1398114653, 4123011009,  501828225,\n",
       "       1690259596, 1159441488,  412946478,  668086496, 2907543408,\n",
       "       1745926039, 3998814104, 3706536029, 2087447498, 3469053145,\n",
       "       2721836141, 1687647103, 2526424691, 3224449164, 3714742399,\n",
       "       3743346217, 1242069902, 2633850332, 3240334701, 1220676724,\n",
       "       3831575811, 2913691909, 3654739488,  768180184,  544154147,\n",
       "       3904651934,  288173404,  827028554, 1738163921, 4182090476,\n",
       "         97629238, 1693121376, 4094873103,  424925457, 3079941245,\n",
       "        429404882,  476467603, 1645849046,  167398244, 2028358561,\n",
       "       3267107224, 2752809046, 3880753340, 1576520862, 3920037992,\n",
       "       2396157696, 2591811098, 2497653151,  231031698, 2686939218,\n",
       "        733840457, 1318551751,  183738035, 1909604321,  560319159,\n",
       "       3664016066, 3302928374,  798462710, 1399725413, 1610845717,\n",
       "       1755223897, 3988435666, 1842693925,  371786112, 2535159945,\n",
       "       3276986329,  347977855, 2623798121, 1175429226, 2468646725,\n",
       "        852158244, 1845266504, 3489602800, 1462716269, 2811067061,\n",
       "       1203079310,  235035204, 2690619592, 2910048918, 2205736023,\n",
       "        367318173, 1661090533, 3800448976, 2072903608,  923850018,\n",
       "       1224999886, 1273559978, 2648530409, 2274427226,  833135136,\n",
       "        626296605, 1780075193, 4231773048, 4247588378, 1284803191,\n",
       "       1391116134, 1552664579, 2634932959, 2124477376, 1945133445,\n",
       "       4287795939, 2551940855, 3134912346,  172223931,  135779798,\n",
       "       1711738983, 3555917308,  507652446,  321011892, 4256067916,\n",
       "       3203539628,  296417132,  321931178, 3058134253, 3434742022,\n",
       "        898265240, 1251543741, 3102983472, 1418184374, 2990136953,\n",
       "         41180442, 2572146045,  179090720, 3094909932, 1969926031,\n",
       "       1846788854, 2029398615, 4141674126, 1011134379, 2065160854,\n",
       "       3918526792, 4067452430, 3716353225, 4157050927,  265092296,\n",
       "       2158229140, 3414173261, 4154267839,  287464739, 2713373826,\n",
       "        395808476, 1591436952, 4178838197, 1581287632, 3658974592,\n",
       "       2988302177, 4108759474,  906426165, 4004632630, 2165869623,\n",
       "         77374817, 2015435671, 4130913394, 2717780446,  389559655,\n",
       "       3785508444,   87175168, 1860976744, 3784392004, 2532011183,\n",
       "       1567220640, 2828932626,   46278884, 3279085391, 2661518817,\n",
       "       1264127877,  120803540, 1920434832, 1432857700, 1043071377,\n",
       "       2623901445, 3967641090, 1871428616, 1371910035,  184204636,\n",
       "       2070908524, 3024098376,  539020991,  565311255, 2469730865,\n",
       "       3850518688,   26648198, 1433160989, 2122810272, 2125360385,\n",
       "       1537127989, 3559322210, 3021598887,  178927378, 3014363807,\n",
       "       4174981679,  865282616, 1459896068, 3568207105,  576415928,\n",
       "       2516175385,  973867432, 1906254721, 2117763021,  763261504,\n",
       "       1000196027, 3544973065, 2220295478, 2972983790, 2279281379,\n",
       "       2855560469,  128419429, 2757124683, 3106234456, 2795435915,\n",
       "        260145735,  361007599, 3080578376, 2769804540, 2860002619,\n",
       "       2838320944,   69585496, 1100032832,  728895819,  485056826,\n",
       "       1384573252, 1995659810, 2675776944, 2175659969, 3808434656,\n",
       "       3108381345,  199319985, 1704145166,  349378486, 1283847599,\n",
       "        663355261,  249903473, 3409921920,  160563791, 3861323657,\n",
       "       2073023815, 1939779489, 2623734982, 4016145336, 2322958029,\n",
       "       1142077738, 4262615337, 4285322775, 3619181380,  245983096,\n",
       "       3838028229, 1863897258, 1542581351,  988251544, 2063097309,\n",
       "       1974511784, 2497412694, 2101358939, 4253811109, 3167517162,\n",
       "       1966441972,  707768489, 3726707024, 3160949843, 2024113928,\n",
       "       2494685414, 4188045137,  124213788,  857202295,  669095600,\n",
       "       1575386420,  586623136, 3839278579, 3598201791, 1463855621,\n",
       "       1830169684, 3253439805, 2371336283, 3944588868, 4111057630,\n",
       "       1347945429, 3620996527,  302564891, 1773051468, 2617228297,\n",
       "       3729516477, 1383748830,  284173399,  433238202,   37108733,\n",
       "       4126773618, 3604099124, 3129019521, 1808861452, 3409101492,\n",
       "       3232794488, 1918354518,  411464113, 4282436832, 3853890881,\n",
       "        197533061, 4039820406, 3846485707, 3110144046, 2445464375,\n",
       "       1978870767, 1551967935, 3818811560,  523378093, 3192159889,\n",
       "       2232261717, 3280660709,  904385988,  394266141,  174231079,\n",
       "       3323159528, 1916257930, 3555463688, 3983813456, 1337868658,\n",
       "       2772119511,  297800429,  451347851, 1231891164, 4240815033,\n",
       "       3593491424, 3601078261, 3730832957,  738206320, 1767923248,\n",
       "       4252929442, 2355604595, 2632270583, 1230969148, 3704696989,\n",
       "        524995605, 2255585340, 1238330303, 1032694337, 2362711057,\n",
       "       1458395855,  243593772, 1444319459,  949232546, 1417551471,\n",
       "       1803753901, 2029068905, 1256041473, 2388419355, 2244824759,\n",
       "       3306929039, 4267057515, 3248561158, 3960720216, 2622944628,\n",
       "       2030940658, 2875060253, 2364760421,  605143294, 3028391058,\n",
       "       2854826566, 3540610731, 2546303402, 2204169626, 4126294631,\n",
       "       2177766503,  296845397,  782800486, 1527050399,  412943659,\n",
       "       3768316068, 3954287926, 1854992815, 2418463586, 1390519991,\n",
       "       1071365050,  849434901,  428863427, 2742098110, 1448683946,\n",
       "       3887589267, 1270061111, 2612727168, 2592146748, 3578150340,\n",
       "       1205587910, 4007624033, 1550772052, 4266379583, 1632879821,\n",
       "       4166404745, 1359676839, 4282675876, 3470643289,  333403244,\n",
       "        699534260, 2645781899, 2143635042, 2878443829, 3569405584,\n",
       "       4143784903, 2136154377, 1836822022, 1646718250, 2711364708,\n",
       "       3195429835, 3701556983,  499562458,  235909626, 4143497569,\n",
       "       2803559514,  716715459, 4025911536, 3894433007, 2610047787,\n",
       "       1810069745, 3311820225, 1863311371, 1285427212, 4287512708,\n",
       "        990831917, 2895833596, 2354844949, 1964407398, 1490549172,\n",
       "       2043443374, 2336699486, 1530497294, 3815764126, 1317754319,\n",
       "       3699434392,  728336002, 4148680230, 3621170643, 3787189409,\n",
       "       2392755673, 3294498981, 1654906373,  332754223, 2860827256,\n",
       "       1440126521, 1847200616, 1506348446, 1023636139, 2193260384,\n",
       "       2762537795, 1449400608, 2727537177, 2106656986, 2151657131,\n",
       "        743433552,  655175949, 4036460022, 2831165304, 3924295321,\n",
       "       1288013663, 1677048543,  220399792, 1569718464, 3338633373,\n",
       "        519875081, 2688402066, 3581526018,  350198915, 3530737677,\n",
       "       2849330590, 3665900404, 2315514715,  745529204, 2038032910,\n",
       "       2656617813, 1600093054, 1313113837, 2848483090, 1578466757,\n",
       "        551267158, 3360166046, 2133400326, 2583309869,  190215845,\n",
       "       4012141107, 1776688371, 2316874060, 1172334521,  653993803,\n",
       "       1632345195,  614766702, 2883313425, 2757962136, 3400203372,\n",
       "       4007672263, 2349781825,  691696762, 4140131079,  372483795,\n",
       "       3443275094, 3861766234,  202506395, 1175742813,   21712073,\n",
       "       3558669438, 1385409750, 2997552471, 2674694675, 2083847102,\n",
       "        775475265, 1882185972,  357824676, 3617765039,  101561754,\n",
       "       1301480278,  524876376, 3417720333, 3563544132, 1795187827,\n",
       "        980732240, 1771034576,  314662812, 1579426324, 4039741152,\n",
       "       3486880565, 2334346864, 1310712062, 4154531333,  653384574,\n",
       "       2904294651,  171272342, 1551595055, 2388996907,  695579830,\n",
       "       1562981259, 1947031723, 3929828752, 2560495644,  752913650,\n",
       "       1721904954,  784686572, 1728114641, 1963250627, 3510714474,\n",
       "       1974300941, 3199061011, 1585505173, 3375397314, 3570185825,\n",
       "       2661281289, 3022731253, 1672747503, 3099869058, 4127793483,\n",
       "       2798289023, 2135427002, 3879999171,  904205178, 1010758040,\n",
       "       2749044212,  449917085, 1476445129, 1760800461, 3726978358,\n",
       "        223243706,  390637623, 2300138862, 3899938283, 3009976035,\n",
       "        565982678, 1950823590, 3718474216,  930557099, 2975024514,\n",
       "       3030294649, 2231231805,  328672039, 3098796823, 3448908836,\n",
       "         42995818,   52264315, 1781779462, 2214543992,    7784434,\n",
       "       3043138051, 3846499256, 3064942013, 3022371966,  967954425,\n",
       "       2923014319, 4144052678, 2215497787, 1366867878, 1910262473,\n",
       "       1637108614, 2731412001, 1686011878, 1725734126, 2180720954,\n",
       "       3363472805, 3432334045, 3526251411, 2851944968, 3190759164,\n",
       "       3905550068, 4002928129, 1232265032, 3614010744, 1019230169,\n",
       "        148514211, 1961921970,  983846016,   75912649, 1214014017,\n",
       "        177092848, 2763188625, 1718401097,  688306739,  809401594,\n",
       "       1545158805, 2898821343, 2341609274, 2682192203, 1724605623,\n",
       "        501567597, 2866836012, 2550368665, 2713541683], dtype=uint32), 97, 0, 0.0))"
      ]
     },
     "execution_count": 85,
     "metadata": {},
     "output_type": "execute_result"
    }
   ],
   "source": [
    "sampler.run_mcmc(state, 500, progress=True)"
   ]
  },
  {
   "cell_type": "code",
   "execution_count": 86,
   "id": "32e3f6a5",
   "metadata": {},
   "outputs": [],
   "source": [
    "samples = sampler.get_chain(flat=True)"
   ]
  },
  {
   "cell_type": "code",
   "execution_count": 87,
   "id": "175fc761",
   "metadata": {},
   "outputs": [
    {
     "data": {
      "text/plain": [
       "'Mean acceptance fraction: 0.282'"
      ]
     },
     "execution_count": 87,
     "metadata": {},
     "output_type": "execute_result"
    }
   ],
   "source": [
    "\"Mean acceptance fraction: {0:.3f}\".format(np.mean(sampler.acceptance_fraction))"
   ]
  },
  {
   "cell_type": "code",
   "execution_count": 88,
   "id": "7e32a221",
   "metadata": {},
   "outputs": [
    {
     "name": "stderr",
     "output_type": "stream",
     "text": [
      "WARNING:root:Too few points to create valid contours\n"
     ]
    },
    {
     "name": "stdout",
     "output_type": "stream",
     "text": [
      "(5000, 2)\n"
     ]
    },
    {
     "data": {
      "image/png": "[encoded data removed]",
      "text/plain": [
       "<Figure size 550x550 with 4 Axes>"
      ]
     },
     "metadata": {},
     "output_type": "display_data"
    }
   ],
   "source": [
    "flat_samples = sampler.get_chain(flat=True)\n",
    "print(flat_samples.shape)\n",
    "fig = corner.corner(flat_samples, labels=['log(sigma0)', 'log(mchi)'])"
   ]
  },
  {
   "cell_type": "code",
   "execution_count": null,
   "id": "c5cd11a3",
   "metadata": {},
   "outputs": [],
   "source": []
  }
 ],
 "metadata": {
  "kernelspec": {
   "display_name": "Python 3 (ipykernel)",
   "language": "python",
   "name": "python3"
  },
  "language_info": {
   "codemirror_mode": {
    "name": "ipython",
    "version": 3
   },
   "file_extension": ".py",
   "mimetype": "text/x-python",
   "name": "python",
   "nbconvert_exporter": "python",
   "pygments_lexer": "ipython3",
   "version": "3.11.5"
  }
 },
 "nbformat": 4,
 "nbformat_minor": 5
}
