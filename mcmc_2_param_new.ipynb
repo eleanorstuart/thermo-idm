{
 "cells": [
  {
   "cell_type": "code",
   "execution_count": 20,
   "id": "f3abb45c",
   "metadata": {},
   "outputs": [
    {
     "name": "stdout",
     "output_type": "stream",
     "text": [
      "The autoreload extension is already loaded. To reload it, use:\n",
      "  %reload_ext autoreload\n"
     ]
    }
   ],
   "source": [
    "%load_ext autoreload\n",
    "%autoreload 2\n",
    "import numpy as np\n",
    "from astropy import units as u\n",
    "import emcee\n",
    "from matplotlib import pyplot as plt\n",
    "import corner\n",
    "\n",
    "from load_galweight_data import load_clusters\n",
    "from cluster import temp_from_vdisp\n",
    "from statistics_functions import log_likelihood, chi_squared"
   ]
  },
  {
   "cell_type": "code",
   "execution_count": 2,
   "id": "aa354463",
   "metadata": {},
   "outputs": [],
   "source": [
    "# get dataset\n",
    "clusters, variances = load_clusters(nrows=20)"
   ]
  },
  {
   "cell_type": "code",
   "execution_count": 3,
   "id": "34f999ad",
   "metadata": {},
   "outputs": [],
   "source": [
    "T_data = [c.baryon_temp for c in clusters]"
   ]
  },
  {
   "cell_type": "code",
   "execution_count": 5,
   "id": "8aa12f21",
   "metadata": {},
   "outputs": [
    {
     "data": {
      "text/plain": [
       "array([[-15.611418  ,   1.30099046],\n",
       "       [-34.05951363,   3.41230096],\n",
       "       [-22.54863064,  -8.52020815],\n",
       "       [-16.90170672,  -7.19181117],\n",
       "       [-33.11896392,  -8.8264559 ]])"
      ]
     },
     "execution_count": 5,
     "metadata": {},
     "output_type": "execute_result"
    }
   ],
   "source": [
    "ndim, nwalkers = 2, 5\n",
    "log_sigma0 = np.random.uniform(low=-40, high=-10, size=(nwalkers, 1)).astype(dtype=np.float128)\n",
    "log_mchi = np.random.uniform(low=-10, high=4, size=(nwalkers, 1)).astype(dtype=np.float128)\n",
    "\n",
    "p0=np.zeros((nwalkers, ndim ))\n",
    "p0[:,0] = log_sigma0.reshape((5,))\n",
    "p0[:,1]= log_mchi.reshape((5,))\n",
    "p0"
   ]
  },
  {
   "cell_type": "code",
   "execution_count": 23,
   "id": "4da95c09",
   "metadata": {},
   "outputs": [],
   "source": [
    "sampler = emcee.EnsembleSampler(nwalkers, ndim, log_likelihood, args=[T_data, variances, clusters])"
   ]
  },
  {
   "cell_type": "code",
   "execution_count": 24,
   "id": "8c846070",
   "metadata": {},
   "outputs": [
    {
     "name": "stderr",
     "output_type": "stream",
     "text": [
      "/Users/eleanorstuart/opt/anaconda3/envs/idm/lib/python3.11/site-packages/astropy/units/quantity.py:611: RuntimeWarning: invalid value encountered in power\n",
      "  result = super().__array_ufunc__(function, method, *arrays, **kwargs)\n",
      "/Users/eleanorstuart/opt/anaconda3/envs/idm/lib/python3.11/site-packages/astropy/units/quantity.py:611: RuntimeWarning: invalid value encountered in sqrt\n",
      "  result = super().__array_ufunc__(function, method, *arrays, **kwargs)\n",
      "WARNING:emcee.pbar:You must install the tqdm library to use progress indicators with emcee\n",
      "/Users/eleanorstuart/Desktop/krisp/thermo-idm/cluster.py:26: RuntimeWarning: overflow encountered in float_power\n",
      "  m_chi = np.float_power(10, p0[1])*u.GeV\n",
      "/Users/eleanorstuart/opt/anaconda3/envs/idm/lib/python3.11/site-packages/astropy/units/quantity.py:611: RuntimeWarning: divide by zero encountered in divide\n",
      "  result = super().__array_ufunc__(function, method, *arrays, **kwargs)\n",
      "/Users/eleanorstuart/opt/anaconda3/envs/idm/lib/python3.11/site-packages/astropy/units/quantity.py:611: RuntimeWarning: invalid value encountered in divide\n",
      "  result = super().__array_ufunc__(function, method, *arrays, **kwargs)\n"
     ]
    },
    {
     "ename": "TypeError",
     "evalue": "Cannot cast array data from dtype('float128') to dtype('float64') according to the rule 'safe'",
     "output_type": "error",
     "traceback": [
      "\u001b[0;31m---------------------------------------------------------------------------\u001b[0m",
      "\u001b[0;31mTypeError\u001b[0m                                 Traceback (most recent call last)",
      "\u001b[0;31mTypeError\u001b[0m: Cannot cast array data from dtype('float128') to dtype('float64') according to the rule 'safe'"
     ]
    },
    {
     "name": "stdout",
     "output_type": "stream",
     "text": [
      "emcee: Exception while calling your likelihood function:\n",
      "  params: [ 57.5230553  268.39385881]\n",
      "  args: [[<Quantity 1.13369052e-05 GeV>, <Quantity 8.96643311e-06 GeV>, <Quantity 9.07989976e-06 GeV>, <Quantity 8.10745427e-06 GeV>, <Quantity 7.41285088e-06 GeV>, <Quantity 8.20368656e-06 GeV>, <Quantity 8.22529573e-06 GeV>, <Quantity 7.72504935e-06 GeV>, <Quantity 7.33483838e-06 GeV>, <Quantity 6.21106042e-06 GeV>, <Quantity 7.48240004e-06 GeV>, <Quantity 7.2500303e-06 GeV>, <Quantity 7.74834976e-06 GeV>, <Quantity 8.05491993e-06 GeV>, <Quantity 5.92439129e-06 GeV>, <Quantity 5.61144568e-06 GeV>, <Quantity 5.38610788e-06 GeV>, <Quantity 3.24632308e-06 GeV>, <Quantity 4.88330641e-06 GeV>, <Quantity 5.85577809e-06 GeV>], <Quantity [1.78502685e-07, 2.35634568e-07, 5.57547959e-08, 1.21818584e-07,\n",
      "           1.68853374e-07, 1.30965586e-07, 2.72902590e-07, 1.82883513e-07,\n",
      "           1.51813088e-07, 7.00764091e-08, 2.34699973e-07, 1.71323924e-07,\n",
      "           4.14287923e-07, 1.27262191e-06, 1.40952587e-07, 1.28543821e-07,\n",
      "           6.02026997e-08, 1.48206850e-06, 1.31535818e-07, 1.38625328e-06] GeV>, [<cluster.Cluster object at 0x12880f9d0>, <cluster.Cluster object at 0x12c8197d0>, <cluster.Cluster object at 0x12c81bad0>, <cluster.Cluster object at 0x12c81bc90>, <cluster.Cluster object at 0x128938310>, <cluster.Cluster object at 0x12c818f50>, <cluster.Cluster object at 0x12c839e90>, <cluster.Cluster object at 0x12c83a710>, <cluster.Cluster object at 0x12c83b3d0>, <cluster.Cluster object at 0x12c819510>, <cluster.Cluster object at 0x12c83b250>, <cluster.Cluster object at 0x12c849810>, <cluster.Cluster object at 0x12c83ad10>, <cluster.Cluster object at 0x12c81b950>, <cluster.Cluster object at 0x12c84bc90>, <cluster.Cluster object at 0x12c81bed0>, <cluster.Cluster object at 0x12c84bd90>, <cluster.Cluster object at 0x12c84bf50>, <cluster.Cluster object at 0x12c84aad0>, <cluster.Cluster object at 0x12c84a210>]]\n",
      "  kwargs: {}\n",
      "  exception:\n"
     ]
    },
    {
     "name": "stderr",
     "output_type": "stream",
     "text": [
      "Traceback (most recent call last):\n",
      "  File \"/Users/eleanorstuart/opt/anaconda3/envs/idm/lib/python3.11/site-packages/emcee/ensemble.py\", line 624, in __call__\n",
      "    return self.f(x, *self.args, **self.kwargs)\n",
      "           ^^^^^^^^^^^^^^^^^^^^^^^^^^^^^^^^^^^^\n",
      "  File \"/Users/eleanorstuart/Desktop/krisp/thermo-idm/statistics_functions.py\", line 28, in log_likelihood\n",
      "    T_model = [c.pred_T_b(p0) for c in clusters]\n",
      "              ^^^^^^^^^^^^^^^^^^^^^^^^^^^^^^^^^^\n",
      "  File \"/Users/eleanorstuart/Desktop/krisp/thermo-idm/statistics_functions.py\", line 28, in <listcomp>\n",
      "    T_model = [c.pred_T_b(p0) for c in clusters]\n",
      "               ^^^^^^^^^^^^^^\n",
      "  File \"/Users/eleanorstuart/Desktop/krisp/thermo-idm/cluster.py\", line 193, in pred_T_b\n",
      "    solution=root(fun, x0, args=(self, p0)).x\n",
      "             ^^^^^^^^^^^^^^^^^^^^^^^^^^^^^^\n",
      "  File \"/Users/eleanorstuart/opt/anaconda3/envs/idm/lib/python3.11/site-packages/scipy/optimize/_root.py\", line 236, in root\n",
      "    sol = _root_hybr(fun, x0, args=args, jac=jac, **options)\n",
      "          ^^^^^^^^^^^^^^^^^^^^^^^^^^^^^^^^^^^^^^^^^^^^^^^^^^\n",
      "  File \"/Users/eleanorstuart/opt/anaconda3/envs/idm/lib/python3.11/site-packages/scipy/optimize/_minpack_py.py\", line 239, in _root_hybr\n",
      "    retval = _minpack._hybrd(func, x0, args, 1, xtol, maxfev,\n",
      "             ^^^^^^^^^^^^^^^^^^^^^^^^^^^^^^^^^^^^^^^^^^^^^^^^\n",
      "_minpack.error: Result from function call is not a proper array of floats.\n"
     ]
    },
    {
     "ename": "error",
     "evalue": "Result from function call is not a proper array of floats.",
     "output_type": "error",
     "traceback": [
      "\u001b[0;31m---------------------------------------------------------------------------\u001b[0m",
      "\u001b[0;31merror\u001b[0m                                     Traceback (most recent call last)",
      "Cell \u001b[0;32mIn[24], line 1\u001b[0m\n\u001b[0;32m----> 1\u001b[0m state \u001b[38;5;241m=\u001b[39m sampler\u001b[38;5;241m.\u001b[39mrun_mcmc(p0, \u001b[38;5;241m100\u001b[39m, progress\u001b[38;5;241m=\u001b[39m\u001b[38;5;28;01mTrue\u001b[39;00m)\n\u001b[1;32m      2\u001b[0m sampler\u001b[38;5;241m.\u001b[39mreset()\n",
      "File \u001b[0;32m~/opt/anaconda3/envs/idm/lib/python3.11/site-packages/emcee/ensemble.py:443\u001b[0m, in \u001b[0;36mEnsembleSampler.run_mcmc\u001b[0;34m(self, initial_state, nsteps, **kwargs)\u001b[0m\n\u001b[1;32m    440\u001b[0m     initial_state \u001b[38;5;241m=\u001b[39m \u001b[38;5;28mself\u001b[39m\u001b[38;5;241m.\u001b[39m_previous_state\n\u001b[1;32m    442\u001b[0m results \u001b[38;5;241m=\u001b[39m \u001b[38;5;28;01mNone\u001b[39;00m\n\u001b[0;32m--> 443\u001b[0m \u001b[38;5;28;01mfor\u001b[39;00m results \u001b[38;5;129;01min\u001b[39;00m \u001b[38;5;28mself\u001b[39m\u001b[38;5;241m.\u001b[39msample(initial_state, iterations\u001b[38;5;241m=\u001b[39mnsteps, \u001b[38;5;241m*\u001b[39m\u001b[38;5;241m*\u001b[39mkwargs):\n\u001b[1;32m    444\u001b[0m     \u001b[38;5;28;01mpass\u001b[39;00m\n\u001b[1;32m    446\u001b[0m \u001b[38;5;66;03m# Store so that the ``initial_state=None`` case will work\u001b[39;00m\n",
      "File \u001b[0;32m~/opt/anaconda3/envs/idm/lib/python3.11/site-packages/emcee/ensemble.py:402\u001b[0m, in \u001b[0;36mEnsembleSampler.sample\u001b[0;34m(self, initial_state, log_prob0, rstate0, blobs0, iterations, tune, skip_initial_state_check, thin_by, thin, store, progress, progress_kwargs)\u001b[0m\n\u001b[1;32m    399\u001b[0m move \u001b[38;5;241m=\u001b[39m \u001b[38;5;28mself\u001b[39m\u001b[38;5;241m.\u001b[39m_random\u001b[38;5;241m.\u001b[39mchoice(\u001b[38;5;28mself\u001b[39m\u001b[38;5;241m.\u001b[39m_moves, p\u001b[38;5;241m=\u001b[39m\u001b[38;5;28mself\u001b[39m\u001b[38;5;241m.\u001b[39m_weights)\n\u001b[1;32m    401\u001b[0m \u001b[38;5;66;03m# Propose\u001b[39;00m\n\u001b[0;32m--> 402\u001b[0m state, accepted \u001b[38;5;241m=\u001b[39m move\u001b[38;5;241m.\u001b[39mpropose(model, state)\n\u001b[1;32m    403\u001b[0m state\u001b[38;5;241m.\u001b[39mrandom_state \u001b[38;5;241m=\u001b[39m \u001b[38;5;28mself\u001b[39m\u001b[38;5;241m.\u001b[39mrandom_state\n\u001b[1;32m    405\u001b[0m \u001b[38;5;28;01mif\u001b[39;00m tune:\n",
      "File \u001b[0;32m~/opt/anaconda3/envs/idm/lib/python3.11/site-packages/emcee/moves/red_blue.py:93\u001b[0m, in \u001b[0;36mRedBlueMove.propose\u001b[0;34m(self, model, state)\u001b[0m\n\u001b[1;32m     90\u001b[0m q, factors \u001b[38;5;241m=\u001b[39m \u001b[38;5;28mself\u001b[39m\u001b[38;5;241m.\u001b[39mget_proposal(s, c, model\u001b[38;5;241m.\u001b[39mrandom)\n\u001b[1;32m     92\u001b[0m \u001b[38;5;66;03m# Compute the lnprobs of the proposed position.\u001b[39;00m\n\u001b[0;32m---> 93\u001b[0m new_log_probs, new_blobs \u001b[38;5;241m=\u001b[39m model\u001b[38;5;241m.\u001b[39mcompute_log_prob_fn(q)\n\u001b[1;32m     95\u001b[0m \u001b[38;5;66;03m# Loop over the walkers and update them accordingly.\u001b[39;00m\n\u001b[1;32m     96\u001b[0m \u001b[38;5;28;01mfor\u001b[39;00m i, (j, f, nlp) \u001b[38;5;129;01min\u001b[39;00m \u001b[38;5;28menumerate\u001b[39m(\n\u001b[1;32m     97\u001b[0m     \u001b[38;5;28mzip\u001b[39m(all_inds[S1], factors, new_log_probs)\n\u001b[1;32m     98\u001b[0m ):\n",
      "File \u001b[0;32m~/opt/anaconda3/envs/idm/lib/python3.11/site-packages/emcee/ensemble.py:489\u001b[0m, in \u001b[0;36mEnsembleSampler.compute_log_prob\u001b[0;34m(self, coords)\u001b[0m\n\u001b[1;32m    487\u001b[0m     \u001b[38;5;28;01melse\u001b[39;00m:\n\u001b[1;32m    488\u001b[0m         map_func \u001b[38;5;241m=\u001b[39m \u001b[38;5;28mmap\u001b[39m\n\u001b[0;32m--> 489\u001b[0m     results \u001b[38;5;241m=\u001b[39m \u001b[38;5;28mlist\u001b[39m(map_func(\u001b[38;5;28mself\u001b[39m\u001b[38;5;241m.\u001b[39mlog_prob_fn, p))\n\u001b[1;32m    491\u001b[0m \u001b[38;5;28;01mtry\u001b[39;00m:\n\u001b[1;32m    492\u001b[0m     log_prob \u001b[38;5;241m=\u001b[39m np\u001b[38;5;241m.\u001b[39marray([\u001b[38;5;28mfloat\u001b[39m(l[\u001b[38;5;241m0\u001b[39m]) \u001b[38;5;28;01mfor\u001b[39;00m l \u001b[38;5;129;01min\u001b[39;00m results])\n",
      "File \u001b[0;32m~/opt/anaconda3/envs/idm/lib/python3.11/site-packages/emcee/ensemble.py:624\u001b[0m, in \u001b[0;36m_FunctionWrapper.__call__\u001b[0;34m(self, x)\u001b[0m\n\u001b[1;32m    622\u001b[0m \u001b[38;5;28;01mdef\u001b[39;00m \u001b[38;5;21m__call__\u001b[39m(\u001b[38;5;28mself\u001b[39m, x):\n\u001b[1;32m    623\u001b[0m     \u001b[38;5;28;01mtry\u001b[39;00m:\n\u001b[0;32m--> 624\u001b[0m         \u001b[38;5;28;01mreturn\u001b[39;00m \u001b[38;5;28mself\u001b[39m\u001b[38;5;241m.\u001b[39mf(x, \u001b[38;5;241m*\u001b[39m\u001b[38;5;28mself\u001b[39m\u001b[38;5;241m.\u001b[39margs, \u001b[38;5;241m*\u001b[39m\u001b[38;5;241m*\u001b[39m\u001b[38;5;28mself\u001b[39m\u001b[38;5;241m.\u001b[39mkwargs)\n\u001b[1;32m    625\u001b[0m     \u001b[38;5;28;01mexcept\u001b[39;00m:  \u001b[38;5;66;03m# pragma: no cover\u001b[39;00m\n\u001b[1;32m    626\u001b[0m         \u001b[38;5;28;01mimport\u001b[39;00m \u001b[38;5;21;01mtraceback\u001b[39;00m\n",
      "File \u001b[0;32m~/Desktop/krisp/thermo-idm/statistics_functions.py:28\u001b[0m, in \u001b[0;36mlog_likelihood\u001b[0;34m(p0, T_data, var, clusters)\u001b[0m\n\u001b[1;32m     25\u001b[0m \u001b[38;5;28;01mdef\u001b[39;00m \u001b[38;5;21mlog_likelihood\u001b[39m(p0, T_data, var, clusters):\n\u001b[1;32m     26\u001b[0m     \u001b[38;5;66;03m#if p0[0]<0 or p0[1]<0:\u001b[39;00m\n\u001b[1;32m     27\u001b[0m     \u001b[38;5;66;03m#   return -np.inf\u001b[39;00m\n\u001b[0;32m---> 28\u001b[0m     T_model \u001b[38;5;241m=\u001b[39m [c\u001b[38;5;241m.\u001b[39mpred_T_b(p0) \u001b[38;5;28;01mfor\u001b[39;00m c \u001b[38;5;129;01min\u001b[39;00m clusters]\n\u001b[1;32m     29\u001b[0m     X2 \u001b[38;5;241m=\u001b[39m chi_squared(T_model, T_data, var)\n\u001b[1;32m     30\u001b[0m     \u001b[38;5;28;01mreturn\u001b[39;00m (\u001b[38;5;241m-\u001b[39mX2\u001b[38;5;241m/\u001b[39m\u001b[38;5;241m2\u001b[39m)\n",
      "File \u001b[0;32m~/Desktop/krisp/thermo-idm/statistics_functions.py:28\u001b[0m, in \u001b[0;36m<listcomp>\u001b[0;34m(.0)\u001b[0m\n\u001b[1;32m     25\u001b[0m \u001b[38;5;28;01mdef\u001b[39;00m \u001b[38;5;21mlog_likelihood\u001b[39m(p0, T_data, var, clusters):\n\u001b[1;32m     26\u001b[0m     \u001b[38;5;66;03m#if p0[0]<0 or p0[1]<0:\u001b[39;00m\n\u001b[1;32m     27\u001b[0m     \u001b[38;5;66;03m#   return -np.inf\u001b[39;00m\n\u001b[0;32m---> 28\u001b[0m     T_model \u001b[38;5;241m=\u001b[39m [c\u001b[38;5;241m.\u001b[39mpred_T_b(p0) \u001b[38;5;28;01mfor\u001b[39;00m c \u001b[38;5;129;01min\u001b[39;00m clusters]\n\u001b[1;32m     29\u001b[0m     X2 \u001b[38;5;241m=\u001b[39m chi_squared(T_model, T_data, var)\n\u001b[1;32m     30\u001b[0m     \u001b[38;5;28;01mreturn\u001b[39;00m (\u001b[38;5;241m-\u001b[39mX2\u001b[38;5;241m/\u001b[39m\u001b[38;5;241m2\u001b[39m)\n",
      "File \u001b[0;32m~/Desktop/krisp/thermo-idm/cluster.py:193\u001b[0m, in \u001b[0;36mCluster.pred_T_b\u001b[0;34m(self, p0)\u001b[0m\n\u001b[1;32m    191\u001b[0m \u001b[38;5;28;01mdef\u001b[39;00m \u001b[38;5;21mpred_T_b\u001b[39m(\u001b[38;5;28mself\u001b[39m, p0): \u001b[38;5;66;03m#p0 is a vector with p0[0] = log(sigma0) and p0[1]=log(m_chi)\u001b[39;00m\n\u001b[1;32m    192\u001b[0m     x0 \u001b[38;5;241m=\u001b[39m \u001b[38;5;241m1e-5\u001b[39m \u001b[38;5;241m*\u001b[39m u\u001b[38;5;241m.\u001b[39mGeV \u001b[38;5;66;03m# starting estimate (could even do this using T_b_small)\u001b[39;00m\n\u001b[0;32m--> 193\u001b[0m     solution\u001b[38;5;241m=\u001b[39mroot(fun, x0, args\u001b[38;5;241m=\u001b[39m(\u001b[38;5;28mself\u001b[39m, p0))\u001b[38;5;241m.\u001b[39mx\n\u001b[1;32m    194\u001b[0m     \u001b[38;5;28;01mreturn\u001b[39;00m solution[\u001b[38;5;241m0\u001b[39m]\u001b[38;5;241m*\u001b[39mu\u001b[38;5;241m.\u001b[39mGeV\n",
      "File \u001b[0;32m~/opt/anaconda3/envs/idm/lib/python3.11/site-packages/scipy/optimize/_root.py:236\u001b[0m, in \u001b[0;36mroot\u001b[0;34m(fun, x0, args, method, jac, tol, callback, options)\u001b[0m\n\u001b[1;32m    233\u001b[0m         options\u001b[38;5;241m.\u001b[39msetdefault(\u001b[38;5;124m'\u001b[39m\u001b[38;5;124mfatol\u001b[39m\u001b[38;5;124m'\u001b[39m, np\u001b[38;5;241m.\u001b[39minf)\n\u001b[1;32m    235\u001b[0m \u001b[38;5;28;01mif\u001b[39;00m meth \u001b[38;5;241m==\u001b[39m \u001b[38;5;124m'\u001b[39m\u001b[38;5;124mhybr\u001b[39m\u001b[38;5;124m'\u001b[39m:\n\u001b[0;32m--> 236\u001b[0m     sol \u001b[38;5;241m=\u001b[39m _root_hybr(fun, x0, args\u001b[38;5;241m=\u001b[39margs, jac\u001b[38;5;241m=\u001b[39mjac, \u001b[38;5;241m*\u001b[39m\u001b[38;5;241m*\u001b[39moptions)\n\u001b[1;32m    237\u001b[0m \u001b[38;5;28;01melif\u001b[39;00m meth \u001b[38;5;241m==\u001b[39m \u001b[38;5;124m'\u001b[39m\u001b[38;5;124mlm\u001b[39m\u001b[38;5;124m'\u001b[39m:\n\u001b[1;32m    238\u001b[0m     sol \u001b[38;5;241m=\u001b[39m _root_leastsq(fun, x0, args\u001b[38;5;241m=\u001b[39margs, jac\u001b[38;5;241m=\u001b[39mjac, \u001b[38;5;241m*\u001b[39m\u001b[38;5;241m*\u001b[39moptions)\n",
      "File \u001b[0;32m~/opt/anaconda3/envs/idm/lib/python3.11/site-packages/scipy/optimize/_minpack_py.py:239\u001b[0m, in \u001b[0;36m_root_hybr\u001b[0;34m(func, x0, args, jac, col_deriv, xtol, maxfev, band, eps, factor, diag, **unknown_options)\u001b[0m\n\u001b[1;32m    237\u001b[0m     \u001b[38;5;28;01mif\u001b[39;00m maxfev \u001b[38;5;241m==\u001b[39m \u001b[38;5;241m0\u001b[39m:\n\u001b[1;32m    238\u001b[0m         maxfev \u001b[38;5;241m=\u001b[39m \u001b[38;5;241m200\u001b[39m \u001b[38;5;241m*\u001b[39m (n \u001b[38;5;241m+\u001b[39m \u001b[38;5;241m1\u001b[39m)\n\u001b[0;32m--> 239\u001b[0m     retval \u001b[38;5;241m=\u001b[39m _minpack\u001b[38;5;241m.\u001b[39m_hybrd(func, x0, args, \u001b[38;5;241m1\u001b[39m, xtol, maxfev,\n\u001b[1;32m    240\u001b[0m                              ml, mu, epsfcn, factor, diag)\n\u001b[1;32m    241\u001b[0m \u001b[38;5;28;01melse\u001b[39;00m:\n\u001b[1;32m    242\u001b[0m     _check_func(\u001b[38;5;124m'\u001b[39m\u001b[38;5;124mfsolve\u001b[39m\u001b[38;5;124m'\u001b[39m, \u001b[38;5;124m'\u001b[39m\u001b[38;5;124mfprime\u001b[39m\u001b[38;5;124m'\u001b[39m, Dfun, x0, args, n, (n, n))\n",
      "\u001b[0;31merror\u001b[0m: Result from function call is not a proper array of floats."
     ]
    }
   ],
   "source": [
    "state = sampler.run_mcmc(p0, 100, progress=True)\n",
    "sampler.reset()"
   ]
  },
  {
   "cell_type": "code",
   "execution_count": 16,
   "id": "02a1075b",
   "metadata": {},
   "outputs": [
    {
     "name": "stderr",
     "output_type": "stream",
     "text": [
      "You must install the tqdm library to use progress indicators with emcee\n"
     ]
    },
    {
     "data": {
      "text/plain": [
       "State([[-1.57581531e+58  4.31631495e+57]\n",
       " [-2.58317911e+59  7.07558465e+58]\n",
       " [-1.99291308e+01 -6.47511362e+01]\n",
       " [-2.53132809e+58  6.93355954e+57]\n",
       " [ 2.05439323e+58 -5.62718751e+57]], log_prob=[-7131.62552308 -7131.62552308 -2130.37197066 -7131.62552308\n",
       " -7131.62552308], blobs=None, random_state=('MT19937', array([3942967667, 1917121480, 1026338510,  171647026, 3619785900,\n",
       "       2592493783, 3923704198, 3542772777,  848331384, 1217275034,\n",
       "        844623048, 3717390371, 4182058522, 4083314221, 3059091941,\n",
       "       2678459385, 3199078930, 1019262744, 1655276920, 3180180582,\n",
       "       3017538392,  967501890, 2665470934, 3417518625, 1547804021,\n",
       "       3618188854, 2091128784, 3618143577, 4223441690, 2236793308,\n",
       "       1313886119, 2987104076, 2758478516, 1180149068, 3755981389,\n",
       "       1816046237, 4164586631, 1003642359, 1553559239,  571153117,\n",
       "       2938402642,  800359111,  670869358,  669339724, 1680762154,\n",
       "       3060473488, 3791845154,  797896238,  372170484, 1875639493,\n",
       "       2644934725, 2246866712,  951335258, 3780772853, 4292934108,\n",
       "       4250907883,  518270425, 1007293073, 3004549142, 3046746173,\n",
       "       1008556071, 2161716425, 3096545995,  188993991, 3180668202,\n",
       "       4253381560, 1344558002, 2075362376, 1226117749, 1641892359,\n",
       "        243791672, 2317983258, 3765558442, 2654697480, 3856117814,\n",
       "       3041218377,  733423678, 4156241661,  315673656,  865951965,\n",
       "       4291398868,  186106940, 3124306753, 2276293251, 2236910942,\n",
       "        378384009, 1283364174,  926096486, 2539676465, 2398822098,\n",
       "        777641122, 1340660776, 2442558107, 3352274669, 3309146741,\n",
       "       1114337686, 2951689733, 3229862316, 2321267843, 1582912128,\n",
       "       1379525107, 3399787696, 1910735812, 4202926259, 4156223818,\n",
       "       2724777262, 1381713083, 2982585399,  333856823,   26244737,\n",
       "       3339507001, 3383027145, 1944257388,  393831399, 2297059125,\n",
       "       3694848641, 3768168304, 3265157289, 3929480302, 3247075032,\n",
       "       1566755980, 1324830966,  885348896, 3720408019, 1155051830,\n",
       "       1803295768, 2645594634,  256581049,  191947674, 2062636264,\n",
       "       3644518772, 3956154178, 4145948721, 2749459293, 3027424775,\n",
       "       1648393673, 3719654662, 4265557198,  248072714,  769762723,\n",
       "        951779184,  153425716, 4252170113,  743450884, 4140469117,\n",
       "       2410842631, 2481354116, 1020260539, 1719296154, 3843404598,\n",
       "       1907750085, 3148665073, 3371069450, 3941810694, 1113042083,\n",
       "       3974893496, 4118577609, 2965504366, 2181960726, 4127983850,\n",
       "       1172951675, 3188296321, 1269130592, 1736436697, 2678200845,\n",
       "       3930722992, 1847589343, 1106377655, 3315447823,  368027610,\n",
       "       3177034865, 3296000659, 2542568702, 1825936304, 2617989324,\n",
       "        458366559,  314110463, 3682866731,  105672394, 2869762107,\n",
       "       2614300467,  326294666,  540080363, 4137545484, 3820396434,\n",
       "        826913591, 3393700194, 3501728619, 3688331545, 1234843678,\n",
       "       2714670294, 3483936400, 2848894859,  507084937, 1262979382,\n",
       "       1340811366,   67529941, 3419576477,  264882032,  755560971,\n",
       "       1634487110,  671742232,    5190070, 1690146622, 3403627630,\n",
       "       4149035128, 1129867142, 1525711228, 3667933958,  291889466,\n",
       "         86698957, 1114890264, 3122768970, 2830715285, 2640453788,\n",
       "       3149272481, 3121808510, 1843874215,  777218976, 2910907229,\n",
       "       3100278028, 3428830583,  857350230, 1720718109,  890405751,\n",
       "       3244182944, 1560103584, 1623044639, 3959123456, 3376101523,\n",
       "       1276267953, 1025619934, 3455848667, 3985159763, 2885064252,\n",
       "       2672946576,  445957974,  852713183, 3443792534, 1061852825,\n",
       "       1810501750, 1155975081, 1217535897, 3976454014, 3112683518,\n",
       "        811268736, 2668056889,  635824151, 3384847527,  113180699,\n",
       "        429641608, 3652709325,  195911608, 2574559840, 1339332945,\n",
       "        353562798, 1280310924,  617162390,  102560195, 3693791081,\n",
       "       4199899525, 1631357141,  849331053, 1031590517, 2071116999,\n",
       "       3044705529, 4154549459,  725722445, 3491147351,  357947606,\n",
       "       2277821019, 3339147922, 3703103354, 1309942043, 1290187825,\n",
       "       1051650876, 3561184955, 4184477316, 1896786908,    8777023,\n",
       "       4000720209,  734697656, 2569109666, 2634912267, 3955331838,\n",
       "       3231776558, 4144625074, 2983840358,  877780724, 3703127501,\n",
       "       3979978118,  652107237,  551016122, 3451492358,  591960347,\n",
       "        133137280, 2169930312, 1170050058, 1848038415, 2885127701,\n",
       "       2381644158, 3356864776, 2407694609, 3252945886, 2641654362,\n",
       "       1280060787, 3786274097,  833995520, 3800659351, 3272988244,\n",
       "       3620939382,   79873001, 2953694370, 2527834430, 1494459575,\n",
       "       2871157602, 1670476808, 3720331335, 3142842973, 2841591695,\n",
       "       3811927662, 1265106288, 2078557759,  524278421, 3855640055,\n",
       "       2807373274, 3816755148,  745732990,  161322191, 4073112760,\n",
       "        261598309, 1499210762, 1573343510, 2207899258, 1615105533,\n",
       "       1682309553,  345626078, 1345845592, 2834336958, 1422658553,\n",
       "       3814303096, 2346169503, 2427414880, 2559957373,  701715816,\n",
       "       3427878421,  624869209, 2651962378, 3969585093, 2677388306,\n",
       "       2477466747, 2544689892, 3877613878, 4291551009,  730481499,\n",
       "       2782710312, 3357464039, 4208216635, 3226703758,  667844162,\n",
       "       2490556811,  446637540, 3697205513, 1803222013, 3249814740,\n",
       "       1919651428, 2792735235, 2013764840, 1767675089, 3881535776,\n",
       "       2641789681,  120338761, 1853405114,  598799725, 2253474418,\n",
       "       4167740891, 3850330214, 1642450605,  457827866, 1548735033,\n",
       "       2334851916,   91085159,  507211092, 1349649474,  227573640,\n",
       "       3923411819,  715702296,   41774536, 4135694275, 2785543285,\n",
       "        342387267, 3045516499,  931357337, 2117898340, 2437051552,\n",
       "       2284228725, 2300122474,  721598117, 3637632452, 2110030336,\n",
       "       3608710586, 2599625700, 3980236277, 2451704618, 3676909419,\n",
       "        329441515, 1781487517, 2967798710, 1745371991, 4106698504,\n",
       "       4124483257, 2618818187, 3303838507, 4070432614, 4152637301,\n",
       "       1259439382, 2551683727, 3370188059, 4051675742,  897009694,\n",
       "       1531105506,  318088654, 1666182278, 2291958357, 2671058869,\n",
       "       2725332182, 1903159656, 2332889107, 4105975337,  218306112,\n",
       "       2360922047,  766581058, 1685080785, 2854370690, 2203092205,\n",
       "       3671921415, 3059077529, 3559265241,  381915361,  737375217,\n",
       "       2178770314, 3689145177, 2125341946, 2919762200, 4279521107,\n",
       "       3747522414, 1029114228, 1525393201, 2882305195, 1455853508,\n",
       "       2854377430, 1616986682, 2510031699, 2497550824, 4082022131,\n",
       "       2224466399, 4203165223, 1678506306, 1201984299, 1908531981,\n",
       "       3500653967, 3482479614, 1259849759, 1996016634, 3516354506,\n",
       "       2192150369, 1825669668, 3113847452, 2503315020, 1524162770,\n",
       "       2885370152, 1611699974, 2760274845, 1593754986, 1368983629,\n",
       "       2861103283, 3017291441, 2640881456,  738408295,   24213952,\n",
       "       1287184073, 3983834356, 1149200416, 2369208696, 3438461797,\n",
       "       1309463042, 3247680179, 2216592321, 2838666895, 1467651540,\n",
       "       3936738393, 3622164228, 2620503353, 2291239955, 4276908937,\n",
       "       1693258816, 3309099004,  499747423, 1590495938,  559004579,\n",
       "        219253475,  158281901, 3728361774, 2540411230, 1599905108,\n",
       "       3073687264, 2661362407, 1240181566, 1321238635,  901910689,\n",
       "       3080107091,  853018389, 3814287535, 2764087913, 2769709754,\n",
       "       1768181430, 1547275775,  754352617,  338832599, 1599470640,\n",
       "       4089606592, 2780086666,  472005967,  758550543, 1537263777,\n",
       "       3653605036, 1358991273,  227955247, 4162632401, 1304443684,\n",
       "       2094816865,   84564732, 2336184098, 2821283034, 2328758024,\n",
       "       1953536997,   61713898, 1364206454, 2134133945,  342810359,\n",
       "       3264917830, 4111984240, 3263463312, 3886630413, 3548501306,\n",
       "       1460845773, 2756158923, 1454062579,  158890946, 3723584710,\n",
       "       2986633548, 1215988123, 1066617903, 3776323999, 2931974978,\n",
       "       1007240795,  447232438, 3700742712, 1887571622,  212276822,\n",
       "       1071647382, 1891736562, 2114312115, 1540758006, 3946083342,\n",
       "       2143569084, 1273570773, 3430580298,  263564341, 3091066017,\n",
       "       3680817563, 3993823487,  998559432, 1141223435, 1241009690,\n",
       "       1598406229, 2539377516, 3497199320,  172677218, 1731971037,\n",
       "       1539908079,  957736667, 2128647392,  357888019, 1791541911,\n",
       "        487328501, 2325057542, 2264010248, 2804607914, 1423654166,\n",
       "       2065740305, 3022891377,  148696454, 3599603210,  557033696,\n",
       "       3789742962, 2920366280, 2754169137, 1635877302, 1938213429,\n",
       "       1509152094,  853221468,  570619109, 1204176655, 1396890355,\n",
       "       2655860981,  466603752, 1050227149, 3499281530, 3473531625,\n",
       "       4063200588, 3145973395,  889759535, 2266857584,  797955646,\n",
       "       3763833799,  860865383, 1043465545, 1360852700, 2315386963,\n",
       "        563996572, 2640980562, 2981593102, 1704186124], dtype=uint32), 184, 0, 0.0))"
      ]
     },
     "execution_count": 16,
     "metadata": {},
     "output_type": "execute_result"
    }
   ],
   "source": [
    "n_steps=500\n",
    "sampler.run_mcmc(state, n_steps, progress=True)"
   ]
  },
  {
   "cell_type": "code",
   "execution_count": 17,
   "id": "e9af1629",
   "metadata": {},
   "outputs": [],
   "source": [
    "samples = sampler.get_chain(flat=True)"
   ]
  },
  {
   "cell_type": "code",
   "execution_count": 18,
   "id": "294ace76",
   "metadata": {},
   "outputs": [
    {
     "name": "stdout",
     "output_type": "stream",
     "text": [
      "Mean acceptance fraction: 0.716\n"
     ]
    }
   ],
   "source": [
    "print(\n",
    "    \"Mean acceptance fraction: {0:.3f}\".format(\n",
    "        np.mean(sampler.acceptance_fraction)\n",
    "    )\n",
    ")"
   ]
  },
  {
   "cell_type": "code",
   "execution_count": 21,
   "id": "2e8e7032",
   "metadata": {},
   "outputs": [
    {
     "name": "stderr",
     "output_type": "stream",
     "text": [
      "WARNING:root:Too few points to create valid contours\n"
     ]
    },
    {
     "name": "stdout",
     "output_type": "stream",
     "text": [
      "(130, 2)\n"
     ]
    },
    {
     "data": {
      "image/png": "[encoded data removed]",
      "text/plain": [
       "<Figure size 550x550 with 4 Axes>"
      ]
     },
     "metadata": {},
     "output_type": "display_data"
    }
   ],
   "source": [
    "flat_samples = sampler.get_chain(discard=100, thin=15, flat=True)\n",
    "print(flat_samples.shape)\n",
    "fig = corner.corner(flat_samples)"
   ]
  },
  {
   "cell_type": "code",
   "execution_count": 22,
   "id": "cd07f882",
   "metadata": {},
   "outputs": [
    {
     "data": {
      "text/plain": [
       "(-19.929130812209436, -64.75113622960508)"
      ]
     },
     "execution_count": 22,
     "metadata": {},
     "output_type": "execute_result"
    }
   ],
   "source": [
    "np.median(samples[:,0]), np.median(samples[:,1]) #wants way too small mass?"
   ]
  },
  {
   "cell_type": "code",
   "execution_count": null,
   "id": "edd0c91f",
   "metadata": {},
   "outputs": [],
   "source": []
  }
 ],
 "metadata": {
  "kernelspec": {
   "display_name": "Python 3 (ipykernel)",
   "language": "python",
   "name": "python3"
  },
  "language_info": {
   "codemirror_mode": {
    "name": "ipython",
    "version": 3
   },
   "file_extension": ".py",
   "mimetype": "text/x-python",
   "name": "python",
   "nbconvert_exporter": "python",
   "pygments_lexer": "ipython3",
   "version": "3.11.4"
  }
 },
 "nbformat": 4,
 "nbformat_minor": 5
}
