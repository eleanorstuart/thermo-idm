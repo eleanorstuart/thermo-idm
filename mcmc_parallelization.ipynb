{
 "cells": [
  {
   "cell_type": "code",
   "execution_count": 18,
   "id": "bc6d75b3",
   "metadata": {},
   "outputs": [
    {
     "name": "stdout",
     "output_type": "stream",
     "text": [
      "8 CPUs\n"
     ]
    }
   ],
   "source": [
    "import os\n",
    "os.environ[\"OMP_NUM_THREADS\"] = \"1\" # turn off automatic numpy parallelization\n",
    "\n",
    "import numpy as np\n",
    "import emcee\n",
    "import corner\n",
    "import time\n",
    "from astropy import constants as const\n",
    "from astropy import units as u\n",
    "from multiprocessing import Pool\n",
    "from multiprocessing import cpu_count\n",
    "\n",
    "ncpu = cpu_count()\n",
    "print(\"{0} CPUs\".format(ncpu))\n",
    "\n",
    "from load_mcxc_data import load_clusters\n",
    "from statistics_functions import log_lik_eq\n",
    "\n"
   ]
  },
  {
   "cell_type": "code",
   "execution_count": 2,
   "id": "63d574d7",
   "metadata": {},
   "outputs": [],
   "source": [
    "clusters, variances=load_clusters(nrows=10)"
   ]
  },
  {
   "cell_type": "code",
   "execution_count": 15,
   "id": "4ea7d811",
   "metadata": {},
   "outputs": [],
   "source": [
    "T_data = [c.baryon_temp for c in clusters]"
   ]
  },
  {
   "cell_type": "code",
   "execution_count": 10,
   "id": "9c62b8cd",
   "metadata": {},
   "outputs": [
    {
     "data": {
      "text/plain": [
       "array([[-26.30806439,  -0.4354374 ],\n",
       "       [-25.45730139,  -1.34639955],\n",
       "       [-23.03470376,  -0.79825114],\n",
       "       [-23.37915421,  -0.69119905],\n",
       "       [-29.69892948,  -0.21776499],\n",
       "       [-21.5645749 ,  -1.86203227],\n",
       "       [-22.55570065,  -1.34210191],\n",
       "       [-24.94896585,  -1.98043966],\n",
       "       [-29.48006589,  -1.65527864],\n",
       "       [-27.66951303,  -0.48270414],\n",
       "       [-21.94736499,  -0.22143425],\n",
       "       [-18.04130256,  -0.46954678],\n",
       "       [-22.19700793,  -0.68221726],\n",
       "       [-27.99528031,  -0.22415353],\n",
       "       [-15.57898028,  -0.06338406],\n",
       "       [-20.16385247,  -0.79814053],\n",
       "       [-17.10743994,  -1.61968641],\n",
       "       [-26.76448769,  -1.97697344],\n",
       "       [-28.3914699 ,  -0.26375056],\n",
       "       [-23.74659085,  -0.18322319],\n",
       "       [-16.16130096,  -0.59789705],\n",
       "       [-23.20286451,  -0.7965666 ],\n",
       "       [-24.85009822,  -1.37438102],\n",
       "       [-25.7604312 ,  -0.2030572 ],\n",
       "       [-25.00239743,  -0.72848583],\n",
       "       [-15.46872154,  -1.99102577],\n",
       "       [-29.25303925,  -0.7676126 ],\n",
       "       [-17.7741241 ,  -1.14661051],\n",
       "       [-26.79236222,  -0.8705831 ],\n",
       "       [-20.13384511,  -1.90825181],\n",
       "       [-23.41809093,  -0.27024824],\n",
       "       [-17.72333074,  -0.57022099]])"
      ]
     },
     "execution_count": 10,
     "metadata": {},
     "output_type": "execute_result"
    }
   ],
   "source": [
    "log_mp = np.log10(const.m_p.to(u.GeV, equivalencies=u.mass_energy()).value)\n",
    "\n",
    "ndim, nwalkers = 2, 32\n",
    "p0=np.zeros((nwalkers, ndim ))\n",
    "log_sigma0 = np.random.uniform(low=-30, high=-15, size=nwalkers).astype(np.float128)\n",
    "log_mx = np.random.uniform(low=-2, high=log_mp, size=nwalkers).astype(np.float128)\n",
    "p0[:,0]=log_sigma0\n",
    "p0[:,1]=log_mx\n",
    "p0"
   ]
  },
  {
   "cell_type": "code",
   "execution_count": 16,
   "id": "5b41f30b",
   "metadata": {},
   "outputs": [
    {
     "name": "stderr",
     "output_type": "stream",
     "text": [
      "100%|█████████████████████████████████████████| 100/100 [12:06<00:00,  7.27s/it]"
     ]
    },
    {
     "name": "stdout",
     "output_type": "stream",
     "text": [
      "Serial took 734.8 seconds\n"
     ]
    },
    {
     "name": "stderr",
     "output_type": "stream",
     "text": [
      "\n"
     ]
    }
   ],
   "source": [
    "# serial\n",
    "nsteps=100\n",
    "sampler = emcee.EnsembleSampler(nwalkers, ndim, log_lik_eq, args=[T_data, variances, clusters])\n",
    "start=time.time()\n",
    "sampler.run_mcmc(p0, nsteps, progress=True)\n",
    "end = time.time()\n",
    "serial_time = end - start\n",
    "print(\"Serial took {0:.1f} seconds\".format(serial_time))"
   ]
  },
  {
   "cell_type": "code",
   "execution_count": 17,
   "id": "4fa88fa5",
   "metadata": {},
   "outputs": [
    {
     "name": "stdout",
     "output_type": "stream",
     "text": [
      "Intel MKL WARNING: Support of Intel(R) Streaming SIMD Extensions 4.2 (Intel(R) SSE4.2) enabled only processors has been deprecated. Intel oneAPI Math Kernel Library 2025.0 will require Intel(R) Advanced Vector Extensions (Intel(R) AVX) instructions.\n",
      "Intel MKL WARNING: Support of Intel(R) Streaming SIMD Extensions 4.2 (Intel(R) SSE4.2) enabled only processors has been deprecated. Intel oneAPI Math Kernel Library 2025.0 will require Intel(R) Advanced Vector Extensions (Intel(R) AVX) instructions.\n",
      "Intel MKL WARNING: Support of Intel(R) Streaming SIMD Extensions 4.2 (Intel(R) SSE4.2) enabled only processors has been deprecated. Intel oneAPI Math Kernel Library 2025.0 will require Intel(R) Advanced Vector Extensions (Intel(R) AVX) instructions.\n",
      "Intel MKL WARNING: Support of Intel(R) Streaming SIMD Extensions 4.2 (Intel(R) SSE4.2) enabled only processors has been deprecated. Intel oneAPI Math Kernel Library 2025.0 will require Intel(R) Advanced Vector Extensions (Intel(R) AVX) instructions.\n",
      "Intel MKL WARNING: Support of Intel(R) Streaming SIMD Extensions 4.2 (Intel(R) SSE4.2) enabled only processors has been deprecated. Intel oneAPI Math Kernel Library 2025.0 will require Intel(R) Advanced Vector Extensions (Intel(R) AVX) instructions.\n",
      "Intel MKL WARNING: Support of Intel(R) Streaming SIMD Extensions 4.2 (Intel(R) SSE4.2) enabled only processors has been deprecated. Intel oneAPI Math Kernel Library 2025.0 will require Intel(R) Advanced Vector Extensions (Intel(R) AVX) instructions.\n",
      "Intel MKL WARNING: Support of Intel(R) Streaming SIMD Extensions 4.2 (Intel(R) SSE4.2) enabled only processors has been deprecated. Intel oneAPI Math Kernel Library 2025.0 will require Intel(R) Advanced Vector Extensions (Intel(R) AVX) instructions.\n",
      "Intel MKL WARNING: Support of Intel(R) Streaming SIMD Extensions 4.2 (Intel(R) SSE4.2) enabled only processors has been deprecated. Intel oneAPI Math Kernel Library 2025.0 will require Intel(R) Advanced Vector Extensions (Intel(R) AVX) instructions.\n",
      "Intel MKL WARNING: Support of Intel(R) Streaming SIMD Extensions 4.2 (Intel(R) SSE4.2) enabled only processors has been deprecated. Intel oneAPI Math Kernel Library 2025.0 will require Intel(R) Advanced Vector Extensions (Intel(R) AVX) instructions.Intel MKL WARNING: Support of Intel(R) Streaming SIMD Extensions 4.2 (Intel(R) SSE4.2) enabled only processors has been deprecated. Intel oneAPI Math Kernel Library 2025.0 will require Intel(R) Advanced Vector Extensions (Intel(R) AVX) instructions.\n",
      "\n",
      "Intel MKL WARNING: Support of Intel(R) Streaming SIMD Extensions 4.2 (Intel(R) SSE4.2) enabled only processors has been deprecated. Intel oneAPI Math Kernel Library 2025.0 will require Intel(R) Advanced Vector Extensions (Intel(R) AVX) instructions.\n",
      "Intel MKL WARNING: Support of Intel(R) Streaming SIMD Extensions 4.2 (Intel(R) SSE4.2) enabled only processors has been deprecated. Intel oneAPI Math Kernel Library 2025.0 will require Intel(R) Advanced Vector Extensions (Intel(R) AVX) instructions.\n",
      "Intel MKL WARNING: Support of Intel(R) Streaming SIMD Extensions 4.2 (Intel(R) SSE4.2) enabled only processors has been deprecated. Intel oneAPI Math Kernel Library 2025.0 will require Intel(R) Advanced Vector Extensions (Intel(R) AVX) instructions.\n",
      "Intel MKL WARNING: Support of Intel(R) Streaming SIMD Extensions 4.2 (Intel(R) SSE4.2) enabled only processors has been deprecated. Intel oneAPI Math Kernel Library 2025.0 will require Intel(R) Advanced Vector Extensions (Intel(R) AVX) instructions.\n",
      "Intel MKL WARNING: Support of Intel(R) Streaming SIMD Extensions 4.2 (Intel(R) SSE4.2) enabled only processors has been deprecated. Intel oneAPI Math Kernel Library 2025.0 will require Intel(R) Advanced Vector Extensions (Intel(R) AVX) instructions.\n",
      "Intel MKL WARNING: Support of Intel(R) Streaming SIMD Extensions 4.2 (Intel(R) SSE4.2) enabled only processors has been deprecated. Intel oneAPI Math Kernel Library 2025.0 will require Intel(R) Advanced Vector Extensions (Intel(R) AVX) instructions.\n"
     ]
    },
    {
     "name": "stderr",
     "output_type": "stream",
     "text": [
      "100%|█████████████████████████████████████████| 100/100 [04:00<00:00,  2.40s/it]"
     ]
    },
    {
     "name": "stdout",
     "output_type": "stream",
     "text": [
      "Multiprocessing took 246.2 seconds\n",
      "3.0 times faster than serial\n"
     ]
    },
    {
     "name": "stderr",
     "output_type": "stream",
     "text": [
      "\n"
     ]
    }
   ],
   "source": [
    "with Pool() as pool:\n",
    "    sampler = emcee.EnsembleSampler(nwalkers, ndim, log_lik_eq, pool=pool, args=[T_data, variances, clusters])\n",
    "    start = time.time()\n",
    "    sampler.run_mcmc(p0, nsteps, progress=True)\n",
    "    end = time.time()\n",
    "    multi_time = end - start\n",
    "    print(\"Multiprocessing took {0:.1f} seconds\".format(multi_time))\n",
    "    print(\"{0:.1f} times faster than serial\".format(serial_time / multi_time))"
   ]
  },
  {
   "cell_type": "code",
   "execution_count": null,
   "id": "ae4eab13",
   "metadata": {},
   "outputs": [],
   "source": []
  }
 ],
 "metadata": {
  "kernelspec": {
   "display_name": "Python 3 (ipykernel)",
   "language": "python",
   "name": "python3"
  },
  "language_info": {
   "codemirror_mode": {
    "name": "ipython",
    "version": 3
   },
   "file_extension": ".py",
   "mimetype": "text/x-python",
   "name": "python",
   "nbconvert_exporter": "python",
   "pygments_lexer": "ipython3",
   "version": "3.11.5"
  }
 },
 "nbformat": 4,
 "nbformat_minor": 5
}
