{
 "cells": [
  {
   "cell_type": "code",
   "execution_count": 1,
   "id": "43171ce1",
   "metadata": {},
   "outputs": [
    {
     "name": "stdout",
     "output_type": "stream",
     "text": [
      "Intel MKL WARNING: Support of Intel(R) Streaming SIMD Extensions 4.2 (Intel(R) SSE4.2) enabled only processors has been deprecated. Intel oneAPI Math Kernel Library 2025.0 will require Intel(R) Advanced Vector Extensions (Intel(R) AVX) instructions.\n",
      "Intel MKL WARNING: Support of Intel(R) Streaming SIMD Extensions 4.2 (Intel(R) SSE4.2) enabled only processors has been deprecated. Intel oneAPI Math Kernel Library 2025.0 will require Intel(R) Advanced Vector Extensions (Intel(R) AVX) instructions.\n"
     ]
    }
   ],
   "source": [
    "%load_ext autoreload\n",
    "%autoreload 2\n",
    "import numpy as np\n",
    "from astropy import units as u\n",
    "import emcee\n",
    "from matplotlib import pyplot as plt\n",
    "import corner\n",
    "\n",
    "from load_galweight_data import load_clusters\n",
    "from cluster import temp_from_vdisp\n",
    "from statistics_functions import log_likelihood, chi_squared"
   ]
  },
  {
   "cell_type": "code",
   "execution_count": 2,
   "id": "20a56b8b",
   "metadata": {},
   "outputs": [],
   "source": [
    "# get dataset\n",
    "clusters, variances = load_clusters(nrows=20)"
   ]
  },
  {
   "cell_type": "code",
   "execution_count": 3,
   "id": "5de52a98",
   "metadata": {},
   "outputs": [],
   "source": [
    "pred_theo = 6.8*1e-42 *u.erg*u.cm**3"
   ]
  },
  {
   "cell_type": "code",
   "execution_count": 4,
   "id": "a83fb7cd",
   "metadata": {},
   "outputs": [],
   "source": [
    "test_cluster=clusters[0]"
   ]
  },
  {
   "cell_type": "code",
   "execution_count": 23,
   "id": "600269c9",
   "metadata": {},
   "outputs": [
    {
     "data": {
      "text/latex": [
       "$5.4478908 \\times 10^{-94} \\; \\mathrm{\\frac{s}{cm^{3}}}$"
      ],
      "text/plain": [
       "<Quantity 5.4478908e-94 s / cm3>"
      ]
     },
     "execution_count": 23,
     "metadata": {},
     "output_type": "execute_result"
    }
   ],
   "source": [
    "p0=[-25, -2]\n",
    "getattr(test_cluster, 'pred_pref')(p0)"
   ]
  },
  {
   "cell_type": "code",
   "execution_count": 9,
   "id": "39d86b86",
   "metadata": {},
   "outputs": [
    {
     "data": {
      "text/plain": [
       "[<Quantity 6.29489508e+44 erg / s>,\n",
       " <Quantity 3.84872486e+44 erg / s>,\n",
       " <Quantity 3.47413997e+44 erg / s>,\n",
       " <Quantity 3.04974346e+44 erg / s>,\n",
       " <Quantity 2.85652843e+44 erg / s>,\n",
       " <Quantity 2.91286275e+44 erg / s>,\n",
       " <Quantity 2.9232446e+44 erg / s>,\n",
       " <Quantity 2.77537908e+44 erg / s>,\n",
       " <Quantity 2.51903638e+44 erg / s>,\n",
       " <Quantity 2.19927574e+44 erg / s>,\n",
       " <Quantity 2.51359433e+44 erg / s>,\n",
       " <Quantity 2.34802613e+44 erg / s>,\n",
       " <Quantity 2.33640396e+44 erg / s>,\n",
       " <Quantity 2.2818866e+44 erg / s>,\n",
       " <Quantity 1.7816762e+44 erg / s>,\n",
       " <Quantity 1.64489588e+44 erg / s>,\n",
       " <Quantity 1.53537872e+44 erg / s>,\n",
       " <Quantity 1.29655528e+44 erg / s>,\n",
       " <Quantity 1.50548835e+44 erg / s>,\n",
       " <Quantity 1.70353257e+44 erg / s>]"
      ]
     },
     "execution_count": 9,
     "metadata": {},
     "output_type": "execute_result"
    }
   ],
   "source": [
    "[getattr(c, 'radiative_cooling_rate')() for c in clusters]"
   ]
  },
  {
   "cell_type": "code",
   "execution_count": null,
   "id": "0477ab41",
   "metadata": {},
   "outputs": [],
   "source": []
  }
 ],
 "metadata": {
  "kernelspec": {
   "display_name": "Python 3 (ipykernel)",
   "language": "python",
   "name": "python3"
  },
  "language_info": {
   "codemirror_mode": {
    "name": "ipython",
    "version": 3
   },
   "file_extension": ".py",
   "mimetype": "text/x-python",
   "name": "python",
   "nbconvert_exporter": "python",
   "pygments_lexer": "ipython3",
   "version": "3.11.5"
  }
 },
 "nbformat": 4,
 "nbformat_minor": 5
}
