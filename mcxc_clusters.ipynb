{
 "cells": [
  {
   "cell_type": "code",
   "execution_count": 21,
   "id": "24bc97dd",
   "metadata": {},
   "outputs": [
    {
     "name": "stdout",
     "output_type": "stream",
     "text": [
      "The autoreload extension is already loaded. To reload it, use:\n",
      "  %reload_ext autoreload\n"
     ]
    }
   ],
   "source": [
    "%load_ext autoreload\n",
    "%autoreload 2\n",
    "\n",
    "import pandas as pd\n",
    "from astropy.table import QTable\n",
    "from astropy import units as u\n",
    "import numpy as np\n",
    "\n",
    "from cluster import Cluster"
   ]
  },
  {
   "cell_type": "code",
   "execution_count": 2,
   "id": "9e2f401c",
   "metadata": {},
   "outputs": [
    {
     "name": "stderr",
     "output_type": "stream",
     "text": [
      "/var/folders/99/vfh56jrs1nqcj8zqtcs5fkv40000gn/T/ipykernel_95805/1250100080.py:1: ParserWarning: Falling back to the 'python' engine because the 'c' engine does not support skipfooter; you can avoid this warning by specifying engine='python'.\n",
      "  mcxccls=pd.read_csv('data/mcxc|.txt', header=3, sep='|', skiprows=[4],on_bad_lines='warn', skipfooter=1)\n"
     ]
    },
    {
     "data": {
      "text/html": [
       "<div>\n",
       "<style scoped>\n",
       "    .dataframe tbody tr th:only-of-type {\n",
       "        vertical-align: middle;\n",
       "    }\n",
       "\n",
       "    .dataframe tbody tr th {\n",
       "        vertical-align: top;\n",
       "    }\n",
       "\n",
       "    .dataframe thead th {\n",
       "        text-align: right;\n",
       "    }\n",
       "</style>\n",
       "<table border=\"1\" class=\"dataframe\">\n",
       "  <thead>\n",
       "    <tr style=\"text-align: right;\">\n",
       "      <th></th>\n",
       "      <th>MCXC</th>\n",
       "      <th>OName</th>\n",
       "      <th>AName</th>\n",
       "      <th>Ah Am  RAs  Ed Em Es</th>\n",
       "      <th>RAdeg   DEdeg</th>\n",
       "      <th>GLON    GLAT</th>\n",
       "      <th>z</th>\n",
       "      <th>Cat</th>\n",
       "      <th>Sub-Cat</th>\n",
       "      <th>Scale</th>\n",
       "      <th>...</th>\n",
       "      <th>R500</th>\n",
       "      <th>Notes</th>\n",
       "      <th>Cat1</th>\n",
       "      <th>Cat2</th>\n",
       "      <th>Cat3</th>\n",
       "      <th>Cat4</th>\n",
       "      <th>500r1</th>\n",
       "      <th>500r2</th>\n",
       "      <th>500r3</th>\n",
       "      <th>500r4</th>\n",
       "    </tr>\n",
       "  </thead>\n",
       "  <tbody>\n",
       "    <tr>\n",
       "      <th>0</th>\n",
       "      <td>J0000.1+0816</td>\n",
       "      <td>RXC J0000.1+0816</td>\n",
       "      <td>UGC 12890                                     ...</td>\n",
       "      <td>0  0  7.1 + 8 16 28</td>\n",
       "      <td>0.030   8.274</td>\n",
       "      <td>101.783 -52.477</td>\n",
       "      <td>0.0396</td>\n",
       "      <td>NORAS/REFLEX</td>\n",
       "      <td>NORAS</td>\n",
       "      <td>0.784</td>\n",
       "      <td>...</td>\n",
       "      <td>0.6296</td>\n",
       "      <td></td>\n",
       "      <td>BCS</td>\n",
       "      <td></td>\n",
       "      <td></td>\n",
       "      <td></td>\n",
       "      <td>1.084</td>\n",
       "      <td></td>\n",
       "      <td></td>\n",
       "      <td>NaN</td>\n",
       "    </tr>\n",
       "    <tr>\n",
       "      <th>1</th>\n",
       "      <td>J0000.4-0237</td>\n",
       "      <td>RXC J0000.4-0237</td>\n",
       "      <td>...</td>\n",
       "      <td>0  0 24.7 - 2 37 30</td>\n",
       "      <td>0.103  -2.625</td>\n",
       "      <td>94.268 -62.622</td>\n",
       "      <td>0.0379</td>\n",
       "      <td>SGP</td>\n",
       "      <td>SGP</td>\n",
       "      <td>0.752</td>\n",
       "      <td>...</td>\n",
       "      <td>0.4817</td>\n",
       "      <td></td>\n",
       "      <td></td>\n",
       "      <td></td>\n",
       "      <td></td>\n",
       "      <td></td>\n",
       "      <td></td>\n",
       "      <td></td>\n",
       "      <td></td>\n",
       "      <td>NaN</td>\n",
       "    </tr>\n",
       "    <tr>\n",
       "      <th>2</th>\n",
       "      <td>J0001.6-1540</td>\n",
       "      <td>RXC J0001.6-1540</td>\n",
       "      <td>...</td>\n",
       "      <td>0  1 39.0 -15 40 52</td>\n",
       "      <td>0.412 -15.681</td>\n",
       "      <td>75.129 -73.733</td>\n",
       "      <td>0.1246</td>\n",
       "      <td>SGP</td>\n",
       "      <td>SGP</td>\n",
       "      <td>2.234</td>\n",
       "      <td>...</td>\n",
       "      <td>0.8021</td>\n",
       "      <td></td>\n",
       "      <td></td>\n",
       "      <td></td>\n",
       "      <td></td>\n",
       "      <td></td>\n",
       "      <td></td>\n",
       "      <td></td>\n",
       "      <td></td>\n",
       "      <td>NaN</td>\n",
       "    </tr>\n",
       "    <tr>\n",
       "      <th>3</th>\n",
       "      <td>J0001.9+1204</td>\n",
       "      <td>RXC J0001.9+1204</td>\n",
       "      <td>A2692                                         ...</td>\n",
       "      <td>0  1 57.0 +12  4 23</td>\n",
       "      <td>0.488  12.073</td>\n",
       "      <td>104.308 -49.001</td>\n",
       "      <td>0.2033</td>\n",
       "      <td>NORAS/REFLEX</td>\n",
       "      <td>NORAS</td>\n",
       "      <td>3.342</td>\n",
       "      <td>...</td>\n",
       "      <td>0.9178</td>\n",
       "      <td></td>\n",
       "      <td></td>\n",
       "      <td></td>\n",
       "      <td></td>\n",
       "      <td></td>\n",
       "      <td></td>\n",
       "      <td></td>\n",
       "      <td></td>\n",
       "      <td>NaN</td>\n",
       "    </tr>\n",
       "    <tr>\n",
       "      <th>4</th>\n",
       "      <td>J0003.1-0605</td>\n",
       "      <td>RXCJ0003.1-0605</td>\n",
       "      <td>A2697                                         ...</td>\n",
       "      <td>0  3 11.8 - 6  5 10</td>\n",
       "      <td>0.799  -6.086</td>\n",
       "      <td>92.169 -66.033</td>\n",
       "      <td>0.2320</td>\n",
       "      <td>NORAS/REFLEX</td>\n",
       "      <td>REFLEX</td>\n",
       "      <td>3.698</td>\n",
       "      <td>...</td>\n",
       "      <td>1.1326</td>\n",
       "      <td></td>\n",
       "      <td>SGP</td>\n",
       "      <td></td>\n",
       "      <td></td>\n",
       "      <td></td>\n",
       "      <td>0.952</td>\n",
       "      <td></td>\n",
       "      <td></td>\n",
       "      <td>NaN</td>\n",
       "    </tr>\n",
       "    <tr>\n",
       "      <th>...</th>\n",
       "      <td>...</td>\n",
       "      <td>...</td>\n",
       "      <td>...</td>\n",
       "      <td>...</td>\n",
       "      <td>...</td>\n",
       "      <td>...</td>\n",
       "      <td>...</td>\n",
       "      <td>...</td>\n",
       "      <td>...</td>\n",
       "      <td>...</td>\n",
       "      <td>...</td>\n",
       "      <td>...</td>\n",
       "      <td>...</td>\n",
       "      <td>...</td>\n",
       "      <td>...</td>\n",
       "      <td>...</td>\n",
       "      <td>...</td>\n",
       "      <td>...</td>\n",
       "      <td>...</td>\n",
       "      <td>...</td>\n",
       "      <td>...</td>\n",
       "    </tr>\n",
       "    <tr>\n",
       "      <th>1738</th>\n",
       "      <td>J2357.0-3445</td>\n",
       "      <td>RXCJ2357.0-3445</td>\n",
       "      <td>A4059                                         ...</td>\n",
       "      <td>23 57  2.3 -34 45 38</td>\n",
       "      <td>359.260 -34.761</td>\n",
       "      <td>356.359 -76.082</td>\n",
       "      <td>0.0475</td>\n",
       "      <td>NORAS/REFLEX</td>\n",
       "      <td>REFLEX</td>\n",
       "      <td>0.931</td>\n",
       "      <td>...</td>\n",
       "      <td>0.9640</td>\n",
       "      <td>L</td>\n",
       "      <td>EMSS_1994</td>\n",
       "      <td>SGP</td>\n",
       "      <td></td>\n",
       "      <td></td>\n",
       "      <td>0.132</td>\n",
       "      <td>0.952</td>\n",
       "      <td></td>\n",
       "      <td>NaN</td>\n",
       "    </tr>\n",
       "    <tr>\n",
       "      <th>1739</th>\n",
       "      <td>J2359.3-6042</td>\n",
       "      <td>RXCJ2359.3-6042</td>\n",
       "      <td>A4067                                         ...</td>\n",
       "      <td>23 59 19.2 -60 42  0</td>\n",
       "      <td>359.830 -60.700</td>\n",
       "      <td>314.102 -55.284</td>\n",
       "      <td>0.0989</td>\n",
       "      <td>NORAS/REFLEX</td>\n",
       "      <td>REFLEX</td>\n",
       "      <td>1.826</td>\n",
       "      <td>...</td>\n",
       "      <td>0.8572</td>\n",
       "      <td></td>\n",
       "      <td></td>\n",
       "      <td></td>\n",
       "      <td></td>\n",
       "      <td></td>\n",
       "      <td></td>\n",
       "      <td></td>\n",
       "      <td></td>\n",
       "      <td>NaN</td>\n",
       "    </tr>\n",
       "    <tr>\n",
       "      <th>1740</th>\n",
       "      <td>J2359.4-3418</td>\n",
       "      <td>MS2356.9-3434</td>\n",
       "      <td>...</td>\n",
       "      <td>23 59 27.3 -34 18 22</td>\n",
       "      <td>359.864 -34.306</td>\n",
       "      <td>357.005 -76.739</td>\n",
       "      <td>0.1150</td>\n",
       "      <td>EMSS</td>\n",
       "      <td>EMSS_1994</td>\n",
       "      <td>2.085</td>\n",
       "      <td>...</td>\n",
       "      <td>0.6198</td>\n",
       "      <td></td>\n",
       "      <td></td>\n",
       "      <td></td>\n",
       "      <td></td>\n",
       "      <td></td>\n",
       "      <td></td>\n",
       "      <td></td>\n",
       "      <td></td>\n",
       "      <td>NaN</td>\n",
       "    </tr>\n",
       "    <tr>\n",
       "      <th>1741</th>\n",
       "      <td>J2359.5-3211</td>\n",
       "      <td>RX J2359.5-3211</td>\n",
       "      <td>BSe RXJ2359.5-3211                            ...</td>\n",
       "      <td>23 59 36.0 -32 11  6</td>\n",
       "      <td>359.900 -32.185</td>\n",
       "      <td>5.630 -77.667</td>\n",
       "      <td>0.4780</td>\n",
       "      <td>SHARC</td>\n",
       "      <td>SHARC_SOUTH</td>\n",
       "      <td>5.957</td>\n",
       "      <td>...</td>\n",
       "      <td>0.6776</td>\n",
       "      <td></td>\n",
       "      <td></td>\n",
       "      <td></td>\n",
       "      <td></td>\n",
       "      <td></td>\n",
       "      <td></td>\n",
       "      <td></td>\n",
       "      <td></td>\n",
       "      <td>NaN</td>\n",
       "    </tr>\n",
       "    <tr>\n",
       "      <th>1742</th>\n",
       "      <td>J2359.9-3928</td>\n",
       "      <td>RXCJ2359.9-3928</td>\n",
       "      <td>A4068                                         ...</td>\n",
       "      <td>23 59 55.7 -39 28 47</td>\n",
       "      <td>359.982 -39.480</td>\n",
       "      <td>340.608 -73.653</td>\n",
       "      <td>0.1024</td>\n",
       "      <td>NORAS/REFLEX</td>\n",
       "      <td>REFLEX</td>\n",
       "      <td>1.883</td>\n",
       "      <td>...</td>\n",
       "      <td>0.8826</td>\n",
       "      <td></td>\n",
       "      <td>SGP</td>\n",
       "      <td></td>\n",
       "      <td></td>\n",
       "      <td></td>\n",
       "      <td>0.951</td>\n",
       "      <td></td>\n",
       "      <td></td>\n",
       "      <td>NaN</td>\n",
       "    </tr>\n",
       "  </tbody>\n",
       "</table>\n",
       "<p>1743 rows × 22 columns</p>\n",
       "</div>"
      ],
      "text/plain": [
       "      MCXC          OName               \\\n",
       "0     J0000.1+0816  RXC J0000.1+0816     \n",
       "1     J0000.4-0237  RXC J0000.4-0237     \n",
       "2     J0001.6-1540  RXC J0001.6-1540     \n",
       "3     J0001.9+1204  RXC J0001.9+1204     \n",
       "4     J0003.1-0605  RXCJ0003.1-0605      \n",
       "...            ...                 ...   \n",
       "1738  J2357.0-3445  RXCJ2357.0-3445      \n",
       "1739  J2359.3-6042  RXCJ2359.3-6042      \n",
       "1740  J2359.4-3418  MS2356.9-3434        \n",
       "1741  J2359.5-3211  RX J2359.5-3211      \n",
       "1742  J2359.9-3928  RXCJ2359.9-3928      \n",
       "\n",
       "     AName                                                   \\\n",
       "0     UGC 12890                                     ...       \n",
       "1                                                   ...       \n",
       "2                                                   ...       \n",
       "3     A2692                                         ...       \n",
       "4     A2697                                         ...       \n",
       "...                                                 ...       \n",
       "1738  A4059                                         ...       \n",
       "1739  A4067                                         ...       \n",
       "1740                                                ...       \n",
       "1741  BSe RXJ2359.5-3211                            ...       \n",
       "1742  A4068                                         ...       \n",
       "\n",
       "      Ah Am  RAs  Ed Em Es    RAdeg   DEdeg     GLON    GLAT       z  \\\n",
       "0      0  0  7.1 + 8 16 28    0.030   8.274  101.783 -52.477  0.0396   \n",
       "1      0  0 24.7 - 2 37 30    0.103  -2.625   94.268 -62.622  0.0379   \n",
       "2      0  1 39.0 -15 40 52    0.412 -15.681   75.129 -73.733  0.1246   \n",
       "3      0  1 57.0 +12  4 23    0.488  12.073  104.308 -49.001  0.2033   \n",
       "4      0  3 11.8 - 6  5 10    0.799  -6.086   92.169 -66.033  0.2320   \n",
       "...                    ...              ...              ...     ...   \n",
       "1738  23 57  2.3 -34 45 38  359.260 -34.761  356.359 -76.082  0.0475   \n",
       "1739  23 59 19.2 -60 42  0  359.830 -60.700  314.102 -55.284  0.0989   \n",
       "1740  23 59 27.3 -34 18 22  359.864 -34.306  357.005 -76.739  0.1150   \n",
       "1741  23 59 36.0 -32 11  6  359.900 -32.185    5.630 -77.667  0.4780   \n",
       "1742  23 59 55.7 -39 28 47  359.982 -39.480  340.608 -73.653  0.1024   \n",
       "\n",
       "      Cat           Sub-Cat       Scale  ...     R500  \\\n",
       "0     NORAS/REFLEX  NORAS         0.784  ...   0.6296   \n",
       "1     SGP           SGP           0.752  ...   0.4817   \n",
       "2     SGP           SGP           2.234  ...   0.8021   \n",
       "3     NORAS/REFLEX  NORAS         3.342  ...   0.9178   \n",
       "4     NORAS/REFLEX  REFLEX        3.698  ...   1.1326   \n",
       "...            ...           ...    ...  ...      ...   \n",
       "1738  NORAS/REFLEX  REFLEX        0.931  ...   0.9640   \n",
       "1739  NORAS/REFLEX  REFLEX        1.826  ...   0.8572   \n",
       "1740  EMSS          EMSS_1994     2.085  ...   0.6198   \n",
       "1741  SHARC         SHARC_SOUTH   5.957  ...   0.6776   \n",
       "1742  NORAS/REFLEX  REFLEX        1.883  ...   0.8826   \n",
       "\n",
       "      Notes                                       Cat1          Cat2          \\\n",
       "0                                                 BCS                          \n",
       "1                                                                              \n",
       "2                                                                              \n",
       "3                                                                              \n",
       "4                                                 SGP                          \n",
       "...                                          ...           ...           ...   \n",
       "1738  L                                           EMSS_1994     SGP            \n",
       "1739                                                                           \n",
       "1740                                                                           \n",
       "1741                                                                           \n",
       "1742                                              SGP                          \n",
       "\n",
       "      Cat3          Cat4          500r1  500r2  500r3 500r4  \n",
       "0                                 1.084                 NaN  \n",
       "1                                                       NaN  \n",
       "2                                                       NaN  \n",
       "3                                                       NaN  \n",
       "4                                 0.952                 NaN  \n",
       "...            ...           ...    ...    ...    ...   ...  \n",
       "1738                              0.132  0.952          NaN  \n",
       "1739                                                    NaN  \n",
       "1740                                                    NaN  \n",
       "1741                                                    NaN  \n",
       "1742                              0.951                 NaN  \n",
       "\n",
       "[1743 rows x 22 columns]"
      ]
     },
     "execution_count": 2,
     "metadata": {},
     "output_type": "execute_result"
    }
   ],
   "source": [
    "mcxccls=pd.read_csv('data/mcxc|.txt', header=3, sep='|', skiprows=[4],on_bad_lines='warn', skipfooter=1)\n",
    "mcxccls"
   ]
  },
  {
   "cell_type": "code",
   "execution_count": 3,
   "id": "d00fa4ad",
   "metadata": {},
   "outputs": [
    {
     "data": {
      "text/plain": [
       "['MCXC',\n",
       " 'OName',\n",
       " 'AName',\n",
       " 'Ah Am  RAs  Ed Em Es',\n",
       " 'RAdeg   DEdeg',\n",
       " 'GLON    GLAT',\n",
       " 'z',\n",
       " 'Cat',\n",
       " 'Sub-Cat',\n",
       " 'Scale',\n",
       " 'L500',\n",
       " 'M500',\n",
       " 'R500',\n",
       " 'Notes',\n",
       " 'Cat1',\n",
       " 'Cat2',\n",
       " 'Cat3',\n",
       " 'Cat4',\n",
       " '500r1',\n",
       " '500r2',\n",
       " '500r3',\n",
       " '500r4']"
      ]
     },
     "execution_count": 3,
     "metadata": {},
     "output_type": "execute_result"
    }
   ],
   "source": [
    "mcxccls.columns=mcxccls.columns.str.strip()\n",
    "mcxccls.columns.tolist()"
   ]
  },
  {
   "cell_type": "code",
   "execution_count": 4,
   "id": "6b358e2f",
   "metadata": {},
   "outputs": [
    {
     "data": {
      "text/plain": [
       "0       0.7373\n",
       "1       0.3297\n",
       "2       1.6557\n",
       "3       2.6927\n",
       "4       5.2188\n",
       "         ...  \n",
       "1738    2.6658\n",
       "1739    1.9699\n",
       "1740    0.7568\n",
       "1741    1.4784\n",
       "1742    2.1579\n",
       "Name: M500, Length: 1743, dtype: float64"
      ]
     },
     "execution_count": 4,
     "metadata": {},
     "output_type": "execute_result"
    }
   ],
   "source": [
    "mcxccls['M500']"
   ]
  },
  {
   "cell_type": "code",
   "execution_count": 5,
   "id": "3456cac6",
   "metadata": {},
   "outputs": [],
   "source": [
    "cls_data={'M500':mcxccls['M500'],\n",
    "          'L500':mcxccls['L500'],\n",
    "          'R500':mcxccls['R500']\n",
    "         }\n",
    "units={\n",
    "    'M500': 1e14*u.Msun,\n",
    "    'L500': 1e37*u.W,\n",
    "    'R500':u.Mpc\n",
    "}"
   ]
  },
  {
   "cell_type": "code",
   "execution_count": 6,
   "id": "74753233",
   "metadata": {},
   "outputs": [],
   "source": [
    "cls_table=QTable(cls_data, units=units)"
   ]
  },
  {
   "cell_type": "code",
   "execution_count": 7,
   "id": "22bb7ee4",
   "metadata": {},
   "outputs": [
    {
     "data": {
      "text/html": [
       "<div><i>QTable length=1743</i>\n",
       "<table id=\"table4994058960\" class=\"table-striped table-bordered table-condensed\">\n",
       "<thead><tr><th>M500</th><th>L500</th><th>R500</th></tr></thead>\n",
       "<thead><tr><th>1e+14 solMass</th><th>1e+37 W</th><th>Mpc</th></tr></thead>\n",
       "<thead><tr><th>float64</th><th>float64</th><th>float64</th></tr></thead>\n",
       "<tr><td>0.7373</td><td>0.19628</td><td>0.6296</td></tr>\n",
       "<tr><td>0.3297</td><td>0.052338</td><td>0.4817</td></tr>\n",
       "<tr><td>1.6557</td><td>0.814902</td><td>0.8021</td></tr>\n",
       "<tr><td>2.6927</td><td>1.990205</td><td>0.9178</td></tr>\n",
       "<tr><td>5.2188</td><td>6.107094</td><td>1.1326</td></tr>\n",
       "<tr><td>1.2016</td><td>0.441862</td><td>0.7388</td></tr>\n",
       "<tr><td>...</td><td>...</td><td>...</td></tr>\n",
       "<tr><td>2.1719</td><td>1.307553</td><td>0.871</td></tr>\n",
       "<tr><td>2.6658</td><td>1.629622</td><td>0.964</td></tr>\n",
       "<tr><td>1.9699</td><td>1.051539</td><td>0.8572</td></tr>\n",
       "<tr><td>0.7568</td><td>0.223131</td><td>0.6198</td></tr>\n",
       "<tr><td>1.4784</td><td>1.069996</td><td>0.6776</td></tr>\n",
       "<tr><td>2.1579</td><td>1.22609</td><td>0.8826</td></tr>\n",
       "</table></div>"
      ],
      "text/plain": [
       "<QTable length=1743>\n",
       "     M500       L500     R500 \n",
       "1e+14 solMass 1e+37 W    Mpc  \n",
       "   float64    float64  float64\n",
       "------------- -------- -------\n",
       "       0.7373  0.19628  0.6296\n",
       "       0.3297 0.052338  0.4817\n",
       "       1.6557 0.814902  0.8021\n",
       "       2.6927 1.990205  0.9178\n",
       "       5.2188 6.107094  1.1326\n",
       "       1.2016 0.441862  0.7388\n",
       "          ...      ...     ...\n",
       "       2.1719 1.307553   0.871\n",
       "       2.6658 1.629622   0.964\n",
       "       1.9699 1.051539  0.8572\n",
       "       0.7568 0.223131  0.6198\n",
       "       1.4784 1.069996  0.6776\n",
       "       2.1579  1.22609  0.8826"
      ]
     },
     "execution_count": 7,
     "metadata": {},
     "output_type": "execute_result"
    }
   ],
   "source": [
    "cls_table"
   ]
  },
  {
   "cell_type": "code",
   "execution_count": 10,
   "id": "0a79e2d5",
   "metadata": {},
   "outputs": [],
   "source": [
    "i=1\n",
    "test_cluster=Cluster(cls_table['R500'][i], cls_table['M500'][i], L500=cls_table['L500'][i], m500=cls_table['M500'][i])"
   ]
  },
  {
   "cell_type": "code",
   "execution_count": 11,
   "id": "3f824ae0",
   "metadata": {},
   "outputs": [
    {
     "data": {
      "text/latex": [
       "$3.677527 \\times 10^{70} \\; \\mathrm{GeV}$"
      ],
      "text/plain": [
       "<Quantity 3.677527e+70 GeV>"
      ]
     },
     "execution_count": 11,
     "metadata": {},
     "output_type": "execute_result"
    }
   ],
   "source": [
    "test_cluster.mass"
   ]
  },
  {
   "cell_type": "code",
   "execution_count": 12,
   "id": "87c3f4f3",
   "metadata": {},
   "outputs": [
    {
     "data": {
      "text/latex": [
       "$9.2308252 \\times 10^{-7} \\; \\mathrm{GeV}$"
      ],
      "text/plain": [
       "<Quantity 9.23082525e-07 GeV>"
      ]
     },
     "execution_count": 12,
     "metadata": {},
     "output_type": "execute_result"
    }
   ],
   "source": [
    "test_cluster.baryon_temp"
   ]
  },
  {
   "cell_type": "code",
   "execution_count": 13,
   "id": "11683fa3",
   "metadata": {},
   "outputs": [
    {
     "data": {
      "image/png": "[encoded data removed]",
      "text/plain": [
       "<Figure size 640x480 with 1 Axes>"
      ]
     },
     "metadata": {},
     "output_type": "display_data"
    }
   ],
   "source": [
    "test_cluster.plot_sigma0_vs_m_chi(f_chi=[1, 0.1, 0.01], n=[-4], region=True, fontsize='x-large')"
   ]
  },
  {
   "cell_type": "code",
   "execution_count": 14,
   "id": "a9757abc",
   "metadata": {},
   "outputs": [
    {
     "data": {
      "text/plain": [
       "(<Quantity 0.0096 1e+14 solMass>, <Quantity 22.1 1e+14 solMass>)"
      ]
     },
     "execution_count": 14,
     "metadata": {},
     "output_type": "execute_result"
    }
   ],
   "source": [
    "cls_table['M500'].min(), cls_table['M500'].max()"
   ]
  },
  {
   "cell_type": "code",
   "execution_count": 15,
   "id": "30b72e78",
   "metadata": {},
   "outputs": [
    {
     "data": {
      "text/plain": [
       "(<Quantity 0.000153 1e+37 W>, <Quantity 37.304424 1e+37 W>)"
      ]
     },
     "execution_count": 15,
     "metadata": {},
     "output_type": "execute_result"
    }
   ],
   "source": [
    "cls_table['L500'].min(), cls_table['L500'].max()"
   ]
  },
  {
   "cell_type": "code",
   "execution_count": 16,
   "id": "95396a37",
   "metadata": {},
   "outputs": [
    {
     "data": {
      "text/plain": [
       "(<Quantity 1.21712666e-07 GeV>, <Quantity 9.03328708e-06 GeV>)"
      ]
     },
     "execution_count": 16,
     "metadata": {},
     "output_type": "execute_result"
    }
   ],
   "source": [
    "from cluster import temp_from_luminosity\n",
    "temp_from_luminosity(cls_table['L500'].min()), temp_from_luminosity(cls_table['L500'].max())"
   ]
  },
  {
   "cell_type": "code",
   "execution_count": 17,
   "id": "1de10e3b",
   "metadata": {},
   "outputs": [
    {
     "data": {
      "text/plain": [
       "(<Quantity 1412416.83704192 K>, <Quantity 1.04826944e+08 K>)"
      ]
     },
     "execution_count": 17,
     "metadata": {},
     "output_type": "execute_result"
    }
   ],
   "source": [
    "temp_from_luminosity(cls_table['L500'].min()).to(u.K, equivalencies=u.temperature_energy()),temp_from_luminosity(cls_table['L500'].max()).to(u.K, equivalencies=u.temperature_energy())\n"
   ]
  },
  {
   "cell_type": "code",
   "execution_count": 18,
   "id": "c3eb675f",
   "metadata": {},
   "outputs": [
    {
     "data": {
      "text/plain": [
       "(<Quantity 0.1497 Mpc>, <Quantity 1.69 Mpc>)"
      ]
     },
     "execution_count": 18,
     "metadata": {},
     "output_type": "execute_result"
    }
   ],
   "source": [
    "cls_table['R500'].min(), cls_table['R500'].max()"
   ]
  },
  {
   "cell_type": "code",
   "execution_count": 22,
   "id": "a31ed6e5",
   "metadata": {},
   "outputs": [],
   "source": []
  },
  {
   "cell_type": "code",
   "execution_count": null,
   "id": "8f5c7e62",
   "metadata": {},
   "outputs": [],
   "source": []
  }
 ],
 "metadata": {
  "kernelspec": {
   "display_name": "Python 3 (ipykernel)",
   "language": "python",
   "name": "python3"
  },
  "language_info": {
   "codemirror_mode": {
    "name": "ipython",
    "version": 3
   },
   "file_extension": ".py",
   "mimetype": "text/x-python",
   "name": "python",
   "nbconvert_exporter": "python",
   "pygments_lexer": "ipython3",
   "version": "3.11.4"
  }
 },
 "nbformat": 4,
 "nbformat_minor": 5
}
