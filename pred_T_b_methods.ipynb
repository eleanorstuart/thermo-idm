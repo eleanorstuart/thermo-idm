{
 "cells": [
  {
   "cell_type": "code",
   "execution_count": 1,
   "id": "a516bf6b",
   "metadata": {},
   "outputs": [
    {
     "name": "stdout",
     "output_type": "stream",
     "text": [
      "Intel MKL WARNING: Support of Intel(R) Streaming SIMD Extensions 4.2 (Intel(R) SSE4.2) enabled only processors has been deprecated. Intel oneAPI Math Kernel Library 2025.0 will require Intel(R) Advanced Vector Extensions (Intel(R) AVX) instructions.\n",
      "Intel MKL WARNING: Support of Intel(R) Streaming SIMD Extensions 4.2 (Intel(R) SSE4.2) enabled only processors has been deprecated. Intel oneAPI Math Kernel Library 2025.0 will require Intel(R) Advanced Vector Extensions (Intel(R) AVX) instructions.\n"
     ]
    }
   ],
   "source": [
    "%load_ext autoreload\n",
    "%autoreload 2\n",
    "from astropy import units as u\n",
    "from astropy import constants as const\n",
    "import numpy as np\n",
    "from matplotlib import pyplot as plt\n",
    "from scipy.optimize import fsolve, root\n",
    "from sympy.polys.polytools import nroots\n",
    "\n",
    "\n",
    "from cluster import Cluster, func, c\n",
    "from load_galweight_data import load_clusters\n"
   ]
  },
  {
   "cell_type": "code",
   "execution_count": 2,
   "id": "04727701",
   "metadata": {},
   "outputs": [
    {
     "name": "stderr",
     "output_type": "stream",
     "text": [
      "WARNING: AstropyDeprecationWarning: The truth value of a Quantity is ambiguous. In the future this will raise a ValueError. [astropy.units.quantity]\n"
     ]
    }
   ],
   "source": [
    "clusters, variances = load_clusters(nrows=5)"
   ]
  },
  {
   "cell_type": "code",
   "execution_count": 3,
   "id": "7ac72345",
   "metadata": {},
   "outputs": [],
   "source": [
    "test_cluster = clusters[1]"
   ]
  },
  {
   "cell_type": "code",
   "execution_count": 4,
   "id": "9f8aa8e0",
   "metadata": {},
   "outputs": [
    {
     "ename": "TypeError",
     "evalue": "'int' object is not iterable",
     "output_type": "error",
     "traceback": [
      "\u001b[0;31m---------------------------------------------------------------------------\u001b[0m",
      "\u001b[0;31mTypeError\u001b[0m                                 Traceback (most recent call last)",
      "Cell \u001b[0;32mIn[4], line 3\u001b[0m\n\u001b[1;32m      1\u001b[0m log_m_chi \u001b[38;5;241m=\u001b[39m \u001b[38;5;241m-\u001b[39m\u001b[38;5;241m4\u001b[39m\n\u001b[1;32m      2\u001b[0m log_sigma_0 \u001b[38;5;241m=\u001b[39m \u001b[38;5;241m-\u001b[39m\u001b[38;5;241m20\u001b[39m\n\u001b[0;32m----> 3\u001b[0m predicted_temperatures \u001b[38;5;241m=\u001b[39m [test_cluster\u001b[38;5;241m.\u001b[39mpred_T_b([s_0, log_m_chi]) \u001b[38;5;28;01mfor\u001b[39;00m s_0 \u001b[38;5;129;01min\u001b[39;00m log_sigma_0]\n",
      "\u001b[0;31mTypeError\u001b[0m: 'int' object is not iterable"
     ]
    }
   ],
   "source": [
    "log_m_chi = -4\n",
    "log_sigma_0 = -20\n",
    "predicted_temperatures = [test_cluster.pred_T_b([s_0, log_m_chi]) for s_0 in log_sigma_0]\n",
    "#plt.plot(log_sigma_0, self.virial_temperature(self.m_chi, f_chi=f_chi, m_psi=m_psi),\n",
    "#                   label=f'T_b = pred_T_b, fx={f_chi}')\n",
    "#plt.xlabel(r'$m_{\\chi} (GeV)$')\n",
    "#plt.ylabel(r'$T_{\\chi} (GeV)$')"
   ]
  },
  {
   "cell_type": "code",
   "execution_count": null,
   "id": "5a0a67cf",
   "metadata": {},
   "outputs": [],
   "source": [
    "predicted_temperatures"
   ]
  },
  {
   "cell_type": "code",
   "execution_count": null,
   "id": "10d999f1",
   "metadata": {},
   "outputs": [],
   "source": [
    "Tbs = np.logspace(-4, -8)\n",
    "plt.loglog(Tbs, func(Tbs,[log_sigma_0, log_m_chi], test_cluster ))"
   ]
  },
  {
   "cell_type": "code",
   "execution_count": null,
   "id": "b36ee174",
   "metadata": {},
   "outputs": [],
   "source": [
    "sigma0s = np.linspace(-30,-10)\n",
    "T_bs = [test_cluster.pred_T_b_small_m(np.power(10,s0)*u.cm**2, 1e-6*u.GeV).value for s0 in sigma0s]\n",
    "plt.loglog(np.power(10,sigma0s), T_bs)\n",
    "\n",
    "plt.xlabel('sigma0 (cm^2)')\n",
    "plt.ylabel('Temperature (GeV)')"
   ]
  },
  {
   "cell_type": "code",
   "execution_count": null,
   "id": "bb45a741",
   "metadata": {},
   "outputs": [],
   "source": [
    "x0 = 1e-6 * u.GeV\n",
    "p0=[-20, -6]\n",
    "root(func, x0, (p0,test_cluster))"
   ]
  },
  {
   "cell_type": "code",
   "execution_count": null,
   "id": "f047a3a7",
   "metadata": {},
   "outputs": [],
   "source": [
    "from sympy import Symbol, nsolve\n"
   ]
  },
  {
   "cell_type": "code",
   "execution_count": null,
   "id": "e905306c",
   "metadata": {},
   "outputs": [],
   "source": [
    "x0=1e-6\n",
    "\n",
    "T_b = Symbol('T_b')\n",
    "nsolve(f(T_b, p0, test_cluster), [p0, test_cluster], x0)"
   ]
  },
  {
   "cell_type": "code",
   "execution_count": null,
   "id": "02971316",
   "metadata": {},
   "outputs": [],
   "source": [
    "def f(T_b, p0, cluster):\n",
    "    \n",
    "    #function used to solve for T_b\n",
    "    sigma0 = p0[0]*u.cm**2\n",
    "    m_chi=\n",
    "    #T_b = T_b*u.GeV\n",
    "    n=0\n",
    "    \n",
    "    leading_factors = (cluster.norm * 4*np.pi *const.c ** -3).to(u.s**3/u.cm**3)\n",
    "    \n",
    "    \n",
    "    V=cluster.volume.to(u.cm**3)\n",
    "    x = (3*const.c*c(n)*V*cluster.rho_dm*cluster.rho_b*sigma0/(cluster.m_b+m_chi)**2).to(1/u.s)\n",
    "    gm2 = ((const.G * cluster.bh_mass()) ** 2).to(u.cm**6/u.s**4)\n",
    "    frac = ((cluster.mu * cluster.m_b) ** (5 / 2) / cluster.adiabatic_idx ** (3 / 2)).to(u.GeV**(5/2))\n",
    "    nb = (2 * cluster.n_e).to(u.cm ** (-3)) # baryon number density\n",
    "    D = (cluster.epsilon*leading_factors*gm2*frac*(1/nb**(2/3))**(-3/2)) # removed k_B from original function because we are working in GeV here\n",
    "    T_chi = cluster.virial_temperature(m_chi)\n",
    "    \n",
    "    numerator = D*T_b**(-3/2)\n",
    "    denominator = (T_b - T_chi)*(T_chi/m_chi + T_b/cluster.m_b)**(1/2)\n",
    "    \n",
    "    return ((numerator/denominator - x)*const.hbar).to(u.GeV, equivalencies=u.temperature_energy())"
   ]
  },
  {
   "cell_type": "code",
   "execution_count": null,
   "id": "f790ae54",
   "metadata": {},
   "outputs": [],
   "source": [
    "\n",
    "poly_T_b(T_b, p0, cluster):\n",
    "    \n",
    "    accretion_factors=(norm*4*np.pi*(const.G*bh_mass)**2)\n",
    "    plasma_entropy_factors=(((mu*m_b)**(5/2)*n)/gamma**(3/2)) #no k_b because T_b in GeV\n",
    "    cooling_factors=3*rho_chi*rho_b*V*c(n)*const.c \n",
    "    \n",
    "    B=(efficiency*accretion_factors*plasma_entropy_factors)/(cooling_factors)\n",
    "    C=(B**2 * (m_chi + m_b)**4)/(sigma0**2)\n",
    "    return T_b**3*((T_b**2*T_chi/m_chi)+(T_b**3/m_b)-(T_chi**3/m_chi)-(T_chi**2*T_b/m_b)-(2*T_b*T_chi**2/m_chi)-(2*T_b**2*T_chi)) - C"
   ]
  },
  {
   "cell_type": "code",
   "execution_count": null,
   "id": "28323d54",
   "metadata": {},
   "outputs": [],
   "source": []
  }
 ],
 "metadata": {
  "kernelspec": {
   "display_name": "Python 3 (ipykernel)",
   "language": "python",
   "name": "python3"
  },
  "language_info": {
   "codemirror_mode": {
    "name": "ipython",
    "version": 3
   },
   "file_extension": ".py",
   "mimetype": "text/x-python",
   "name": "python",
   "nbconvert_exporter": "python",
   "pygments_lexer": "ipython3",
   "version": "3.11.4"
  }
 },
 "nbformat": 4,
 "nbformat_minor": 5
}
