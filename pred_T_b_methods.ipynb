{
 "cells": [
  {
   "cell_type": "code",
   "execution_count": 76,
   "id": "a516bf6b",
   "metadata": {},
   "outputs": [
    {
     "name": "stdout",
     "output_type": "stream",
     "text": [
      "The autoreload extension is already loaded. To reload it, use:\n",
      "  %reload_ext autoreload\n"
     ]
    }
   ],
   "source": [
    "%load_ext autoreload\n",
    "%autoreload 2\n",
    "from astropy import units as u\n",
    "from astropy import constants as const\n",
    "import numpy as np\n",
    "from matplotlib import pyplot as plt\n",
    "from scipy.optimize import fsolve, root\n",
    "\n",
    "from sympy.polys.polytools import nroots\n",
    "from sympy import Symbol, nsolve\n",
    "\n",
    "\n",
    "from cluster import Cluster, func, c\n",
    "#from load_galweight_data import load_clusters\n",
    "from load_mcxc_data import load_clusters\n"
   ]
  },
  {
   "cell_type": "code",
   "execution_count": 10,
   "id": "04727701",
   "metadata": {},
   "outputs": [],
   "source": [
    "clusters = load_clusters(nrows=5)"
   ]
  },
  {
   "cell_type": "code",
   "execution_count": 11,
   "id": "7ac72345",
   "metadata": {},
   "outputs": [],
   "source": [
    "test_cluster = clusters[1]"
   ]
  },
  {
   "cell_type": "code",
   "execution_count": 12,
   "id": "9f8aa8e0",
   "metadata": {},
   "outputs": [
    {
     "ename": "TypeError",
     "evalue": "'int' object is not iterable",
     "output_type": "error",
     "traceback": [
      "\u001b[0;31m---------------------------------------------------------------------------\u001b[0m",
      "\u001b[0;31mTypeError\u001b[0m                                 Traceback (most recent call last)",
      "Cell \u001b[0;32mIn[12], line 3\u001b[0m\n\u001b[1;32m      1\u001b[0m log_m_chi \u001b[38;5;241m=\u001b[39m \u001b[38;5;241m-\u001b[39m\u001b[38;5;241m4\u001b[39m\n\u001b[1;32m      2\u001b[0m log_sigma_0 \u001b[38;5;241m=\u001b[39m \u001b[38;5;241m-\u001b[39m\u001b[38;5;241m20\u001b[39m\n\u001b[0;32m----> 3\u001b[0m predicted_temperatures \u001b[38;5;241m=\u001b[39m [test_cluster\u001b[38;5;241m.\u001b[39mpred_T_b([s_0, log_m_chi]) \u001b[38;5;28;01mfor\u001b[39;00m s_0 \u001b[38;5;129;01min\u001b[39;00m log_sigma_0]\n",
      "\u001b[0;31mTypeError\u001b[0m: 'int' object is not iterable"
     ]
    }
   ],
   "source": [
    "log_m_chi = -4\n",
    "log_sigma_0 = -20\n",
    "predicted_temperatures = [test_cluster.pred_T_b([s_0, log_m_chi]) for s_0 in log_sigma_0]\n",
    "#plt.plot(log_sigma_0, self.virial_temperature(self.m_chi, f_chi=f_chi, m_psi=m_psi),\n",
    "#                   label=f'T_b = pred_T_b, fx={f_chi}')\n",
    "#plt.xlabel(r'$m_{\\chi} (GeV)$')\n",
    "#plt.ylabel(r'$T_{\\chi} (GeV)$')"
   ]
  },
  {
   "cell_type": "code",
   "execution_count": null,
   "id": "5a0a67cf",
   "metadata": {},
   "outputs": [],
   "source": [
    "predicted_temperatures"
   ]
  },
  {
   "cell_type": "code",
   "execution_count": null,
   "id": "10d999f1",
   "metadata": {},
   "outputs": [],
   "source": [
    "Tbs = np.logspace(-4, -8)\n",
    "plt.loglog(Tbs, func(Tbs,[log_sigma_0, log_m_chi], test_cluster ))"
   ]
  },
  {
   "cell_type": "code",
   "execution_count": null,
   "id": "b36ee174",
   "metadata": {},
   "outputs": [],
   "source": [
    "sigma0s = np.linspace(-30,-10)\n",
    "T_bs = [test_cluster.pred_T_b_small_m(np.power(10,s0)*u.cm**2, 1e-6*u.GeV).value for s0 in sigma0s]\n",
    "plt.loglog(np.power(10,sigma0s), T_bs)\n",
    "\n",
    "plt.xlabel('sigma0 (cm^2)')\n",
    "plt.ylabel('Temperature (GeV)')"
   ]
  },
  {
   "cell_type": "code",
   "execution_count": null,
   "id": "bb45a741",
   "metadata": {},
   "outputs": [],
   "source": [
    "x0 = 1e-6 * u.GeV\n",
    "p0=[-20, -6]\n",
    "root(func, x0, (p0,test_cluster))"
   ]
  },
  {
   "cell_type": "code",
   "execution_count": null,
   "id": "f047a3a7",
   "metadata": {},
   "outputs": [],
   "source": [
    "from sympy import Symbol, nsolve\n"
   ]
  },
  {
   "cell_type": "code",
   "execution_count": null,
   "id": "e905306c",
   "metadata": {},
   "outputs": [],
   "source": [
    "x0=1e-6\n",
    "\n",
    "T_b = Symbol('T_b')\n",
    "nsolve(f(T_b, p0, test_cluster), [p0, test_cluster], x0)"
   ]
  },
  {
   "cell_type": "code",
   "execution_count": null,
   "id": "02971316",
   "metadata": {},
   "outputs": [],
   "source": [
    "def f(T_b, p0, cluster):\n",
    "    \n",
    "    #function used to solve for T_b\n",
    "    sigma0 = p0[0]*u.cm**2\n",
    "    m_chi=\n",
    "    #T_b = T_b*u.GeV\n",
    "    n=0\n",
    "    \n",
    "    leading_factors = (cluster.norm * 4*np.pi *const.c ** -3).to(u.s**3/u.cm**3)\n",
    "    \n",
    "    \n",
    "    V=cluster.volume.to(u.cm**3)\n",
    "    x = (3*const.c*c(n)*V*cluster.rho_dm*cluster.rho_b*sigma0/(cluster.m_b+m_chi)**2).to(1/u.s)\n",
    "    gm2 = ((const.G * cluster.bh_mass()) ** 2).to(u.cm**6/u.s**4)\n",
    "    frac = ((cluster.mu * cluster.m_b) ** (5 / 2) / cluster.adiabatic_idx ** (3 / 2)).to(u.GeV**(5/2))\n",
    "    nb = (2 * cluster.n_e).to(u.cm ** (-3)) # baryon number density\n",
    "    D = (cluster.epsilon*leading_factors*gm2*frac*(1/nb**(2/3))**(-3/2)) # removed k_B from original function because we are working in GeV here\n",
    "    T_chi = cluster.virial_temperature(m_chi)\n",
    "    \n",
    "    numerator = D*T_b**(-3/2)\n",
    "    denominator = (T_b - T_chi)*(T_chi/m_chi + T_b/cluster.m_b)**(1/2)\n",
    "    \n",
    "    return ((numerator/denominator - x)*const.hbar).to(u.GeV, equivalencies=u.temperature_energy())"
   ]
  },
  {
   "cell_type": "code",
   "execution_count": 72,
   "id": "f790ae54",
   "metadata": {},
   "outputs": [],
   "source": [
    "def poly_T_b(T_b, p0, cluster, f_chi=1, n=0):\n",
    "    sigma0=np.float_power(10, p0[0])*u.cm**2\n",
    "    m_chi = 1e-4*u.GeV\n",
    "    \n",
    "    norm=cluster.norm\n",
    "    bh_mass=cluster.bh_mass()\n",
    "    mu=cluster.mu\n",
    "    m_b=cluster.m_b\n",
    "    nb=(2 * cluster.n_e).to(u.m ** (-3))\n",
    "    gamma=cluster.adiabatic_idx\n",
    "    rho_chi=cluster.rho_dm * f_chi\n",
    "    rho_b = cluster.rho_b\n",
    "    V=cluster.volume\n",
    "    efficiency=cluster.epsilon\n",
    "    T_chi = cluster.virial_temperature(m_chi)\n",
    "\n",
    "    \n",
    "    accretion_factors=(norm*4*np.pi*(const.G*bh_mass)**2)\n",
    "    plasma_entropy_factors=(((mu*m_b)**(5/2)*nb)/gamma**(3/2)) #no k_b because T_b in GeV\n",
    "    cooling_factors=3*rho_chi*rho_b*V*c(n)*const.c \n",
    "    \n",
    "    B=(efficiency*accretion_factors*plasma_entropy_factors)/(cooling_factors)\n",
    "    C=(B**2 * (m_chi + m_b)**4)/(sigma0**2)\n",
    "    #print(C)\n",
    "    inside=(T_b**2*T_chi/m_chi)+(T_b**3/m_b)-(T_chi**3/m_chi)-(T_chi**2*T_b/m_b)-(2*T_b*T_chi**2/m_chi)-(2*T_b**2*T_chi/m_b)\n",
    "    #print(T_b**3*inside)\n",
    "    #print(C*1/const.c**6)\n",
    "    return T_b**3*(inside) - C*(1/const.c**6)"
   ]
  },
  {
   "cell_type": "code",
   "execution_count": 74,
   "id": "28323d54",
   "metadata": {},
   "outputs": [
    {
     "ename": "RecursionError",
     "evalue": "maximum recursion depth exceeded in comparison",
     "output_type": "error",
     "traceback": [
      "\u001b[0;31m---------------------------------------------------------------------------\u001b[0m",
      "\u001b[0;31mRecursionError\u001b[0m                            Traceback (most recent call last)",
      "Cell \u001b[0;32mIn[74], line 3\u001b[0m\n\u001b[1;32m      1\u001b[0m p0\u001b[38;5;241m=\u001b[39m[\u001b[38;5;241m-\u001b[39m\u001b[38;5;241m20\u001b[39m]\n\u001b[1;32m      2\u001b[0m T_b\u001b[38;5;241m=\u001b[39mSymbol(\u001b[38;5;124m'\u001b[39m\u001b[38;5;124mT_b\u001b[39m\u001b[38;5;124m'\u001b[39m)\n\u001b[0;32m----> 3\u001b[0m nroots(poly_T_b(T_b, p0, test_cluster))\n",
      "Cell \u001b[0;32mIn[72], line 25\u001b[0m, in \u001b[0;36mpoly_T_b\u001b[0;34m(T_b, p0, cluster, f_chi, n)\u001b[0m\n\u001b[1;32m     23\u001b[0m C\u001b[38;5;241m=\u001b[39m(B\u001b[38;5;241m*\u001b[39m\u001b[38;5;241m*\u001b[39m\u001b[38;5;241m2\u001b[39m \u001b[38;5;241m*\u001b[39m (m_chi \u001b[38;5;241m+\u001b[39m m_b)\u001b[38;5;241m*\u001b[39m\u001b[38;5;241m*\u001b[39m\u001b[38;5;241m4\u001b[39m)\u001b[38;5;241m/\u001b[39m(sigma0\u001b[38;5;241m*\u001b[39m\u001b[38;5;241m*\u001b[39m\u001b[38;5;241m2\u001b[39m)\n\u001b[1;32m     24\u001b[0m \u001b[38;5;66;03m#print(C)\u001b[39;00m\n\u001b[0;32m---> 25\u001b[0m inside\u001b[38;5;241m=\u001b[39m(T_b\u001b[38;5;241m*\u001b[39m\u001b[38;5;241m*\u001b[39m\u001b[38;5;241m2\u001b[39m\u001b[38;5;241m*\u001b[39mT_chi\u001b[38;5;241m/\u001b[39mm_chi)\u001b[38;5;241m+\u001b[39m(T_b\u001b[38;5;241m*\u001b[39m\u001b[38;5;241m*\u001b[39m\u001b[38;5;241m3\u001b[39m\u001b[38;5;241m/\u001b[39mm_b)\u001b[38;5;241m-\u001b[39m(T_chi\u001b[38;5;241m*\u001b[39m\u001b[38;5;241m*\u001b[39m\u001b[38;5;241m3\u001b[39m\u001b[38;5;241m/\u001b[39mm_chi)\u001b[38;5;241m-\u001b[39m(T_chi\u001b[38;5;241m*\u001b[39m\u001b[38;5;241m*\u001b[39m\u001b[38;5;241m2\u001b[39m\u001b[38;5;241m*\u001b[39mT_b\u001b[38;5;241m/\u001b[39mm_b)\u001b[38;5;241m-\u001b[39m(\u001b[38;5;241m2\u001b[39m\u001b[38;5;241m*\u001b[39mT_b\u001b[38;5;241m*\u001b[39mT_chi\u001b[38;5;241m*\u001b[39m\u001b[38;5;241m*\u001b[39m\u001b[38;5;241m2\u001b[39m\u001b[38;5;241m/\u001b[39mm_chi)\u001b[38;5;241m-\u001b[39m(\u001b[38;5;241m2\u001b[39m\u001b[38;5;241m*\u001b[39mT_b\u001b[38;5;241m*\u001b[39m\u001b[38;5;241m*\u001b[39m\u001b[38;5;241m2\u001b[39m\u001b[38;5;241m*\u001b[39mT_chi\u001b[38;5;241m/\u001b[39mm_b)\n\u001b[1;32m     26\u001b[0m \u001b[38;5;28mprint\u001b[39m(T_b\u001b[38;5;241m*\u001b[39m\u001b[38;5;241m*\u001b[39m\u001b[38;5;241m3\u001b[39m\u001b[38;5;241m*\u001b[39minside)\n\u001b[1;32m     27\u001b[0m \u001b[38;5;28mprint\u001b[39m(C\u001b[38;5;241m*\u001b[39m\u001b[38;5;241m1\u001b[39m\u001b[38;5;241m/\u001b[39mconst\u001b[38;5;241m.\u001b[39mc\u001b[38;5;241m*\u001b[39m\u001b[38;5;241m*\u001b[39m\u001b[38;5;241m6\u001b[39m)\n",
      "File \u001b[0;32m~/opt/anaconda3/envs/idm/lib/python3.11/site-packages/sympy/core/decorators.py:231\u001b[0m, in \u001b[0;36m_SympifyWrapper.make_wrapped.<locals>._func\u001b[0;34m(self, other)\u001b[0m\n\u001b[1;32m    229\u001b[0m \u001b[38;5;28;01mif\u001b[39;00m \u001b[38;5;129;01mnot\u001b[39;00m \u001b[38;5;28mhasattr\u001b[39m(other, \u001b[38;5;124m'\u001b[39m\u001b[38;5;124m_op_priority\u001b[39m\u001b[38;5;124m'\u001b[39m):\n\u001b[1;32m    230\u001b[0m     \u001b[38;5;28;01mtry\u001b[39;00m:\n\u001b[0;32m--> 231\u001b[0m         other \u001b[38;5;241m=\u001b[39m sympify(other, strict\u001b[38;5;241m=\u001b[39m\u001b[38;5;28;01mTrue\u001b[39;00m)\n\u001b[1;32m    232\u001b[0m     \u001b[38;5;28;01mexcept\u001b[39;00m SympifyError:\n\u001b[1;32m    233\u001b[0m         \u001b[38;5;28;01mreturn\u001b[39;00m retval\n",
      "File \u001b[0;32m~/opt/anaconda3/envs/idm/lib/python3.11/site-packages/sympy/core/sympify.py:432\u001b[0m, in \u001b[0;36msympify\u001b[0;34m(a, locals, convert_xor, strict, rational, evaluate)\u001b[0m\n\u001b[1;32m    430\u001b[0m \u001b[38;5;28;01mif\u001b[39;00m a\u001b[38;5;241m.\u001b[39mndim \u001b[38;5;241m==\u001b[39m \u001b[38;5;241m0\u001b[39m:\n\u001b[1;32m    431\u001b[0m     \u001b[38;5;28;01mtry\u001b[39;00m:\n\u001b[0;32m--> 432\u001b[0m         \u001b[38;5;28;01mreturn\u001b[39;00m sympify(a\u001b[38;5;241m.\u001b[39mitem(),\n\u001b[1;32m    433\u001b[0m                        \u001b[38;5;28mlocals\u001b[39m\u001b[38;5;241m=\u001b[39m\u001b[38;5;28mlocals\u001b[39m,\n\u001b[1;32m    434\u001b[0m                        convert_xor\u001b[38;5;241m=\u001b[39mconvert_xor,\n\u001b[1;32m    435\u001b[0m                        strict\u001b[38;5;241m=\u001b[39mstrict,\n\u001b[1;32m    436\u001b[0m                        rational\u001b[38;5;241m=\u001b[39mrational,\n\u001b[1;32m    437\u001b[0m                        evaluate\u001b[38;5;241m=\u001b[39mevaluate)\n\u001b[1;32m    438\u001b[0m     \u001b[38;5;28;01mexcept\u001b[39;00m SympifyError:\n\u001b[1;32m    439\u001b[0m         \u001b[38;5;28;01mpass\u001b[39;00m\n",
      "File \u001b[0;32m~/opt/anaconda3/envs/idm/lib/python3.11/site-packages/sympy/core/sympify.py:432\u001b[0m, in \u001b[0;36msympify\u001b[0;34m(a, locals, convert_xor, strict, rational, evaluate)\u001b[0m\n\u001b[1;32m    430\u001b[0m \u001b[38;5;28;01mif\u001b[39;00m a\u001b[38;5;241m.\u001b[39mndim \u001b[38;5;241m==\u001b[39m \u001b[38;5;241m0\u001b[39m:\n\u001b[1;32m    431\u001b[0m     \u001b[38;5;28;01mtry\u001b[39;00m:\n\u001b[0;32m--> 432\u001b[0m         \u001b[38;5;28;01mreturn\u001b[39;00m sympify(a\u001b[38;5;241m.\u001b[39mitem(),\n\u001b[1;32m    433\u001b[0m                        \u001b[38;5;28mlocals\u001b[39m\u001b[38;5;241m=\u001b[39m\u001b[38;5;28mlocals\u001b[39m,\n\u001b[1;32m    434\u001b[0m                        convert_xor\u001b[38;5;241m=\u001b[39mconvert_xor,\n\u001b[1;32m    435\u001b[0m                        strict\u001b[38;5;241m=\u001b[39mstrict,\n\u001b[1;32m    436\u001b[0m                        rational\u001b[38;5;241m=\u001b[39mrational,\n\u001b[1;32m    437\u001b[0m                        evaluate\u001b[38;5;241m=\u001b[39mevaluate)\n\u001b[1;32m    438\u001b[0m     \u001b[38;5;28;01mexcept\u001b[39;00m SympifyError:\n\u001b[1;32m    439\u001b[0m         \u001b[38;5;28;01mpass\u001b[39;00m\n",
      "    \u001b[0;31m[... skipping similar frames: sympify at line 432 (2964 times)]\u001b[0m\n",
      "File \u001b[0;32m~/opt/anaconda3/envs/idm/lib/python3.11/site-packages/sympy/core/sympify.py:432\u001b[0m, in \u001b[0;36msympify\u001b[0;34m(a, locals, convert_xor, strict, rational, evaluate)\u001b[0m\n\u001b[1;32m    430\u001b[0m \u001b[38;5;28;01mif\u001b[39;00m a\u001b[38;5;241m.\u001b[39mndim \u001b[38;5;241m==\u001b[39m \u001b[38;5;241m0\u001b[39m:\n\u001b[1;32m    431\u001b[0m     \u001b[38;5;28;01mtry\u001b[39;00m:\n\u001b[0;32m--> 432\u001b[0m         \u001b[38;5;28;01mreturn\u001b[39;00m sympify(a\u001b[38;5;241m.\u001b[39mitem(),\n\u001b[1;32m    433\u001b[0m                        \u001b[38;5;28mlocals\u001b[39m\u001b[38;5;241m=\u001b[39m\u001b[38;5;28mlocals\u001b[39m,\n\u001b[1;32m    434\u001b[0m                        convert_xor\u001b[38;5;241m=\u001b[39mconvert_xor,\n\u001b[1;32m    435\u001b[0m                        strict\u001b[38;5;241m=\u001b[39mstrict,\n\u001b[1;32m    436\u001b[0m                        rational\u001b[38;5;241m=\u001b[39mrational,\n\u001b[1;32m    437\u001b[0m                        evaluate\u001b[38;5;241m=\u001b[39mevaluate)\n\u001b[1;32m    438\u001b[0m     \u001b[38;5;28;01mexcept\u001b[39;00m SympifyError:\n\u001b[1;32m    439\u001b[0m         \u001b[38;5;28;01mpass\u001b[39;00m\n",
      "File \u001b[0;32m~/opt/anaconda3/envs/idm/lib/python3.11/site-packages/sympy/core/sympify.py:398\u001b[0m, in \u001b[0;36msympify\u001b[0;34m(a, locals, convert_xor, strict, rational, evaluate)\u001b[0m\n\u001b[1;32m    396\u001b[0m \u001b[38;5;28;01mif\u001b[39;00m _is_numpy_instance(a):\n\u001b[1;32m    397\u001b[0m     \u001b[38;5;28;01mimport\u001b[39;00m \u001b[38;5;21;01mnumpy\u001b[39;00m \u001b[38;5;28;01mas\u001b[39;00m \u001b[38;5;21;01mnp\u001b[39;00m\n\u001b[0;32m--> 398\u001b[0m     \u001b[38;5;28;01mif\u001b[39;00m np\u001b[38;5;241m.\u001b[39misscalar(a):\n\u001b[1;32m    399\u001b[0m         \u001b[38;5;28;01mreturn\u001b[39;00m _convert_numpy_types(a, \u001b[38;5;28mlocals\u001b[39m\u001b[38;5;241m=\u001b[39m\u001b[38;5;28mlocals\u001b[39m,\n\u001b[1;32m    400\u001b[0m             convert_xor\u001b[38;5;241m=\u001b[39mconvert_xor, strict\u001b[38;5;241m=\u001b[39mstrict, rational\u001b[38;5;241m=\u001b[39mrational,\n\u001b[1;32m    401\u001b[0m             evaluate\u001b[38;5;241m=\u001b[39mevaluate)\n\u001b[1;32m    403\u001b[0m _sympy_ \u001b[38;5;241m=\u001b[39m \u001b[38;5;28mgetattr\u001b[39m(a, \u001b[38;5;124m\"\u001b[39m\u001b[38;5;124m_sympy_\u001b[39m\u001b[38;5;124m\"\u001b[39m, \u001b[38;5;28;01mNone\u001b[39;00m)\n",
      "File \u001b[0;32m~/opt/anaconda3/envs/idm/lib/python3.11/site-packages/numpy/core/numeric.py:1933\u001b[0m, in \u001b[0;36misscalar\u001b[0;34m(element)\u001b[0m\n\u001b[1;32m   1855\u001b[0m \u001b[38;5;129m@set_module\u001b[39m(\u001b[38;5;124m'\u001b[39m\u001b[38;5;124mnumpy\u001b[39m\u001b[38;5;124m'\u001b[39m)\n\u001b[1;32m   1856\u001b[0m \u001b[38;5;28;01mdef\u001b[39;00m \u001b[38;5;21misscalar\u001b[39m(element):\n\u001b[1;32m   1857\u001b[0m \u001b[38;5;250m    \u001b[39m\u001b[38;5;124;03m\"\"\"\u001b[39;00m\n\u001b[1;32m   1858\u001b[0m \u001b[38;5;124;03m    Returns True if the type of `element` is a scalar type.\u001b[39;00m\n\u001b[1;32m   1859\u001b[0m \n\u001b[0;32m   (...)\u001b[0m\n\u001b[1;32m   1929\u001b[0m \n\u001b[1;32m   1930\u001b[0m \u001b[38;5;124;03m    \"\"\"\u001b[39;00m\n\u001b[1;32m   1931\u001b[0m     \u001b[38;5;28;01mreturn\u001b[39;00m (\u001b[38;5;28misinstance\u001b[39m(element, generic)\n\u001b[1;32m   1932\u001b[0m             \u001b[38;5;129;01mor\u001b[39;00m \u001b[38;5;28mtype\u001b[39m(element) \u001b[38;5;129;01min\u001b[39;00m ScalarType\n\u001b[0;32m-> 1933\u001b[0m             \u001b[38;5;129;01mor\u001b[39;00m \u001b[38;5;28misinstance\u001b[39m(element, numbers\u001b[38;5;241m.\u001b[39mNumber))\n",
      "File \u001b[0;32m<frozen abc>:119\u001b[0m, in \u001b[0;36m__instancecheck__\u001b[0;34m(cls, instance)\u001b[0m\n",
      "\u001b[0;31mRecursionError\u001b[0m: maximum recursion depth exceeded in comparison"
     ]
    }
   ],
   "source": [
    "p0=[-20]\n",
    "T_b=Symbol('T_b')\n",
    "nroots(poly_T_b(T_b, p0, test_cluster))"
   ]
  },
  {
   "cell_type": "code",
   "execution_count": 57,
   "id": "eab15911",
   "metadata": {},
   "outputs": [],
   "source": [
    "T_bs = np.logspace(-8, -4) * u.GeV"
   ]
  },
  {
   "cell_type": "code",
   "execution_count": 73,
   "id": "c448f3d2",
   "metadata": {},
   "outputs": [
    {
     "name": "stdout",
     "output_type": "stream",
     "text": [
      "[9.73656561e-47 2.50630793e-46 6.45053823e-46 1.66026209e-45\n",
      " 4.27426774e-45 1.10087571e-44 2.83725386e-44 7.31881415e-44\n",
      " 1.89005836e-43 4.88791547e-43 1.26626110e-42 3.28721771e-42\n",
      " 8.55486469e-42 2.23291320e-41 5.84817476e-41 1.53778302e-40\n",
      " 4.06210244e-40 1.07859174e-39 2.88065513e-39 7.74338343e-39\n",
      " 2.09624587e-38 5.71833377e-38 1.57260993e-37 4.36171820e-37\n",
      " 1.22034448e-36 3.44456364e-36 9.80809151e-36 2.81669525e-35\n",
      " 8.15545272e-35 2.37962219e-34 6.99329025e-34 2.06874213e-33\n",
      " 6.15613489e-33 1.84166845e-32 5.53539533e-32 1.67057648e-31\n",
      " 5.05976151e-31 1.53718620e-30 4.68235969e-30 1.42947393e-29\n",
      " 4.37233441e-29 1.33951735e-28 4.10933186e-28 1.26208330e-27\n",
      " 3.87988504e-27 1.19370246e-26 3.67504493e-26 1.13206294e-25\n",
      " 3.48882828e-25 1.07561296e-24] GeV5\n",
      "6.921696365585761e+118 cm8 GeV5 / (m2 Mpc6)\n"
     ]
    },
    {
     "data": {
      "text/plain": [
       "[<matplotlib.lines.Line2D at 0x132e92850>]"
      ]
     },
     "execution_count": 73,
     "metadata": {},
     "output_type": "execute_result"
    },
    {
     "data": {
      "image/png": "[encoded data removed]",
      "text/plain": [
       "<Figure size 640x480 with 1 Axes>"
      ]
     },
     "metadata": {},
     "output_type": "display_data"
    }
   ],
   "source": [
    "plt.loglog(T_bs, poly_T_b(T_bs, p0, test_cluster))"
   ]
  },
  {
   "cell_type": "code",
   "execution_count": 78,
   "id": "abffad55",
   "metadata": {},
   "outputs": [
    {
     "ename": "RecursionError",
     "evalue": "maximum recursion depth exceeded in comparison",
     "output_type": "error",
     "traceback": [
      "\u001b[0;31m---------------------------------------------------------------------------\u001b[0m",
      "\u001b[0;31mRecursionError\u001b[0m                            Traceback (most recent call last)",
      "Cell \u001b[0;32mIn[78], line 3\u001b[0m\n\u001b[1;32m      1\u001b[0m T_b \u001b[38;5;241m=\u001b[39m Symbol(\u001b[38;5;124m'\u001b[39m\u001b[38;5;124mT_b\u001b[39m\u001b[38;5;124m'\u001b[39m)\n\u001b[1;32m      2\u001b[0m x0\u001b[38;5;241m=\u001b[39m\u001b[38;5;241m1e-5\u001b[39m\n\u001b[0;32m----> 3\u001b[0m nsolve(poly_T_b(T_b, p0, test_cluster), [p0, test_cluster], x0)\n",
      "Cell \u001b[0;32mIn[72], line 25\u001b[0m, in \u001b[0;36mpoly_T_b\u001b[0;34m(T_b, p0, cluster, f_chi, n)\u001b[0m\n\u001b[1;32m     23\u001b[0m C\u001b[38;5;241m=\u001b[39m(B\u001b[38;5;241m*\u001b[39m\u001b[38;5;241m*\u001b[39m\u001b[38;5;241m2\u001b[39m \u001b[38;5;241m*\u001b[39m (m_chi \u001b[38;5;241m+\u001b[39m m_b)\u001b[38;5;241m*\u001b[39m\u001b[38;5;241m*\u001b[39m\u001b[38;5;241m4\u001b[39m)\u001b[38;5;241m/\u001b[39m(sigma0\u001b[38;5;241m*\u001b[39m\u001b[38;5;241m*\u001b[39m\u001b[38;5;241m2\u001b[39m)\n\u001b[1;32m     24\u001b[0m \u001b[38;5;66;03m#print(C)\u001b[39;00m\n\u001b[0;32m---> 25\u001b[0m inside\u001b[38;5;241m=\u001b[39m(T_b\u001b[38;5;241m*\u001b[39m\u001b[38;5;241m*\u001b[39m\u001b[38;5;241m2\u001b[39m\u001b[38;5;241m*\u001b[39mT_chi\u001b[38;5;241m/\u001b[39mm_chi)\u001b[38;5;241m+\u001b[39m(T_b\u001b[38;5;241m*\u001b[39m\u001b[38;5;241m*\u001b[39m\u001b[38;5;241m3\u001b[39m\u001b[38;5;241m/\u001b[39mm_b)\u001b[38;5;241m-\u001b[39m(T_chi\u001b[38;5;241m*\u001b[39m\u001b[38;5;241m*\u001b[39m\u001b[38;5;241m3\u001b[39m\u001b[38;5;241m/\u001b[39mm_chi)\u001b[38;5;241m-\u001b[39m(T_chi\u001b[38;5;241m*\u001b[39m\u001b[38;5;241m*\u001b[39m\u001b[38;5;241m2\u001b[39m\u001b[38;5;241m*\u001b[39mT_b\u001b[38;5;241m/\u001b[39mm_b)\u001b[38;5;241m-\u001b[39m(\u001b[38;5;241m2\u001b[39m\u001b[38;5;241m*\u001b[39mT_b\u001b[38;5;241m*\u001b[39mT_chi\u001b[38;5;241m*\u001b[39m\u001b[38;5;241m*\u001b[39m\u001b[38;5;241m2\u001b[39m\u001b[38;5;241m/\u001b[39mm_chi)\u001b[38;5;241m-\u001b[39m(\u001b[38;5;241m2\u001b[39m\u001b[38;5;241m*\u001b[39mT_b\u001b[38;5;241m*\u001b[39m\u001b[38;5;241m*\u001b[39m\u001b[38;5;241m2\u001b[39m\u001b[38;5;241m*\u001b[39mT_chi\u001b[38;5;241m/\u001b[39mm_b)\n\u001b[1;32m     26\u001b[0m \u001b[38;5;28mprint\u001b[39m(T_b\u001b[38;5;241m*\u001b[39m\u001b[38;5;241m*\u001b[39m\u001b[38;5;241m3\u001b[39m\u001b[38;5;241m*\u001b[39minside)\n\u001b[1;32m     27\u001b[0m \u001b[38;5;28mprint\u001b[39m(C\u001b[38;5;241m*\u001b[39m\u001b[38;5;241m1\u001b[39m\u001b[38;5;241m/\u001b[39mconst\u001b[38;5;241m.\u001b[39mc\u001b[38;5;241m*\u001b[39m\u001b[38;5;241m*\u001b[39m\u001b[38;5;241m6\u001b[39m)\n",
      "File \u001b[0;32m~/opt/anaconda3/envs/idm/lib/python3.11/site-packages/sympy/core/decorators.py:231\u001b[0m, in \u001b[0;36m_SympifyWrapper.make_wrapped.<locals>._func\u001b[0;34m(self, other)\u001b[0m\n\u001b[1;32m    229\u001b[0m \u001b[38;5;28;01mif\u001b[39;00m \u001b[38;5;129;01mnot\u001b[39;00m \u001b[38;5;28mhasattr\u001b[39m(other, \u001b[38;5;124m'\u001b[39m\u001b[38;5;124m_op_priority\u001b[39m\u001b[38;5;124m'\u001b[39m):\n\u001b[1;32m    230\u001b[0m     \u001b[38;5;28;01mtry\u001b[39;00m:\n\u001b[0;32m--> 231\u001b[0m         other \u001b[38;5;241m=\u001b[39m sympify(other, strict\u001b[38;5;241m=\u001b[39m\u001b[38;5;28;01mTrue\u001b[39;00m)\n\u001b[1;32m    232\u001b[0m     \u001b[38;5;28;01mexcept\u001b[39;00m SympifyError:\n\u001b[1;32m    233\u001b[0m         \u001b[38;5;28;01mreturn\u001b[39;00m retval\n",
      "File \u001b[0;32m~/opt/anaconda3/envs/idm/lib/python3.11/site-packages/sympy/core/sympify.py:432\u001b[0m, in \u001b[0;36msympify\u001b[0;34m(a, locals, convert_xor, strict, rational, evaluate)\u001b[0m\n\u001b[1;32m    430\u001b[0m \u001b[38;5;28;01mif\u001b[39;00m a\u001b[38;5;241m.\u001b[39mndim \u001b[38;5;241m==\u001b[39m \u001b[38;5;241m0\u001b[39m:\n\u001b[1;32m    431\u001b[0m     \u001b[38;5;28;01mtry\u001b[39;00m:\n\u001b[0;32m--> 432\u001b[0m         \u001b[38;5;28;01mreturn\u001b[39;00m sympify(a\u001b[38;5;241m.\u001b[39mitem(),\n\u001b[1;32m    433\u001b[0m                        \u001b[38;5;28mlocals\u001b[39m\u001b[38;5;241m=\u001b[39m\u001b[38;5;28mlocals\u001b[39m,\n\u001b[1;32m    434\u001b[0m                        convert_xor\u001b[38;5;241m=\u001b[39mconvert_xor,\n\u001b[1;32m    435\u001b[0m                        strict\u001b[38;5;241m=\u001b[39mstrict,\n\u001b[1;32m    436\u001b[0m                        rational\u001b[38;5;241m=\u001b[39mrational,\n\u001b[1;32m    437\u001b[0m                        evaluate\u001b[38;5;241m=\u001b[39mevaluate)\n\u001b[1;32m    438\u001b[0m     \u001b[38;5;28;01mexcept\u001b[39;00m SympifyError:\n\u001b[1;32m    439\u001b[0m         \u001b[38;5;28;01mpass\u001b[39;00m\n",
      "File \u001b[0;32m~/opt/anaconda3/envs/idm/lib/python3.11/site-packages/sympy/core/sympify.py:432\u001b[0m, in \u001b[0;36msympify\u001b[0;34m(a, locals, convert_xor, strict, rational, evaluate)\u001b[0m\n\u001b[1;32m    430\u001b[0m \u001b[38;5;28;01mif\u001b[39;00m a\u001b[38;5;241m.\u001b[39mndim \u001b[38;5;241m==\u001b[39m \u001b[38;5;241m0\u001b[39m:\n\u001b[1;32m    431\u001b[0m     \u001b[38;5;28;01mtry\u001b[39;00m:\n\u001b[0;32m--> 432\u001b[0m         \u001b[38;5;28;01mreturn\u001b[39;00m sympify(a\u001b[38;5;241m.\u001b[39mitem(),\n\u001b[1;32m    433\u001b[0m                        \u001b[38;5;28mlocals\u001b[39m\u001b[38;5;241m=\u001b[39m\u001b[38;5;28mlocals\u001b[39m,\n\u001b[1;32m    434\u001b[0m                        convert_xor\u001b[38;5;241m=\u001b[39mconvert_xor,\n\u001b[1;32m    435\u001b[0m                        strict\u001b[38;5;241m=\u001b[39mstrict,\n\u001b[1;32m    436\u001b[0m                        rational\u001b[38;5;241m=\u001b[39mrational,\n\u001b[1;32m    437\u001b[0m                        evaluate\u001b[38;5;241m=\u001b[39mevaluate)\n\u001b[1;32m    438\u001b[0m     \u001b[38;5;28;01mexcept\u001b[39;00m SympifyError:\n\u001b[1;32m    439\u001b[0m         \u001b[38;5;28;01mpass\u001b[39;00m\n",
      "    \u001b[0;31m[... skipping similar frames: sympify at line 432 (2964 times)]\u001b[0m\n",
      "File \u001b[0;32m~/opt/anaconda3/envs/idm/lib/python3.11/site-packages/sympy/core/sympify.py:432\u001b[0m, in \u001b[0;36msympify\u001b[0;34m(a, locals, convert_xor, strict, rational, evaluate)\u001b[0m\n\u001b[1;32m    430\u001b[0m \u001b[38;5;28;01mif\u001b[39;00m a\u001b[38;5;241m.\u001b[39mndim \u001b[38;5;241m==\u001b[39m \u001b[38;5;241m0\u001b[39m:\n\u001b[1;32m    431\u001b[0m     \u001b[38;5;28;01mtry\u001b[39;00m:\n\u001b[0;32m--> 432\u001b[0m         \u001b[38;5;28;01mreturn\u001b[39;00m sympify(a\u001b[38;5;241m.\u001b[39mitem(),\n\u001b[1;32m    433\u001b[0m                        \u001b[38;5;28mlocals\u001b[39m\u001b[38;5;241m=\u001b[39m\u001b[38;5;28mlocals\u001b[39m,\n\u001b[1;32m    434\u001b[0m                        convert_xor\u001b[38;5;241m=\u001b[39mconvert_xor,\n\u001b[1;32m    435\u001b[0m                        strict\u001b[38;5;241m=\u001b[39mstrict,\n\u001b[1;32m    436\u001b[0m                        rational\u001b[38;5;241m=\u001b[39mrational,\n\u001b[1;32m    437\u001b[0m                        evaluate\u001b[38;5;241m=\u001b[39mevaluate)\n\u001b[1;32m    438\u001b[0m     \u001b[38;5;28;01mexcept\u001b[39;00m SympifyError:\n\u001b[1;32m    439\u001b[0m         \u001b[38;5;28;01mpass\u001b[39;00m\n",
      "File \u001b[0;32m~/opt/anaconda3/envs/idm/lib/python3.11/site-packages/sympy/core/sympify.py:398\u001b[0m, in \u001b[0;36msympify\u001b[0;34m(a, locals, convert_xor, strict, rational, evaluate)\u001b[0m\n\u001b[1;32m    396\u001b[0m \u001b[38;5;28;01mif\u001b[39;00m _is_numpy_instance(a):\n\u001b[1;32m    397\u001b[0m     \u001b[38;5;28;01mimport\u001b[39;00m \u001b[38;5;21;01mnumpy\u001b[39;00m \u001b[38;5;28;01mas\u001b[39;00m \u001b[38;5;21;01mnp\u001b[39;00m\n\u001b[0;32m--> 398\u001b[0m     \u001b[38;5;28;01mif\u001b[39;00m np\u001b[38;5;241m.\u001b[39misscalar(a):\n\u001b[1;32m    399\u001b[0m         \u001b[38;5;28;01mreturn\u001b[39;00m _convert_numpy_types(a, \u001b[38;5;28mlocals\u001b[39m\u001b[38;5;241m=\u001b[39m\u001b[38;5;28mlocals\u001b[39m,\n\u001b[1;32m    400\u001b[0m             convert_xor\u001b[38;5;241m=\u001b[39mconvert_xor, strict\u001b[38;5;241m=\u001b[39mstrict, rational\u001b[38;5;241m=\u001b[39mrational,\n\u001b[1;32m    401\u001b[0m             evaluate\u001b[38;5;241m=\u001b[39mevaluate)\n\u001b[1;32m    403\u001b[0m _sympy_ \u001b[38;5;241m=\u001b[39m \u001b[38;5;28mgetattr\u001b[39m(a, \u001b[38;5;124m\"\u001b[39m\u001b[38;5;124m_sympy_\u001b[39m\u001b[38;5;124m\"\u001b[39m, \u001b[38;5;28;01mNone\u001b[39;00m)\n",
      "File \u001b[0;32m~/opt/anaconda3/envs/idm/lib/python3.11/site-packages/numpy/core/numeric.py:1933\u001b[0m, in \u001b[0;36misscalar\u001b[0;34m(element)\u001b[0m\n\u001b[1;32m   1855\u001b[0m \u001b[38;5;129m@set_module\u001b[39m(\u001b[38;5;124m'\u001b[39m\u001b[38;5;124mnumpy\u001b[39m\u001b[38;5;124m'\u001b[39m)\n\u001b[1;32m   1856\u001b[0m \u001b[38;5;28;01mdef\u001b[39;00m \u001b[38;5;21misscalar\u001b[39m(element):\n\u001b[1;32m   1857\u001b[0m \u001b[38;5;250m    \u001b[39m\u001b[38;5;124;03m\"\"\"\u001b[39;00m\n\u001b[1;32m   1858\u001b[0m \u001b[38;5;124;03m    Returns True if the type of `element` is a scalar type.\u001b[39;00m\n\u001b[1;32m   1859\u001b[0m \n\u001b[0;32m   (...)\u001b[0m\n\u001b[1;32m   1929\u001b[0m \n\u001b[1;32m   1930\u001b[0m \u001b[38;5;124;03m    \"\"\"\u001b[39;00m\n\u001b[1;32m   1931\u001b[0m     \u001b[38;5;28;01mreturn\u001b[39;00m (\u001b[38;5;28misinstance\u001b[39m(element, generic)\n\u001b[1;32m   1932\u001b[0m             \u001b[38;5;129;01mor\u001b[39;00m \u001b[38;5;28mtype\u001b[39m(element) \u001b[38;5;129;01min\u001b[39;00m ScalarType\n\u001b[0;32m-> 1933\u001b[0m             \u001b[38;5;129;01mor\u001b[39;00m \u001b[38;5;28misinstance\u001b[39m(element, numbers\u001b[38;5;241m.\u001b[39mNumber))\n",
      "File \u001b[0;32m<frozen abc>:119\u001b[0m, in \u001b[0;36m__instancecheck__\u001b[0;34m(cls, instance)\u001b[0m\n",
      "\u001b[0;31mRecursionError\u001b[0m: maximum recursion depth exceeded in comparison"
     ]
    }
   ],
   "source": [
    "T_b = Symbol('T_b')\n",
    "x0=1e-5\n",
    "nsolve(poly_T_b(T_b, p0, test_cluster), [p0, test_cluster], x0)"
   ]
  },
  {
   "cell_type": "code",
   "execution_count": 105,
   "id": "42497088",
   "metadata": {},
   "outputs": [],
   "source": [
    "# try np.poly1D\n",
    "cluster=test_cluster\n",
    "\n",
    "sigma0=np.float_power(10, p0[0])*u.cm**2\n",
    "m_chi = 1e-4*u.GeV\n",
    "f_chi=1\n",
    "n=0\n",
    "    \n",
    "norm=cluster.norm\n",
    "bh_mass=cluster.bh_mass()\n",
    "mu=cluster.mu\n",
    "m_b=cluster.m_b\n",
    "nb=(2 * cluster.n_e).to(u.m ** (-3))\n",
    "gamma=cluster.adiabatic_idx\n",
    "rho_chi=cluster.rho_dm * f_chi\n",
    "rho_b = cluster.rho_b\n",
    "V=cluster.volume\n",
    "efficiency=cluster.epsilon\n",
    "T_chi = cluster.virial_temperature(m_chi)\n",
    "accretion_factors=(norm*4*np.pi*(const.G*bh_mass)**2)\n",
    "plasma_entropy_factors=(((mu*m_b)**(5/2)*nb)/gamma**(3/2)) #no k_b because T_b in GeV\n",
    "cooling_factors=3*rho_chi*rho_b*V*c(n)*const.c \n",
    "B=(efficiency*accretion_factors*plasma_entropy_factors)/(cooling_factors)\n",
    "C=(B**2 * (m_chi + m_b)**4)/(sigma0**2) *(1/const.c**6)\n",
    "\n"
   ]
  },
  {
   "cell_type": "code",
   "execution_count": 119,
   "id": "d9b41345",
   "metadata": {},
   "outputs": [],
   "source": [
    "\n",
    "other_c = ((B * (m_chi + m_b)**2)/(sigma0) *(1/const.c**3)).to(u.GeV**(5/2))\n",
    "def fun(T_b):\n",
    "    T_b=T_b*u.GeV\n",
    "    #print(other_c)\n",
    "    #print(T_b, T_chi, m_b, m_chi)\n",
    "    #print((T_b-T_chi)*(T_chi/m_chi + T_b/m_b)**(1/2) * T_b**(3/2))\n",
    "    return (T_b-T_chi)*(T_chi/m_chi + T_b/m_b)**(1/2) * T_b**(3/2) - other_c"
   ]
  },
  {
   "cell_type": "code",
   "execution_count": 122,
   "id": "c33ad155",
   "metadata": {},
   "outputs": [
    {
     "data": {
      "text/plain": [
       "array([4.2852027e-06])"
      ]
     },
     "execution_count": 122,
     "metadata": {},
     "output_type": "execute_result"
    }
   ],
   "source": [
    "x0=1e-5\n",
    "solution = root(fun,x0).x\n",
    "solution\n"
   ]
  },
  {
   "cell_type": "code",
   "execution_count": 109,
   "id": "127b664f",
   "metadata": {},
   "outputs": [
    {
     "name": "stdout",
     "output_type": "stream",
     "text": [
      "2.6309116985535187e+59 cm4 GeV(5/2) / (m Mpc3)\n",
      "[9.86837559e-24 1.58323902e-23 2.53990819e-23 4.07476019e-23\n",
      " 6.53793006e-23 1.04924183e-22 1.68443215e-22 2.70534959e-22\n",
      " 4.34750098e-22 6.99138585e-22 1.12528521e-21 1.81307140e-21\n",
      " 2.92487314e-21 4.72537454e-21 7.64733981e-21 1.24007422e-20\n",
      " 2.01546629e-20 3.28419258e-20 5.36717409e-20 8.79965034e-20\n",
      " 1.44784187e-19 2.39130387e-19 3.96561472e-19 6.60433066e-19\n",
      " 1.10469204e-18 1.85595358e-18 3.13178729e-18 5.30725473e-18\n",
      " 9.03075455e-18 1.54260241e-17 2.64448299e-17 4.54834270e-17\n",
      " 7.84610406e-17 1.35708086e-16 2.35274209e-16 4.08726862e-16\n",
      " 7.11320006e-16 1.23983313e-15 2.16387608e-15 3.78083844e-15\n",
      " 6.61236297e-15 1.15737520e-14 2.02714870e-14 3.55258117e-14\n",
      " 6.22887232e-14 1.09256691e-13 1.91704067e-13 3.36461430e-13\n",
      " 5.90663041e-13 1.03711762e-12] GeV(5/2)\n"
     ]
    },
    {
     "data": {
      "text/plain": [
       "[<matplotlib.lines.Line2D at 0x1345ba850>]"
      ]
     },
     "execution_count": 109,
     "metadata": {},
     "output_type": "execute_result"
    },
    {
     "data": {
      "image/png": "[encoded data removed]",
      "text/plain": [
       "<Figure size 640x480 with 1 Axes>"
      ]
     },
     "metadata": {},
     "output_type": "display_data"
    }
   ],
   "source": [
    "plt.loglog(T_bs, fun(T_bs))"
   ]
  },
  {
   "cell_type": "code",
   "execution_count": 90,
   "id": "3789247d",
   "metadata": {},
   "outputs": [],
   "source": [
    "c6 = (1/m_b).to(1/u.GeV).value\n",
    "c5 = (T_chi/m_chi - 2*T_chi/m_b).to(u.GeV/u.GeV).value\n",
    "c4 = (-T_chi**2/m_b - 2*T_chi**2/m_chi).to(u.GeV).value\n",
    "c3 = (-T_chi**3/m_chi).value\n",
    "c2 = 0\n",
    "c1 = 0\n",
    "c0 = (-C).to(u.GeV**5).value"
   ]
  },
  {
   "cell_type": "code",
   "execution_count": 91,
   "id": "22bc6fa9",
   "metadata": {},
   "outputs": [
    {
     "data": {
      "text/plain": [
       "(1.0657889247888948,\n",
       " 9.82405206311776e-07,\n",
       " -1.9311660386019664e-16,\n",
       " -9.487454704266106e-27,\n",
       " -8.01879798964887e-33)"
      ]
     },
     "execution_count": 91,
     "metadata": {},
     "output_type": "execute_result"
    }
   ],
   "source": [
    "c6, c5, c4, c3, c0"
   ]
  },
  {
   "cell_type": "code",
   "execution_count": 93,
   "id": "257eee2f",
   "metadata": {},
   "outputs": [
    {
     "data": {
      "text/plain": [
       "array([-4.59494287e-06+0.00000000e+00j, -2.37287948e-06+3.82096134e-06j,\n",
       "       -2.37287948e-06-3.82096134e-06j,  2.06686787e-06+3.82308518e-06j,\n",
       "        2.06686787e-06-3.82308518e-06j,  4.28520270e-06+0.00000000e+00j])"
      ]
     },
     "execution_count": 93,
     "metadata": {},
     "output_type": "execute_result"
    }
   ],
   "source": [
    "np.poly1d([c6, c5, c4, c3, c2, c1, c0]).roots"
   ]
  },
  {
   "cell_type": "code",
   "execution_count": 95,
   "id": "30d9b825",
   "metadata": {},
   "outputs": [
    {
     "data": {
      "text/plain": [
       "array([-0.74951283+0.27856512j, -0.74951283-0.27856512j,\n",
       "       -0.06859525+0.90061214j, -0.06859525-0.90061214j,\n",
       "        0.40144142+0.39796191j,  0.40144142-0.39796191j])"
      ]
     },
     "execution_count": 95,
     "metadata": {},
     "output_type": "execute_result"
    }
   ],
   "source": [
    "coefficients=[6, 5, 4, 3, 0, 0, 1]\n",
    "np.roots(coefficients)"
   ]
  },
  {
   "cell_type": "code",
   "execution_count": null,
   "id": "d13427ef",
   "metadata": {},
   "outputs": [],
   "source": []
  }
 ],
 "metadata": {
  "kernelspec": {
   "display_name": "Python 3 (ipykernel)",
   "language": "python",
   "name": "python3"
  },
  "language_info": {
   "codemirror_mode": {
    "name": "ipython",
    "version": 3
   },
   "file_extension": ".py",
   "mimetype": "text/x-python",
   "name": "python",
   "nbconvert_exporter": "python",
   "pygments_lexer": "ipython3",
   "version": "3.11.4"
  }
 },
 "nbformat": 4,
 "nbformat_minor": 5
}
