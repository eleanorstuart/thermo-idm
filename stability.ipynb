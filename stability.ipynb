{
 "cells": [
  {
   "cell_type": "code",
   "execution_count": 4,
   "id": "80514c72",
   "metadata": {},
   "outputs": [],
   "source": [
    "import numpy as np\n",
    "from astropy import units as u\n",
    "from astropy import constants as const\n",
    "from matplotlib import pyplot as plt\n",
    "\n",
    "from cluster import Cluster\n",
    "from load_mcxc_data import load_clusters"
   ]
  },
  {
   "cell_type": "code",
   "execution_count": 13,
   "id": "e6022d9f",
   "metadata": {},
   "outputs": [],
   "source": [
    "cluster=load_clusters(1)[0]"
   ]
  },
  {
   "cell_type": "code",
   "execution_count": 14,
   "id": "d62228c8",
   "metadata": {},
   "outputs": [],
   "source": [
    "def tau_crit(m_chi): # returns values between 3/2 and 3\n",
    "    mu=m_chi/const.m_p.to(u.GeV)\n",
    "    tau= -mu + 3/2 + np.sqrt(mu**2 + mu+9/4)\n",
    "    \n",
    "    return tau"
   ]
  },
  {
   "cell_type": "code",
   "execution_count": 15,
   "id": "6cdf8c09",
   "metadata": {},
   "outputs": [
    {
     "data": {
      "text/latex": [
       "$2.5441151 \\; \\mathrm{}$"
      ],
      "text/plain": [
       "<Quantity 2.54411509>"
      ]
     },
     "execution_count": 15,
     "metadata": {},
     "output_type": "execute_result"
    }
   ],
   "source": [
    "tau_crit(1*u.GeV)"
   ]
  },
  {
   "cell_type": "code",
   "execution_count": 28,
   "id": "37308761",
   "metadata": {},
   "outputs": [],
   "source": [
    "n=100\n",
    "fxs = np.logspace(-4, 0, n)\n",
    "mxs = cluster.m_chi\n",
    "\n",
    "m, f = np.meshgrid(mxs, fxs)\n",
    "\n",
    "#tau_b = np.zeros((n,n))\n",
    "#tau_crit = np.zeros((n,n))\n",
    "tau_b_gt_tau_crit = np.zeros((n,n))\n",
    "\n",
    "for i in range(n):\n",
    "    for j in range(n):\n",
    "        #int_time[i, j] = interaction_time(m[i, j]*u.GeV, f[i, j], test_cluster)\n",
    "        #int_time_above_1Gyr[i, j] = 1 if int_time[i,j].value >= 1 else 0\n",
    "        tau_b = cluster.baryon_temp/cluster.virial_temperature(m[i, j], f_chi=f[i, j])\n",
    "        tau_b_gt_tau_crit[i, j] = 1 if tau_b>tau_crit(m[i, j]) else 0\n"
   ]
  },
  {
   "cell_type": "code",
   "execution_count": 29,
   "id": "e5f99b54",
   "metadata": {},
   "outputs": [
    {
     "ename": "NameError",
     "evalue": "name 'int_time_above_1Gyr' is not defined",
     "output_type": "error",
     "traceback": [
      "\u001b[0;31m---------------------------------------------------------------------------\u001b[0m",
      "\u001b[0;31mNameError\u001b[0m                                 Traceback (most recent call last)",
      "Cell \u001b[0;32mIn[29], line 2\u001b[0m\n\u001b[1;32m      1\u001b[0m \u001b[38;5;28;01mfrom\u001b[39;00m \u001b[38;5;21;01mmatplotlib\u001b[39;00m \u001b[38;5;28;01mimport\u001b[39;00m colors\n\u001b[0;32m----> 2\u001b[0m plt\u001b[38;5;241m.\u001b[39mscatter(m, f, c\u001b[38;5;241m=\u001b[39mint_time_above_1Gyr, cmap\u001b[38;5;241m=\u001b[39mcolors\u001b[38;5;241m.\u001b[39mListedColormap([\u001b[38;5;124m'\u001b[39m\u001b[38;5;124mgray\u001b[39m\u001b[38;5;124m'\u001b[39m, \u001b[38;5;124m'\u001b[39m\u001b[38;5;124mlightgreen\u001b[39m\u001b[38;5;124m'\u001b[39m]))\n\u001b[1;32m      3\u001b[0m ax\u001b[38;5;241m=\u001b[39mplt\u001b[38;5;241m.\u001b[39mgca()\n\u001b[1;32m      4\u001b[0m ax\u001b[38;5;241m.\u001b[39mset_xscale(\u001b[38;5;124m'\u001b[39m\u001b[38;5;124mlog\u001b[39m\u001b[38;5;124m'\u001b[39m)\n",
      "\u001b[0;31mNameError\u001b[0m: name 'int_time_above_1Gyr' is not defined"
     ]
    }
   ],
   "source": [
    "from matplotlib import colors\n",
    "plt.scatter(m, f, c=int_time_above_1Gyr, cmap=colors.ListedColormap(['gray', 'lightgreen']))\n",
    "ax=plt.gca()\n",
    "ax.set_xscale('log')\n",
    "ax.set_yscale('log')\n",
    "plt.xlabel(r'$m_{\\chi} (GeV)$', size=15)\n",
    "plt.ylabel(r'$f_{\\chi}$', size=15)"
   ]
  },
  {
   "cell_type": "code",
   "execution_count": null,
   "id": "fe1b2b18",
   "metadata": {},
   "outputs": [],
   "source": []
  }
 ],
 "metadata": {
  "kernelspec": {
   "display_name": "Python 3 (ipykernel)",
   "language": "python",
   "name": "python3"
  },
  "language_info": {
   "codemirror_mode": {
    "name": "ipython",
    "version": 3
   },
   "file_extension": ".py",
   "mimetype": "text/x-python",
   "name": "python",
   "nbconvert_exporter": "python",
   "pygments_lexer": "ipython3",
   "version": "3.11.5"
  }
 },
 "nbformat": 4,
 "nbformat_minor": 5
}
