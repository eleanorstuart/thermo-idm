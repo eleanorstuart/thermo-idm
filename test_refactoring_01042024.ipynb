{
 "cells": [
  {
   "cell_type": "code",
   "execution_count": 17,
   "id": "6732b55a",
   "metadata": {},
   "outputs": [],
   "source": [
    "from astropy import units as u\n",
    "\n",
    "from load_mcxc_data import load_clusters"
   ]
  },
  {
   "cell_type": "code",
   "execution_count": 9,
   "id": "dd70c954",
   "metadata": {},
   "outputs": [],
   "source": [
    "cluster=load_clusters(nrows=1)[0][0]"
   ]
  },
  {
   "cell_type": "code",
   "execution_count": 11,
   "id": "9901cd20",
   "metadata": {},
   "outputs": [
    {
     "data": {
      "text/plain": [
       "ClusterData(R500=<Quantity 1.1326 Mpc>, M500=<Quantity 5.2188 1e+14 solMass>, z=<Quantity 1.1326 redshift>, L500=<Quantity 6.107094 1e+37 W>)"
      ]
     },
     "execution_count": 11,
     "metadata": {},
     "output_type": "execute_result"
    }
   ],
   "source": [
    "cluster.data"
   ]
  },
  {
   "cell_type": "code",
   "execution_count": 13,
   "id": "adb66b2b",
   "metadata": {},
   "outputs": [
    {
     "data": {
      "text/latex": [
       "$1.2357068 \\; \\mathrm{Gyr}$"
      ],
      "text/plain": [
       "<Quantity 1.23570675 Gyr>"
      ]
     },
     "execution_count": 13,
     "metadata": {},
     "output_type": "execute_result"
    }
   ],
   "source": [
    "cluster.timescales.dynamical_time()"
   ]
  },
  {
   "cell_type": "code",
   "execution_count": 14,
   "id": "c31ce130",
   "metadata": {},
   "outputs": [
    {
     "data": {
      "text/latex": [
       "$5.2188 \\; \\mathrm{1 \\times 10^{14}\\,M_{\\odot}}$"
      ],
      "text/plain": [
       "<Quantity 5.2188 1e+14 solMass>"
      ]
     },
     "execution_count": 14,
     "metadata": {},
     "output_type": "execute_result"
    }
   ],
   "source": [
    "cluster.data.M500"
   ]
  },
  {
   "cell_type": "code",
   "execution_count": 18,
   "id": "801eaa35",
   "metadata": {},
   "outputs": [
    {
     "data": {
      "text/latex": [
       "$5.2188 \\times 10^{14} \\; \\mathrm{M_{\\odot}}$"
      ],
      "text/plain": [
       "<Quantity 5.2188e+14 solMass>"
      ]
     },
     "execution_count": 18,
     "metadata": {},
     "output_type": "execute_result"
    }
   ],
   "source": [
    "cluster.timescales.mass.to(u.Msun)"
   ]
  },
  {
   "cell_type": "code",
   "execution_count": null,
   "id": "eeaea8fc",
   "metadata": {},
   "outputs": [],
   "source": []
  }
 ],
 "metadata": {
  "kernelspec": {
   "display_name": "Python 3 (ipykernel)",
   "language": "python",
   "name": "python3"
  },
  "language_info": {
   "codemirror_mode": {
    "name": "ipython",
    "version": 3
   },
   "file_extension": ".py",
   "mimetype": "text/x-python",
   "name": "python",
   "nbconvert_exporter": "python",
   "pygments_lexer": "ipython3",
   "version": "3.11.5"
  }
 },
 "nbformat": 4,
 "nbformat_minor": 5
}
