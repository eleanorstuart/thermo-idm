{
 "cells": [
  {
   "cell_type": "code",
   "execution_count": 3,
   "id": "c1bb3005",
   "metadata": {},
   "outputs": [],
   "source": [
    "from astropy.nddata import NDData, NDDataRef\n",
    "from astropy.nddata import StdDevUncertainty"
   ]
  },
  {
   "cell_type": "code",
   "execution_count": 6,
   "id": "04714c95",
   "metadata": {},
   "outputs": [
    {
     "name": "stdout",
     "output_type": "stream",
     "text": [
      "Addition result: 15.0 ± 1.118033988749895\n",
      "Subtraction result: 5.0 ± 1.118033988749895\n",
      "Multiplication result: 50.0 ± 7.0710678118654755\n",
      "Division result: 2.0 ± 0.282842712474619\n"
     ]
    }
   ],
   "source": [
    "# Create two NDData objects with data and uncertainties\n",
    "data1 = 10.0\n",
    "uncertainty1 = 1.0\n",
    "nddata1 = NDDataRef(data=data1, uncertainty=StdDevUncertainty(uncertainty1))\n",
    "\n",
    "data2 = 5.0\n",
    "uncertainty2 = 0.5\n",
    "nddata2 = NDData(data=data2, uncertainty=StdDevUncertainty(uncertainty2))\n",
    "\n",
    "# Perform arithmetic operations\n",
    "result_add = nddata1.add(nddata2) \n",
    "result_sub = nddata1.subtract(nddata2)\n",
    "result_mul = nddata1.multiply(nddata2)\n",
    "result_div = nddata1.divide(nddata2)\n",
    "\n",
    "# Access the data and uncertainty of the results\n",
    "print(f\"Addition result: {result_add.data} ± {result_add.uncertainty.array}\")\n",
    "print(f\"Subtraction result: {result_sub.data} ± {result_sub.uncertainty.array}\")\n",
    "print(f\"Multiplication result: {result_mul.data} ± {result_mul.uncertainty.array}\")\n",
    "print(f\"Division result: {result_div.data} ± {result_div.uncertainty.array}\")\n"
   ]
  },
  {
   "cell_type": "code",
   "execution_count": 9,
   "id": "fdaee89f",
   "metadata": {},
   "outputs": [
    {
     "data": {
      "text/plain": [
       "(NDDataRef(20.), StdDevUncertainty(2.))"
      ]
     },
     "execution_count": 9,
     "metadata": {},
     "output_type": "execute_result"
    }
   ],
   "source": [
    "result_mul = nddata1.multiply(2)\n",
    "result_mul, result_mul.uncertainty"
   ]
  },
  {
   "cell_type": "code",
   "execution_count": null,
   "id": "e8fe9cd7",
   "metadata": {},
   "outputs": [],
   "source": []
  }
 ],
 "metadata": {
  "kernelspec": {
   "display_name": "Python 3 (ipykernel)",
   "language": "python",
   "name": "python3"
  },
  "language_info": {
   "codemirror_mode": {
    "name": "ipython",
    "version": 3
   },
   "file_extension": ".py",
   "mimetype": "text/x-python",
   "name": "python",
   "nbconvert_exporter": "python",
   "pygments_lexer": "ipython3",
   "version": "3.11.5"
  }
 },
 "nbformat": 4,
 "nbformat_minor": 5
}
